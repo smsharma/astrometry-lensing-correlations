{
 "cells": [
  {
   "cell_type": "code",
   "execution_count": 22,
   "metadata": {},
   "outputs": [
    {
     "name": "stdout",
     "output_type": "stream",
     "text": [
      "The autoreload extension is already loaded. To reload it, use:\n",
      "  %reload_ext autoreload\n"
     ]
    }
   ],
   "source": [
    "import sys\n",
    "sys.path.append(\"../Theory/\")\n",
    "\n",
    "from units import *\n",
    "import matplotlib.pyplot as plt\n",
    "from astrometry_sim import QuasarSim\n",
    "import healpy as hp\n",
    "from pylab import cm as cmaps\n",
    "from estimator_wholesky import get_vector_alm\n",
    "from tqdm import *\n",
    "from astropy import units as u\n",
    "from pylab import rcParams\n",
    "import matplotlib as mpl\n",
    "from subhalo_sim import SubhaloSample\n",
    "\n",
    "%matplotlib inline\n",
    "%load_ext autoreload\n",
    "%autoreload 2"
   ]
  },
  {
   "cell_type": "code",
   "execution_count": 56,
   "metadata": {},
   "outputs": [
    {
     "name": "stdout",
     "output_type": "stream",
     "text": [
      "Simulating 8015 subhalos between 10000000.0 and 10000000000.0\n"
     ]
    }
   ],
   "source": [
    "sim = SubhaloSample()\n",
    "\n",
    "sim.set_mass_distribution(sim.rho_M_SI, M_min=1e7*M_s, M_max=1e10*M_s, M_min_calib=1e8*M_s, M_max_calib=1e10*M_s, N_calib=1000, alpha=-1.9)\n",
    "sim.set_radial_distribution(sim.r2rho_V_ein_EAQ, R_min=1e-3*kpc, R_max=260*kpc)\n",
    "sim.set_subhalo_properties(sim.c200_SCP, distdep=False)\n",
    "\n",
    "sim.get_sh_sample()\n"
   ]
  },
  {
   "cell_type": "code",
   "execution_count": 57,
   "metadata": {},
   "outputs": [],
   "source": [
    "v_b = sim.coords_galactic.pm_b.value*1e-3*asctorad*sim.coords_galactic.distance.value*(kpc/Year)/(Kmps)"
   ]
  },
  {
   "cell_type": "code",
   "execution_count": 58,
   "metadata": {},
   "outputs": [],
   "source": [
    "v_l = sim.coords_galactic.pm_l_cosb.value*1e-3*asctorad*sim.coords_galactic.distance.value*(kpc/Year)/(Kmps)"
   ]
  },
  {
   "cell_type": "code",
   "execution_count": 59,
   "metadata": {},
   "outputs": [],
   "source": [
    "v_t = np.sqrt(v_b**2 + v_l**2)"
   ]
  },
  {
   "cell_type": "code",
   "execution_count": 70,
   "metadata": {},
   "outputs": [
    {
     "data": {
      "text/plain": [
       "[<matplotlib.lines.Line2D at 0x2b6e5dfc16a0>]"
      ]
     },
     "execution_count": 70,
     "metadata": {},
     "output_type": "execute_result"
    },
    {
     "data": {
      "image/png": "[encoded data removed]",
      "text/plain": [
       "<Figure size 432x288 with 1 Axes>"
      ]
     },
     "metadata": {
      "needs_background": "light"
     },
     "output_type": "display_data"
    }
   ],
   "source": [
    "v_ary = np.linspace(0,300,50)\n",
    "plt.hist(v_b, bins=v_ary, density=False);\n",
    "rho_v_SHM_scalar = sim.rho_v_SHM_scalar((2*v_ary)*Kmps)\n",
    "plt.plot(v_ary, 300*rho_v_SHM_scalar)"
   ]
  },
  {
   "cell_type": "code",
   "execution_count": 42,
   "metadata": {},
   "outputs": [
    {
     "data": {
      "text/plain": [
       "[<matplotlib.lines.Line2D at 0x2b6e4f0cf5c0>]"
      ]
     },
     "execution_count": 42,
     "metadata": {},
     "output_type": "execute_result"
    },
    {
     "data": {
      "image/png": "[encoded data removed]",
      "text/plain": [
       "<Figure size 432x288 with 1 Axes>"
      ]
     },
     "metadata": {
      "needs_background": "light"
     },
     "output_type": "display_data"
    }
   ],
   "source": [
    "rho_v_SHM_scalar = sim.rho_v_SHM_scalar(v_ary*Kmps)\n",
    "plt.plot(v_ary, rho_v_SHM_scalar)"
   ]
  },
  {
   "cell_type": "code",
   "execution_count": 72,
   "metadata": {},
   "outputs": [
    {
     "data": {
      "text/plain": [
       "1.9999999999999996"
      ]
     },
     "execution_count": 72,
     "metadata": {},
     "output_type": "execute_result"
    }
   ],
   "source": [
    "(2/np.sqrt(2))**2"
   ]
  },
  {
   "cell_type": "code",
   "execution_count": null,
   "metadata": {},
   "outputs": [],
   "source": []
  }
 ],
 "metadata": {
  "kernelspec": {
   "display_name": "Python 3",
   "language": "python",
   "name": "python3"
  },
  "language_info": {
   "codemirror_mode": {
    "name": "ipython",
    "version": 3
   },
   "file_extension": ".py",
   "mimetype": "text/x-python",
   "name": "python",
   "nbconvert_exporter": "python",
   "pygments_lexer": "ipython3",
   "version": "3.6.8"
  }
 },
 "nbformat": 4,
 "nbformat_minor": 2
}
