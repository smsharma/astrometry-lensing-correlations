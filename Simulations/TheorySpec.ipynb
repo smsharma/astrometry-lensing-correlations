{
 "cells": [
  {
   "cell_type": "code",
   "execution_count": 66,
   "metadata": {},
   "outputs": [
    {
     "name": "stdout",
     "output_type": "stream",
     "text": [
      "The autoreload extension is already loaded. To reload it, use:\n",
      "  %reload_ext autoreload\n"
     ]
    }
   ],
   "source": [
    "from units import *\n",
    "import matplotlib.pyplot as plt\n",
    "from astrometry_sim import QuasarSim\n",
    "import healpy as hp\n",
    "from pylab import cm\n",
    "from estimator_wholesky import get_vector_alm\n",
    "from tqdm import *\n",
    "from astropy import units as u\n",
    "from scipy.integrate import nquad, quad\n",
    "from mpmath import spherharm\n",
    "from scipy.special import sph_harm\n",
    "\n",
    "%matplotlib inline\n",
    "%load_ext autoreload\n",
    "%autoreload 2"
   ]
  },
  {
   "cell_type": "code",
   "execution_count": 161,
   "metadata": {},
   "outputs": [],
   "source": [
    "def MdMdb(b, c, M):\n",
    "    \"\"\" NFW mass and derivative within a cylinder or radius `b`\n",
    "\n",
    "        :param b: Cylinder radius, in natural units\n",
    "        :param c: NFW concentration\n",
    "        :param M: NFW mass\n",
    "        :return: mass within `b`, derivative of mass within `b` at `b`\n",
    "    \"\"\"\n",
    "    delta_c = (200/3.)*c**3/(np.log(1+c) - c/(1+c)) \n",
    "    rho_s = rho_c*delta_c \n",
    "    r_s = (M/((4/3.)*np.pi*c**3*200*rho_c))**(1/3.) # NFW scale radius\n",
    "    x = b/r_s \n",
    "    M = 4*np.pi*rho_s*r_s**3*(np.log(x/2.) + F(x))\n",
    "    dMdb = 4*np.pi*rho_s*r_s**2*((1/x) + dFdx(x))\n",
    "\n",
    "    return M\n",
    "\n",
    "def dFdx(x):\n",
    "    \"\"\" Helper function for NFW deflection, from astro-ph/0102341 eq. (49)\n",
    "    \"\"\"\n",
    "    return (1-x**2*F(x))/(x*(x**2-1))\n",
    "\n",
    "def F(x):\n",
    "    \"\"\" Helper function for NFW deflection, from astro-ph/0102341 eq. (48)\n",
    "    \"\"\"\n",
    "    if x > 1:\n",
    "        return np.arctan(np.sqrt(x**2-1))/(np.sqrt(x**2 - 1))\n",
    "    elif x == 1:\n",
    "        return 1\n",
    "    elif x < 1:\n",
    "        return np.arctanh(np.sqrt(1-x**2))/(np.sqrt(1-x**2))\n",
    "    \n",
    "def Ylm(l, m, theta, phi): \n",
    "    \"\"\"\n",
    "    Redefine spherical harmonics from scipy.special\n",
    "    to match physics convention.\n",
    "    \n",
    "    Parameters\n",
    "    ----------\n",
    "    l : int, array_like\n",
    "        Degree of the harmonic (int); ``l >= 0``.\n",
    "    m : int, array_like\n",
    "        Order of the harmonic (int); ``|m| <= l``.\n",
    "    theta : array_like\n",
    "        Polar (colatitudinal) coordinate; must be in ``[0, pi]``.\n",
    "    phi : array_like\n",
    "        Azimuthal (longitudinal) coordinate; must be in ``[0, 2*pi]``.\n",
    "    \n",
    "    Returns\n",
    "    -------\n",
    "    Ylm : complex float\n",
    "       The harmonic Ylm sampled at ``theta`` and ``phi``.\n",
    "    \"\"\"\n",
    "    if np.abs(m) > l:\n",
    "        Ylm = 0\n",
    "    else:\n",
    "        Ylm = sph_harm(m, l, phi, theta) # Perform redefinition, scipy version\n",
    "        # Ylm = spherharm(l, m, theta, phi) # mpmath version\n",
    "    return Ylm\n"
   ]
  },
  {
   "cell_type": "code",
   "execution_count": 157,
   "metadata": {},
   "outputs": [],
   "source": [
    "from scipy.special import lpn, legendre, jv"
   ]
  },
  {
   "cell_type": "code",
   "execution_count": 158,
   "metadata": {},
   "outputs": [
    {
     "data": {
      "text/plain": [
       "0.5767248077568736"
      ]
     },
     "execution_count": 158,
     "metadata": {},
     "output_type": "execute_result"
    }
   ],
   "source": [
    "jv(1,2)"
   ]
  },
  {
   "cell_type": "code",
   "execution_count": 167,
   "metadata": {},
   "outputs": [],
   "source": [
    "def M(b):\n",
    "    return MdMdb(b, 10,1e7*M_s)\n",
    "\n",
    "def alm_NP(l, m):\n",
    "    vtheta = 1\n",
    "    Dl = 10*kpc\n",
    "    pref = 4*GN*vtheta/Dl**2\n",
    "    integ_re = nquad(lambda theta, phi: np.cos(phi)*np.sin(theta)/theta * M(theta*Dl) * np.real(Ylm(l, m, theta, phi)), [[0, np.pi], [0, 2*np.pi]])\n",
    "    integ_im = nquad(lambda theta, phi: np.cos(phi)*np.sin(theta)/theta * M(theta*Dl) * np.imag(Ylm(l, m, theta, phi)), [[0, np.pi], [0, 2*np.pi]])\n",
    "    return pref*integ_re[0] - 1.j*pref*integ_im[0]\n",
    "\n",
    "def alm_NP(l, m):\n",
    "    vtheta = 1*Kmps\n",
    "    Dl = 10*kpc\n",
    "    pref = GN*vtheta/Dl**2\n",
    "    return pref*np.sqrt(4*np.pi*(2*l+1))*np.array(quad(lambda theta: M(theta*Dl)*jv(1, l*theta), 0, np.pi))[0]\n",
    "\n",
    "def alm_NP(l, m):\n",
    "    vtheta = 1*Kmps\n",
    "    Dl = 10*kpc\n",
    "    pref = GN*vtheta/Dl**2\n",
    "    R0 = 5*kpc\n",
    "    beta_l = R0/Dl\n",
    "    return pref*np.sqrt(4*np.pi*(2*l+1))/l*np.exp(-l**2*beta_l**2/2)"
   ]
  },
  {
   "cell_type": "code",
   "execution_count": 171,
   "metadata": {},
   "outputs": [],
   "source": [
    "ell_ary = np.logspace(0,np.log10(1000),1000)\n",
    "alm_ary = [alm_NP(ell,1) for ell in ell_ary]"
   ]
  },
  {
   "cell_type": "code",
   "execution_count": 178,
   "metadata": {},
   "outputs": [
    {
     "data": {
      "text/plain": [
       "6.283185307179586"
      ]
     },
     "execution_count": 178,
     "metadata": {},
     "output_type": "execute_result"
    }
   ],
   "source": [
    "180/np.degrees(0.5)"
   ]
  },
  {
   "cell_type": "code",
   "execution_count": 176,
   "metadata": {},
   "outputs": [
    {
     "data": {
      "image/png": "[encoded data removed]",
      "text/plain": [
       "<Figure size 432x288 with 1 Axes>"
      ]
     },
     "metadata": {},
     "output_type": "display_data"
    }
   ],
   "source": [
    "plt.plot(ell_ary, ell_ary*(ell_ary+1)*alm_ary)\n",
    "plt.xscale(\"log\")\n",
    "# plt.yscale(\"log\")"
   ]
  },
  {
   "cell_type": "code",
   "execution_count": null,
   "metadata": {},
   "outputs": [],
   "source": []
  }
 ],
 "metadata": {
  "kernelspec": {
   "display_name": "Python 3",
   "language": "python",
   "name": "python3"
  },
  "language_info": {
   "codemirror_mode": {
    "name": "ipython",
    "version": 3
   },
   "file_extension": ".py",
   "mimetype": "text/x-python",
   "name": "python",
   "nbconvert_exporter": "python",
   "pygments_lexer": "ipython3",
   "version": "3.6.6"
  }
 },
 "nbformat": 4,
 "nbformat_minor": 2
}
