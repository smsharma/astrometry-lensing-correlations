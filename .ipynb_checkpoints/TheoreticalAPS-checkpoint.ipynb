{
 "cells": [
  {
   "cell_type": "code",
   "execution_count": 3,
   "metadata": {},
   "outputs": [
    {
     "name": "stdout",
     "output_type": "stream",
     "text": [
      "The autoreload extension is already loaded. To reload it, use:\n",
      "  %reload_ext autoreload\n"
     ]
    }
   ],
   "source": [
    "import numpy as np\n",
    "import sys, os\n",
    "import matplotlib.pyplot as plt\n",
    "from scipy.integrate import quad, nquad\n",
    "from scipy.interpolate import interp1d\n",
    "from astropy import units as u\n",
    "from astropy.coordinates import SkyCoord\n",
    "from tqdm import *\n",
    "import pandas as pd\n",
    "from scipy.stats import chi2\n",
    "from scipy.special import sph_harm\n",
    "import healpy as hp\n",
    "import numpy.ma as ma\n",
    "from units import *\n",
    "\n",
    "%matplotlib inline\n",
    "%load_ext autoreload\n",
    "%autoreload 2"
   ]
  },
  {
   "cell_type": "markdown",
   "metadata": {},
   "source": [
    "# Analysis"
   ]
  },
  {
   "cell_type": "code",
   "execution_count": 46,
   "metadata": {},
   "outputs": [],
   "source": [
    "GN = 6.67e-11*Meter**3/Kilogram/Sec**2\n",
    "h = 0.7\n",
    "rho_c = 1.8788e-26*h**2*Kilogram/Meter**3"
   ]
  },
  {
   "cell_type": "code",
   "execution_count": 47,
   "metadata": {},
   "outputs": [],
   "source": [
    "c = 15.\n",
    "M_l = 1e6*M_s\n",
    "D_l = 10*kpc\n",
    "Sigma_cr = 1./(4*np.pi*GN*D_l)"
   ]
  },
  {
   "cell_type": "code",
   "execution_count": 81,
   "metadata": {},
   "outputs": [
    {
     "data": {
      "text/plain": [
       "72.71118694133958"
      ]
     },
     "execution_count": 81,
     "metadata": {},
     "output_type": "execute_result"
    }
   ],
   "source": []
  },
  {
   "cell_type": "code",
   "execution_count": 57,
   "metadata": {},
   "outputs": [],
   "source": [
    "def F(x):\n",
    "    if x > 1:\n",
    "        return 1/np.sqrt(x**2 - 1)*np.arctan(np.sqrt(x**2 - 1))\n",
    "    elif x < 1:\n",
    "        return 1/np.sqrt(1 - x**2)*np.arctanh(np.sqrt(1 - x**2))\n",
    "    elif x == 1:\n",
    "        return 1.\n",
    "\n",
    "def phi_r(r):\n",
    "    delta_c = (200/3.)*c**3/(np.log(1+c) - c/(1+c))\n",
    "    rho_s = rho_c*delta_c\n",
    "    r_s = (M_l/((4/3.)*np.pi*c**3*200*rho_c))**(1/3.) # NFW scale radius\n",
    "    x = r/r_s\n",
    "    kappa_s = rho_s*r_s/Sigma_cr\n",
    "    return 4*kappa_s*r_s*(np.log(x/2) + F(x))/x\n",
    "    \n",
    "def M_cyl(r):\n",
    "    return np.pi*Sigma_cr*r*phi_r(r)/M_s\n"
   ]
  },
  {
   "cell_type": "code",
   "execution_count": 58,
   "metadata": {},
   "outputs": [],
   "source": [
    "from mpmath import legenp\n",
    "from scipy.special import legendre\n",
    "from scipy.special import lpmv"
   ]
  },
  {
   "cell_type": "code",
   "execution_count": 78,
   "metadata": {},
   "outputs": [],
   "source": [
    "l = 100\n",
    "m = 1\n",
    "def alm(l):\n",
    "    return quad(lambda theta: np.sin(theta)/theta*M_cyl(theta*D_l)*lpmv(m,l,np.cos(theta)), 0,np.pi,epsrel=1.49e-7,limit=1000)"
   ]
  },
  {
   "cell_type": "code",
   "execution_count": 65,
   "metadata": {},
   "outputs": [
    {
     "data": {
      "application/vnd.jupyter.widget-view+json": {
       "model_id": "818649ebfaee4274b72fde7775aa2095",
       "version_major": 2,
       "version_minor": 0
      },
      "text/plain": [
       "HBox(children=(IntProgress(value=0, max=500), HTML(value='')))"
      ]
     },
     "metadata": {},
     "output_type": "display_data"
    }
   ],
   "source": [
    "l_ary = np.arange(500)\n",
    "alm_ary = [alm(l) for l in tqdm_notebook(l_ary)]"
   ]
  },
  {
   "cell_type": "code",
   "execution_count": 83,
   "metadata": {},
   "outputs": [
    {
     "data": {
      "text/plain": [
       "<matplotlib.lines.Line2D at 0x2b5fac4cbb70>"
      ]
     },
     "execution_count": 83,
     "metadata": {},
     "output_type": "execute_result"
    },
    {
     "data": {
      "image/png": "[encoded data removed]",
      "text/plain": [
       "<Figure size 432x288 with 1 Axes>"
      ]
     },
     "metadata": {
      "needs_background": "light"
     },
     "output_type": "display_data"
    }
   ],
   "source": [
    "plt.plot(l_ary, l_ary*(l_ary+1)*np.array(alm_ary)[:,0]**2)\n",
    "plt.xscale(\"log\")\n",
    "plt.yscale(\"log\")\n",
    "plt.axvline(D_l/(M_l/((4/3.)*np.pi*c**3*200*rho_c))**(1/3.))"
   ]
  },
  {
   "cell_type": "code",
   "execution_count": null,
   "metadata": {},
   "outputs": [],
   "source": []
  }
 ],
 "metadata": {
  "kernelspec": {
   "display_name": "Python 3",
   "language": "python",
   "name": "python3"
  },
  "language_info": {
   "codemirror_mode": {
    "name": "ipython",
    "version": 3
   },
   "file_extension": ".py",
   "mimetype": "text/x-python",
   "name": "python",
   "nbconvert_exporter": "python",
   "pygments_lexer": "ipython3",
   "version": "3.7.0"
  }
 },
 "nbformat": 4,
 "nbformat_minor": 2
}
