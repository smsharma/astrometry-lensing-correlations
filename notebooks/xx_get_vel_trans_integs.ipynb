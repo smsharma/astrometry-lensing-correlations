{
 "cells": [
  {
   "cell_type": "code",
   "execution_count": 616,
   "metadata": {},
   "outputs": [
    {
     "name": "stdout",
     "output_type": "stream",
     "text": [
      "The autoreload extension is already loaded. To reload it, use:\n",
      "  %reload_ext autoreload\n"
     ]
    }
   ],
   "source": [
    "import sys\n",
    "sys.path.append(\"../\")\n",
    "\n",
    "from theory.units import *\n",
    "import matplotlib.pyplot as plt\n",
    "from simulation.astrometry_sim import QuasarSim\n",
    "import healpy as hp\n",
    "from pylab import cm as cmaps\n",
    "from simulation.estimator_wholesky import get_vector_alm\n",
    "from tqdm import *\n",
    "from astropy import units as u\n",
    "from pylab import rcParams\n",
    "import matplotlib as mpl\n",
    "from simulation.subhalo_sim import SubhaloSample\n",
    "from scipy.integrate import nquad, quad\n",
    "from scipy.special import erf\n",
    "\n",
    "%matplotlib inline\n",
    "%load_ext autoreload\n",
    "%autoreload 2"
   ]
  },
  {
   "cell_type": "code",
   "execution_count": 617,
   "metadata": {},
   "outputs": [
    {
     "name": "stdout",
     "output_type": "stream",
     "text": [
      "Simulating 239953 subhalos between 7.0 and 10.0\n"
     ]
    }
   ],
   "source": [
    "sim = SubhaloSample()\n",
    "\n",
    "sim.set_mass_distribution(sim.rho_M_SI, M_min=1e7*M_s, M_max=1e10*M_s, M_min_calib=1e8*M_s, M_max_calib=1e10*M_s, N_calib=30000, alpha=-1.9)\n",
    "sim.set_radial_distribution(sim.r2rho_V_ein_EAQ, R_min=1e-3*kpc, R_max=260*kpc)\n",
    "sim.set_subhalo_properties(sim.c200_SCP, distdep=False)\n",
    "\n",
    "sim.get_sh_sample()"
   ]
  },
  {
   "cell_type": "code",
   "execution_count": 618,
   "metadata": {},
   "outputs": [
    {
     "data": {
      "text/plain": [
       "[<matplotlib.lines.Line2D at 0x1310dd6d8>]"
      ]
     },
     "execution_count": 618,
     "metadata": {},
     "output_type": "execute_result"
    },
    {
     "data": {
      "image/png": "[encoded data removed]",
      "text/plain": [
       "<Figure size 432x288 with 1 Axes>"
      ]
     },
     "metadata": {
      "needs_background": "light"
     },
     "output_type": "display_data"
    }
   ],
   "source": [
    "v_mag = np.linalg.norm(np.transpose([sim.coords_gc.v_x.value, sim.coords_gc.v_y.value,sim.coords_gc.v_z.value]), axis=1)\n",
    "\n",
    "v_ary = np.linspace(0,550,50)\n",
    "plt.hist(v_mag, bins=v_ary, density=False);\n",
    "rho_v_SHM_scalar = sim.rho_v_SHM_scalar((v_ary)*Kmps)\n",
    "plt.plot(v_ary, 15*900*rho_v_SHM_scalar)"
   ]
  },
  {
   "cell_type": "code",
   "execution_count": 619,
   "metadata": {},
   "outputs": [],
   "source": [
    "pm = np.sqrt(sim.coords_galactic.pm_b ** 2 + sim.coords_galactic.pm_l_cosb ** 2)"
   ]
  },
  {
   "cell_type": "code",
   "execution_count": 620,
   "metadata": {},
   "outputs": [],
   "source": [
    "v_t = (sim.coords_galactic.distance * pm).to(u.km / u.s, equivalencies=u.dimensionless_angles()).value"
   ]
  },
  {
   "cell_type": "code",
   "execution_count": 621,
   "metadata": {},
   "outputs": [
    {
     "data": {
      "text/plain": [
       "5.789779157814031e-07"
      ]
     },
     "execution_count": 621,
     "metadata": {},
     "output_type": "execute_result"
    }
   ],
   "source": [
    "np.mean(v_t**2)*Kmps**2"
   ]
  },
  {
   "cell_type": "code",
   "execution_count": 624,
   "metadata": {},
   "outputs": [
    {
     "data": {
      "text/plain": [
       "5.914900709341262e-13"
      ]
     },
     "execution_count": 624,
     "metadata": {},
     "output_type": "execute_result"
    }
   ],
   "source": [
    "np.mean(v_t**4)*Kmps**4"
   ]
  },
  {
   "cell_type": "code",
   "execution_count": 626,
   "metadata": {},
   "outputs": [],
   "source": [
    "def rho_v_SHM_scalar(v, v0=220. * Kmps, vesc=544. * Kmps):\n",
    "    \"\"\" Normalized truncated Maxwellian velocity distribution\n",
    "    \"\"\"\n",
    "    return np.exp(-v ** 2 / ( v0) ** 2) * (v < vesc)\n",
    "\n",
    "def rho_v_SHM(vvec, v0=220. * Kmps, vesc=544. * Kmps):\n",
    "    \"\"\" Normalized truncated Maxwellian velocity distribution\n",
    "    \"\"\"\n",
    "    Nesc = erf(vesc / v0) - 2 / np.sqrt(np.pi) * vesc / v0 * np.exp(-vesc ** 2 / v0 ** 2)\n",
    "    v = np.linalg.norm(vvec)\n",
    "    return 1 / (Nesc * np.pi ** 1.5 * v0 ** 3) * np.exp(-v ** 2 / v0 ** 2) * (v < vesc)"
   ]
  },
  {
   "cell_type": "code",
   "execution_count": 628,
   "metadata": {},
   "outputs": [],
   "source": [
    "# v_ary = np.linspace(0,600,50)\n",
    "# plt.hist(v_t, bins=v_ary, density=False);\n",
    "# rho_v_ary = rho_v_SHM_scalar(v_ary*Kmps * np.sqrt(2))\n",
    "# plt.plot(v_ary, 3*6.74799517e+03*rho_v_ary)"
   ]
  },
  {
   "cell_type": "code",
   "execution_count": 629,
   "metadata": {},
   "outputs": [],
   "source": [
    "norm = np.array(quad(lambda v: 4*np.pi*(2 * v)**2*rho_v_SHM_scalar(2 * v), 0,550.*Kmps, epsabs=1.49e-14, epsrel=0, limit=500))[0]"
   ]
  },
  {
   "cell_type": "code",
   "execution_count": 630,
   "metadata": {},
   "outputs": [
    {
     "name": "stdout",
     "output_type": "stream",
     "text": [
      "7.873171459492965e-07\n"
     ]
    }
   ],
   "source": [
    "vint = np.array(nquad(lambda v: (2 * v)**2*4*np.pi*(2 * v)**2*rho_v_SHM_scalar(2 * v), [[0,700.*Kmps]], opts={'epsabs':1.49e-30, 'epsrel':0, 'limit':500}))[0]\n",
    "print(vint / norm)\n"
   ]
  },
  {
   "cell_type": "code",
   "execution_count": 632,
   "metadata": {},
   "outputs": [],
   "source": [
    "# v_sun = np.array([11., 232., 7.]) * Kmps\n",
    "# vint = nquad(lambda v, theta, phi: (2 * v)**2*(2 * v)**2*np.sin(theta)*rho_v_SHM(2 * v*np.array([np.sin(theta)*np.cos(phi),np.sin(theta)*np.sin(phi),np.cos(theta)]) + v_sun), [[0,600.*Kmps],[0,np.pi],[0,2*np.pi]])\n",
    "# print(vint)"
   ]
  },
  {
   "cell_type": "code",
   "execution_count": null,
   "metadata": {},
   "outputs": [],
   "source": []
  }
 ],
 "metadata": {
  "kernelspec": {
   "display_name": "Python 3",
   "language": "python",
   "name": "python3"
  },
  "language_info": {
   "codemirror_mode": {
    "name": "ipython",
    "version": 3
   },
   "file_extension": ".py",
   "mimetype": "text/x-python",
   "name": "python",
   "nbconvert_exporter": "python",
   "pygments_lexer": "ipython3",
   "version": "3.7.3"
  }
 },
 "nbformat": 4,
 "nbformat_minor": 2
}
