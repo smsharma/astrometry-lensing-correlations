{
 "cells": [
  {
   "cell_type": "code",
   "execution_count": 1,
   "metadata": {},
   "outputs": [],
   "source": [
    "import sys\n",
    "sys.path.append(\"../..\")\n",
    "\n",
    "import numpy as np\n",
    "import matplotlib.pyplot as plt\n",
    "from tqdm import *\n",
    "import matplotlib as mpl\n",
    "import matplotlib.pylab as pylab\n",
    "from cycler import cycler\n",
    "import palettable\n",
    "from astropy.cosmology import Planck15\n",
    "from scipy.integrate import quad\n",
    "from scipy.interpolate import interp1d\n",
    "from scipy.misc import derivative\n",
    "from scipy.optimize import minimize\n",
    "from scipy.special import erfc\n",
    "from classy import Class\n",
    "\n",
    "sys.path.append('/Users/smsharma/heptools/colossus/')\n",
    "\n",
    "from colossus.cosmology import cosmology\n",
    "from colossus.lss import mass_function\n",
    "\n",
    "from theory.spec_calc import PowerSpectra, PowerSpectraPopulations\n",
    "from theory.astrometry_forecast import Parameter, AstrometryObservation, FisherForecast\n",
    "from theory.kink import MassFunctionKink, Sigma\n",
    "from theory.units import *\n",
    "\n",
    "from IPython.display import set_matplotlib_formats\n",
    "set_matplotlib_formats('retina')\n",
    "\n",
    "%matplotlib inline\n",
    "%load_ext autoreload\n",
    "%autoreload 2"
   ]
  },
  {
   "cell_type": "code",
   "execution_count": 2,
   "metadata": {},
   "outputs": [],
   "source": [
    "params = {'text.usetex': True,\n",
    "          'font.family': 'serif',\n",
    "          'font.serif': ['CMU Serif'],\n",
    "          'font.sans-serif': ['CMU Sans Serif'],\n",
    "          'legend.fontsize': 17,\n",
    "          'legend.fancybox': True,\n",
    "          'legend.frameon': False,\n",
    "          'legend.framealpha': 0.4,\n",
    "          'legend.labelspacing': 0.5,\n",
    "          'figure.figsize': (6.4/1.1, 4.8/1.1),\n",
    "          'axes.labelsize': 19,\n",
    "          'axes.titlesize':18,\n",
    "          'axes.titlepad':10,\n",
    "          'axes.linewidth':1.1,\n",
    "          'axes.labelpad':10,\n",
    "          'axes.prop_cycle': cycler('color', palettable.cartocolors.qualitative.Bold_10.hex_colors) + \n",
    "                            cycler(alpha=10*[.7]), \n",
    "          'lines.linewidth':2.5,\n",
    "          'xtick.labelsize':18,\n",
    "          'ytick.labelsize':18,\n",
    "          'xtick.top':True,\n",
    "          'ytick.right':True,\n",
    "          'xtick.direction': 'in',\n",
    "          'ytick.direction': 'in',\n",
    "          'xtick.major.size': 5,\n",
    "          'xtick.minor.size': 2,\n",
    "          'ytick.major.size': 5,\n",
    "          'ytick.minor.size': 2,\n",
    "          'xtick.major.width': 1,\n",
    "          'ytick.major.width': 1,\n",
    "          'xtick.minor.width': 0.8,\n",
    "          'ytick.minor.width': 0.8,\n",
    "         }\n",
    "pylab.rcParams.update(params)"
   ]
  },
  {
   "cell_type": "code",
   "execution_count": 3,
   "metadata": {},
   "outputs": [],
   "source": [
    "plots_dir = \"/Users/smsharma/Dropbox/Projects/LensPowerSpectra/LensPower/draft/plots/\""
   ]
  },
  {
   "cell_type": "markdown",
   "metadata": {},
   "source": [
    "# Kinky"
   ]
  },
  {
   "cell_type": "markdown",
   "metadata": {},
   "source": [
    "## Generate `CLASS` instances with kinked spectra"
   ]
  },
  {
   "cell_type": "code",
   "execution_count": 759,
   "metadata": {},
   "outputs": [],
   "source": [
    "mfk = MassFunctionKink()\n",
    "\n",
    "n_B = 3.\n",
    "k_B = 10."
   ]
  },
  {
   "cell_type": "code",
   "execution_count": 760,
   "metadata": {},
   "outputs": [],
   "source": [
    "CLASS_inst = mfk.get_CLASS_kink(k_B=k_B,n_B=n_B, k_max=1e2)\n",
    "CLASS_inst_vanilla = mfk.get_CLASS_kink(k_B=k_B, n_B=0.9665, k_max=1e2)\n",
    "\n",
    "for idnx, inst in enumerate([CLASS_inst_vanilla, CLASS_inst]):\n",
    "    k_ary = np.logspace(-6, np.log10(1e2), 10000)\n",
    "    Pk_ary = np.array([inst.pk_lin(k,0) for k in k_ary])\n",
    "\n",
    "    log10_k_interp_ary = np.linspace(-6, 7, 10000)\n",
    "    log10_P_interp = interp1d(np.log10(k_ary * h), np.log10(Pk_ary / h ** 3), bounds_error=False, fill_value='extrapolate')\n",
    "    log10_P_interp_ary = (log10_P_interp)(log10_k_interp_ary)\n",
    "    \n",
    "    if idnx == 1: filename = 'pk.dat'\n",
    "    else: filename = 'pk_base.dat'\n",
    "        \n",
    "    np.savetxt(\"/Users/smsharma/PycharmProjects/Lensing-PowerSpectra/theory/arrays/\" + filename, np.transpose([log10_k_interp_ary, log10_P_interp_ary]),\n",
    "               delimiter='\\t')"
   ]
  },
  {
   "cell_type": "markdown",
   "metadata": {},
   "source": [
    "## Mass functions from `colossus`"
   ]
  },
  {
   "cell_type": "code",
   "execution_count": 761,
   "metadata": {},
   "outputs": [],
   "source": [
    "cosmo = cosmology.setCosmology('planck18')\n",
    "\n",
    "M_ary = np.logspace(5,12)\n",
    "\n",
    "dndlnM_vanilla_ary = mass_function.massFunction(M_ary, 0.0, mdef = '200m', model = 'tinker08', q_in='M', q_out = 'dndlnM', ps_args={'model': mfk.randomword(5), 'path':\"/Users/smsharma/PycharmProjects/Lensing-PowerSpectra/theory/arrays/pk_base.dat\"})\n",
    "dndlnM_ary = mass_function.massFunction(M_ary, 0.0, mdef = '200m', model = 'tinker08', q_in='M', q_out = 'dndlnM', ps_args={'model': mfk.randomword(5), 'path':\"/Users/smsharma/PycharmProjects/Lensing-PowerSpectra/theory/arrays/pk.dat\"})\n",
    "\n",
    "dndlnM_vanilla_interp = interp1d(np.log10(M_ary * M_s), np.log10(dndlnM_vanilla_ary / M_ary), bounds_error=False, fill_value='extrapolate')\n",
    "dndlnM_interp = interp1d(np.log10(M_ary * M_s), np.log10(dndlnM_ary / M_ary), bounds_error=False, fill_value='extrapolate')\n",
    "\n"
   ]
  },
  {
   "cell_type": "code",
   "execution_count": 762,
   "metadata": {},
   "outputs": [],
   "source": [
    "N_calib = 150.\n",
    "\n",
    "pref = N_calib / quad(lambda M: 10 ** dndlnM_vanilla_interp(np.log10(M)), 1e8 * M_s, 1e10 * M_s, epsabs=0, epsrel=1e-4)[0]\n",
    "N_calib_new = pref * quad(lambda M: 10 ** dndlnM_interp(np.log10(M)), 1e8 * M_s, 1e10 * M_s, epsabs=0, epsrel=1e-4)[0]"
   ]
  },
  {
   "cell_type": "code",
   "execution_count": 763,
   "metadata": {},
   "outputs": [
    {
     "data": {
      "image/png": "[encoded data removed]",
      "text/plain": [
       "<Figure size 504x396 with 1 Axes>"
      ]
     },
     "metadata": {
      "needs_background": "light"
     },
     "output_type": "display_data"
    }
   ],
   "source": [
    "plt.plot(M_ary, dndlnM_ary)\n",
    "plt.plot(M_ary, dndlnM_vanilla_ary)\n",
    "\n",
    "plt.xscale(\"log\")\n",
    "plt.yscale(\"log\")"
   ]
  },
  {
   "cell_type": "markdown",
   "metadata": {},
   "source": [
    "## Densities"
   ]
  },
  {
   "cell_type": "code",
   "execution_count": 764,
   "metadata": {},
   "outputs": [],
   "source": [
    "sig = Sigma(log10_P_interp)"
   ]
  },
  {
   "cell_type": "code",
   "execution_count": 765,
   "metadata": {},
   "outputs": [],
   "source": [
    "# M = 1e4* M_s\n",
    "# c200, zcoll = sig.c200_zcoll(M)\n",
    "\n",
    "# rho_c * (200. / 3. / 4. * c200 ** 3 / (np.log(1 + c200) - c200 / (1 + c200))) / (M_s / pc ** 3)"
   ]
  },
  {
   "cell_type": "code",
   "execution_count": 766,
   "metadata": {},
   "outputs": [],
   "source": [
    "# from scipy.optimize import fsolve\n",
    "# M_calib = 1e12 * M_s\n",
    "# C_calib = fsolve(lambda C: sig.c200_zcoll(M, C=C, f=0.02)[0] - pspecpop.c200_SCP(M), 1., xtol=0.2)[0]"
   ]
  },
  {
   "cell_type": "code",
   "execution_count": 767,
   "metadata": {},
   "outputs": [
    {
     "name": "stdout",
     "output_type": "stream",
     "text": [
      "7.969815762591832\n",
      "39.30966483018339\n"
     ]
    }
   ],
   "source": [
    "M = 1e12 * M_s\n",
    "print(pspecpop.c200_SCP(M))\n",
    "print(sig.c200_zcoll(M, C=75., f=0.02)[0])"
   ]
  },
  {
   "cell_type": "code",
   "execution_count": 768,
   "metadata": {},
   "outputs": [
    {
     "data": {
      "application/vnd.jupyter.widget-view+json": {
       "model_id": "44a68a8447844ec88ccdaa3fa2e01af4",
       "version_major": 2,
       "version_minor": 0
      },
      "text/plain": [
       "HBox(children=(IntProgress(value=0, max=10), HTML(value='')))"
      ]
     },
     "metadata": {},
     "output_type": "display_data"
    }
   ],
   "source": [
    "M_ary = np.logspace(8, 12, 10) * M_s\n",
    "c200_ary = [sig.c200_zcoll(M, C=75.)[0] for M in tqdm_notebook(M_ary)]"
   ]
  },
  {
   "cell_type": "code",
   "execution_count": 769,
   "metadata": {},
   "outputs": [
    {
     "data": {
      "image/png": "[encoded data removed]",
      "text/plain": [
       "<Figure size 504x396 with 1 Axes>"
      ]
     },
     "metadata": {
      "needs_background": "light"
     },
     "output_type": "display_data"
    }
   ],
   "source": [
    "plt.plot(M_ary / M_s, c200_ary)\n",
    "plt.xscale(\"log\")\n",
    "plt.yscale(\"log\")"
   ]
  },
  {
   "cell_type": "code",
   "execution_count": 770,
   "metadata": {},
   "outputs": [],
   "source": [
    "c200_interp = interp1d(np.log10(M_ary), np.log10(c200_ary), bounds_error=False, fill_value='extrapolate')"
   ]
  },
  {
   "cell_type": "code",
   "execution_count": 771,
   "metadata": {},
   "outputs": [],
   "source": [
    "def dndM(M):\n",
    "    return 10 ** dndlnM_interp(np.log10(M))\n",
    " \n",
    "def c200_custom(M):\n",
    "    return 10 ** c200_interp(np.log10(M))"
   ]
  },
  {
   "cell_type": "code",
   "execution_count": 772,
   "metadata": {},
   "outputs": [],
   "source": [
    "pspecpop = PowerSpectraPopulations(l_max=10000, n_l=20)\n",
    "\n",
    "pspecpop.set_radial_distribution(pspecpop.r2rho_V_NFW, R_min=1e-2*kpc, R_max=260*kpc)\n",
    "pspecpop.set_mass_distribution(dndM, M_min=1e1 * M_s, M_max=0.01*1.1e12*M_s,\n",
    "                               M_min_calib=1e8*M_s, M_max_calib=1e10*M_s, N_calib=N_calib_new)\n",
    "pspecpop.set_subhalo_properties(c200_custom)"
   ]
  },
  {
   "cell_type": "code",
   "execution_count": 773,
   "metadata": {},
   "outputs": [
    {
     "data": {
      "application/vnd.jupyter.widget-view+json": {
       "model_id": "33ffa22858524900ab0419de0a385791",
       "version_major": 2,
       "version_minor": 0
      },
      "text/plain": [
       "HBox(children=(IntProgress(value=0, max=20), HTML(value='')))"
      ]
     },
     "metadata": {},
     "output_type": "display_data"
    }
   ],
   "source": [
    "C_l_mu_new = pspecpop.get_C_l_total_ary(l_los_min=pspecpop.l_cutoff)"
   ]
  },
  {
   "cell_type": "code",
   "execution_count": 774,
   "metadata": {},
   "outputs": [
    {
     "data": {
      "application/vnd.jupyter.widget-view+json": {
       "model_id": "1cda6776fe5a4afbb3c9f538c195974d",
       "version_major": 2,
       "version_minor": 0
      },
      "text/plain": [
       "HBox(children=(IntProgress(value=0, max=20), HTML(value='')))"
      ]
     },
     "metadata": {},
     "output_type": "display_data"
    }
   ],
   "source": [
    "C_l_alpha_new = pspecpop.get_C_l_total_ary(l_los_min=pspecpop.l_cutoff, accel=True)"
   ]
  },
  {
   "cell_type": "code",
   "execution_count": 775,
   "metadata": {},
   "outputs": [
    {
     "data": {
      "image/png": "[encoded data removed]",
      "text/plain": [
       "<Figure size 504x396 with 1 Axes>"
      ]
     },
     "metadata": {
      "needs_background": "light"
     },
     "output_type": "display_data"
    }
   ],
   "source": [
    "l_ary = np.arange(1, 10000)\n",
    "plt.plot(l_ary, (1/(2*np.pi))*l_ary*(l_ary + 1)*C_l_mu_new)\n",
    "plt.plot(l_ary, (1/(2*np.pi))*l_ary*(l_ary + 1)*C_l_alpha_new)\n",
    "\n",
    "plt.xscale(\"log\")\n",
    "plt.yscale(\"log\")\n",
    "\n",
    "# plt.xlim(10, 1500)\n",
    "# plt.ylim(1e-12,1e-4)"
   ]
  },
  {
   "cell_type": "markdown",
   "metadata": {},
   "source": [
    "## Analyze cluster runs"
   ]
  },
  {
   "cell_type": "code",
   "execution_count": 776,
   "metadata": {},
   "outputs": [],
   "source": [
    "# get_sens(C_l_mu_new, sigma_mu=10., N_q=1e7)"
   ]
  },
  {
   "cell_type": "code",
   "execution_count": 799,
   "metadata": {},
   "outputs": [],
   "source": [
    "def get_sens(Cl_ary, sigma_mu=1., N_q=1e8):\n",
    "\n",
    "    fDM_base = 1\n",
    "    dfDM_base = 0.1\n",
    "\n",
    "    Cl_ary_fid = Cl_ary*fDM_base\n",
    "\n",
    "    p = Cl_ary*(fDM_base + dfDM_base)\n",
    "    m = Cl_ary*(fDM_base - dfDM_base)\n",
    "\n",
    "    fDM = Parameter('fDM', fDM_base ,dfDM_base ,None, True, p, m, \n",
    "                    None, None, '$\\\\f_\\mathrm{DM}$' )\n",
    "\n",
    "    parameters = [Cl_ary_fid, None, 1, 10000, fDM]\n",
    "    observation = AstrometryObservation(fsky=1, sigma_mu=sigma_mu, sigma_alpha=None, N_q_mu=N_q, l_min_mu=10, l_max_mu=10000, l_min_alpha=2, l_max_alpha=10000)\n",
    "\n",
    "    fshr = FisherForecast(parameters, observation)\n",
    "    lim = 1.64*np.sqrt(np.linalg.inv(fshr.fshr_cls + fshr.fshr_prior)[0,0])\n",
    "    baseline_sig = fDM_base/fshr.pars_vary[0].sigma\n",
    "    return lim, baseline_sig\n",
    "\n",
    "def get_sens_with_alpha(Cl_ary, Cl_ary_accel, f_sky=0.05, sigma_mu=10000., N_q_mu=1e8, sigma_alpha=1, N_q_alpha=1e12, l_min_mu=10, l_max_mu=2000, l_min_alpha=50, l_max_alpha=10000, l_max=10000):\n",
    "\n",
    "    fDM_base = 1\n",
    "    dfDM_base = 0.1\n",
    "\n",
    "    Cl_ary_fid = np.array(Cl_ary)*fDM_base\n",
    "    Cl_ary_accel_fid = np.array(Cl_ary_accel)*fDM_base\n",
    "\n",
    "    p = np.array(Cl_ary)*(fDM_base + dfDM_base)\n",
    "    m = np.array(Cl_ary)*(fDM_base - dfDM_base)\n",
    "\n",
    "    p_a = np.array(Cl_ary_accel)*(fDM_base + dfDM_base)\n",
    "    m_a = np.array(Cl_ary_accel)*(fDM_base - dfDM_base)\n",
    "\n",
    "    fDM = Parameter('fDM', fDM_base ,dfDM_base ,None, True, p, m, \n",
    "                    p_a, m_a, l_min=1, l_max=l_max)\n",
    "\n",
    "    parameters = [Cl_ary_fid, Cl_ary_accel_fid, 1, l_max, fDM]\n",
    "    \n",
    "    observation = AstrometryObservation(fsky=f_sky, sigma_mu=sigma_mu, sigma_alpha=sigma_alpha, \n",
    "                                        N_q_mu=N_q_mu, N_q_alpha=N_q_alpha, \n",
    "                                        l_min_mu=l_min_mu, l_max_mu=l_max_mu, l_min_alpha=l_min_alpha, l_max_alpha=l_max_alpha)\n",
    "    \n",
    "    \n",
    "    \n",
    "    fshr = FisherForecast(parameters, observation)\n",
    "    lim = 1.64*np.sqrt(np.linalg.inv(fshr.fshr_cls + fshr.fshr_prior)[0,0])\n",
    "    return lim, fDM_base/fshr.pars_vary[0].sigma"
   ]
  },
  {
   "cell_type": "code",
   "execution_count": 800,
   "metadata": {},
   "outputs": [
    {
     "data": {
      "text/plain": [
       "(0.23465310128625444, 6.989040379224974)"
      ]
     },
     "execution_count": 800,
     "metadata": {},
     "output_type": "execute_result"
    }
   ],
   "source": [
    "get_sens_with_alpha(C_l_mu_new, C_l_alpha_new, l_max=10000)"
   ]
  },
  {
   "cell_type": "code",
   "execution_count": 812,
   "metadata": {},
   "outputs": [
    {
     "name": "stderr",
     "output_type": "stream",
     "text": [
      "\n",
      "  0%|          | 0/11 [00:00<?, ?it/s]\u001b[A\n",
      "  9%|▉         | 1/11 [00:08<01:26,  8.63s/it]\u001b[A\n",
      " 18%|█▊        | 2/11 [00:17<01:17,  8.64s/it]\u001b[A\n",
      " 27%|██▋       | 3/11 [00:24<01:06,  8.32s/it]\u001b[A\n",
      " 36%|███▋      | 4/11 [00:31<00:55,  7.94s/it]\u001b[A\n",
      " 45%|████▌     | 5/11 [00:39<00:47,  7.87s/it]\u001b[A\n",
      " 55%|█████▍    | 6/11 [00:46<00:37,  7.60s/it]\u001b[A\n",
      " 64%|██████▎   | 7/11 [00:53<00:29,  7.25s/it]\u001b[A\n",
      " 73%|███████▎  | 8/11 [00:59<00:21,  7.01s/it]\u001b[A\n",
      " 82%|████████▏ | 9/11 [01:05<00:13,  6.85s/it]\u001b[A\n",
      " 91%|█████████ | 10/11 [01:12<00:06,  6.72s/it]\u001b[A\n",
      "100%|██████████| 11/11 [01:18<00:00,  6.64s/it]\u001b[A"
     ]
    }
   ],
   "source": [
    "n_B_ary = np.linspace(1, 3, 11)\n",
    "k_B_ary = np.logspace(np.log10(5), np.log10(50), 11)\n",
    "\n",
    "sens_ary = np.zeros((len(n_B_ary), len(k_B_ary)))\n",
    "\n",
    "for i_n_B, n_B in enumerate((tqdm(n_B_ary))):\n",
    "    for i_k_B, k_B in enumerate(k_B_ary):\n",
    "        Cl_ary = np.load(\"../cluster/cluster_out/calib2_\" + str(k_B) + \"_\" + str(n_B) + \".npz\")['C_l_mu_new']\n",
    "        sens_ary[i_n_B, i_k_B] = get_sens(Cl_ary)[1]"
   ]
  },
  {
   "cell_type": "code",
   "execution_count": 814,
   "metadata": {},
   "outputs": [
    {
     "data": {
      "image/png": "[encoded data removed]",
      "text/plain": [
       "<Figure size 504x396 with 2 Axes>"
      ]
     },
     "metadata": {
      "needs_background": "light"
     },
     "output_type": "display_data"
    }
   ],
   "source": [
    "mpl.rcParams['figure.figsize'] = 7, 5.5\n",
    "\n",
    "levels = [1,3,5]\n",
    "# levels = [0.1,0.2,5]\n",
    "\n",
    "X, Y = np.meshgrid(np.log10(k_B_ary), n_B_ary)\n",
    "\n",
    "fig, ax = plt.subplots()\n",
    "\n",
    "CS = ax.contour(X, Y, sens_ary, levels = levels, linestyles=['-.','--','-'], colors='k', linewidths=2, alpha=0.7)\n",
    "\n",
    "fmt = {}\n",
    "strs = ['1$\\sigma$', '3$\\sigma$', '5$\\sigma$']\n",
    "for l, s in zip(CS.levels, strs):\n",
    "    fmt[l] = s\n",
    "    \n",
    "im = ax.imshow(sens_ary,cmap = 'PuBu', aspect='auto', origin='lower', extent=[np.log10(5),np.log10(50),1,3], vmin=0, vmax=10)\n",
    "\n",
    "ax.clabel(CS, fmt=fmt,inline=1, fontsize=14)\n",
    "\n",
    "ax.set_xlabel(\"$\\log_{10}(k_B\\,\\mathrm{[Mpc^{-1}]})$\")\n",
    "ax.set_ylabel(\"$n_B$\")\n",
    "ax.set_title('\\\\textbf{Kinked power spectrum}', fontsize=18)\n",
    "\n",
    "cbar = fig.colorbar(im)\n",
    "cbar.set_label('Detection significance [$\\sigma$]')\n",
    "\n",
    "plt.tight_layout()\n",
    "# plt.savefig(plots_dir + \"kink_PS_sig.pdf\")"
   ]
  },
  {
   "cell_type": "code",
   "execution_count": 824,
   "metadata": {},
   "outputs": [
    {
     "name": "stderr",
     "output_type": "stream",
     "text": [
      "\n",
      "  0%|          | 0/11 [00:00<?, ?it/s]\u001b[A\n",
      "  9%|▉         | 1/11 [00:06<01:09,  6.97s/it]\u001b[A\n",
      " 18%|█▊        | 2/11 [00:15<01:05,  7.31s/it]\u001b[A\n",
      " 27%|██▋       | 3/11 [00:21<00:57,  7.19s/it]\u001b[A\n",
      " 36%|███▋      | 4/11 [00:28<00:49,  7.08s/it]\u001b[A\n",
      " 45%|████▌     | 5/11 [00:35<00:42,  7.02s/it]\u001b[A\n",
      " 55%|█████▍    | 6/11 [00:42<00:34,  6.98s/it]\u001b[A\n",
      " 64%|██████▎   | 7/11 [00:49<00:27,  6.93s/it]\u001b[A\n",
      " 73%|███████▎  | 8/11 [00:56<00:20,  6.90s/it]\u001b[A\n",
      " 82%|████████▏ | 9/11 [01:03<00:13,  6.88s/it]\u001b[A\n",
      " 91%|█████████ | 10/11 [01:10<00:06,  6.98s/it]\u001b[A\n",
      "100%|██████████| 11/11 [01:17<00:00,  6.93s/it]\u001b[A"
     ]
    }
   ],
   "source": [
    "n_B_ary = np.linspace(2.2, 3, 11)\n",
    "k_B_ary = np.logspace(np.log10(5), np.log10(50), 11)\n",
    "\n",
    "sens_ary = np.zeros((len(n_B_ary), len(k_B_ary)))\n",
    "\n",
    "for i_n_B, n_B in enumerate((tqdm(n_B_ary))):\n",
    "    for i_k_B, k_B in enumerate(k_B_ary):\n",
    "        Cl_mu_ary = np.load(\"../cluster/cluster_out/calib3_\" + str(k_B) + \"_\" + str(n_B) + \".npz\")['C_l_mu_new']\n",
    "        Cl_alpha_ary = np.load(\"../cluster/cluster_out/calib3_\" + str(k_B) + \"_\" + str(n_B) + \".npz\")['C_l_alpha_new']\n",
    "        sens_ary[i_n_B, i_k_B] = get_sens_with_alpha(Cl_mu_ary, Cl_alpha_ary, sigma_mu=10000, sigma_alpha=10, l_max=10000)[1]"
   ]
  },
  {
   "cell_type": "code",
   "execution_count": 825,
   "metadata": {},
   "outputs": [
    {
     "data": {
      "image/png": "[encoded data removed]",
      "text/plain": [
       "<Figure size 504x396 with 2 Axes>"
      ]
     },
     "metadata": {
      "needs_background": "light"
     },
     "output_type": "display_data"
    }
   ],
   "source": [
    "mpl.rcParams['figure.figsize'] = 7, 5.5\n",
    "\n",
    "levels = [1,3,5]\n",
    "# levels = [0.1,0.2,5]\n",
    "\n",
    "X, Y = np.meshgrid(np.log10(k_B_ary), n_B_ary)\n",
    "\n",
    "fig, ax = plt.subplots()\n",
    "\n",
    "CS = ax.contour(X, Y, sens_ary, levels = levels, linestyles=['-.','--','-'], colors='k', linewidths=2, alpha=0.7)\n",
    "\n",
    "fmt = {}\n",
    "strs = ['1$\\sigma$', '3$\\sigma$', '5$\\sigma$']\n",
    "for l, s in zip(CS.levels, strs):\n",
    "    fmt[l] = s\n",
    "    \n",
    "im = ax.imshow(sens_ary,cmap = 'PuBu', aspect='auto', origin='lower', extent=[np.log10(5),np.log10(50),2.2,3], vmin=0, vmax=10)\n",
    "\n",
    "ax.clabel(CS, fmt=fmt,inline=1, fontsize=14)\n",
    "\n",
    "ax.set_xlabel(\"$\\log_{10}(k_B\\,\\mathrm{[Mpc^{-1}]})$\")\n",
    "ax.set_ylabel(\"$n_B$\")\n",
    "ax.set_title('\\\\textbf{Kinked power spectrum}', fontsize=18)\n",
    "\n",
    "cbar = fig.colorbar(im)\n",
    "cbar.set_label('Detection significance [$\\sigma$]')\n",
    "\n",
    "plt.tight_layout()\n",
    "# plt.savefig(plots_dir + \"kink_PS_sig.pdf\")\n",
    "\n",
    "# plt.ylim(2, 3)"
   ]
  },
  {
   "cell_type": "code",
   "execution_count": 808,
   "metadata": {},
   "outputs": [
    {
     "data": {
      "text/plain": [
       "856.5903205683535"
      ]
     },
     "execution_count": 808,
     "metadata": {},
     "output_type": "execute_result"
    }
   ],
   "source": [
    "k_B = 3.\n",
    "Cl_mu_ary = np.load(\"../cluster/cluster_out/calib2_6.294627058970836_3.0.npz\")['C_l_mu_new']\n",
    "Cl_alpha_ary = np.load(\"../cluster/cluster_out/calib2_6.294627058970836_3.0.npz\")['C_l_alpha_new']\n",
    "get_sens_with_alpha(Cl_mu_ary, Cl_alpha_ary, l_max=10000, sigma_alpha=1, N_q_alpha=1e12, sigma_mu=1000000)[1]"
   ]
  },
  {
   "cell_type": "code",
   "execution_count": null,
   "metadata": {},
   "outputs": [],
   "source": []
  }
 ],
 "metadata": {
  "kernelspec": {
   "display_name": "Python 3",
   "language": "python",
   "name": "python3"
  },
  "language_info": {
   "codemirror_mode": {
    "name": "ipython",
    "version": 3
   },
   "file_extension": ".py",
   "mimetype": "text/x-python",
   "name": "python",
   "nbconvert_exporter": "python",
   "pygments_lexer": "ipython3",
   "version": "3.7.3"
  }
 },
 "nbformat": 4,
 "nbformat_minor": 4
}
