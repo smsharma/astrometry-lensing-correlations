{
 "cells": [
  {
   "cell_type": "code",
   "execution_count": 109,
   "metadata": {},
   "outputs": [
    {
     "name": "stdout",
     "output_type": "stream",
     "text": [
      "The autoreload extension is already loaded. To reload it, use:\n",
      "  %reload_ext autoreload\n"
     ]
    }
   ],
   "source": [
    "import sys\n",
    "sys.path.append(\"../..\")\n",
    "\n",
    "import numpy as np\n",
    "import matplotlib.pyplot as plt\n",
    "from tqdm import *\n",
    "import matplotlib as mpl\n",
    "import matplotlib.pylab as pylab\n",
    "from cycler import cycler\n",
    "import palettable\n",
    "from astropy.cosmology import Planck15\n",
    "from scipy.integrate import quad\n",
    "from scipy.interpolate import interp1d\n",
    "from scipy.misc import derivative\n",
    "from scipy.optimize import minimize\n",
    "from scipy.special import erfc\n",
    "from classy import Class\n",
    "\n",
    "sys.path.append('/Users/smsharma/heptools/colossus/')\n",
    "\n",
    "from colossus.cosmology import cosmology\n",
    "from colossus.lss import mass_function\n",
    "\n",
    "from theory.spec_calc import PowerSpectra, PowerSpectraPopulations\n",
    "from theory.astrometry_forecast import Parameter, AstrometryObservation, FisherForecast\n",
    "from theory.kink import MassFunctionKink, Sigma\n",
    "from theory.units import *\n",
    "\n",
    "from IPython.display import set_matplotlib_formats\n",
    "set_matplotlib_formats('retina')\n",
    "\n",
    "%matplotlib inline\n",
    "%load_ext autoreload\n",
    "%autoreload 2"
   ]
  },
  {
   "cell_type": "code",
   "execution_count": 2,
   "metadata": {},
   "outputs": [],
   "source": [
    "params = {'text.usetex': True,\n",
    "          'font.family': 'serif',\n",
    "          'font.serif': ['CMU Serif'],\n",
    "          'font.sans-serif': ['CMU Sans Serif'],\n",
    "          'legend.fontsize': 17,\n",
    "          'legend.fancybox': True,\n",
    "          'legend.frameon': False,\n",
    "          'legend.framealpha': 0.4,\n",
    "          'legend.labelspacing': 0.5,\n",
    "          'figure.figsize': (6.4/1.1, 4.8/1.1),\n",
    "          'axes.labelsize': 19,\n",
    "          'axes.titlesize':18,\n",
    "          'axes.titlepad':10,\n",
    "          'axes.linewidth':1.1,\n",
    "          'axes.labelpad':10,\n",
    "          'axes.prop_cycle': cycler('color', palettable.cartocolors.qualitative.Bold_10.hex_colors) + \n",
    "                            cycler(alpha=10*[.7]), \n",
    "          'lines.linewidth':2.5,\n",
    "          'xtick.labelsize':18,\n",
    "          'ytick.labelsize':18,\n",
    "          'xtick.top':True,\n",
    "          'ytick.right':True,\n",
    "          'xtick.direction': 'in',\n",
    "          'ytick.direction': 'in',\n",
    "          'xtick.major.size': 5,\n",
    "          'xtick.minor.size': 2,\n",
    "          'ytick.major.size': 5,\n",
    "          'ytick.minor.size': 2,\n",
    "          'xtick.major.width': 1,\n",
    "          'ytick.major.width': 1,\n",
    "          'xtick.minor.width': 0.8,\n",
    "          'ytick.minor.width': 0.8,\n",
    "         }\n",
    "pylab.rcParams.update(params)"
   ]
  },
  {
   "cell_type": "markdown",
   "metadata": {},
   "source": [
    "# Kinky"
   ]
  },
  {
   "cell_type": "markdown",
   "metadata": {},
   "source": [
    "## Generate `CLASS` instances with kinked spectra"
   ]
  },
  {
   "cell_type": "code",
   "execution_count": 98,
   "metadata": {},
   "outputs": [],
   "source": [
    "mfk = MassFunctionKink()\n",
    "\n",
    "n_B = 1.6\n",
    "k_B = 10"
   ]
  },
  {
   "cell_type": "code",
   "execution_count": 99,
   "metadata": {},
   "outputs": [],
   "source": [
    "CLASS_inst = mfk.get_CLASS_kink(k_B=k_B,n_B=n_B, k_max=1e2)\n",
    "CLASS_inst_vanilla = mfk.get_CLASS_kink(k_B=k_B, n_B=0.9665, k_max=1e2)\n",
    "\n",
    "for idnx, inst in enumerate([CLASS_inst_vanilla, CLASS_inst]):\n",
    "    k_ary = np.logspace(-6, np.log10(1e2), 10000)\n",
    "    Pk_ary = np.array([inst.pk_lin(k,0) for k in k_ary])\n",
    "\n",
    "    log10_k_interp_ary = np.linspace(-6, 7, 10000)\n",
    "    log10_P_interp = interp1d(np.log10(k_ary * h), np.log10(Pk_ary / h ** 3), bounds_error=False, fill_value='extrapolate')\n",
    "    log10_P_interp_ary = (log10_P_interp)(log10_k_interp_ary)\n",
    "    \n",
    "    if idnx == 1: filename = 'pk.dat'\n",
    "    else: filename = 'pk_base.dat'\n",
    "        \n",
    "    np.savetxt(\"/Users/smsharma/PycharmProjects/Lensing-PowerSpectra/theory/arrays/\" + filename, np.transpose([log10_k_interp_ary, log10_P_interp_ary]),\n",
    "               delimiter='\\t')\n"
   ]
  },
  {
   "cell_type": "markdown",
   "metadata": {},
   "source": [
    "## Mass functions from `colossus`"
   ]
  },
  {
   "cell_type": "code",
   "execution_count": 101,
   "metadata": {},
   "outputs": [],
   "source": [
    "cosmo = cosmology.setCosmology('planck18')\n",
    "\n",
    "M_ary = np.logspace(5,12)\n",
    "\n",
    "dndlnM_vanilla_ary = mass_function.massFunction(M_ary, 0.0, mdef = '200m', model = 'tinker08', q_in='M', q_out = 'dndlnM', ps_args={'model': mfk.randomword(5), 'path':\"/Users/smsharma/PycharmProjects/Lensing-PowerSpectra/theory/arrays/pk_base.dat\"})\n",
    "dndlnM_ary = mass_function.massFunction(M_ary, 0.0, mdef = '200m', model = 'tinker08', q_in='M', q_out = 'dndlnM', ps_args={'model': mfk.randomword(5), 'path':\"/Users/smsharma/PycharmProjects/Lensing-PowerSpectra/theory/arrays/pk.dat\"})\n",
    "\n",
    "dndlnM_vanilla_interp = interp1d(np.log10(M_ary * M_s), np.log10(dndlnM_vanilla_ary / M_ary))\n",
    "dndlnM_interp = interp1d(np.log10(M_ary * M_s), np.log10(dndlnM_ary / M_ary))\n",
    "\n"
   ]
  },
  {
   "cell_type": "code",
   "execution_count": 107,
   "metadata": {},
   "outputs": [],
   "source": [
    "N_calib = 150.\n",
    "\n",
    "pref = N_calib / quad(lambda M: 10 ** dndlnM_vanilla_interp(np.log10(M)), 1e8 * M_s, 1e10 * M_s, epsabs=0, epsrel=1e-4)[0]\n",
    "N_calib_new = pref * quad(lambda M: 10 ** dndlnM_interp(np.log10(M)), 1e8 * M_s, 1e10 * M_s, epsabs=0, epsrel=1e-4)[0]"
   ]
  },
  {
   "cell_type": "markdown",
   "metadata": {},
   "source": [
    "## Densities"
   ]
  },
  {
   "cell_type": "code",
   "execution_count": 103,
   "metadata": {},
   "outputs": [],
   "source": [
    "sig = Sigma(log10_P_interp)"
   ]
  },
  {
   "cell_type": "code",
   "execution_count": 104,
   "metadata": {},
   "outputs": [
    {
     "name": "stderr",
     "output_type": "stream",
     "text": [
      "100%|██████████| 10/10 [00:53<00:00,  5.22s/it]\n"
     ]
    }
   ],
   "source": [
    "M_ary = np.logspace(6, 13, 10) * M_s\n",
    "c200_ary = [sig.c200_zcoll(M)[0] for M in tqdm(M_ary)]"
   ]
  },
  {
   "cell_type": "code",
   "execution_count": 113,
   "metadata": {},
   "outputs": [],
   "source": [
    "c200_interp = interp1d(np.log10(M_ary), np.log10(c200_ary))"
   ]
  },
  {
   "cell_type": "code",
   "execution_count": 114,
   "metadata": {},
   "outputs": [],
   "source": [
    "def dndM(M):\n",
    "    return 10 ** dndlnM_interp(np.log10(M))\n",
    " \n",
    "def c200_custom(M):\n",
    "    return 10 ** c200_interp(np.log10(M))\n"
   ]
  },
  {
   "cell_type": "code",
   "execution_count": 117,
   "metadata": {},
   "outputs": [
    {
     "name": "stderr",
     "output_type": "stream",
     "text": [
      "\n",
      "  0%|          | 0/50 [00:00<?, ?it/s]\u001b[A\n",
      "  2%|▏         | 1/50 [00:02<01:50,  2.26s/it]\u001b[A\n",
      "  4%|▍         | 2/50 [00:04<01:47,  2.24s/it]\u001b[A\n",
      "  6%|▌         | 3/50 [00:06<01:44,  2.22s/it]\u001b[A\n",
      "  8%|▊         | 4/50 [00:08<01:42,  2.22s/it]\u001b[A\n",
      " 10%|█         | 5/50 [00:11<01:40,  2.24s/it]\u001b[A\n",
      " 12%|█▏        | 6/50 [00:14<01:50,  2.51s/it]\u001b[A\n",
      " 14%|█▍        | 7/50 [00:17<01:55,  2.69s/it]\u001b[A\n",
      " 16%|█▌        | 8/50 [00:20<01:55,  2.75s/it]\u001b[A\n",
      " 18%|█▊        | 9/50 [00:22<01:46,  2.61s/it]\u001b[A\n",
      " 20%|██        | 10/50 [00:24<01:39,  2.50s/it]\u001b[A\n",
      " 22%|██▏       | 11/50 [00:27<01:35,  2.44s/it]\u001b[A\n",
      " 24%|██▍       | 12/50 [00:29<01:31,  2.40s/it]\u001b[A\n",
      " 26%|██▌       | 13/50 [00:31<01:28,  2.39s/it]\u001b[A\n",
      " 28%|██▊       | 14/50 [00:35<01:36,  2.68s/it]\u001b[A\n",
      " 30%|███       | 15/50 [00:37<01:33,  2.66s/it]\u001b[A\n",
      " 32%|███▏      | 16/50 [00:40<01:29,  2.62s/it]\u001b[A\n",
      " 34%|███▍      | 17/50 [00:43<01:28,  2.67s/it]\u001b[A\n",
      " 36%|███▌      | 18/50 [00:45<01:21,  2.55s/it]\u001b[A\n",
      " 38%|███▊      | 19/50 [00:48<01:20,  2.61s/it]\u001b[A\n",
      " 40%|████      | 20/50 [00:50<01:16,  2.55s/it]\u001b[A\n",
      " 42%|████▏     | 21/50 [00:52<01:11,  2.46s/it]\u001b[A\n",
      " 44%|████▍     | 22/50 [00:55<01:08,  2.44s/it]\u001b[A\n",
      " 46%|████▌     | 23/50 [00:57<01:03,  2.37s/it]\u001b[A\n",
      " 48%|████▊     | 24/50 [00:59<01:00,  2.32s/it]\u001b[A\n",
      " 50%|█████     | 25/50 [01:01<00:58,  2.33s/it]\u001b[A\n",
      " 52%|█████▏    | 26/50 [01:04<00:55,  2.32s/it]\u001b[A\n",
      " 54%|█████▍    | 27/50 [01:06<00:53,  2.34s/it]\u001b[A\n",
      " 56%|█████▌    | 28/50 [01:08<00:50,  2.32s/it]\u001b[A\n",
      " 58%|█████▊    | 29/50 [01:11<00:48,  2.33s/it]\u001b[A\n",
      " 60%|██████    | 30/50 [01:13<00:46,  2.31s/it]\u001b[A\n",
      " 62%|██████▏   | 31/50 [01:15<00:43,  2.28s/it]\u001b[A\n",
      " 64%|██████▍   | 32/50 [01:18<00:41,  2.32s/it]\u001b[A\n",
      " 66%|██████▌   | 33/50 [01:20<00:40,  2.39s/it]\u001b[A\n",
      " 68%|██████▊   | 34/50 [01:24<00:44,  2.75s/it]\u001b[A\n",
      " 70%|███████   | 35/50 [01:26<00:40,  2.72s/it]\u001b[A\n",
      " 72%|███████▏  | 36/50 [01:29<00:36,  2.59s/it]\u001b[A\n",
      " 74%|███████▍  | 37/50 [01:31<00:32,  2.49s/it]\u001b[A\n",
      " 76%|███████▌  | 38/50 [01:34<00:32,  2.68s/it]\u001b[A\n",
      " 78%|███████▊  | 39/50 [01:39<00:36,  3.35s/it]\u001b[A\n",
      " 80%|████████  | 40/50 [01:42<00:31,  3.15s/it]\u001b[A\n",
      " 82%|████████▏ | 41/50 [01:45<00:27,  3.06s/it]\u001b[A\n",
      " 84%|████████▍ | 42/50 [01:47<00:23,  2.93s/it]\u001b[A\n",
      " 86%|████████▌ | 43/50 [01:50<00:19,  2.78s/it]\u001b[A\n",
      " 88%|████████▊ | 44/50 [01:53<00:17,  2.87s/it]\u001b[A\n",
      " 90%|█████████ | 45/50 [01:56<00:14,  2.96s/it]\u001b[A\n",
      " 92%|█████████▏| 46/50 [01:59<00:11,  2.89s/it]\u001b[A\n",
      " 94%|█████████▍| 47/50 [02:01<00:08,  2.69s/it]\u001b[A\n",
      " 96%|█████████▌| 48/50 [02:03<00:05,  2.55s/it]\u001b[A\n",
      " 98%|█████████▊| 49/50 [02:05<00:02,  2.46s/it]\u001b[A\n",
      "100%|██████████| 50/50 [02:07<00:00,  2.39s/it]\u001b[A"
     ]
    }
   ],
   "source": [
    "pspecpop = PowerSpectraPopulations(l_max=2000)\n",
    "\n",
    "pspecpop.set_radial_distribution(pspecpop.r2rho_V_NFW, R_min=1e-2*kpc, R_max=260*kpc)\n",
    "pspecpop.set_mass_distribution(dndM, M_min=1e6*M_s, M_max=0.01*1.1e12*M_s,\n",
    "                               M_min_calib=1e8*M_s, M_max_calib=1e10*M_s, N_calib=N_calib_new)\n",
    "pspecpop.set_subhalo_properties(c200_custom)\n",
    "\n",
    "C_l_mu_new = pspecpop.get_C_l_total_ary()\n"
   ]
  },
  {
   "cell_type": "code",
   "execution_count": 118,
   "metadata": {},
   "outputs": [
    {
     "data": {
      "text/plain": [
       "(1e-12, 0.0001)"
      ]
     },
     "execution_count": 118,
     "metadata": {},
     "output_type": "execute_result"
    },
    {
     "data": {
      "image/png": "[encoded data removed]",
      "text/plain": [
       "<Figure size 432x288 with 1 Axes>"
      ]
     },
     "metadata": {
      "image/png": {
       "height": 257,
       "width": 391
      },
      "needs_background": "light"
     },
     "output_type": "display_data"
    }
   ],
   "source": [
    "l_ary = np.arange(1, 2000)\n",
    "plt.plot(l_ary, (1/(2*np.pi))*l_ary*(l_ary + 1)*C_l_mu_new)\n",
    "plt.xscale(\"log\")\n",
    "plt.yscale(\"log\")\n",
    "\n",
    "plt.xlim(10, 1500)\n",
    "plt.ylim(1e-12,1e-4)"
   ]
  },
  {
   "cell_type": "code",
   "execution_count": null,
   "metadata": {},
   "outputs": [],
   "source": []
  }
 ],
 "metadata": {
  "kernelspec": {
   "display_name": "Python 3",
   "language": "python",
   "name": "python3"
  },
  "language_info": {
   "codemirror_mode": {
    "name": "ipython",
    "version": 3
   },
   "file_extension": ".py",
   "mimetype": "text/x-python",
   "name": "python",
   "nbconvert_exporter": "python",
   "pygments_lexer": "ipython3",
   "version": "3.7.3"
  }
 },
 "nbformat": 4,
 "nbformat_minor": 4
}
