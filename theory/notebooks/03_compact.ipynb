{
 "cells": [
  {
   "cell_type": "code",
   "execution_count": 157,
   "metadata": {},
   "outputs": [
    {
     "name": "stdout",
     "output_type": "stream",
     "text": [
      "The autoreload extension is already loaded. To reload it, use:\n",
      "  %reload_ext autoreload\n"
     ]
    }
   ],
   "source": [
    "import sys\n",
    "sys.path.append(\"../..\")\n",
    "\n",
    "import numpy as np\n",
    "import matplotlib.pyplot as plt\n",
    "from tqdm import *\n",
    "from scipy.integrate import nquad, quad\n",
    "from scipy.interpolate import interp1d\n",
    "from scipy.special import erf, jn, jv, kn\n",
    "import mpmath as mp\n",
    "from skmonaco import mcimport, mcquad, mcmiser\n",
    "import matplotlib.pylab as pylab\n",
    "from cycler import cycler\n",
    "import palettable\n",
    "\n",
    "from IPython.display import set_matplotlib_formats\n",
    "set_matplotlib_formats('retina')\n",
    "\n",
    "from theory.units import *\n",
    "from theory.spec_calc import PowerSpectra, PowerSpectraPopulations\n",
    "from theory.astrometry_forecast import Parameter, AstrometryObservation, FisherForecast\n",
    "\n",
    "%matplotlib inline\n",
    "%load_ext autoreload\n",
    "%autoreload 2"
   ]
  },
  {
   "cell_type": "code",
   "execution_count": 158,
   "metadata": {},
   "outputs": [],
   "source": [
    "params = {'text.usetex': True,\n",
    "          'font.family': 'serif',\n",
    "          'font.serif': ['CMU Serif'],\n",
    "          'font.sans-serif': ['CMU Sans Serif'],\n",
    "          'legend.fontsize': 17,\n",
    "          'legend.fancybox': True,\n",
    "          'legend.frameon': False,\n",
    "          'legend.framealpha': 0.4,\n",
    "          'legend.labelspacing': 0.5,\n",
    "          'figure.figsize': (6.4/1.1, 4.8/1.1),\n",
    "          'axes.labelsize': 19,\n",
    "          'axes.titlesize':18,\n",
    "          'axes.titlepad':10,\n",
    "          'axes.linewidth':1.1,\n",
    "          'axes.labelpad':10,\n",
    "          'axes.prop_cycle': cycler('color', palettable.cartocolors.qualitative.Bold_10.hex_colors) + \n",
    "                            cycler(alpha=10*[.7]), \n",
    "          'lines.linewidth':2.5,\n",
    "          'xtick.labelsize':18,\n",
    "          'ytick.labelsize':18,\n",
    "          'xtick.top':True,\n",
    "          'ytick.right':True,\n",
    "          'xtick.direction': 'in',\n",
    "          'ytick.direction': 'in',\n",
    "          'xtick.major.size': 5,\n",
    "          'xtick.minor.size': 2,\n",
    "          'ytick.major.size': 5,\n",
    "          'ytick.minor.size': 2,\n",
    "          'xtick.major.width': 1,\n",
    "          'ytick.major.width': 1,\n",
    "          'xtick.minor.width': 0.8,\n",
    "          'ytick.minor.width': 0.8,\n",
    "         }\n",
    "pylab.rcParams.update(params)"
   ]
  },
  {
   "cell_type": "code",
   "execution_count": 159,
   "metadata": {},
   "outputs": [],
   "source": [
    "plots_dir = \"/Users/smsharma/Dropbox/Projects/LensPowerSpectra/LensPower/draft/plots/\""
   ]
  },
  {
   "cell_type": "code",
   "execution_count": 160,
   "metadata": {},
   "outputs": [],
   "source": [
    "alpha_plot = 0.8\n",
    "lw_plot = 2.5\n",
    "colors_plot = ['dodgerblue', 'orange', 'mediumorchid']"
   ]
  },
  {
   "cell_type": "code",
   "execution_count": 161,
   "metadata": {},
   "outputs": [],
   "source": [
    "pspec = PowerSpectra(precompute=['NFW', 'Burk'])"
   ]
  },
  {
   "cell_type": "markdown",
   "metadata": {},
   "source": [
    "# Sensitivity to compact objects"
   ]
  },
  {
   "cell_type": "code",
   "execution_count": 162,
   "metadata": {},
   "outputs": [],
   "source": [
    "def get_f_DM_lim(M_DM=1e8*M_s, R0_DM=0, sigma_mu = 1, sigma_alpha = None,\n",
    "                 N_q_mu = 1e9, N_q_alpha = 1e9, \n",
    "                 l_min_mu=10, l_max_mu=2000, l_min_alpha=10, l_max_alpha=2000):\n",
    "    \n",
    "    l_max = max(l_max_mu, l_max_alpha)\n",
    "    \n",
    "    pspecpop = PowerSpectraPopulations(l_max=l_max)\n",
    "    pspecpop.set_radial_distribution(pspecpop.r2rho_V_NFW, R_min=1e-3*kpc, R_max=260*kpc)\n",
    "    pspecpop.set_mass_distribution_compact(M_DM=M_DM, f_DM=1,R0_DM=R0_DM)\n",
    "    \n",
    "    Cl_ary = pspecpop.get_C_l_compact_total_ary()\n",
    "    \n",
    "    if sigma_alpha is not None:\n",
    "        Cl_ary_accel = pspecpop.get_C_l_compact_total_ary(accel=True)\n",
    "    else:\n",
    "        Cl_ary_accel = np.zeros(len(Cl_ary)) \n",
    "        \n",
    "    fDM_base = 0\n",
    "    dfDM_base = 0.1\n",
    "\n",
    "    Cl_ary_fid = np.array(Cl_ary)*fDM_base\n",
    "    Cl_ary_accel_fid = np.array(Cl_ary_accel)*fDM_base\n",
    "\n",
    "    p = np.array(Cl_ary)*(fDM_base + dfDM_base)\n",
    "    m = np.array(Cl_ary)*(fDM_base - dfDM_base)\n",
    "\n",
    "    p_a = np.array(Cl_ary_accel)*(fDM_base + dfDM_base)\n",
    "    m_a = np.array(Cl_ary_accel)*(fDM_base - dfDM_base)\n",
    "\n",
    "    fDM = Parameter('fDM', fDM_base ,dfDM_base ,None, True, p, m, \n",
    "                    p_a, m_a, l_min=1, l_max=l_max)\n",
    "\n",
    "    parameters = [Cl_ary_fid, Cl_ary_accel_fid, 1, l_max, fDM]\n",
    "    \n",
    "    observation = AstrometryObservation(fsky=1, sigma_mu=sigma_mu, sigma_alpha=sigma_alpha, \n",
    "                                        N_q_mu=N_q_mu, N_q_alpha=N_q_alpha, \n",
    "                                        l_min_mu=l_min_mu, l_max_mu=l_max_mu, l_min_alpha=l_min_alpha, l_max_alpha=l_max_alpha)\n",
    "\n",
    "    fshr = FisherForecast(parameters, observation)\n",
    "    lim = 1.64*np.sqrt(np.linalg.inv(fshr.fshr_cls + fshr.fshr_prior)[0,0])\n",
    "\n",
    "    return lim, fshr"
   ]
  },
  {
   "cell_type": "code",
   "execution_count": 474,
   "metadata": {},
   "outputs": [
    {
     "data": {
      "application/vnd.jupyter.widget-view+json": {
       "model_id": "9d473b0099f7474b8fe0f07aa1f46d6d",
       "version_major": 2,
       "version_minor": 0
      },
      "text/plain": [
       "HBox(children=(IntProgress(value=0, max=10), HTML(value='')))"
      ]
     },
     "metadata": {},
     "output_type": "display_data"
    },
    {
     "data": {
      "application/vnd.jupyter.widget-view+json": {
       "model_id": "3c61c09917d3472fb777d563051b0005",
       "version_major": 2,
       "version_minor": 0
      },
      "text/plain": [
       "HBox(children=(IntProgress(value=0, max=10), HTML(value='')))"
      ]
     },
     "metadata": {},
     "output_type": "display_data"
    },
    {
     "data": {
      "application/vnd.jupyter.widget-view+json": {
       "model_id": "5cd683250c4a49368cd361c026285160",
       "version_major": 2,
       "version_minor": 0
      },
      "text/plain": [
       "HBox(children=(IntProgress(value=0, max=10), HTML(value='')))"
      ]
     },
     "metadata": {},
     "output_type": "display_data"
    },
    {
     "data": {
      "application/vnd.jupyter.widget-view+json": {
       "model_id": "4ff4d93175fc481aa765a8e05313fd23",
       "version_major": 2,
       "version_minor": 0
      },
      "text/plain": [
       "HBox(children=(IntProgress(value=0, max=50), HTML(value='')))"
      ]
     },
     "metadata": {},
     "output_type": "display_data"
    },
    {
     "data": {
      "application/vnd.jupyter.widget-view+json": {
       "model_id": "11b0ce97740542168f1528999417ffbb",
       "version_major": 2,
       "version_minor": 0
      },
      "text/plain": [
       "HBox(children=(IntProgress(value=0, max=50), HTML(value='')))"
      ]
     },
     "metadata": {},
     "output_type": "display_data"
    },
    {
     "data": {
      "application/vnd.jupyter.widget-view+json": {
       "model_id": "bdf2ba31c45d4e76b74bc39f645d379e",
       "version_major": 2,
       "version_minor": 0
      },
      "text/plain": [
       "HBox(children=(IntProgress(value=0, max=50), HTML(value='')))"
      ]
     },
     "metadata": {},
     "output_type": "display_data"
    },
    {
     "data": {
      "application/vnd.jupyter.widget-view+json": {
       "model_id": "966788b4a3da482cbc4b6dca33f5b2cd",
       "version_major": 2,
       "version_minor": 0
      },
      "text/plain": [
       "HBox(children=(IntProgress(value=0, max=50), HTML(value='')))"
      ]
     },
     "metadata": {},
     "output_type": "display_data"
    },
    {
     "data": {
      "application/vnd.jupyter.widget-view+json": {
       "model_id": "9a2c9cf08bcb497189612f31a08d6a27",
       "version_major": 2,
       "version_minor": 0
      },
      "text/plain": [
       "HBox(children=(IntProgress(value=0, max=50), HTML(value='')))"
      ]
     },
     "metadata": {},
     "output_type": "display_data"
    },
    {
     "data": {
      "application/vnd.jupyter.widget-view+json": {
       "model_id": "17807ab4d86d48dab394d78d45e1219b",
       "version_major": 2,
       "version_minor": 0
      },
      "text/plain": [
       "HBox(children=(IntProgress(value=0, max=50), HTML(value='')))"
      ]
     },
     "metadata": {},
     "output_type": "display_data"
    },
    {
     "data": {
      "application/vnd.jupyter.widget-view+json": {
       "model_id": "df7f658ed3eb4057923902786e376505",
       "version_major": 2,
       "version_minor": 0
      },
      "text/plain": [
       "HBox(children=(IntProgress(value=0, max=50), HTML(value='')))"
      ]
     },
     "metadata": {},
     "output_type": "display_data"
    },
    {
     "data": {
      "application/vnd.jupyter.widget-view+json": {
       "model_id": "1625b2ab125a45db8a2336fb781e8c04",
       "version_major": 2,
       "version_minor": 0
      },
      "text/plain": [
       "HBox(children=(IntProgress(value=0, max=50), HTML(value='')))"
      ]
     },
     "metadata": {},
     "output_type": "display_data"
    },
    {
     "data": {
      "application/vnd.jupyter.widget-view+json": {
       "model_id": "0f56e8307088473c93495db0c325f8c3",
       "version_major": 2,
       "version_minor": 0
      },
      "text/plain": [
       "HBox(children=(IntProgress(value=0, max=50), HTML(value='')))"
      ]
     },
     "metadata": {},
     "output_type": "display_data"
    },
    {
     "data": {
      "application/vnd.jupyter.widget-view+json": {
       "model_id": "2a92972929264f148fc8004a074d13df",
       "version_major": 2,
       "version_minor": 0
      },
      "text/plain": [
       "HBox(children=(IntProgress(value=0, max=50), HTML(value='')))"
      ]
     },
     "metadata": {},
     "output_type": "display_data"
    }
   ],
   "source": [
    "M_DM_ary = np.logspace(1.5,10,10)*M_s\n",
    "\n",
    "f_DM_lim_1_ary = [get_f_DM_lim(M_DM, sigma_mu=1, sigma_alpha=.1, N_q=1e8, l_max_mu=2000, l_max_alpha=2000)[0] for M_DM in tqdm_notebook(M_DM_ary)]\n",
    "f_DM_lim_2_ary = [get_f_DM_lim(M_DM, sigma_mu=1, sigma_alpha=.1, N_q=1e8,l_max_mu=10000,l_max_alpha=10000)[0] for M_DM in tqdm_notebook(M_DM_ary)]\n",
    "f_DM_lim_3_ary = [get_f_DM_lim(M_DM, R0_DM=10*pc, sigma_mu=1, sigma_alpha=.1, N_q=1e8,l_max_mu=2000,l_max_alpha=2000)[0] for M_DM in tqdm_notebook(M_DM_ary)]\n"
   ]
  },
  {
   "cell_type": "code",
   "execution_count": 476,
   "metadata": {},
   "outputs": [
    {
     "data": {
      "image/png": "[encoded data removed]",
      "text/plain": [
       "<Figure size 418.909x314.182 with 1 Axes>"
      ]
     },
     "metadata": {
      "image/png": {
       "height": 307,
       "width": 410
      },
      "needs_background": "light"
     },
     "output_type": "display_data"
    }
   ],
   "source": [
    "plt.plot(M_DM_ary/M_s, f_DM_lim_1_ary, label='$\\ell_\\mathrm{max} = 2000$')\n",
    "plt.plot(M_DM_ary/M_s, f_DM_lim_2_ary, label='$\\ell_\\mathrm{max} = 10^4$')\n",
    "plt.plot(M_DM_ary/M_s, f_DM_lim_3_ary, label='$R_0=10$\\,pc')\n",
    "\n",
    "plt.xscale(\"log\")\n",
    "plt.yscale(\"log\")\n",
    "\n",
    "plt.ylim(1e-8,1)\n",
    "plt.xlim(1e2,1e9)\n",
    "\n",
    "plt.xlabel(\"$M$\\,[M$_\\odot$]\")\n",
    "plt.ylabel(\"$f_\\mathrm{DM}$\")\n",
    "\n",
    "plt.title('\\\\textbf{Sensitivity to compact objects}', y = 1.02, fontsize=18)\n",
    "legend = plt.legend()\n",
    "# plt.setp(legend.get_title(),fontsize=18)\n",
    "\n",
    "plt.text(1e6, 2e-7, \"$\\sigma_\\mu=1\\,\\mu$as\\,yr$^{-1}$\", fontsize=16)\n",
    "plt.text(1e7, 3e-8, \"$N_q = 10^8$\", fontsize=16)\n",
    "\n",
    "plt.tight_layout()\n",
    "plt.savefig(plots_dir + \"/compact.pdf\")"
   ]
  },
  {
   "cell_type": "code",
   "execution_count": 286,
   "metadata": {},
   "outputs": [
    {
     "data": {
      "text/plain": [
       "0.31622776601683794"
      ]
     },
     "execution_count": 286,
     "metadata": {},
     "output_type": "execute_result"
    }
   ],
   "source": [
    "np.sqrt(0.1)"
   ]
  },
  {
   "cell_type": "code",
   "execution_count": 308,
   "metadata": {},
   "outputs": [
    {
     "data": {
      "application/vnd.jupyter.widget-view+json": {
       "model_id": "8db765dcb3ca4c739842f6f4577d1daf",
       "version_major": 2,
       "version_minor": 0
      },
      "text/plain": [
       "HBox(children=(IntProgress(value=0, max=50), HTML(value='')))"
      ]
     },
     "metadata": {},
     "output_type": "display_data"
    },
    {
     "name": "stdout",
     "output_type": "stream",
     "text": [
      "\n"
     ]
    },
    {
     "data": {
      "application/vnd.jupyter.widget-view+json": {
       "model_id": "237caa3ae40b44a29fd7ad09fc61518b",
       "version_major": 2,
       "version_minor": 0
      },
      "text/plain": [
       "HBox(children=(IntProgress(value=0, max=50), HTML(value='')))"
      ]
     },
     "metadata": {},
     "output_type": "display_data"
    },
    {
     "name": "stdout",
     "output_type": "stream",
     "text": [
      "\n"
     ]
    }
   ],
   "source": [
    "R0_DM= 10*pc\n",
    "M_DM=1e6*M_s\n",
    "\n",
    "lim, fshr = get_f_DM_lim(M_DM=M_DM, sigma_mu=None, R0_DM=R0_DM, sigma_alpha=0.01, N_q_mu=1e8, N_q_alpha=1e12, \n",
    "                         l_min_mu=1, l_max_mu=10000,l_min_alpha=1, l_max_alpha=20000) \n",
    "\n",
    "# R0_DM=100*pc\n",
    "# lim1, fshr1 = get_f_DM_lim(M_DM=1e6*M_s, sigma_mu=1, R0_DM=R0_DM, sigma_alpha=.1, N_q=1e8, l_min_mu=1, l_max_mu=2000,l_min_alpha=1, l_max_alpha=2000) "
   ]
  },
  {
   "cell_type": "code",
   "execution_count": 309,
   "metadata": {},
   "outputs": [
    {
     "data": {
      "text/plain": [
       "51.586277755625183"
      ]
     },
     "execution_count": 309,
     "metadata": {},
     "output_type": "execute_result"
    }
   ],
   "source": [
    "lim"
   ]
  },
  {
   "cell_type": "code",
   "execution_count": 310,
   "metadata": {},
   "outputs": [
    {
     "data": {
      "image/png": "[encoded data removed]",
      "text/plain": [
       "<matplotlib.figure.Figure at 0x12ad71780>"
      ]
     },
     "metadata": {
      "image/png": {
       "height": 271,
       "width": 381
      },
      "needs_background": "light"
     },
     "output_type": "display_data"
    }
   ],
   "source": [
    "plt.plot(fshr.fshr_l[0][0])\n",
    "plt.xscale(\"log\")\n",
    "plt.yscale(\"log\")"
   ]
  },
  {
   "cell_type": "code",
   "execution_count": 183,
   "metadata": {},
   "outputs": [],
   "source": [
    "# l_ary = np.arange(1,len(fshr.fshr_l[0,0]) + 1)\n",
    "\n",
    "# f, (ax1, ax2) = plt.subplots(1, 2, figsize=(13/1.1,4/1.1))\n",
    "\n",
    "# ax1.plot(l_ary, fshr.fshr_l[0,0], color='forestgreen', label='PS')\n",
    "# ax1.plot(l_ary, fshr1.fshr_l[0,0], color='forestgreen',ls='--', label='$R_0=10$\\,pc')\n",
    "# ax1.axvline(1 * kpc / R0_DM, ls='--', color='grey', lw=1.5)\n",
    "# ax1.axvline(10 * kpc / R0_DM, ls='--', color='grey', lw=1.5)\n",
    "# # ax1.text(10** (np.log10(0.5 * kpc / R_0) + .05 ), 5e-3, '$0.5\\,\\mathrm{kpc}/R_0$',rotation=90, fontsize=14)\n",
    "# # ax1.text(10** (np.log10(10 * kpc / R_0) + .05 ), 1e-4, '$10\\,\\mathrm{kpc}/R_0$',rotation=90, fontsize=14)\n",
    "\n",
    "# ax1.set_xlabel('$\\ell$')\n",
    "# ax1.set_ylabel(r'$F_\\ell^{\\mu}$')\n",
    "# ax1.set_xscale(\"log\")\n",
    "# ax1.set_yscale(\"log\")\n",
    "# ax1.set_title(r\"\\textbf{Fisher information, MW compact objects}\")\n",
    "# ax1.legend(fontsize=16)\n",
    "\n",
    "# ax1.set_xlim(min(l_ary), max(l_ary))\n",
    "\n",
    "# ax2.plot(np.sqrt(np.cumsum(fshr.fshr_l[0,0])), color='firebrick', label='PS')\n",
    "# ax2.plot(np.sqrt(np.cumsum(fshr1.fshr_l[0,0])), color='firebrick', ls='--', label='$R_0=10$\\,pc')\n",
    "# ax2.axvline(1 * kpc / R0_DM, ls='--', color='grey', lw=1.5)\n",
    "# ax2.axvline(10 * kpc / R0_DM, ls='--', color='grey', lw=1.5)\n",
    "# # ax2.text(10** (np.log10(0.5 * kpc / R_0) + .05 ), 5e2, '$0.5\\,\\mathrm{kpc}/R_0$',rotation=90, fontsize=14)\n",
    "# # ax2.text(10** (np.log10(10 * kpc / R_0) + .05 ), 6, '$10\\,\\mathrm{kpc}/R_0$',rotation=90, fontsize=14)\n",
    "\n",
    "# ax2.set_xlabel('$\\ell_\\mathrm{max}$')\n",
    "# ax2.set_ylabel('Significance $\\sigma_\\mathrm{sig}$')\n",
    "# ax2.set_xscale(\"log\")\n",
    "# ax2.set_yscale(\"log\")\n",
    "# ax2.set_title(r\"\\textbf{Significance, MW compact objects}\")\n",
    "# ax2.set_xlim(min(l_ary), max(l_ary))\n",
    "# ax2.legend(fontsize=16)\n",
    "\n",
    "# plt.tight_layout()\n",
    "\n",
    "# plt.savefig(plots_dir + \"fisher_mu_mw.pdf\")"
   ]
  },
  {
   "cell_type": "code",
   "execution_count": 153,
   "metadata": {},
   "outputs": [],
   "source": [
    "M_ary = np.logspace(4,9,5) * M_s\n",
    "R_ary = np.logspace(-1,4.5,5) * pc"
   ]
  },
  {
   "cell_type": "code",
   "execution_count": 154,
   "metadata": {},
   "outputs": [
    {
     "data": {
      "application/vnd.jupyter.widget-view+json": {
       "model_id": "1f7d2fec9f4d494e954c7d4b4e270911",
       "version_major": 2,
       "version_minor": 0
      },
      "text/plain": [
       "HBox(children=(IntProgress(value=0, max=5), HTML(value='')))"
      ]
     },
     "metadata": {},
     "output_type": "display_data"
    },
    {
     "data": {
      "application/vnd.jupyter.widget-view+json": {
       "model_id": "abac7a06164849ca94a6c165b880d944",
       "version_major": 2,
       "version_minor": 0
      },
      "text/plain": [
       "HBox(children=(IntProgress(value=0, max=50), HTML(value='')))"
      ]
     },
     "metadata": {},
     "output_type": "display_data"
    },
    {
     "data": {
      "application/vnd.jupyter.widget-view+json": {
       "model_id": "6bc92f0928ba4447842c0de1b18cc91e",
       "version_major": 2,
       "version_minor": 0
      },
      "text/plain": [
       "HBox(children=(IntProgress(value=0, max=50), HTML(value='')))"
      ]
     },
     "metadata": {},
     "output_type": "display_data"
    },
    {
     "data": {
      "application/vnd.jupyter.widget-view+json": {
       "model_id": "fc07e5c9517d4735a869b1e4d92b5576",
       "version_major": 2,
       "version_minor": 0
      },
      "text/plain": [
       "HBox(children=(IntProgress(value=0, max=50), HTML(value='')))"
      ]
     },
     "metadata": {},
     "output_type": "display_data"
    },
    {
     "data": {
      "application/vnd.jupyter.widget-view+json": {
       "model_id": "9942ca0db5644272adc40eec7bd57714",
       "version_major": 2,
       "version_minor": 0
      },
      "text/plain": [
       "HBox(children=(IntProgress(value=0, max=50), HTML(value='')))"
      ]
     },
     "metadata": {},
     "output_type": "display_data"
    },
    {
     "data": {
      "application/vnd.jupyter.widget-view+json": {
       "model_id": "ab62aff20e35415dbe330c0119fb6ee6",
       "version_major": 2,
       "version_minor": 0
      },
      "text/plain": [
       "HBox(children=(IntProgress(value=0, max=50), HTML(value='')))"
      ]
     },
     "metadata": {},
     "output_type": "display_data"
    },
    {
     "data": {
      "application/vnd.jupyter.widget-view+json": {
       "model_id": "622a45bad342412c9cd7555bcd1ec674",
       "version_major": 2,
       "version_minor": 0
      },
      "text/plain": [
       "HBox(children=(IntProgress(value=0, max=50), HTML(value='')))"
      ]
     },
     "metadata": {},
     "output_type": "display_data"
    },
    {
     "data": {
      "application/vnd.jupyter.widget-view+json": {
       "model_id": "ad9810d95ca4498a9adb2a684cfd3c6b",
       "version_major": 2,
       "version_minor": 0
      },
      "text/plain": [
       "HBox(children=(IntProgress(value=0, max=50), HTML(value='')))"
      ]
     },
     "metadata": {},
     "output_type": "display_data"
    },
    {
     "data": {
      "application/vnd.jupyter.widget-view+json": {
       "model_id": "a937268cb37b450bb9fe2301b2ca3ccc",
       "version_major": 2,
       "version_minor": 0
      },
      "text/plain": [
       "HBox(children=(IntProgress(value=0, max=50), HTML(value='')))"
      ]
     },
     "metadata": {},
     "output_type": "display_data"
    },
    {
     "data": {
      "application/vnd.jupyter.widget-view+json": {
       "model_id": "14fc4fa098d04b67a324f5b1285f92b4",
       "version_major": 2,
       "version_minor": 0
      },
      "text/plain": [
       "HBox(children=(IntProgress(value=0, max=50), HTML(value='')))"
      ]
     },
     "metadata": {},
     "output_type": "display_data"
    },
    {
     "data": {
      "application/vnd.jupyter.widget-view+json": {
       "model_id": "6131ecee533e488ca56994fb7cd622a8",
       "version_major": 2,
       "version_minor": 0
      },
      "text/plain": [
       "HBox(children=(IntProgress(value=0, max=50), HTML(value='')))"
      ]
     },
     "metadata": {},
     "output_type": "display_data"
    },
    {
     "data": {
      "application/vnd.jupyter.widget-view+json": {
       "model_id": "dd70bafa369847c992e9fb3d75153f36",
       "version_major": 2,
       "version_minor": 0
      },
      "text/plain": [
       "HBox(children=(IntProgress(value=0, max=50), HTML(value='')))"
      ]
     },
     "metadata": {},
     "output_type": "display_data"
    },
    {
     "data": {
      "application/vnd.jupyter.widget-view+json": {
       "model_id": "24ca6aa98b2a443faf6d31da77e597ca",
       "version_major": 2,
       "version_minor": 0
      },
      "text/plain": [
       "HBox(children=(IntProgress(value=0, max=50), HTML(value='')))"
      ]
     },
     "metadata": {},
     "output_type": "display_data"
    },
    {
     "data": {
      "application/vnd.jupyter.widget-view+json": {
       "model_id": "ed299e86bd454e2491bca89c823aea80",
       "version_major": 2,
       "version_minor": 0
      },
      "text/plain": [
       "HBox(children=(IntProgress(value=0, max=50), HTML(value='')))"
      ]
     },
     "metadata": {},
     "output_type": "display_data"
    },
    {
     "data": {
      "application/vnd.jupyter.widget-view+json": {
       "model_id": "a614eecbcd8e483e874247b0a96a8288",
       "version_major": 2,
       "version_minor": 0
      },
      "text/plain": [
       "HBox(children=(IntProgress(value=0, max=50), HTML(value='')))"
      ]
     },
     "metadata": {},
     "output_type": "display_data"
    },
    {
     "data": {
      "application/vnd.jupyter.widget-view+json": {
       "model_id": "f2a701ea632d492fa966e72e6488c15b",
       "version_major": 2,
       "version_minor": 0
      },
      "text/plain": [
       "HBox(children=(IntProgress(value=0, max=50), HTML(value='')))"
      ]
     },
     "metadata": {},
     "output_type": "display_data"
    },
    {
     "data": {
      "application/vnd.jupyter.widget-view+json": {
       "model_id": "a02945be319b42348bb4eddf8849045a",
       "version_major": 2,
       "version_minor": 0
      },
      "text/plain": [
       "HBox(children=(IntProgress(value=0, max=50), HTML(value='')))"
      ]
     },
     "metadata": {},
     "output_type": "display_data"
    },
    {
     "data": {
      "application/vnd.jupyter.widget-view+json": {
       "model_id": "3ba4f7110d4b4a8f8af8c06fda7ef6b1",
       "version_major": 2,
       "version_minor": 0
      },
      "text/plain": [
       "HBox(children=(IntProgress(value=0, max=50), HTML(value='')))"
      ]
     },
     "metadata": {},
     "output_type": "display_data"
    },
    {
     "data": {
      "application/vnd.jupyter.widget-view+json": {
       "model_id": "0c39dc12ea3b4dc1a1ac2212d2ffdd25",
       "version_major": 2,
       "version_minor": 0
      },
      "text/plain": [
       "HBox(children=(IntProgress(value=0, max=50), HTML(value='')))"
      ]
     },
     "metadata": {},
     "output_type": "display_data"
    },
    {
     "data": {
      "application/vnd.jupyter.widget-view+json": {
       "model_id": "85b6a10cb3a842d790bf4157a03cde26",
       "version_major": 2,
       "version_minor": 0
      },
      "text/plain": [
       "HBox(children=(IntProgress(value=0, max=50), HTML(value='')))"
      ]
     },
     "metadata": {},
     "output_type": "display_data"
    },
    {
     "data": {
      "application/vnd.jupyter.widget-view+json": {
       "model_id": "453ea04fece44b77a1fe0cbc85614928",
       "version_major": 2,
       "version_minor": 0
      },
      "text/plain": [
       "HBox(children=(IntProgress(value=0, max=50), HTML(value='')))"
      ]
     },
     "metadata": {},
     "output_type": "display_data"
    },
    {
     "data": {
      "application/vnd.jupyter.widget-view+json": {
       "model_id": "ff840a4a23ce4265bdff47d5f683f53e",
       "version_major": 2,
       "version_minor": 0
      },
      "text/plain": [
       "HBox(children=(IntProgress(value=0, max=50), HTML(value='')))"
      ]
     },
     "metadata": {},
     "output_type": "display_data"
    },
    {
     "data": {
      "application/vnd.jupyter.widget-view+json": {
       "model_id": "0dc31c2be3c84c4895d4f86b1de4d7d7",
       "version_major": 2,
       "version_minor": 0
      },
      "text/plain": [
       "HBox(children=(IntProgress(value=0, max=50), HTML(value='')))"
      ]
     },
     "metadata": {},
     "output_type": "display_data"
    },
    {
     "data": {
      "application/vnd.jupyter.widget-view+json": {
       "model_id": "00390c831ca840a989d185170aa43b01",
       "version_major": 2,
       "version_minor": 0
      },
      "text/plain": [
       "HBox(children=(IntProgress(value=0, max=50), HTML(value='')))"
      ]
     },
     "metadata": {},
     "output_type": "display_data"
    },
    {
     "data": {
      "application/vnd.jupyter.widget-view+json": {
       "model_id": "6970aeca568a42fbaebc3b9d1fd89b21",
       "version_major": 2,
       "version_minor": 0
      },
      "text/plain": [
       "HBox(children=(IntProgress(value=0, max=50), HTML(value='')))"
      ]
     },
     "metadata": {},
     "output_type": "display_data"
    },
    {
     "data": {
      "application/vnd.jupyter.widget-view+json": {
       "model_id": "ce0d3b6ae46f4439975aa3a7fbed5006",
       "version_major": 2,
       "version_minor": 0
      },
      "text/plain": [
       "HBox(children=(IntProgress(value=0, max=50), HTML(value='')))"
      ]
     },
     "metadata": {},
     "output_type": "display_data"
    },
    {
     "name": "stdout",
     "output_type": "stream",
     "text": [
      "\n"
     ]
    }
   ],
   "source": [
    "sig_ary = np.zeros((len(M_ary), len(R_ary)))\n",
    "lim_ary = np.zeros((len(M_ary), len(R_ary)))\n",
    "\n",
    "for iM, M in enumerate(tqdm_notebook(M_ary)):\n",
    "    for iR, R in enumerate(R_ary):\n",
    "        lim_ary[iM, iR] = get_f_DM_lim(M, R0_DM=R, sigma_mu=1, sigma_alpha=None, N_q=1e8, l_max_mu=2000, l_max_alpha=2000)[0]"
   ]
  },
  {
   "cell_type": "code",
   "execution_count": 126,
   "metadata": {},
   "outputs": [],
   "source": [
    "lim_R = []\n",
    "for iM, M in enumerate((M_ary)):\n",
    "    lim_R.append(interp1d(lim_ary[iM], R_ary, bounds_error=False, kind='linear', fill_value='extrapolate')(1.) / pc)"
   ]
  },
  {
   "cell_type": "code",
   "execution_count": 155,
   "metadata": {},
   "outputs": [],
   "source": [
    "lim_R = []\n",
    "for iM, M in enumerate((M_ary)):\n",
    "    lim_R.append(np.interp(1, lim_ary[iM], R_ary) / pc)"
   ]
  },
  {
   "cell_type": "code",
   "execution_count": 156,
   "metadata": {},
   "outputs": [
    {
     "data": {
      "image/png": "[encoded data removed]",
      "text/plain": [
       "<matplotlib.figure.Figure at 0x12a638f98>"
      ]
     },
     "metadata": {
      "image/png": {
       "height": 306,
       "width": 411
      },
      "needs_background": "light"
     },
     "output_type": "display_data"
    }
   ],
   "source": [
    "plt.plot(M_ary / M_s, np.array(lim_R))\n",
    "plt.xscale(\"log\")\n",
    "plt.yscale(\"log\")\n",
    "\n",
    "plt.xlim(1e4,1e9)\n",
    "plt.ylim(1e-2,1e4)\n",
    "\n",
    "plt.xlabel(\"$M$\\,[M$_\\odot$]\")\n",
    "plt.ylabel(\"$R$\\,[pc]\")\n",
    "\n",
    "plt.title('\\\\textbf{Sensitivity to compact objects}', y = 1.02, fontsize=18)\n",
    "\n",
    "plt.tight_layout()\n",
    "\n",
    "# plt.savefig(plots_dir + \"compact_M_vs_R.pdf\")"
   ]
  },
  {
   "cell_type": "code",
   "execution_count": null,
   "metadata": {},
   "outputs": [],
   "source": []
  }
 ],
 "metadata": {
  "kernelspec": {
   "display_name": "Python 3",
   "language": "python",
   "name": "python3"
  },
  "language_info": {
   "codemirror_mode": {
    "name": "ipython",
    "version": 3
   },
   "file_extension": ".py",
   "mimetype": "text/x-python",
   "name": "python",
   "nbconvert_exporter": "python",
   "pygments_lexer": "ipython3",
   "version": "3.5.5"
  }
 },
 "nbformat": 4,
 "nbformat_minor": 2
}
