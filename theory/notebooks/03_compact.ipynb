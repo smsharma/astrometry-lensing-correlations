{
 "cells": [
  {
   "cell_type": "code",
   "execution_count": 3,
   "metadata": {},
   "outputs": [],
   "source": [
    "import sys\n",
    "sys.path.append(\"../..\")\n",
    "\n",
    "import numpy as np\n",
    "import matplotlib.pyplot as plt\n",
    "from tqdm import *\n",
    "from scipy.integrate import nquad, quad\n",
    "from scipy.interpolate import interp1d\n",
    "from scipy.special import erf, jn, jv, kn\n",
    "import mpmath as mp\n",
    "# from skmonaco import mcimport, mcquad, mcmiser\n",
    "import matplotlib.pylab as pylab\n",
    "from cycler import cycler\n",
    "import palettable\n",
    "\n",
    "from IPython.display import set_matplotlib_formats\n",
    "set_matplotlib_formats('retina')\n",
    "\n",
    "from theory.units import *\n",
    "from theory.spec_calc import PowerSpectra, PowerSpectraPopulations\n",
    "from theory.astrometry_forecast import Parameter, AstrometryObservation, FisherForecast\n",
    "\n",
    "%matplotlib inline\n",
    "%load_ext autoreload\n",
    "%autoreload 2"
   ]
  },
  {
   "cell_type": "code",
   "execution_count": 4,
   "metadata": {},
   "outputs": [],
   "source": [
    "params = {'text.usetex': True,\n",
    "          'font.family': 'serif',\n",
    "          'font.serif': ['CMU Serif'],\n",
    "          'font.sans-serif': ['CMU Sans Serif'],\n",
    "          'legend.fontsize': 17,\n",
    "          'legend.fancybox': True,\n",
    "          'legend.frameon': False,\n",
    "          'legend.framealpha': 0.4,\n",
    "          'legend.labelspacing': 0.5,\n",
    "          'figure.figsize': (6.4/1.1, 4.8/1.1),\n",
    "          'axes.labelsize': 19,\n",
    "          'axes.titlesize':18,\n",
    "          'axes.titlepad':10,\n",
    "          'axes.linewidth':1.1,\n",
    "          'axes.labelpad':10,\n",
    "          'axes.prop_cycle': cycler('color', palettable.cartocolors.qualitative.Bold_10.hex_colors) + \n",
    "                            cycler(alpha=10*[.7]), \n",
    "          'lines.linewidth':2.5,\n",
    "          'xtick.labelsize':18,\n",
    "          'ytick.labelsize':18,\n",
    "          'xtick.top':True,\n",
    "          'ytick.right':True,\n",
    "          'xtick.direction': 'in',\n",
    "          'ytick.direction': 'in',\n",
    "          'xtick.major.size': 5,\n",
    "          'xtick.minor.size': 2,\n",
    "          'ytick.major.size': 5,\n",
    "          'ytick.minor.size': 2,\n",
    "          'xtick.major.width': 1,\n",
    "          'ytick.major.width': 1,\n",
    "          'xtick.minor.width': 0.8,\n",
    "          'ytick.minor.width': 0.8,\n",
    "         }\n",
    "pylab.rcParams.update(params)"
   ]
  },
  {
   "cell_type": "code",
   "execution_count": 5,
   "metadata": {},
   "outputs": [],
   "source": [
    "plots_dir = \"/Users/smsharma/Dropbox/Projects/LensPowerSpectra/LensPower/draft/plots/\""
   ]
  },
  {
   "cell_type": "code",
   "execution_count": 6,
   "metadata": {},
   "outputs": [],
   "source": [
    "alpha_plot = 0.8\n",
    "lw_plot = 2.5\n",
    "colors_plot = ['dodgerblue', 'orange', 'mediumorchid']"
   ]
  },
  {
   "cell_type": "code",
   "execution_count": 7,
   "metadata": {},
   "outputs": [],
   "source": [
    "pspec = PowerSpectra(precompute=['NFW', 'Burk'])"
   ]
  },
  {
   "cell_type": "markdown",
   "metadata": {},
   "source": [
    "# Sensitivity to compact objects"
   ]
  },
  {
   "cell_type": "code",
   "execution_count": 8,
   "metadata": {},
   "outputs": [],
   "source": [
    "def get_f_DM_lim(M_DM=1e8*M_s, R0_DM=0, sigma_mu = 1, sigma_alpha = None,\n",
    "                 N_q_mu = 1e9, N_q_alpha = 1e9, \n",
    "                 l_min_mu=2, l_max_mu=2000, l_min_alpha=2, l_max_alpha=2, f_sky=1):\n",
    "    \n",
    "    l_max = max(l_max_mu, l_max_alpha)\n",
    "    \n",
    "    pspecpop = PowerSpectraPopulations(l_max=l_max)\n",
    "    pspecpop.set_radial_distribution(pspecpop.r2rho_V_NFW, R_min=1e-3*kpc, R_max=260*kpc)\n",
    "    pspecpop.set_mass_distribution_compact(M_DM=M_DM, f_DM=1,R0_DM=R0_DM)\n",
    "        \n",
    "    if sigma_mu is not None:\n",
    "        Cl_ary = pspecpop.get_C_l_compact_total_ary()\n",
    "    else:\n",
    "        Cl_ary = np.zeros(len(Cl_ary)) \n",
    "    if sigma_alpha is not None:\n",
    "        Cl_ary_accel = pspecpop.get_C_l_compact_total_ary(accel=True)\n",
    "    else:\n",
    "        Cl_ary_accel = np.zeros(len(Cl_ary)) \n",
    "            \n",
    "    fDM_base = 0\n",
    "    dfDM_base = 0.1\n",
    "    \n",
    "\n",
    "    Cl_ary_fid = np.array(Cl_ary)*fDM_base\n",
    "    Cl_ary_accel_fid = np.array(Cl_ary_accel)*fDM_base\n",
    "\n",
    "    p = np.array(Cl_ary)*(fDM_base + dfDM_base)\n",
    "    m = np.array(Cl_ary)*(fDM_base - dfDM_base)\n",
    "\n",
    "    p_a = np.array(Cl_ary_accel)*(fDM_base + dfDM_base)\n",
    "    m_a = np.array(Cl_ary_accel)*(fDM_base - dfDM_base)\n",
    "\n",
    "    fDM = Parameter('fDM', fDM_base ,dfDM_base ,None, True, p, m, \n",
    "                    p_a, m_a, l_min=1, l_max=l_max)\n",
    "\n",
    "    parameters = [Cl_ary_fid, Cl_ary_accel_fid, 1, l_max, fDM]\n",
    "    \n",
    "    observation = AstrometryObservation(fsky=f_sky, sigma_mu=sigma_mu, sigma_alpha=sigma_alpha, \n",
    "                                        N_q_mu=N_q_mu, N_q_alpha=N_q_alpha, \n",
    "                                        l_min_mu=l_min_mu, l_max_mu=l_max_mu, l_min_alpha=l_min_alpha, l_max_alpha=l_max_alpha)\n",
    "    \n",
    "    \n",
    "    \n",
    "    fshr = FisherForecast(parameters, observation)\n",
    "    lim = 1.64*np.sqrt(np.linalg.inv(fshr.fshr_cls + fshr.fshr_prior)[0,0])\n",
    "    return lim, fshr.fshr_l"
   ]
  },
  {
   "cell_type": "code",
   "execution_count": 9,
   "metadata": {},
   "outputs": [],
   "source": [
    "def get_f_DM_lim_simple(M_DM=1e8*M_s, R0_DM=0, sigma=1,\n",
    "                 N_q = 1e8,\n",
    "                 l_min=2, l_max=2000, f_sky=1,\n",
    "                 accel=False,\n",
    "                 l_los_min=1e-3 * pc, l_los_max=10 * kpc):\n",
    "        \n",
    "    pspecpop = PowerSpectraPopulations(l_min=l_min, l_max=l_max)\n",
    "    pspecpop.set_radial_distribution(pspecpop.r2rho_V_NFW, R_min=1e-3*kpc, R_max=260*kpc)\n",
    "    pspecpop.set_mass_distribution_compact(M_DM=M_DM, f_DM=1,R0_DM=R0_DM)\n",
    "        \n",
    "    Cl_ary = np.nan_to_num(pspecpop.get_C_l_compact_total_ary(accel=accel, l_los_min=l_los_min, l_los_max=l_los_max))\n",
    "    \n",
    "    Nl_ary = np.array(len(pspecpop.l_ary) * [4 * np.pi * sigma ** 2 / N_q])\n",
    "        \n",
    "    F = f_sky * (pspecpop.l_ary + 0.5) * (Cl_ary / (Nl_ary)) ** 2\n",
    "    \n",
    "    lim = 1.64 * np.sqrt(1/np.sum(F))\n",
    "        \n",
    "    return lim, F"
   ]
  },
  {
   "cell_type": "code",
   "execution_count": 10,
   "metadata": {},
   "outputs": [
    {
     "name": "stdout",
     "output_type": "stream",
     "text": [
      "8862.26925452758\n",
      "886226.925452758\n",
      "1253314.1373155003\n",
      "396332.7297606011\n"
     ]
    }
   ],
   "source": [
    "print(np.pi / np.sqrt(4 * np.pi / 1e8))\n",
    "print(np.pi / np.sqrt(4 * np.pi / 1e12))\n",
    "print(np.pi / np.sqrt(0.05 * 4 * np.pi / 1e11))\n",
    "print(np.pi / np.sqrt(0.05 * 4 * np.pi / 1e10))"
   ]
  },
  {
   "cell_type": "code",
   "execution_count": 11,
   "metadata": {},
   "outputs": [],
   "source": [
    "M_ary = np.logspace(-4.,9,100) * M_s\n",
    "R_ary = np.logspace(-5,4.5,30) * pc"
   ]
  },
  {
   "cell_type": "code",
   "execution_count": 12,
   "metadata": {},
   "outputs": [],
   "source": [
    "lim_ary = np.zeros((len(M_ary), len(R_ary)))\n",
    "lim_ary_accel = np.zeros((len(M_ary), len(R_ary)))"
   ]
  },
  {
   "cell_type": "code",
   "execution_count": 13,
   "metadata": {},
   "outputs": [],
   "source": [
    "M_baseline = 1e2 * M_s"
   ]
  },
  {
   "cell_type": "code",
   "execution_count": 14,
   "metadata": {},
   "outputs": [
    {
     "data": {
      "application/vnd.jupyter.widget-view+json": {
       "model_id": "3a42e1e276474958bf440ae7a3cf42f8",
       "version_major": 2,
       "version_minor": 0
      },
      "text/plain": [
       "HBox(children=(IntProgress(value=0, max=30), HTML(value='')))"
      ]
     },
     "metadata": {},
     "output_type": "display_data"
    },
    {
     "name": "stderr",
     "output_type": "stream",
     "text": [
      "../../theory/spec_calc.py:531: RuntimeWarning: divide by zero encountered in log10\n",
      "  self.C_l_ary = 10 ** np.interp(np.log10(self.l_ary), np.log10(self.l_ary_calc), np.log10(self.C_l_calc_ary))\n",
      "/Users/smsharma/anaconda3/lib/python3.7/site-packages/ipykernel_launcher.py:17: RuntimeWarning: divide by zero encountered in double_scalars\n"
     ]
    },
    {
     "name": "stdout",
     "output_type": "stream",
     "text": [
      "\n"
     ]
    }
   ],
   "source": [
    "for iR, R in enumerate(tqdm_notebook(R_ary)):\n",
    "    lim_temp = get_f_DM_lim_simple(M_baseline, R0_DM=R, sigma=0.1, N_q=1e12, l_min=50, l_max=500000, accel=True,f_sky = 0.05,\n",
    "                                  l_los_min=1e-3 * pc, l_los_max=1 * kpc)[0]\n",
    "    for iM, M in enumerate(M_ary):\n",
    "        lim_ary_accel[iM, iR] = M_baseline / M * lim_temp"
   ]
  },
  {
   "cell_type": "code",
   "execution_count": 15,
   "metadata": {},
   "outputs": [
    {
     "data": {
      "application/vnd.jupyter.widget-view+json": {
       "model_id": "900dd8f8d19c43199f465cfc200fd142",
       "version_major": 2,
       "version_minor": 0
      },
      "text/plain": [
       "HBox(children=(IntProgress(value=0, max=30), HTML(value='')))"
      ]
     },
     "metadata": {},
     "output_type": "display_data"
    },
    {
     "name": "stdout",
     "output_type": "stream",
     "text": [
      "\n"
     ]
    }
   ],
   "source": [
    "for iR, R in enumerate(tqdm_notebook(R_ary)):\n",
    "    lim_temp = get_f_DM_lim_simple(M_baseline, R0_DM=R, sigma=1, N_q=1e8, l_min=10, l_max=5000, accel=False,\n",
    "                                  l_los_min=1e-3 * pc, l_los_max=100 * kpc)[0]\n",
    "    for iM, M in enumerate(M_ary):\n",
    "        lim_ary[iM, iR] = M_baseline / M * lim_temp"
   ]
  },
  {
   "cell_type": "code",
   "execution_count": 16,
   "metadata": {},
   "outputs": [],
   "source": [
    "lim_R = []\n",
    "for iM, M in enumerate((M_ary)):\n",
    "    lim_R.append(10 ** np.interp(0, np.log10(lim_ary[iM]), np.log10(R_ary)) / pc)"
   ]
  },
  {
   "cell_type": "code",
   "execution_count": 17,
   "metadata": {},
   "outputs": [],
   "source": [
    "lim_R_accel = []\n",
    "for iM, M in enumerate((M_ary)):\n",
    "    lim_R_accel.append(10 ** np.interp(0, np.log10(lim_ary_accel[iM]), np.log10(R_ary)) / pc)"
   ]
  },
  {
   "cell_type": "code",
   "execution_count": 164,
   "metadata": {},
   "outputs": [
    {
     "data": {
      "image/png": "[encoded data removed]",
      "text/plain": [
       "<Figure size 418.909x314.182 with 1 Axes>"
      ]
     },
     "metadata": {
      "needs_background": "light"
     },
     "output_type": "display_data"
    }
   ],
   "source": [
    "fig, ax = plt.subplots()\n",
    "\n",
    "plt.plot(M_ary / M_s, np.array(lim_R), label=\"Extragalactic velocities\")\n",
    "plt.plot(M_ary / M_s, np.array(lim_R_accel), label=\"Galactic accelerations\")\n",
    "\n",
    "plt.xscale(\"log\")\n",
    "plt.yscale(\"log\")\n",
    "\n",
    "plt.xlim(np.min(M_ary / M_s),np.max(M_ary / M_s))\n",
    "plt.ylim(2e-5,1e4)\n",
    "\n",
    "plt.xlabel(\"$M$\\,[M$_\\odot$]\")\n",
    "plt.ylabel(\"$R$\\,[pc]\")\n",
    "\n",
    "plt.title('\\\\textbf{Sensitivity to compact objects}', y = 1.02, fontsize=18)\n",
    "\n",
    "plt.tight_layout()\n",
    "plt.text(2e6, 1e-4, \"$f_\\mathrm{DM} = 1$\", fontsize=16)\n",
    "\n",
    "every_nth = 2\n",
    "for n, label in enumerate(ax.xaxis.get_ticklabels()):\n",
    "    if n % every_nth != 1:\n",
    "        label.set_visible(False)\n",
    "        \n",
    "plt.legend()\n",
    "\n",
    "plt.tight_layout()\n",
    "plt.savefig(plots_dir + \"compact_M_vs_R.pdf\")"
   ]
  },
  {
   "cell_type": "code",
   "execution_count": 165,
   "metadata": {},
   "outputs": [],
   "source": [
    "C = (4 / 3 * np.pi ** (3 / 2.))\n",
    "\n",
    "M0 = lambda m22: 5e5 * M_s * C * m22 ** -3\n",
    "R0 = lambda m22: 58 * pc * m22 ** -1\n",
    "\n",
    "rho0 = M0(1) / (4 / 3 * np.pi * R0(1) ** 3)  / (M_s / pc ** 3)\n",
    "m22_ary = np.logspace(-1,1,3)"
   ]
  },
  {
   "cell_type": "code",
   "execution_count": 167,
   "metadata": {},
   "outputs": [
    {
     "data": {
      "image/png": "[encoded data removed]",
      "text/plain": [
       "<Figure size 418.909x314.182 with 2 Axes>"
      ]
     },
     "metadata": {
      "needs_background": "light"
     },
     "output_type": "display_data"
    }
   ],
   "source": [
    "fig = plt.figure()\n",
    "ax1 = fig.add_subplot(111)\n",
    "\n",
    "\n",
    "ax1.plot(M_ary/M_s, M_ary / (4 / 3. * np.pi * (np.array(lim_R) * pc) ** 3) / (M_s / pc ** 3), label=\"Extragalactic velocities\")\n",
    "ax1.plot(M_ary/M_s, M_ary / (4 / 3. * np.pi * (np.array(lim_R_accel) * pc) ** 3) / (M_s / pc ** 3), label=\"Galactic accelerations\")\n",
    "\n",
    "ax1.set_xscale(\"log\")\n",
    "ax1.set_yscale(\"log\")\n",
    "\n",
    "ax1.set_xlim(np.min(M_ary / M_s),np.max(M_ary / M_s))\n",
    "ax1.set_ylim(1e-3, 1e10)\n",
    "\n",
    "every_nth = 2\n",
    "for n, label in enumerate(ax.xaxis.get_ticklabels()):\n",
    "    if n % every_nth != 1:\n",
    "        label.set_visible(False)\n",
    "\n",
    "for n, label in enumerate(ax.yaxis.get_ticklabels()):\n",
    "    if n % every_nth != 1:\n",
    "        label.set_visible(False)\n",
    "\n",
    "ax1.set_title('\\\\textbf{Sensitivity to compact objects}', y = 1.1, fontsize=18)\n",
    "ax1.set_xlabel(\"$M$\\,[M$_\\odot$]\")\n",
    "ax1.set_ylabel(\"$\\\\rho$\\,[M$_\\odot$\\,pc$^{-3}$]\")\n",
    "\n",
    "ax1.axhline(rho0, ls='--', lw=0.5)\n",
    "for m22 in m22_ary:\n",
    "    ax1.axvline(M0(m22) / M_s, ls='--', lw=0.5)\n",
    "    \n",
    "def latex_float(f):\n",
    "    float_str = \"{0:.2g}\".format(f)\n",
    "    if \"e\" in float_str:\n",
    "        base, exponent = float_str.split(\"e\")\n",
    "        if base is \"1\":\n",
    "            return r\"$10^{{{1}}}$\".format(base, int(exponent))\n",
    "        else:\n",
    "            return r\"${0} \\times 10^{{{1}}}$\".format(base, int(exponent))\n",
    "    else:\n",
    "        return float_str\n",
    "\n",
    "ax2 = ax1.twiny()\n",
    "\n",
    "ax2.set_xscale(\"log\")\n",
    "ax2.set_yscale(\"log\")\n",
    "\n",
    "ax2.set_xticks(list(M0(m22_ary) / M_s))\n",
    "ax2.set_xticklabels([latex_float(m22  * 1e-22) for m22 in m22_ary])\n",
    "ax2.set_xlim(ax1.get_xbound())\n",
    "ax2.text(0.7, 10 ** 10.35, \"$m_\\phi\\,[\\mathrm{eV}]$\", fontsize=16)\n",
    "ax2.text(0.7, rho0 + 5, r\"$\\rho_\\phi$\", fontsize=16)\n",
    "# ax2.set_xlabel(\"$m_\\phi\\,[\\mathrm{eV}]$\")\n",
    "ax1.legend()\n",
    "plt.tight_layout()\n",
    "plt.savefig(plots_dir + \"compact_M_vs_rho.pdf\")"
   ]
  },
  {
   "cell_type": "code",
   "execution_count": 109,
   "metadata": {},
   "outputs": [
    {
     "data": {
      "text/plain": [
       "array([ 0.1,  1. , 10. ])"
      ]
     },
     "execution_count": 109,
     "metadata": {},
     "output_type": "execute_result"
    }
   ],
   "source": [
    "m22_ary"
   ]
  },
  {
   "cell_type": "code",
   "execution_count": 108,
   "metadata": {},
   "outputs": [
    {
     "data": {
      "text/plain": [
       "array([3.71221866e+09, 3.71221866e+06, 3.71221866e+03])"
      ]
     },
     "execution_count": 108,
     "metadata": {},
     "output_type": "execute_result"
    }
   ],
   "source": [
    "M0(m22_ary) / M_s"
   ]
  },
  {
   "cell_type": "code",
   "execution_count": null,
   "metadata": {},
   "outputs": [],
   "source": []
  }
 ],
 "metadata": {
  "kernelspec": {
   "display_name": "Python 3",
   "language": "python",
   "name": "python3"
  },
  "language_info": {
   "codemirror_mode": {
    "name": "ipython",
    "version": 3
   },
   "file_extension": ".py",
   "mimetype": "text/x-python",
   "name": "python",
   "nbconvert_exporter": "python",
   "pygments_lexer": "ipython3",
   "version": "3.7.3"
  }
 },
 "nbformat": 4,
 "nbformat_minor": 4
}
