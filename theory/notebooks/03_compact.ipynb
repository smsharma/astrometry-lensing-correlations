{
 "cells": [
  {
   "cell_type": "code",
   "execution_count": 157,
   "metadata": {},
   "outputs": [
    {
     "name": "stdout",
     "output_type": "stream",
     "text": [
      "The autoreload extension is already loaded. To reload it, use:\n",
      "  %reload_ext autoreload\n"
     ]
    }
   ],
   "source": [
    "import sys\n",
    "sys.path.append(\"../..\")\n",
    "\n",
    "import numpy as np\n",
    "import matplotlib.pyplot as plt\n",
    "from tqdm import *\n",
    "from scipy.integrate import nquad, quad\n",
    "from scipy.interpolate import interp1d\n",
    "from scipy.special import erf, jn, jv, kn\n",
    "import mpmath as mp\n",
    "from skmonaco import mcimport, mcquad, mcmiser\n",
    "import matplotlib.pylab as pylab\n",
    "from cycler import cycler\n",
    "import palettable\n",
    "\n",
    "from IPython.display import set_matplotlib_formats\n",
    "set_matplotlib_formats('retina')\n",
    "\n",
    "from theory.units import *\n",
    "from theory.spec_calc import PowerSpectra, PowerSpectraPopulations\n",
    "from theory.astrometry_forecast import Parameter, AstrometryObservation, FisherForecast\n",
    "\n",
    "%matplotlib inline\n",
    "%load_ext autoreload\n",
    "%autoreload 2"
   ]
  },
  {
   "cell_type": "code",
   "execution_count": 158,
   "metadata": {},
   "outputs": [],
   "source": [
    "params = {'text.usetex': True,\n",
    "          'font.family': 'serif',\n",
    "          'font.serif': ['CMU Serif'],\n",
    "          'font.sans-serif': ['CMU Sans Serif'],\n",
    "          'legend.fontsize': 17,\n",
    "          'legend.fancybox': True,\n",
    "          'legend.frameon': False,\n",
    "          'legend.framealpha': 0.4,\n",
    "          'legend.labelspacing': 0.5,\n",
    "          'figure.figsize': (6.4/1.1, 4.8/1.1),\n",
    "          'axes.labelsize': 19,\n",
    "          'axes.titlesize':18,\n",
    "          'axes.titlepad':10,\n",
    "          'axes.linewidth':1.1,\n",
    "          'axes.labelpad':10,\n",
    "          'axes.prop_cycle': cycler('color', palettable.cartocolors.qualitative.Bold_10.hex_colors) + \n",
    "                            cycler(alpha=10*[.7]), \n",
    "          'lines.linewidth':2.5,\n",
    "          'xtick.labelsize':18,\n",
    "          'ytick.labelsize':18,\n",
    "          'xtick.top':True,\n",
    "          'ytick.right':True,\n",
    "          'xtick.direction': 'in',\n",
    "          'ytick.direction': 'in',\n",
    "          'xtick.major.size': 5,\n",
    "          'xtick.minor.size': 2,\n",
    "          'ytick.major.size': 5,\n",
    "          'ytick.minor.size': 2,\n",
    "          'xtick.major.width': 1,\n",
    "          'ytick.major.width': 1,\n",
    "          'xtick.minor.width': 0.8,\n",
    "          'ytick.minor.width': 0.8,\n",
    "         }\n",
    "pylab.rcParams.update(params)"
   ]
  },
  {
   "cell_type": "code",
   "execution_count": 350,
   "metadata": {},
   "outputs": [],
   "source": [
    "plots_dir = \"/Users/smsharma/Dropbox/Projects/LensPowerSpectra/LensPower/draft/plots/\""
   ]
  },
  {
   "cell_type": "code",
   "execution_count": 160,
   "metadata": {},
   "outputs": [],
   "source": [
    "alpha_plot = 0.8\n",
    "lw_plot = 2.5\n",
    "colors_plot = ['dodgerblue', 'orange', 'mediumorchid']"
   ]
  },
  {
   "cell_type": "code",
   "execution_count": 161,
   "metadata": {},
   "outputs": [],
   "source": [
    "pspec = PowerSpectra(precompute=['NFW', 'Burk'])"
   ]
  },
  {
   "cell_type": "markdown",
   "metadata": {},
   "source": [
    "# Sensitivity to compact objects"
   ]
  },
  {
   "cell_type": "code",
   "execution_count": 419,
   "metadata": {},
   "outputs": [],
   "source": [
    "def get_f_DM_lim(M_DM=1e8*M_s, R0_DM=0, sigma_mu = 1, sigma_alpha = None,\n",
    "                 N_q_mu = 1e9, N_q_alpha = 1e9, \n",
    "                 l_min_mu=10, l_max_mu=2000, l_min_alpha=10, l_max_alpha=2000):\n",
    "    \n",
    "    l_max = max(l_max_mu, l_max_alpha)\n",
    "    \n",
    "    pspecpop = PowerSpectraPopulations(l_max=l_max)\n",
    "    pspecpop.set_radial_distribution(pspecpop.r2rho_V_NFW, R_min=1e-3*kpc, R_max=10*kpc)\n",
    "    pspecpop.set_mass_distribution_compact(M_DM=M_DM, f_DM=1,R0_DM=R0_DM)\n",
    "    \n",
    "    Cl_ary = pspecpop.get_C_l_compact_total_ary()\n",
    "    \n",
    "    if sigma_alpha is not None:\n",
    "        Cl_ary_accel = pspecpop.get_C_l_compact_total_ary(accel=True)\n",
    "    else:\n",
    "        Cl_ary_accel = np.zeros(len(Cl_ary)) \n",
    "        \n",
    "    fDM_base = 0\n",
    "    dfDM_base = 0.1\n",
    "\n",
    "    Cl_ary_fid = np.array(Cl_ary)*fDM_base\n",
    "    Cl_ary_accel_fid = np.array(Cl_ary_accel)*fDM_base\n",
    "\n",
    "    p = np.array(Cl_ary)*(fDM_base + dfDM_base)\n",
    "    m = np.array(Cl_ary)*(fDM_base - dfDM_base)\n",
    "\n",
    "    p_a = np.array(Cl_ary_accel)*(fDM_base + dfDM_base)\n",
    "    m_a = np.array(Cl_ary_accel)*(fDM_base - dfDM_base)\n",
    "\n",
    "    fDM = Parameter('fDM', fDM_base ,dfDM_base ,None, True, p, m, \n",
    "                    p_a, m_a, l_min=1, l_max=l_max)\n",
    "\n",
    "    parameters = [Cl_ary_fid, Cl_ary_accel_fid, 1, l_max, fDM]\n",
    "    \n",
    "    observation = AstrometryObservation(fsky=1, sigma_mu=sigma_mu, sigma_alpha=sigma_alpha, \n",
    "                                        N_q_mu=N_q_mu, N_q_alpha=N_q_alpha, \n",
    "                                        l_min_mu=l_min_mu, l_max_mu=l_max_mu, l_min_alpha=l_min_alpha, l_max_alpha=l_max_alpha)\n",
    "\n",
    "    fshr = FisherForecast(parameters, observation)\n",
    "    lim = 1.64*np.sqrt(np.linalg.inv(fshr.fshr_cls + fshr.fshr_prior)[0,0])\n",
    "\n",
    "    return lim, fshr"
   ]
  },
  {
   "cell_type": "code",
   "execution_count": 474,
   "metadata": {},
   "outputs": [
    {
     "data": {
      "application/vnd.jupyter.widget-view+json": {
       "model_id": "9d473b0099f7474b8fe0f07aa1f46d6d",
       "version_major": 2,
       "version_minor": 0
      },
      "text/plain": [
       "HBox(children=(IntProgress(value=0, max=10), HTML(value='')))"
      ]
     },
     "metadata": {},
     "output_type": "display_data"
    },
    {
     "data": {
      "application/vnd.jupyter.widget-view+json": {
       "model_id": "3c61c09917d3472fb777d563051b0005",
       "version_major": 2,
       "version_minor": 0
      },
      "text/plain": [
       "HBox(children=(IntProgress(value=0, max=10), HTML(value='')))"
      ]
     },
     "metadata": {},
     "output_type": "display_data"
    },
    {
     "data": {
      "application/vnd.jupyter.widget-view+json": {
       "model_id": "5cd683250c4a49368cd361c026285160",
       "version_major": 2,
       "version_minor": 0
      },
      "text/plain": [
       "HBox(children=(IntProgress(value=0, max=10), HTML(value='')))"
      ]
     },
     "metadata": {},
     "output_type": "display_data"
    },
    {
     "data": {
      "application/vnd.jupyter.widget-view+json": {
       "model_id": "4ff4d93175fc481aa765a8e05313fd23",
       "version_major": 2,
       "version_minor": 0
      },
      "text/plain": [
       "HBox(children=(IntProgress(value=0, max=50), HTML(value='')))"
      ]
     },
     "metadata": {},
     "output_type": "display_data"
    },
    {
     "data": {
      "application/vnd.jupyter.widget-view+json": {
       "model_id": "11b0ce97740542168f1528999417ffbb",
       "version_major": 2,
       "version_minor": 0
      },
      "text/plain": [
       "HBox(children=(IntProgress(value=0, max=50), HTML(value='')))"
      ]
     },
     "metadata": {},
     "output_type": "display_data"
    },
    {
     "data": {
      "application/vnd.jupyter.widget-view+json": {
       "model_id": "bdf2ba31c45d4e76b74bc39f645d379e",
       "version_major": 2,
       "version_minor": 0
      },
      "text/plain": [
       "HBox(children=(IntProgress(value=0, max=50), HTML(value='')))"
      ]
     },
     "metadata": {},
     "output_type": "display_data"
    },
    {
     "data": {
      "application/vnd.jupyter.widget-view+json": {
       "model_id": "966788b4a3da482cbc4b6dca33f5b2cd",
       "version_major": 2,
       "version_minor": 0
      },
      "text/plain": [
       "HBox(children=(IntProgress(value=0, max=50), HTML(value='')))"
      ]
     },
     "metadata": {},
     "output_type": "display_data"
    },
    {
     "data": {
      "application/vnd.jupyter.widget-view+json": {
       "model_id": "9a2c9cf08bcb497189612f31a08d6a27",
       "version_major": 2,
       "version_minor": 0
      },
      "text/plain": [
       "HBox(children=(IntProgress(value=0, max=50), HTML(value='')))"
      ]
     },
     "metadata": {},
     "output_type": "display_data"
    },
    {
     "data": {
      "application/vnd.jupyter.widget-view+json": {
       "model_id": "17807ab4d86d48dab394d78d45e1219b",
       "version_major": 2,
       "version_minor": 0
      },
      "text/plain": [
       "HBox(children=(IntProgress(value=0, max=50), HTML(value='')))"
      ]
     },
     "metadata": {},
     "output_type": "display_data"
    },
    {
     "data": {
      "application/vnd.jupyter.widget-view+json": {
       "model_id": "df7f658ed3eb4057923902786e376505",
       "version_major": 2,
       "version_minor": 0
      },
      "text/plain": [
       "HBox(children=(IntProgress(value=0, max=50), HTML(value='')))"
      ]
     },
     "metadata": {},
     "output_type": "display_data"
    },
    {
     "data": {
      "application/vnd.jupyter.widget-view+json": {
       "model_id": "1625b2ab125a45db8a2336fb781e8c04",
       "version_major": 2,
       "version_minor": 0
      },
      "text/plain": [
       "HBox(children=(IntProgress(value=0, max=50), HTML(value='')))"
      ]
     },
     "metadata": {},
     "output_type": "display_data"
    },
    {
     "data": {
      "application/vnd.jupyter.widget-view+json": {
       "model_id": "0f56e8307088473c93495db0c325f8c3",
       "version_major": 2,
       "version_minor": 0
      },
      "text/plain": [
       "HBox(children=(IntProgress(value=0, max=50), HTML(value='')))"
      ]
     },
     "metadata": {},
     "output_type": "display_data"
    },
    {
     "data": {
      "application/vnd.jupyter.widget-view+json": {
       "model_id": "2a92972929264f148fc8004a074d13df",
       "version_major": 2,
       "version_minor": 0
      },
      "text/plain": [
       "HBox(children=(IntProgress(value=0, max=50), HTML(value='')))"
      ]
     },
     "metadata": {},
     "output_type": "display_data"
    }
   ],
   "source": [
    "M_DM_ary = np.logspace(1.5,10,10)*M_s\n",
    "\n",
    "f_DM_lim_1_ary = [get_f_DM_lim(M_DM, sigma_mu=1, sigma_alpha=.1, N_q=1e8, l_max_mu=2000, l_max_alpha=2000)[0] for M_DM in tqdm_notebook(M_DM_ary)]\n",
    "f_DM_lim_2_ary = [get_f_DM_lim(M_DM, sigma_mu=1, sigma_alpha=.1, N_q=1e8,l_max_mu=10000,l_max_alpha=10000)[0] for M_DM in tqdm_notebook(M_DM_ary)]\n",
    "f_DM_lim_3_ary = [get_f_DM_lim(M_DM, R0_DM=10*pc, sigma_mu=1, sigma_alpha=.1, N_q=1e8,l_max_mu=2000,l_max_alpha=2000)[0] for M_DM in tqdm_notebook(M_DM_ary)]\n"
   ]
  },
  {
   "cell_type": "code",
   "execution_count": 476,
   "metadata": {},
   "outputs": [
    {
     "data": {
      "image/png": "[encoded data removed]",
      "text/plain": [
       "<Figure size 418.909x314.182 with 1 Axes>"
      ]
     },
     "metadata": {
      "image/png": {
       "height": 307,
       "width": 410
      },
      "needs_background": "light"
     },
     "output_type": "display_data"
    }
   ],
   "source": [
    "plt.plot(M_DM_ary/M_s, f_DM_lim_1_ary, label='$\\ell_\\mathrm{max} = 2000$')\n",
    "plt.plot(M_DM_ary/M_s, f_DM_lim_2_ary, label='$\\ell_\\mathrm{max} = 10^4$')\n",
    "plt.plot(M_DM_ary/M_s, f_DM_lim_3_ary, label='$R_0=10$\\,pc')\n",
    "\n",
    "plt.xscale(\"log\")\n",
    "plt.yscale(\"log\")\n",
    "\n",
    "plt.ylim(1e-8,1)\n",
    "plt.xlim(1e2,1e9)\n",
    "\n",
    "plt.xlabel(\"$M$\\,[M$_\\odot$]\")\n",
    "plt.ylabel(\"$f_\\mathrm{DM}$\")\n",
    "\n",
    "plt.title('\\\\textbf{Sensitivity to compact objects}', y = 1.02, fontsize=18)\n",
    "legend = plt.legend()\n",
    "# plt.setp(legend.get_title(),fontsize=18)\n",
    "\n",
    "plt.text(1e6, 2e-7, \"$\\sigma_\\mu=1\\,\\mu$as\\,yr$^{-1}$\", fontsize=16)\n",
    "plt.text(1e7, 3e-8, \"$N_q = 10^8$\", fontsize=16)\n",
    "\n",
    "plt.tight_layout()\n",
    "plt.savefig(plots_dir + \"/compact.pdf\")"
   ]
  },
  {
   "cell_type": "code",
   "execution_count": 388,
   "metadata": {},
   "outputs": [
    {
     "name": "stdout",
     "output_type": "stream",
     "text": [
      "-5.22624646736\n",
      "0.0058\n"
     ]
    }
   ],
   "source": [
    "m = 1e-18 * eV\n",
    "m22 = (m / (1e-22 * eV))\n",
    "M_DM = 5e5 * M_s * m22 ** -3  * (32/ 15) * np.pi ** 1.5 # 1e4*M_s\n",
    "R0_DM =  58 * pc * m22 ** -1\n",
    "\n",
    "print(np.log10(M_DM / M_s))\n",
    "print(R0_DM / pc)"
   ]
  },
  {
   "cell_type": "code",
   "execution_count": 420,
   "metadata": {},
   "outputs": [
    {
     "data": {
      "application/vnd.jupyter.widget-view+json": {
       "model_id": "72b4c9222e054f46affcbc5e7b15dd54",
       "version_major": 2,
       "version_minor": 0
      },
      "text/plain": [
       "HBox(children=(IntProgress(value=0, max=50), HTML(value='')))"
      ]
     },
     "metadata": {},
     "output_type": "display_data"
    },
    {
     "data": {
      "application/vnd.jupyter.widget-view+json": {
       "model_id": "e20fc95d39cf4b61bc8d630d4b871fff",
       "version_major": 2,
       "version_minor": 0
      },
      "text/plain": [
       "HBox(children=(IntProgress(value=0, max=50), HTML(value='')))"
      ]
     },
     "metadata": {},
     "output_type": "display_data"
    },
    {
     "data": {
      "application/vnd.jupyter.widget-view+json": {
       "model_id": "6bb32ac53e8143b58fd57ad5358937e8",
       "version_major": 2,
       "version_minor": 0
      },
      "text/plain": [
       "HBox(children=(IntProgress(value=0, max=50), HTML(value='')))"
      ]
     },
     "metadata": {},
     "output_type": "display_data"
    },
    {
     "data": {
      "application/vnd.jupyter.widget-view+json": {
       "model_id": "d9863ffe071d40bab4d324e694a63b32",
       "version_major": 2,
       "version_minor": 0
      },
      "text/plain": [
       "HBox(children=(IntProgress(value=0, max=50), HTML(value='')))"
      ]
     },
     "metadata": {},
     "output_type": "display_data"
    },
    {
     "data": {
      "application/vnd.jupyter.widget-view+json": {
       "model_id": "3b20d9abb8654091bb0cbe6e6f8d42a9",
       "version_major": 2,
       "version_minor": 0
      },
      "text/plain": [
       "HBox(children=(IntProgress(value=0, max=50), HTML(value='')))"
      ]
     },
     "metadata": {},
     "output_type": "display_data"
    }
   ],
   "source": [
    "m = 1e-21 * eV\n",
    "m22 = (m / (1e-22 * eV))\n",
    "M_DM = 5e5 * M_s * m22 ** -3  * (32/ 15) * np.pi ** 1.5 # 1e4*M_s\n",
    "R0_DM =  58 * pc * m22 ** -1\n",
    "\n",
    "M_DM = 1 * M_s # 1e4*M_s\n",
    "R0_DM=  1e-3 * pc\n",
    "\n",
    "sigma_mu = 1\n",
    "sigma_alpha = 0.1\n",
    "\n",
    "N_q_mu = 1e8\n",
    "N_q_alpha = 1e8\n",
    "\n",
    "lim, fshr = get_f_DM_lim(M_DM=M_DM, sigma_mu=sigma_mu, R0_DM=R0_DM, sigma_alpha=None, N_q_mu=N_q_mu, N_q_alpha=N_q_alpha, \n",
    "                         l_min_mu=1, l_max_mu=50000,l_min_alpha=1, l_max_alpha=50000) \n",
    "\n",
    "lim_alpha, fshr_alpha = get_f_DM_lim(M_DM=M_DM, sigma_mu=sigma_mu, R0_DM=R0_DM, sigma_alpha=sigma_alpha, N_q_mu=N_q_mu, N_q_alpha=N_q_alpha, \n",
    "                         l_min_mu=1, l_max_mu=50000,l_min_alpha=1, l_max_alpha=50000) \n",
    "\n",
    "lim_only_alpha, fshr_only_alpha = get_f_DM_lim(M_DM=M_DM, sigma_mu=None, R0_DM=R0_DM, sigma_alpha=sigma_alpha, N_q_mu=N_q_mu, N_q_alpha=N_q_alpha, \n",
    "                         l_min_mu=1, l_max_mu=50000,l_min_alpha=1, l_max_alpha=50000) \n",
    "\n",
    "# R0_DM=100*pc\n",
    "# lim1, fshr1 = get_f_DM_lim(M_DM=1e6*M_s, sigma_mu=1, R0_DM=R0_DM, sigma_alpha=.1, N_q=1e8, l_min_mu=1, l_max_mu=2000,l_min_alpha=1, l_max_alpha=2000) "
   ]
  },
  {
   "cell_type": "code",
   "execution_count": 421,
   "metadata": {},
   "outputs": [
    {
     "data": {
      "image/png": "[encoded data removed]",
      "text/plain": [
       "<matplotlib.figure.Figure at 0x13d990630>"
      ]
     },
     "metadata": {
      "image/png": {
       "height": 271,
       "width": 381
      },
      "needs_background": "light"
     },
     "output_type": "display_data"
    }
   ],
   "source": [
    "plt.plot(fshr.fshr_l[0][0])\n",
    "plt.plot(fshr_alpha.fshr_l[0][0])\n",
    "plt.plot(fshr_only_alpha.fshr_l[0][0])\n",
    "plt.xscale(\"log\")\n",
    "plt.yscale(\"log\")\n",
    "plt.xscale(\"log\")\n",
    "plt.yscale(\"log\")"
   ]
  },
  {
   "cell_type": "code",
   "execution_count": 183,
   "metadata": {},
   "outputs": [],
   "source": [
    "# l_ary = np.arange(1,len(fshr.fshr_l[0,0]) + 1)\n",
    "\n",
    "# f, (ax1, ax2) = plt.subplots(1, 2, figsize=(13/1.1,4/1.1))\n",
    "\n",
    "# ax1.plot(l_ary, fshr.fshr_l[0,0], color='forestgreen', label='PS')\n",
    "# ax1.plot(l_ary, fshr1.fshr_l[0,0], color='forestgreen',ls='--', label='$R_0=10$\\,pc')\n",
    "# ax1.axvline(1 * kpc / R0_DM, ls='--', color='grey', lw=1.5)\n",
    "# ax1.axvline(10 * kpc / R0_DM, ls='--', color='grey', lw=1.5)\n",
    "# # ax1.text(10** (np.log10(0.5 * kpc / R_0) + .05 ), 5e-3, '$0.5\\,\\mathrm{kpc}/R_0$',rotation=90, fontsize=14)\n",
    "# # ax1.text(10** (np.log10(10 * kpc / R_0) + .05 ), 1e-4, '$10\\,\\mathrm{kpc}/R_0$',rotation=90, fontsize=14)\n",
    "\n",
    "# ax1.set_xlabel('$\\ell$')\n",
    "# ax1.set_ylabel(r'$F_\\ell^{\\mu}$')\n",
    "# ax1.set_xscale(\"log\")\n",
    "# ax1.set_yscale(\"log\")\n",
    "# ax1.set_title(r\"\\textbf{Fisher information, MW compact objects}\")\n",
    "# ax1.legend(fontsize=16)\n",
    "\n",
    "# ax1.set_xlim(min(l_ary), max(l_ary))\n",
    "\n",
    "# ax2.plot(np.sqrt(np.cumsum(fshr.fshr_l[0,0])), color='firebrick', label='PS')\n",
    "# ax2.plot(np.sqrt(np.cumsum(fshr1.fshr_l[0,0])), color='firebrick', ls='--', label='$R_0=10$\\,pc')\n",
    "# ax2.axvline(1 * kpc / R0_DM, ls='--', color='grey', lw=1.5)\n",
    "# ax2.axvline(10 * kpc / R0_DM, ls='--', color='grey', lw=1.5)\n",
    "# # ax2.text(10** (np.log10(0.5 * kpc / R_0) + .05 ), 5e2, '$0.5\\,\\mathrm{kpc}/R_0$',rotation=90, fontsize=14)\n",
    "# # ax2.text(10** (np.log10(10 * kpc / R_0) + .05 ), 6, '$10\\,\\mathrm{kpc}/R_0$',rotation=90, fontsize=14)\n",
    "\n",
    "# ax2.set_xlabel('$\\ell_\\mathrm{max}$')\n",
    "# ax2.set_ylabel('Significance $\\sigma_\\mathrm{sig}$')\n",
    "# ax2.set_xscale(\"log\")\n",
    "# ax2.set_yscale(\"log\")\n",
    "# ax2.set_title(r\"\\textbf{Significance, MW compact objects}\")\n",
    "# ax2.set_xlim(min(l_ary), max(l_ary))\n",
    "# ax2.legend(fontsize=16)\n",
    "\n",
    "# plt.tight_layout()\n",
    "\n",
    "# plt.savefig(plots_dir + \"fisher_mu_mw.pdf\")"
   ]
  },
  {
   "cell_type": "code",
   "execution_count": 357,
   "metadata": {},
   "outputs": [],
   "source": [
    "M_ary = np.logspace(4,9,5) * M_s\n",
    "R_ary = np.logspace(-1,4.5,5) * pc"
   ]
  },
  {
   "cell_type": "code",
   "execution_count": 358,
   "metadata": {},
   "outputs": [
    {
     "data": {
      "application/vnd.jupyter.widget-view+json": {
       "model_id": "c5b97eee07864faeb6f35a563b1c8324",
       "version_major": 2,
       "version_minor": 0
      },
      "text/plain": [
       "HBox(children=(IntProgress(value=0, max=5), HTML(value='')))"
      ]
     },
     "metadata": {},
     "output_type": "display_data"
    },
    {
     "data": {
      "application/vnd.jupyter.widget-view+json": {
       "model_id": "4e2c84bf553648c3b6cf8254777d83cf",
       "version_major": 2,
       "version_minor": 0
      },
      "text/plain": [
       "HBox(children=(IntProgress(value=0, max=50), HTML(value='')))"
      ]
     },
     "metadata": {},
     "output_type": "display_data"
    },
    {
     "data": {
      "application/vnd.jupyter.widget-view+json": {
       "model_id": "890a548945ab4eea85934827597b2359",
       "version_major": 2,
       "version_minor": 0
      },
      "text/plain": [
       "HBox(children=(IntProgress(value=0, max=50), HTML(value='')))"
      ]
     },
     "metadata": {},
     "output_type": "display_data"
    },
    {
     "data": {
      "application/vnd.jupyter.widget-view+json": {
       "model_id": "af6a36e32b52444eafb67ed3ced31ca2",
       "version_major": 2,
       "version_minor": 0
      },
      "text/plain": [
       "HBox(children=(IntProgress(value=0, max=50), HTML(value='')))"
      ]
     },
     "metadata": {},
     "output_type": "display_data"
    },
    {
     "data": {
      "application/vnd.jupyter.widget-view+json": {
       "model_id": "8d5af6a3c4694ce7900cfbc5660e4874",
       "version_major": 2,
       "version_minor": 0
      },
      "text/plain": [
       "HBox(children=(IntProgress(value=0, max=50), HTML(value='')))"
      ]
     },
     "metadata": {},
     "output_type": "display_data"
    },
    {
     "name": "stderr",
     "output_type": "stream",
     "text": [
      "../../theory/spec_calc.py:465: RuntimeWarning: divide by zero encountered in log10\n",
      "  self.C_l_ary = 10 ** np.interp(np.log10(self.l_ary), np.log10(self.l_ary_calc), np.log10(C_l_calc_ary))\n"
     ]
    },
    {
     "data": {
      "application/vnd.jupyter.widget-view+json": {
       "model_id": "897fa9d488584e7b9bc2330e7d3b129b",
       "version_major": 2,
       "version_minor": 0
      },
      "text/plain": [
       "HBox(children=(IntProgress(value=0, max=50), HTML(value='')))"
      ]
     },
     "metadata": {},
     "output_type": "display_data"
    },
    {
     "data": {
      "application/vnd.jupyter.widget-view+json": {
       "model_id": "ef3938f5471543bebc114e698db1bbae",
       "version_major": 2,
       "version_minor": 0
      },
      "text/plain": [
       "HBox(children=(IntProgress(value=0, max=50), HTML(value='')))"
      ]
     },
     "metadata": {},
     "output_type": "display_data"
    },
    {
     "data": {
      "application/vnd.jupyter.widget-view+json": {
       "model_id": "0208648fda494d8f8ccbd70139861246",
       "version_major": 2,
       "version_minor": 0
      },
      "text/plain": [
       "HBox(children=(IntProgress(value=0, max=50), HTML(value='')))"
      ]
     },
     "metadata": {},
     "output_type": "display_data"
    },
    {
     "data": {
      "application/vnd.jupyter.widget-view+json": {
       "model_id": "cdc2e51e65214e80adc6a42f9a6c7e98",
       "version_major": 2,
       "version_minor": 0
      },
      "text/plain": [
       "HBox(children=(IntProgress(value=0, max=50), HTML(value='')))"
      ]
     },
     "metadata": {},
     "output_type": "display_data"
    },
    {
     "data": {
      "application/vnd.jupyter.widget-view+json": {
       "model_id": "d353865e351d45b4b08e573688037f8f",
       "version_major": 2,
       "version_minor": 0
      },
      "text/plain": [
       "HBox(children=(IntProgress(value=0, max=50), HTML(value='')))"
      ]
     },
     "metadata": {},
     "output_type": "display_data"
    },
    {
     "data": {
      "application/vnd.jupyter.widget-view+json": {
       "model_id": "a9d8c84b706b4824ab1e5c565deab60f",
       "version_major": 2,
       "version_minor": 0
      },
      "text/plain": [
       "HBox(children=(IntProgress(value=0, max=50), HTML(value='')))"
      ]
     },
     "metadata": {},
     "output_type": "display_data"
    },
    {
     "data": {
      "application/vnd.jupyter.widget-view+json": {
       "model_id": "900d896f9531417698b62af1ea7d2641",
       "version_major": 2,
       "version_minor": 0
      },
      "text/plain": [
       "HBox(children=(IntProgress(value=0, max=50), HTML(value='')))"
      ]
     },
     "metadata": {},
     "output_type": "display_data"
    },
    {
     "data": {
      "application/vnd.jupyter.widget-view+json": {
       "model_id": "d0cb21e6a8c947adbdf2c708bbd6ac7a",
       "version_major": 2,
       "version_minor": 0
      },
      "text/plain": [
       "HBox(children=(IntProgress(value=0, max=50), HTML(value='')))"
      ]
     },
     "metadata": {},
     "output_type": "display_data"
    },
    {
     "data": {
      "application/vnd.jupyter.widget-view+json": {
       "model_id": "9987be8ba35e4b27b558e0b1a71d187d",
       "version_major": 2,
       "version_minor": 0
      },
      "text/plain": [
       "HBox(children=(IntProgress(value=0, max=50), HTML(value='')))"
      ]
     },
     "metadata": {},
     "output_type": "display_data"
    },
    {
     "data": {
      "application/vnd.jupyter.widget-view+json": {
       "model_id": "2f7ed1fa8fbd463ab1327f3585a08c09",
       "version_major": 2,
       "version_minor": 0
      },
      "text/plain": [
       "HBox(children=(IntProgress(value=0, max=50), HTML(value='')))"
      ]
     },
     "metadata": {},
     "output_type": "display_data"
    },
    {
     "data": {
      "application/vnd.jupyter.widget-view+json": {
       "model_id": "04a109883b3640899ca5a96b04076bf5",
       "version_major": 2,
       "version_minor": 0
      },
      "text/plain": [
       "HBox(children=(IntProgress(value=0, max=50), HTML(value='')))"
      ]
     },
     "metadata": {},
     "output_type": "display_data"
    },
    {
     "data": {
      "application/vnd.jupyter.widget-view+json": {
       "model_id": "95f4a09789d34ddaa3134656869b02d8",
       "version_major": 2,
       "version_minor": 0
      },
      "text/plain": [
       "HBox(children=(IntProgress(value=0, max=50), HTML(value='')))"
      ]
     },
     "metadata": {},
     "output_type": "display_data"
    },
    {
     "data": {
      "application/vnd.jupyter.widget-view+json": {
       "model_id": "727fd91422914cce8c9186ae0678c6b5",
       "version_major": 2,
       "version_minor": 0
      },
      "text/plain": [
       "HBox(children=(IntProgress(value=0, max=50), HTML(value='')))"
      ]
     },
     "metadata": {},
     "output_type": "display_data"
    },
    {
     "data": {
      "application/vnd.jupyter.widget-view+json": {
       "model_id": "42142099c4d64b8097d37144c2cb99fa",
       "version_major": 2,
       "version_minor": 0
      },
      "text/plain": [
       "HBox(children=(IntProgress(value=0, max=50), HTML(value='')))"
      ]
     },
     "metadata": {},
     "output_type": "display_data"
    },
    {
     "data": {
      "application/vnd.jupyter.widget-view+json": {
       "model_id": "c11ec79a5d874d7aa4d3fd1bc1f0989e",
       "version_major": 2,
       "version_minor": 0
      },
      "text/plain": [
       "HBox(children=(IntProgress(value=0, max=50), HTML(value='')))"
      ]
     },
     "metadata": {},
     "output_type": "display_data"
    },
    {
     "data": {
      "application/vnd.jupyter.widget-view+json": {
       "model_id": "206f83aa7702479fbb7cbfa0e0788e81",
       "version_major": 2,
       "version_minor": 0
      },
      "text/plain": [
       "HBox(children=(IntProgress(value=0, max=50), HTML(value='')))"
      ]
     },
     "metadata": {},
     "output_type": "display_data"
    },
    {
     "data": {
      "application/vnd.jupyter.widget-view+json": {
       "model_id": "88aa47bc661c4c7592e3ac78404c14b4",
       "version_major": 2,
       "version_minor": 0
      },
      "text/plain": [
       "HBox(children=(IntProgress(value=0, max=50), HTML(value='')))"
      ]
     },
     "metadata": {},
     "output_type": "display_data"
    },
    {
     "data": {
      "application/vnd.jupyter.widget-view+json": {
       "model_id": "8cf0725b37b04c17b2929431867267e1",
       "version_major": 2,
       "version_minor": 0
      },
      "text/plain": [
       "HBox(children=(IntProgress(value=0, max=50), HTML(value='')))"
      ]
     },
     "metadata": {},
     "output_type": "display_data"
    },
    {
     "data": {
      "application/vnd.jupyter.widget-view+json": {
       "model_id": "1c35f22e1c1e41c5b31f66a1d5d8caf1",
       "version_major": 2,
       "version_minor": 0
      },
      "text/plain": [
       "HBox(children=(IntProgress(value=0, max=50), HTML(value='')))"
      ]
     },
     "metadata": {},
     "output_type": "display_data"
    },
    {
     "data": {
      "application/vnd.jupyter.widget-view+json": {
       "model_id": "5d401f16b1de4898a9a1572425a1872b",
       "version_major": 2,
       "version_minor": 0
      },
      "text/plain": [
       "HBox(children=(IntProgress(value=0, max=50), HTML(value='')))"
      ]
     },
     "metadata": {},
     "output_type": "display_data"
    },
    {
     "data": {
      "application/vnd.jupyter.widget-view+json": {
       "model_id": "242a12fee5bb4df8a64737e53cbe6992",
       "version_major": 2,
       "version_minor": 0
      },
      "text/plain": [
       "HBox(children=(IntProgress(value=0, max=50), HTML(value='')))"
      ]
     },
     "metadata": {},
     "output_type": "display_data"
    }
   ],
   "source": [
    "sig_ary = np.zeros((len(M_ary), len(R_ary)))\n",
    "lim_ary = np.zeros((len(M_ary), len(R_ary)))\n",
    "\n",
    "for iM, M in enumerate(tqdm_notebook(M_ary)):\n",
    "    for iR, R in enumerate(R_ary):\n",
    "        lim_ary[iM, iR] = get_f_DM_lim(M, R0_DM=R, sigma_mu=1, sigma_alpha=None, N_q_mu=1e8, l_max_mu=10000, l_max_alpha=10000)[0]"
   ]
  },
  {
   "cell_type": "code",
   "execution_count": 126,
   "metadata": {},
   "outputs": [],
   "source": [
    "# lim_R = []\n",
    "# for iM, M in enumerate((M_ary)):\n",
    "#     lim_R.append(interp1d(lim_ary[iM], R_ary, bounds_error=False, kind='linear', fill_value='extrapolate')(1.) / pc)"
   ]
  },
  {
   "cell_type": "code",
   "execution_count": 359,
   "metadata": {},
   "outputs": [],
   "source": [
    "lim_R = []\n",
    "for iM, M in enumerate((M_ary)):\n",
    "    lim_R.append(np.interp(1, lim_ary[iM], R_ary) / pc)"
   ]
  },
  {
   "cell_type": "code",
   "execution_count": 364,
   "metadata": {},
   "outputs": [
    {
     "data": {
      "image/png": "[encoded data removed]",
      "text/plain": [
       "<matplotlib.figure.Figure at 0x13b98b550>"
      ]
     },
     "metadata": {
      "image/png": {
       "height": 306,
       "width": 411
      },
      "needs_background": "light"
     },
     "output_type": "display_data"
    }
   ],
   "source": [
    "plt.plot(M_ary / M_s, np.array(lim_R))\n",
    "plt.xscale(\"log\")\n",
    "plt.yscale(\"log\")\n",
    "\n",
    "plt.xlim(1e4,1e9)\n",
    "plt.ylim(1e-2,1e4)\n",
    "\n",
    "plt.xlabel(\"$M$\\,[M$_\\odot$]\")\n",
    "plt.ylabel(\"$R$\\,[pc]\")\n",
    "\n",
    "plt.title('\\\\textbf{Sensitivity to compact objects}', y = 1.02, fontsize=18)\n",
    "\n",
    "plt.tight_layout()\n",
    "plt.text(8e7, 3e-2, \"$f_\\mathrm{DM} = 1$\", fontsize=16)\n",
    "\n",
    "plt.tight_layout()\n",
    "plt.savefig(plots_dir + \"compact_M_vs_R.pdf\")"
   ]
  },
  {
   "cell_type": "code",
   "execution_count": null,
   "metadata": {},
   "outputs": [],
   "source": []
  }
 ],
 "metadata": {
  "kernelspec": {
   "display_name": "Python 3",
   "language": "python",
   "name": "python3"
  },
  "language_info": {
   "codemirror_mode": {
    "name": "ipython",
    "version": 3
   },
   "file_extension": ".py",
   "mimetype": "text/x-python",
   "name": "python",
   "nbconvert_exporter": "python",
   "pygments_lexer": "ipython3",
   "version": "3.5.5"
  }
 },
 "nbformat": 4,
 "nbformat_minor": 2
}
