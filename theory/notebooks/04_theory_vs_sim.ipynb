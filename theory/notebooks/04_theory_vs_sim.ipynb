{
 "cells": [
  {
   "cell_type": "code",
   "execution_count": null,
   "metadata": {},
   "outputs": [],
   "source": [
    "# pspecpop.set_radial_distribution(pspecpop.r2rho_V_ein_EAQ, R_min=1e-3*kpc, R_max=260*kpc)\n",
    "# pspecpop.set_mass_distribution(pspecpop.rho_M_SI, M_min=10**6.5*M_s, M_max=0.04*1.1e12*M_s, \n",
    "#                                M_min_calib=1e8*M_s, M_max_calib=1e10*M_s, N_calib=150, alpha=-1.9)\n",
    "# pspecpop.set_subhalo_properties(pspecpop.c200_SCP)\n",
    "\n",
    "# pspecpop.get_C_l_total_ary(accel=True);"
   ]
  },
  {
   "cell_type": "code",
   "execution_count": null,
   "metadata": {},
   "outputs": [],
   "source": [
    "# max_sep = 20\n",
    "# nsim = 200\n",
    "# nside = 128\n",
    "# lmax = 3*nside - 1"
   ]
  },
  {
   "cell_type": "code",
   "execution_count": null,
   "metadata": {},
   "outputs": [],
   "source": [
    "# Cl_B_ary = np.zeros((nsim, lmax))\n",
    "# for i in tqdm_notebook(range(nsim)):\n",
    "#     Cl_B = np.load(\"/scratch/sm8383/QuasarSims/lcdm_\" + str(i) + \".0.npz\")['Cl_B']\n",
    "#     Cl_B_ary[i, :] = Cl_B"
   ]
  },
  {
   "cell_type": "code",
   "execution_count": null,
   "metadata": {},
   "outputs": [],
   "source": [
    "# Cl_B_plot = np.percentile(Cl_B_ary*1e12, [16,50,84], axis=0)/(2*ell + 1)/(2*np.pi)"
   ]
  },
  {
   "cell_type": "code",
   "execution_count": null,
   "metadata": {},
   "outputs": [],
   "source": [
    "# rcParams['figure.figsize'] = 5.8, 5.4\n",
    "\n",
    "# ell = np.arange(1, len(Cl_B_plot[0]) + 1)\n",
    "\n",
    "# plt.plot(pspecpop.l_ary, pspecpop.l_ary*(pspecpop.l_ary + 1)*pspecpop.C_l_ary/(2*np.pi), alpha=alpha_plot, lw=lw_plot, color='dodgerblue', label=\"Theory\")\n",
    "\n",
    "# plt.plot(ell, ell*(ell + 1)*Cl_B_plot[1], ls='--', color='firebrick', alpha=0.5)\n",
    "# plt.fill_between(ell, ell*(ell + 1)*Cl_B_plot[0],ell*(ell + 1)*Cl_B_plot[2], alpha=0.2, color='firebrick', label=\"Simulation\")\n",
    "\n",
    "# plt.legend(frameon=False, ncol=1, fontsize=15, loc='lower right')\n",
    "\n",
    "# plt.title('\\\\textbf{Theory vs simulations, fiducial CDM}', y = 1.02, fontsize=18)\n",
    "\n",
    "# plt.xscale(\"log\")\n",
    "# plt.yscale(\"log\")\n",
    "\n",
    "# plt.xlim(10,200)\n",
    "# # plt.ylim(1e-10,8e-8)\n",
    "\n",
    "# plt.xlabel(\"$\\ell$\")\n",
    "# plt.ylabel(\"$\\ell(\\ell+1)\\,C_\\ell/2\\pi$ [$\\mu$as$^2$\\,yr$^{-2}$]\")\n",
    "\n",
    "\n",
    "# plt.tight_layout()\n",
    "# # plt.savefig(\"../Plots/TheoryvsSim.pdf\")\n"
   ]
  }
 ],
 "metadata": {
  "kernelspec": {
   "display_name": "Python 3",
   "language": "python",
   "name": "python3"
  },
  "language_info": {
   "codemirror_mode": {
    "name": "ipython",
    "version": 3
   },
   "file_extension": ".py",
   "mimetype": "text/x-python",
   "name": "python",
   "nbconvert_exporter": "python",
   "pygments_lexer": "ipython3",
   "version": "3.6.8"
  }
 },
 "nbformat": 4,
 "nbformat_minor": 2
}
