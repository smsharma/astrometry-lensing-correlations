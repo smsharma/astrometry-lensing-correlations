{
 "cells": [
  {
   "cell_type": "code",
   "execution_count": 1,
   "metadata": {},
   "outputs": [],
   "source": [
    "import sys\n",
    "sys.path.append(\"../Simulations/\")\n",
    "\n",
    "from units import *\n",
    "import matplotlib.pyplot as plt\n",
    "from tqdm import *\n",
    "from scipy.integrate import nquad, quad\n",
    "from scipy.special import erf, jn, jv, kn\n",
    "import mpmath as mp\n",
    "\n",
    "%matplotlib inline\n",
    "%load_ext autoreload\n",
    "%autoreload 2"
   ]
  },
  {
   "cell_type": "code",
   "execution_count": 25,
   "metadata": {},
   "outputs": [],
   "source": [
    "def c200_SC(M200):\n",
    "    \"\"\" Concentration-mass relation according to Sanchez-Conde&Prada14\n",
    "    \"\"\"\n",
    "    x=np.log(M200*h) # Given in terms of M_s/h in S-C&P paper\n",
    "    pars=[37.5153, -1.5093, 1.636e-2, 3.66e-4, -2.89237e-5, 5.32e-7][::-1]\n",
    "    return np.polyval(pars, x)\n",
    "\n",
    "def get_rs_rhos_NFW(M200):\n",
    "    \"\"\" Get NFW scale radius and density\n",
    "    \"\"\"\n",
    "    c200 = c200_SC(M200/M_s)\n",
    "    r200 = (M200/(4/3.*np.pi*200*rho_c))**(1/3.)\n",
    "    rho_s = M200/(4*np.pi*(r200/c200)**3*(np.log(1 + c200) - c200/(1 + c200)))\n",
    "    r_s = r200/c200\n",
    "    return r_s, rho_s\n",
    "\n",
    "def F(x):\n",
    "    \"\"\" Helper function for NFW deflection, from astro-ph/0102341\n",
    "    \"\"\"\n",
    "    if x > 1:\n",
    "        return mp.atan(mp.sqrt(x**2-1))/(mp.sqrt(x**2 - 1))\n",
    "    elif x == 1:\n",
    "        return 1\n",
    "    elif x < 1:\n",
    "        return mp.atanh(mp.sqrt(1-x**2))/(mp.sqrt(1-x**2))\n",
    "    "
   ]
  },
  {
   "cell_type": "code",
   "execution_count": 19,
   "metadata": {},
   "outputs": [],
   "source": [
    "def MNFWdivM0(x):\n",
    "    \"\"\" Enclosed mass in cylinder, NFW profile\n",
    "    \"\"\"\n",
    "    return (mp.log(x/2) + F(x))"
   ]
  },
  {
   "cell_type": "code",
   "execution_count": 35,
   "metadata": {},
   "outputs": [],
   "source": [
    "def MNFWdivM0_integ(theta_s, l):\n",
    "    return mp.quadosc(lambda theta: MNFWdivM0(theta/theta_s)*mp.j1(l*theta), [0, mp.inf], period=2*mp.pi/l)"
   ]
  },
  {
   "cell_type": "code",
   "execution_count": 83,
   "metadata": {},
   "outputs": [],
   "source": [
    "l_min, l_max = 1, 1000\n",
    "n_l = 50\n",
    "l_ary = np.logspace(np.log10(l_min), np.log10(l_max), n_l)\n",
    "\n",
    "theta_s_min, theta_s_max = 0.0001, 0.5\n",
    "n_theta_s = 20\n",
    "theta_s_ary = np.linspace(theta_s_min, theta_s_max, n_theta_s)\n",
    "\n",
    "MjdivM0_integ_ary = np.zeros((n_theta_s, n_l))\n",
    "\n",
    "for itheta_s, theta_s in enumerate(tqdm_notebook(theta_s_ary)):\n",
    "    for il, l in enumerate(tqdm_notebook(l_ary)):\n",
    "        MjdivM0_integ_ary[itheta_s, il] = MNFWdivM0_integ(theta_s, l)"
   ]
  },
  {
   "cell_type": "code",
   "execution_count": 46,
   "metadata": {},
   "outputs": [],
   "source": [
    "from scipy.interpolate import interp2d"
   ]
  },
  {
   "cell_type": "code",
   "execution_count": 76,
   "metadata": {},
   "outputs": [],
   "source": [
    "MjdivM0_integ_interp = interp2d(np.log10(l_ary), theta_s_ary, MjdivM0_integ_ary, kind='quintic')"
   ]
  },
  {
   "cell_type": "code",
   "execution_count": 81,
   "metadata": {},
   "outputs": [
    {
     "data": {
      "text/plain": [
       "mpf('0.40433858274066992')"
      ]
     },
     "execution_count": 81,
     "metadata": {},
     "output_type": "execute_result"
    }
   ],
   "source": [
    "MNFWdivM0_integ(0.001, 10)"
   ]
  },
  {
   "cell_type": "code",
   "execution_count": 82,
   "metadata": {},
   "outputs": [
    {
     "data": {
      "text/plain": [
       "0.6698365444323445"
      ]
     },
     "execution_count": 82,
     "metadata": {},
     "output_type": "execute_result"
    }
   ],
   "source": [
    "MjdivM0_integ_interp(0.001, np.log10(10))[0]"
   ]
  },
  {
   "cell_type": "code",
   "execution_count": 72,
   "metadata": {},
   "outputs": [],
   "source": [
    "def Cl_NFW_new(M200, Dl, v, l):\n",
    "    r_s, rho_s = get_rs_rhos_NFW(M200)\n",
    "    M0 = 4*np.pi*r_s**3*rho_s\n",
    "    pref = GN**2*v**2*8*np.pi*l**2/Dl**4\n",
    "    theta_s = r_s/Dl\n",
    "#     MjdivM0 = mp.quadosc(lambda theta: MNFWdivM0(theta/theta_s)*mp.j1(l*theta), [0, mp.inf], period=2*mp.pi/l)\n",
    "    MjdivM0 = MjdivM0_integ_interp(theta_s, np.log10(l))[0]\n",
    "\n",
    "    return pref*M0**2*MjdivM0**2\n"
   ]
  },
  {
   "cell_type": "code",
   "execution_count": 73,
   "metadata": {},
   "outputs": [],
   "source": [
    "M0 = 10**8*M_s\n",
    "R0 = R0_VL(M0)\n",
    "Dl = 10*kpc\n",
    "v = 1e-3\n",
    "\n",
    "l = 1"
   ]
  },
  {
   "cell_type": "code",
   "execution_count": 74,
   "metadata": {},
   "outputs": [
    {
     "name": "stdout",
     "output_type": "stream",
     "text": [
      "70.8 µs ± 1.29 µs per loop (mean ± std. dev. of 7 runs, 10000 loops each)\n"
     ]
    }
   ],
   "source": [
    "%%timeit\n",
    "Cl_NFW_new(M0, Dl, v, l)/(1e-6*asctorad/Year)**2"
   ]
  },
  {
   "cell_type": "code",
   "execution_count": null,
   "metadata": {},
   "outputs": [],
   "source": []
  },
  {
   "cell_type": "code",
   "execution_count": null,
   "metadata": {},
   "outputs": [],
   "source": []
  }
 ],
 "metadata": {
  "kernelspec": {
   "display_name": "Python 3",
   "language": "python",
   "name": "python3"
  },
  "language_info": {
   "codemirror_mode": {
    "name": "ipython",
    "version": 3
   },
   "file_extension": ".py",
   "mimetype": "text/x-python",
   "name": "python",
   "nbconvert_exporter": "python",
   "pygments_lexer": "ipython3",
   "version": "3.6.8"
  }
 },
 "nbformat": 4,
 "nbformat_minor": 2
}
