{
 "cells": [
  {
   "cell_type": "code",
   "execution_count": 1,
   "metadata": {},
   "outputs": [],
   "source": [
    "import sys\n",
    "sys.path.append(\"../Simulations/\")\n",
    "\n",
    "import numpy as np\n",
    "import matplotlib.pyplot as plt\n",
    "from tqdm import *\n",
    "from scipy.integrate import nquad, quad\n",
    "from scipy.interpolate import interp1d\n",
    "from scipy.special import erf, jn, jv, kn\n",
    "import mpmath as mp\n",
    "from skmonaco import mcimport, mcquad, mcmiser\n",
    "from pylab import rcParams\n",
    "import matplotlib as mpl\n",
    "\n",
    "from units import *\n",
    "from spec_calc import PowerSpectra, PowerSpectraPopulations\n",
    "from astrometry_forecast import Parameter, AstrometryObservation, FisherForecast\n",
    "\n",
    "%matplotlib inline\n",
    "%load_ext autoreload\n",
    "%autoreload 2"
   ]
  },
  {
   "cell_type": "code",
   "execution_count": 13,
   "metadata": {},
   "outputs": [],
   "source": [
    "import fileinput\n",
    "\n",
    "HEAT_FILE = '/scratch/sm8383/21cmPhotons/21cmFAST_mod/Parameter_files/HEAT_PARAMS.H'\n",
    "TRAD_FILENAME='/chika/'\n",
    "with fileinput.FileInput(HEAT_FILE, inplace=True, backup='.bak') as file:\n",
    "    for line in file:\n",
    "        print(line.replace('<TRAD_FILENAME>', '\"' + TRAD_FILENAME+ '\"'), end='')"
   ]
  },
  {
   "cell_type": "code",
   "execution_count": 2,
   "metadata": {},
   "outputs": [],
   "source": [
    "mpl.rcParams['axes.linewidth'] = 1. #set the value globally"
   ]
  },
  {
   "cell_type": "code",
   "execution_count": 3,
   "metadata": {},
   "outputs": [
    {
     "name": "stdout",
     "output_type": "stream",
     "text": [
      "Loading Burkert parameters\n",
      "Loading NFW parameters\n"
     ]
    }
   ],
   "source": [
    "pspec = PowerSpectra(precompute=['NFW', 'Burk'])"
   ]
  },
  {
   "cell_type": "markdown",
   "metadata": {},
   "source": [
    "# Populations"
   ]
  },
  {
   "cell_type": "code",
   "execution_count": 5,
   "metadata": {},
   "outputs": [
    {
     "name": "stdout",
     "output_type": "stream",
     "text": [
      "Loading Burkert parameters\n",
      "Loading NFW parameters\n",
      "Calculating velocity integrals\n"
     ]
    }
   ],
   "source": [
    "pspecpop = PowerSpectraPopulations()"
   ]
  },
  {
   "cell_type": "code",
   "execution_count": null,
   "metadata": {},
   "outputs": [
    {
     "data": {
      "application/vnd.jupyter.widget-view+json": {
       "model_id": "f2efc9d79cc94176bb593162e2241df3",
       "version_major": 2,
       "version_minor": 0
      },
      "text/plain": [
       "HBox(children=(IntProgress(value=0, max=50), HTML(value='')))"
      ]
     },
     "metadata": {},
     "output_type": "display_data"
    }
   ],
   "source": [
    "pspecpop.set_radial_distribution(pspecpop.r2rho_V_ein_EAQ, R_min=1e-3*kpc, R_max=260*kpc)\n",
    "pspecpop.set_mass_distribution(pspecpop.rho_M_SI, M_min=1e4*M_s, M_max=0.04*1.1e12*M_s, \n",
    "                               M_min_calib=1e8*M_s, M_max_calib=1e10*M_s, N_calib=150, alpha=-1.9)\n",
    "pspecpop.set_subhalo_properties(pspecpop.c200_Moline)\n",
    "\n",
    "pspecpop.get_C_l_total_ary();"
   ]
  },
  {
   "cell_type": "code",
   "execution_count": 7,
   "metadata": {},
   "outputs": [],
   "source": [
    "rcParams['figure.figsize'] = 6, 5\n",
    "\n",
    "alpha_plot = 0.8\n",
    "lw_plot = 2.5\n",
    "colors_plot = ['dodgerblue', 'orange', 'mediumorchid']"
   ]
  },
  {
   "cell_type": "markdown",
   "metadata": {},
   "source": [
    "## Differential Power"
   ]
  },
  {
   "cell_type": "markdown",
   "metadata": {},
   "source": [
    "### Over masses"
   ]
  },
  {
   "cell_type": "code",
   "execution_count": 11,
   "metadata": {},
   "outputs": [
    {
     "data": {
      "application/vnd.jupyter.widget-view+json": {
       "model_id": "3bfb0d8e630449189a9d09cd034eb7f5",
       "version_major": 2,
       "version_minor": 0
      },
      "text/plain": [
       "HBox(children=(IntProgress(value=0), HTML(value='')))"
      ]
     },
     "metadata": {},
     "output_type": "display_data"
    },
    {
     "name": "stdout",
     "output_type": "stream",
     "text": [
      "\n"
     ]
    },
    {
     "data": {
      "application/vnd.jupyter.widget-view+json": {
       "model_id": "02737c078eb1420c95dde53469b8b4d4",
       "version_major": 2,
       "version_minor": 0
      },
      "text/plain": [
       "HBox(children=(IntProgress(value=0), HTML(value='')))"
      ]
     },
     "metadata": {},
     "output_type": "display_data"
    },
    {
     "name": "stdout",
     "output_type": "stream",
     "text": [
      "\n"
     ]
    },
    {
     "data": {
      "application/vnd.jupyter.widget-view+json": {
       "model_id": "a4df624904844ead879e045907ec074d",
       "version_major": 2,
       "version_minor": 0
      },
      "text/plain": [
       "HBox(children=(IntProgress(value=0), HTML(value='')))"
      ]
     },
     "metadata": {},
     "output_type": "display_data"
    },
    {
     "name": "stdout",
     "output_type": "stream",
     "text": [
      "\n"
     ]
    }
   ],
   "source": [
    "logM_min_plot = 6\n",
    "logM_max_plot = 11.5\n",
    "\n",
    "M_ary = np.logspace(logM_min_plot,logM_max_plot,100)*M_s\n",
    "\n",
    "ell = 10\n",
    "dlogC_l_dM_ary_10 = np.array([pspecpop.dC_l_dM_total(ell, M)/pspecpop.C_l_ary[ell] for M in tqdm_notebook(M_ary)])\n",
    "ell = 30\n",
    "dlogC_l_dM_ary_30 = np.array([pspecpop.dC_l_dM_total(ell, M)/pspecpop.C_l_ary[ell] for M in tqdm_notebook(M_ary)])\n",
    "ell = 100\n",
    "dlogC_l_dM_ary_100 = np.array([pspecpop.dC_l_dM_total(ell, M)/pspecpop.C_l_ary[ell] for M in tqdm_notebook(M_ary)])"
   ]
  },
  {
   "cell_type": "code",
   "execution_count": null,
   "metadata": {},
   "outputs": [
    {
     "name": "stderr",
     "output_type": "stream",
     "text": [
      "/scratch/sm8383/anaconda3/envs/venv_smsharma/lib/python3.6/site-packages/matplotlib/font_manager.py:1241: UserWarning: findfont: Font family ['serif'] not found. Falling back to DejaVu Sans.\n",
      "  (prop.get_family(), self.defaultFamily[fontext]))\n",
      "/scratch/sm8383/anaconda3/envs/venv_smsharma/lib/python3.6/site-packages/matplotlib/font_manager.py:1241: UserWarning: findfont: Font family ['serif'] not found. Falling back to DejaVu Sans.\n",
      "  (prop.get_family(), self.defaultFamily[fontext]))\n",
      "/scratch/sm8383/anaconda3/envs/venv_smsharma/lib/python3.6/site-packages/matplotlib/font_manager.py:1241: UserWarning: findfont: Font family ['serif'] not found. Falling back to DejaVu Sans.\n",
      "  (prop.get_family(), self.defaultFamily[fontext]))\n"
     ]
    },
    {
     "data": {
      "image/png": "[encoded data removed]",
      "text/plain": [
       "<Figure size 432x360 with 1 Axes>"
      ]
     },
     "metadata": {
      "needs_background": "light"
     },
     "output_type": "display_data"
    }
   ],
   "source": [
    "plt.plot(M_ary/M_s, (M_ary/M_s)*dlogC_l_dM_ary_10/(1/M_s),label=\"$\\ell = 10$\", alpha=alpha_plot, lw=lw_plot, color=colors_plot[0])\n",
    "plt.plot(M_ary/M_s, (M_ary/M_s)*dlogC_l_dM_ary_30/(1/M_s),label=\"$\\ell = 30$\", alpha=alpha_plot, lw=lw_plot, color=colors_plot[1])\n",
    "plt.plot(M_ary/M_s, (M_ary/M_s)*dlogC_l_dM_ary_100/(1/M_s),label=\"$\\ell = 100$\", alpha=alpha_plot, lw=lw_plot, color=colors_plot[2])\n",
    "\n",
    "plt.xlabel(\"$M_{200}$\\,[M$_\\odot$]\")\n",
    "plt.ylabel(\"$d\\ln C_\\ell/d\\ln M_{200}$\")\n",
    "\n",
    "plt.xscale(\"log\")\n",
    "\n",
    "plt.xlim(10**logM_min_plot, 10**logM_max_plot)\n",
    "\n",
    "plt.legend(frameon=False)\n",
    "\n",
    "plt.title('\\\\textbf{Differential power spectra, fiducial CDM}', y = 1.02, fontsize=17)\n",
    "\n",
    "\n",
    "plt.tight_layout()\n",
    "plt.savefig(\"../Plots/dlnCldlnM200.pdf\")"
   ]
  },
  {
   "cell_type": "markdown",
   "metadata": {},
   "source": [
    "### Over Galactocentric radii"
   ]
  },
  {
   "cell_type": "code",
   "execution_count": null,
   "metadata": {},
   "outputs": [
    {
     "data": {
      "application/vnd.jupyter.widget-view+json": {
       "model_id": "24a1c8d4aff6406f8314351a3ba914b2",
       "version_major": 2,
       "version_minor": 0
      },
      "text/plain": [
       "HBox(children=(IntProgress(value=0), HTML(value='')))"
      ]
     },
     "metadata": {},
     "output_type": "display_data"
    },
    {
     "name": "stdout",
     "output_type": "stream",
     "text": [
      "\n"
     ]
    },
    {
     "data": {
      "application/vnd.jupyter.widget-view+json": {
       "model_id": "b4205e332df74fb09ba713bb32431666",
       "version_major": 2,
       "version_minor": 0
      },
      "text/plain": [
       "HBox(children=(IntProgress(value=0), HTML(value='')))"
      ]
     },
     "metadata": {},
     "output_type": "display_data"
    },
    {
     "name": "stdout",
     "output_type": "stream",
     "text": [
      "\n"
     ]
    },
    {
     "data": {
      "application/vnd.jupyter.widget-view+json": {
       "model_id": "15b6caf7078e4c099bf51fb0b0bb30e4",
       "version_major": 2,
       "version_minor": 0
      },
      "text/plain": [
       "HBox(children=(IntProgress(value=0), HTML(value='')))"
      ]
     },
     "metadata": {},
     "output_type": "display_data"
    },
    {
     "name": "stdout",
     "output_type": "stream",
     "text": [
      "\n"
     ]
    }
   ],
   "source": [
    "R_min_plot = 1e-2\n",
    "R_max_plot = 260\n",
    "\n",
    "R_ary = np.linspace(R_min_plot, R_max_plot, 100)*kpc\n",
    "\n",
    "ell = 10\n",
    "dlogC_l_dR_ary_10 = np.array([pspecpop.dC_l_dR_total(ell, R)/pspecpop.C_l_ary[ell] for R in tqdm_notebook(R_ary)])\n",
    "ell = 30\n",
    "dlogC_l_dR_ary_30 = np.array([pspecpop.dC_l_dR_total(ell, R)/pspecpop.C_l_ary[ell] for R in tqdm_notebook(R_ary)])\n",
    "ell = 100\n",
    "dlogC_l_dR_ary_100 = np.array([pspecpop.dC_l_dR_total(ell, R)/pspecpop.C_l_ary[ell] for R in tqdm_notebook(R_ary)])"
   ]
  },
  {
   "cell_type": "code",
   "execution_count": null,
   "metadata": {},
   "outputs": [
    {
     "data": {
      "image/png": "[encoded data removed]",
      "text/plain": [
       "<Figure size 432x360 with 1 Axes>"
      ]
     },
     "metadata": {
      "needs_background": "light"
     },
     "output_type": "display_data"
    }
   ],
   "source": [
    "plt.plot(R_ary/kpc, (R_ary/kpc)*dlogC_l_dR_ary_10/(1/kpc),label=\"$\\ell = 10$\", alpha=alpha_plot, lw=lw_plot, color=colors_plot[0])\n",
    "plt.plot(R_ary/kpc, (R_ary/kpc)*dlogC_l_dR_ary_30/(1/kpc),label=\"$\\ell = 30$\", alpha=alpha_plot, lw=lw_plot, color=colors_plot[1])\n",
    "plt.plot(R_ary/kpc, (R_ary/kpc)*dlogC_l_dR_ary_100/(1/kpc),label=\"$\\ell = 100$\", alpha=alpha_plot, lw=lw_plot, color=colors_plot[2])\n",
    "\n",
    "plt.xlabel(\"$R$\\,[kpc]\")\n",
    "plt.ylabel(\"$d\\ln C_\\ell/d\\ln R$\")\n",
    "\n",
    "plt.xlim(R_min_plot, R_max_plot)\n",
    "\n",
    "plt.legend(frameon=False)\n",
    "\n",
    "plt.title('\\\\textbf{Differential power spectra, fiducial CDM}', y = 1.02, fontsize=17)\n",
    "\n",
    "plt.tight_layout()\n",
    "plt.savefig(\"../Plots/dlnCldlnR.pdf\")"
   ]
  },
  {
   "cell_type": "markdown",
   "metadata": {},
   "source": [
    "## Total signal and noise power spectrum"
   ]
  },
  {
   "cell_type": "code",
   "execution_count": 34,
   "metadata": {},
   "outputs": [
    {
     "data": {
      "image/png": "[encoded data removed]",
      "text/plain": [
       "<Figure size 432x396 with 1 Axes>"
      ]
     },
     "metadata": {
      "needs_background": "light"
     },
     "output_type": "display_data"
    }
   ],
   "source": [
    "rcParams['figure.figsize'] = 6, 5.5\n",
    "\n",
    "plt.plot(pspecpop.l_ary, (1/(2*np.pi))*pspecpop.l_ary*(pspecpop.l_ary + 1)*pspecpop.C_l_ary, label=\"Fiducial $\\Lambda$CDM\", alpha=alpha_plot, lw=lw_plot, color=colors_plot[0])\n",
    "\n",
    "sigma_mu = 1\n",
    "sigma_alpha = .1\n",
    "N_q = 1e9\n",
    "\n",
    "plt.plot(pspecpop.l_ary, (1/(2*np.pi))*pspecpop.l_ary*(pspecpop.l_ary + 1)*np.ones_like(pspecpop.l_ary)*4*np.pi*sigma_mu**2/N_q, label=\"Noise $N_q = 10^9, \\sigma_\\mu=1$\", alpha=alpha_plot, lw=lw_plot, color='darkgrey', ls='--')\n",
    "\n",
    "sigma_mu = 10\n",
    "sigma_alpha = .1\n",
    "N_q = 1e8\n",
    "\n",
    "plt.plot(pspecpop.l_ary, (1/(2*np.pi))*pspecpop.l_ary*(pspecpop.l_ary + 1)*np.ones_like(pspecpop.l_ary)*4*np.pi*sigma_mu**2/N_q, label=\"Noise $N_q = 10^8, \\sigma_\\mu=10$\", alpha=alpha_plot, lw=lw_plot, color='darkgrey', ls='-.')\n",
    "\n",
    "sigma_mu = 0.1\n",
    "sigma_alpha = .1\n",
    "N_q = 1e9\n",
    "\n",
    "plt.plot(pspecpop.l_ary, (1/(2*np.pi))*pspecpop.l_ary*(pspecpop.l_ary + 1)*np.ones_like(pspecpop.l_ary)*4*np.pi*sigma_mu**2/N_q, label=\"Noise $N_q = 10^9, \\sigma_\\mu=0.1$\", alpha=alpha_plot, lw=lw_plot, color='darkgrey', ls='-')\n",
    "\n",
    "plt.yscale(\"log\")\n",
    "plt.xscale(\"log\")\n",
    "\n",
    "plt.xlabel(\"$\\ell$\")\n",
    "plt.ylabel(\"$\\ell(\\ell+1)\\,C_\\ell/2\\pi$ [$\\mu$as$^2$\\,yr$^{-2}$]\")\n",
    "\n",
    "plt.xlim(1, 2000)\n",
    "plt.ylim(1e-13,1e-4)\n",
    "\n",
    "plt.legend(frameon=False, ncol=1, fontsize=15, loc='lower right')\n",
    "\n",
    "plt.title('\\\\textbf{Signal vs noise, fiducial CDM}', y = 1.02, fontsize=18)\n",
    "\n",
    "plt.tight_layout()\n",
    "plt.savefig(\"../Plots/LCDMTheoryNoise.pdf\")"
   ]
  },
  {
   "cell_type": "markdown",
   "metadata": {},
   "source": [
    "# Fisher Forecasts"
   ]
  },
  {
   "cell_type": "code",
   "execution_count": 35,
   "metadata": {},
   "outputs": [],
   "source": [
    "sigma_mu = 1\n",
    "sigma_alpha = .1\n",
    "N_q = 1e9"
   ]
  },
  {
   "cell_type": "markdown",
   "metadata": {},
   "source": [
    "Test."
   ]
  },
  {
   "cell_type": "code",
   "execution_count": 36,
   "metadata": {},
   "outputs": [
    {
     "name": "stdout",
     "output_type": "stream",
     "text": [
      "1.2971136146450868\n",
      "1.2643456837423859\n"
     ]
    }
   ],
   "source": [
    "fDM_base = 1\n",
    "dfDM_base = 0.1\n",
    "\n",
    "Cl_ary_fid = pspecpop.C_l_ary*fDM_base\n",
    "\n",
    "p = pspecpop.C_l_ary*(fDM_base + dfDM_base)\n",
    "m = pspecpop.C_l_ary*(fDM_base - dfDM_base)\n",
    "\n",
    "fDM = Parameter('fDM', fDM_base ,dfDM_base ,None, True, p, m, \n",
    "                None, None, '$\\\\f_\\mathrm{DM}$' )\n",
    "\n",
    "parameters = [Cl_ary_fid, None, 1, 2000, fDM]\n",
    "observation = AstrometryObservation(fsky=1, sigma_mu=sigma_mu, sigma_alpha=None, N_q=N_q, l_min_mu=10, l_max_mu=300, l_min_alpha=10, l_max_alpha=2000)\n",
    "\n",
    "fshr = FisherForecast(parameters, observation)\n",
    "lim = 1.64*np.sqrt(np.linalg.inv(fshr.fshr_cls + fshr.fshr_prior)[0,0])\n",
    "print(lim)\n",
    "baseline_sig = fDM_base/fshr.pars_vary[0].sigma\n",
    "print(baseline_sig)"
   ]
  },
  {
   "cell_type": "markdown",
   "metadata": {},
   "source": [
    "## LCDM discovery significance"
   ]
  },
  {
   "cell_type": "code",
   "execution_count": 8,
   "metadata": {},
   "outputs": [],
   "source": [
    "sigma_mu_ary = np.logspace(-2,1,50)\n",
    "N_q_ary = np.logspace(6,9,50)"
   ]
  },
  {
   "cell_type": "code",
   "execution_count": 9,
   "metadata": {},
   "outputs": [
    {
     "data": {
      "application/vnd.jupyter.widget-view+json": {
       "model_id": "7121da67f61f44bfa9ddae143e14a4cc",
       "version_major": 2,
       "version_minor": 0
      },
      "text/plain": [
       "HBox(children=(IntProgress(value=0, max=50), HTML(value='')))"
      ]
     },
     "metadata": {},
     "output_type": "display_data"
    },
    {
     "name": "stdout",
     "output_type": "stream",
     "text": [
      "\n"
     ]
    }
   ],
   "source": [
    "sig_ary = np.zeros((len(sigma_mu_ary), len(N_q_ary)))\n",
    "\n",
    "for isigmu, sigmu in enumerate(tqdm_notebook(sigma_mu_ary)):\n",
    "    for iNq, Nq in enumerate(N_q_ary):\n",
    "        \n",
    "        fDM_base = 1\n",
    "        dfDM_base = 0.1\n",
    "\n",
    "        Cl_ary_fid = pspecpop.C_l_ary*fDM_base\n",
    "\n",
    "        p = pspecpop.C_l_ary*(fDM_base + dfDM_base)\n",
    "        m = pspecpop.C_l_ary*(fDM_base - dfDM_base)\n",
    "\n",
    "        fDM = Parameter('fDM', fDM_base ,dfDM_base ,None, True, p, m, \n",
    "                        None, None, '$\\\\f_\\mathrm{DM}$' )\n",
    "\n",
    "        parameters = [Cl_ary_fid, None, 1, 2000, fDM]\n",
    "        observation = AstrometryObservation(fsky=1, sigma_mu=sigmu, sigma_alpha=None, N_q=Nq, l_min_mu=10, l_max_mu=300, l_min_alpha=10, l_max_alpha=2000)\n",
    "\n",
    "        fshr = FisherForecast(parameters, observation)\n",
    "        lim = 1.64*np.sqrt(np.linalg.inv(fshr.fshr_cls + fshr.fshr_prior)[0,0])\n",
    "        sig_ary[isigmu, iNq] = fDM_base/fshr.pars_vary[0].sigma"
   ]
  },
  {
   "cell_type": "code",
   "execution_count": 10,
   "metadata": {},
   "outputs": [
    {
     "name": "stderr",
     "output_type": "stream",
     "text": [
      "/scratch/sm8383/anaconda3/envs/venv_smsharma/lib/python3.6/site-packages/matplotlib/font_manager.py:1241: UserWarning: findfont: Font family ['serif'] not found. Falling back to DejaVu Sans.\n",
      "  (prop.get_family(), self.defaultFamily[fontext]))\n",
      "/scratch/sm8383/anaconda3/envs/venv_smsharma/lib/python3.6/site-packages/matplotlib/font_manager.py:1241: UserWarning: findfont: Font family ['serif'] not found. Falling back to DejaVu Sans.\n",
      "  (prop.get_family(), self.defaultFamily[fontext]))\n",
      "/scratch/sm8383/anaconda3/envs/venv_smsharma/lib/python3.6/site-packages/matplotlib/font_manager.py:1241: UserWarning: findfont: Font family ['serif'] not found. Falling back to DejaVu Sans.\n",
      "  (prop.get_family(), self.defaultFamily[fontext]))\n"
     ]
    },
    {
     "data": {
      "image/png": "[encoded data removed]",
      "text/plain": [
       "<Figure size 504x396 with 2 Axes>"
      ]
     },
     "metadata": {
      "needs_background": "light"
     },
     "output_type": "display_data"
    }
   ],
   "source": [
    "rcParams['figure.figsize'] = 7, 5.5\n",
    "\n",
    "levels = [1,3,5]\n",
    "X, Y = np.meshgrid(np.log10(N_q_ary), np.log10(sigma_mu_ary))\n",
    "\n",
    "fig, ax = plt.subplots()\n",
    "\n",
    "CS = ax.contour(X, Y, sig_ary, levels = levels, linestyles=['-.','--','-'], colors='k', linewidths=2, alpha=0.7)\n",
    "\n",
    "fmt = {}\n",
    "strs = ['1$\\sigma$', '3$\\sigma$', '5$\\sigma$']\n",
    "for l, s in zip(CS.levels, strs):\n",
    "    fmt[l] = s\n",
    "    \n",
    "im = ax.imshow(sig_ary,cmap = 'PuBu', aspect='auto', origin='lower', extent=[6,9,-2,1], vmin=0, vmax=30)\n",
    "\n",
    "ax.clabel(CS, fmt=fmt,inline=1, fontsize=14)\n",
    "\n",
    "ax.set_xlabel(\"$\\log_{10}(N_q)$\")\n",
    "ax.set_ylabel(\"$\\log_{10}(\\sigma_\\mu~[\\mu$as\\,yr$^{-1}$])\")\n",
    "ax.set_title('\\\\textbf{Discovery significance, fiducial CDM}', y = 1.02, fontsize=18)\n",
    "\n",
    "cbar = fig.colorbar(im)\n",
    "cbar.set_label('Detection significance [$\\sigma$]')\n",
    "\n",
    "plt.tight_layout()\n",
    "plt.savefig(\"../Plots/LCDM_disc.pdf\")"
   ]
  },
  {
   "cell_type": "code",
   "execution_count": 28,
   "metadata": {},
   "outputs": [],
   "source": [
    "# l_min_ary = np.linspace(5,30,50)\n",
    "# l_max_ary = np.linspace(10,100,50)"
   ]
  },
  {
   "cell_type": "code",
   "execution_count": 29,
   "metadata": {},
   "outputs": [],
   "source": [
    "# sig_l_ary = np.zeros((len(l_max_ary), len(l_min_ary)))\n",
    "\n",
    "# for ilmax, lmax in enumerate(tqdm_notebook(l_max_ary)):\n",
    "#     for ilmin, lmin in enumerate((l_min_ary)):\n",
    "        \n",
    "#         if lmin >= lmax - 1: continue\n",
    "            \n",
    "#         fDM_base = 1\n",
    "#         dfDM_base = 0.1\n",
    "\n",
    "#         Cl_ary_fid = pspecpop.C_l_ary*fDM_base\n",
    "\n",
    "#         p = pspecpop.C_l_ary*(fDM_base + dfDM_base)\n",
    "#         m = pspecpop.C_l_ary*(fDM_base - dfDM_base)\n",
    "\n",
    "#         fDM = Parameter('fDM', fDM_base ,dfDM_base ,None, True, p, m, \n",
    "#                         None, None, '$\\\\f_\\mathrm{DM}$' )\n",
    "\n",
    "#         parameters = [Cl_ary_fid, None, 1, 2000, fDM]\n",
    "#         observation = AstrometryObservation(fsky=1, sigma_mu=1, sigma_alpha=None, N_q=1e9, l_min_mu=lmin, l_max_mu=lmax, l_min_alpha=10, l_max_alpha=2000)\n",
    "\n",
    "#         fshr = FisherForecast(parameters, observation)\n",
    "#         lim = 1.64*np.sqrt(np.linalg.inv(fshr.fshr_cls + fshr.fshr_prior)[0,0])\n",
    "#         sig_l_ary[ilmax, ilmin] = fDM_base/fshr.pars_vary[0].sigma"
   ]
  },
  {
   "cell_type": "code",
   "execution_count": 30,
   "metadata": {},
   "outputs": [],
   "source": [
    "# rcParams['figure.figsize'] = 7, 5.5\n",
    "\n",
    "# levels = [0.5,1,1.2]\n",
    "# X, Y = np.meshgrid(l_min_ary, l_max_ary)\n",
    "\n",
    "# fig, ax = plt.subplots()\n",
    "\n",
    "# CS = ax.contour(X, Y, sig_l_ary/baseline_sig, levels = levels, linestyles=['-.','--','-'], colors='k', linewidths=2, alpha=0.7)\n",
    "\n",
    "# fmt = {}\n",
    "# strs = ['0.5','1.0','1.2']\n",
    "# for l, s in zip(CS.levels, strs):\n",
    "#     fmt[l] = s\n",
    "    \n",
    "# im = ax.imshow(sig_l_ary/baseline_sig,cmap = 'PuBu', aspect='auto', origin='lower', extent=[min(l_min_ary), max(l_min_ary), min(l_max_ary),  max(l_max_ary)], vmin=0., vmax=2)\n",
    "\n",
    "# ax.clabel(CS, fmt=fmt,inline=1, fontsize=14)\n",
    "\n",
    "# ax.set_xlabel(\"$\\ell_\\mathrm{min}$\")\n",
    "# ax.set_ylabel(\"$\\ell_\\mathrm{max}$\")\n",
    "# ax.set_title('\\\\textbf{Dependence on $\\ell_\\mathrm{min}/\\ell_\\mathrm{max}$, fiducial CDM}', y = 1.02, fontsize=18)\n",
    "\n",
    "# cbar = fig.colorbar(im)\n",
    "# cbar.set_label('$\\sigma$/$\\sigma_\\mathrm{baseline}$')\n",
    "\n",
    "# plt.tight_layout()\n",
    "# plt.savefig(\"../Plots/LCDM_lminmax.pdf\")\n"
   ]
  },
  {
   "cell_type": "markdown",
   "metadata": {},
   "source": [
    "## Compact object limits"
   ]
  },
  {
   "cell_type": "code",
   "execution_count": null,
   "metadata": {},
   "outputs": [],
   "source": [
    "pspecpop = PowerSpectraPopulations()"
   ]
  },
  {
   "cell_type": "code",
   "execution_count": null,
   "metadata": {},
   "outputs": [],
   "source": [
    "pspecpop.set_radial_distribution(pspecpop.r2rho_V_NFW, R_min=1e-3*kpc, R_max=260*kpc)"
   ]
  },
  {
   "cell_type": "code",
   "execution_count": null,
   "metadata": {},
   "outputs": [],
   "source": [
    "# sigma_mu = 10\n",
    "# sigma_alpha = .1\n",
    "# N_q = 0.0001*4*np.pi*1e9\n",
    "\n"
   ]
  },
  {
   "cell_type": "code",
   "execution_count": null,
   "metadata": {},
   "outputs": [],
   "source": [
    "M_DM_ary = np.logspace(1,14,20)*M_s"
   ]
  },
  {
   "cell_type": "code",
   "execution_count": null,
   "metadata": {},
   "outputs": [],
   "source": [
    "f_DM_lim_ary = np.zeros_like(M_DM_ary)\n",
    "\n",
    "sigma_mu = 1\n",
    "sigma_alpha = .1\n",
    "N_q = 1e9\n",
    "\n",
    "for iDM, M_DM in enumerate(tqdm_notebook(M_DM_ary)):\n",
    "    pspecpop.set_mass_distribution_compact(M_DM=M_DM, f_DM=1)\n",
    "    pspecpop.get_C_l_compact_total_ary();\n",
    "\n",
    "\n",
    "    fDM_base = 0\n",
    "    dfDM_base = 0.1\n",
    "\n",
    "    Cl_ary_fid = np.array(pspecpop.C_l_ary)*fDM_base\n",
    "\n",
    "    p = np.array(pspecpop.C_l_ary)*(fDM_base + dfDM_base)\n",
    "    m = np.array(pspecpop.C_l_ary)*(fDM_base - dfDM_base)\n",
    "\n",
    "    fDM = Parameter('fDM', fDM_base ,dfDM_base ,None, True, p, m, \n",
    "                    None, None, '$\\\\f_\\mathrm{DM}$' )\n",
    "\n",
    "    parameters = [Cl_ary_fid, None, 1, 2000, fDM]\n",
    "    observation = AstrometryObservation(fsky=1, sigma_mu=sigma_mu, sigma_alpha=None, N_q=N_q, l_min_mu=10, l_max_mu=300, l_min_alpha=10, l_max_alpha=2000)\n",
    "\n",
    "    fshr = FisherForecast(parameters, observation)\n",
    "    lim = 1.64*np.sqrt(np.linalg.inv(fshr.fshr_cls + fshr.fshr_prior)[0,0])\n",
    "    f_DM_lim_ary[iDM] = lim"
   ]
  },
  {
   "cell_type": "code",
   "execution_count": null,
   "metadata": {},
   "outputs": [],
   "source": [
    "f_DM_lim_2_ary = np.zeros_like(M_DM_ary)\n",
    "\n",
    "sigma_mu = 10\n",
    "sigma_alpha = .1\n",
    "N_q = 1e8\n",
    "\n",
    "for iDM, M_DM in enumerate(tqdm_notebook(M_DM_ary)):\n",
    "    pspecpop.set_mass_distribution_compact(M_DM=M_DM, f_DM=1)\n",
    "    pspecpop.get_C_l_compact_total_ary();\n",
    "\n",
    "\n",
    "    fDM_base = 0\n",
    "    dfDM_base = 0.1\n",
    "\n",
    "    Cl_ary_fid = np.array(pspecpop.C_l_ary)*fDM_base\n",
    "\n",
    "    p = np.array(pspecpop.C_l_ary)*(fDM_base + dfDM_base)\n",
    "    m = np.array(pspecpop.C_l_ary)*(fDM_base - dfDM_base)\n",
    "\n",
    "    fDM = Parameter('fDM', fDM_base ,dfDM_base ,None, True, p, m, \n",
    "                    None, None, '$\\\\f_\\mathrm{DM}$' )\n",
    "\n",
    "    parameters = [Cl_ary_fid, None, 1, 2000, fDM]\n",
    "    observation = AstrometryObservation(fsky=1, sigma_mu=sigma_mu, sigma_alpha=None, N_q=N_q, l_min_mu=10, l_max_mu=300, l_min_alpha=10, l_max_alpha=2000)\n",
    "\n",
    "    fshr = FisherForecast(parameters, observation)\n",
    "    lim = 1.64*np.sqrt(np.linalg.inv(fshr.fshr_cls + fshr.fshr_prior)[0,0])\n",
    "    f_DM_lim_2_ary[iDM] = lim"
   ]
  },
  {
   "cell_type": "code",
   "execution_count": null,
   "metadata": {},
   "outputs": [],
   "source": [
    "plt.plot(M_DM_ary/M_s, f_DM_lim_ary, label='$N_q = 10^9, \\sigma_\\mu=1$', color=colors_plot[0])\n",
    "plt.plot(M_DM_ary/M_s, f_DM_lim_2_ary, label='$N_q = 10^8, \\sigma_\\mu=10$', color=colors_plot[1])\n",
    "\n",
    "plt.xscale(\"log\")\n",
    "plt.yscale(\"log\")\n",
    "\n",
    "plt.ylim(1e-5,1)\n",
    "plt.xlim(1e3, 1e9)\n",
    "\n",
    "plt.xlabel(\"$M$\\,[M$_\\odot$]\")\n",
    "plt.ylabel(\"$f_\\mathrm{DM}$\")\n",
    "\n",
    "plt.title('\\\\textbf{Sensitivity to compact objects}', y = 1.02, fontsize=18)\n",
    "legend = plt.legend(frameon=False, title=\"Noise configuration\")\n",
    "plt.setp(legend.get_title(),fontsize=18)\n",
    "\n",
    "plt.tight_layout()\n",
    "plt.savefig(\"../Plots/compact.pdf\")"
   ]
  },
  {
   "cell_type": "markdown",
   "metadata": {},
   "source": [
    "# Theory vs sim"
   ]
  },
  {
   "cell_type": "code",
   "execution_count": 107,
   "metadata": {},
   "outputs": [
    {
     "data": {
      "application/vnd.jupyter.widget-view+json": {
       "model_id": "8fa72191950146dbb27aaf7a094cc028",
       "version_major": 2,
       "version_minor": 0
      },
      "text/plain": [
       "HBox(children=(IntProgress(value=0, max=50), HTML(value='')))"
      ]
     },
     "metadata": {},
     "output_type": "display_data"
    }
   ],
   "source": [
    "pspecpop.set_radial_distribution(pspecpop.r2rho_V_ein_EAQ, R_min=1e-3*kpc, R_max=260*kpc)\n",
    "pspecpop.set_mass_distribution(pspecpop.rho_M_SI, M_min=10**6.5*M_s, M_max=0.04*1.1e12*M_s, \n",
    "                               M_min_calib=1e8*M_s, M_max_calib=1e10*M_s, N_calib=150, alpha=-1.9)\n",
    "pspecpop.set_subhalo_properties(pspecpop.c200_SCP)\n",
    "\n",
    "pspecpop.get_C_l_total_ary(accel=True);"
   ]
  },
  {
   "cell_type": "code",
   "execution_count": null,
   "metadata": {},
   "outputs": [],
   "source": [
    "max_sep = 20\n",
    "nsim = 200\n",
    "nside = 128\n",
    "lmax = 3*nside - 1"
   ]
  },
  {
   "cell_type": "code",
   "execution_count": null,
   "metadata": {},
   "outputs": [],
   "source": [
    "Cl_B_ary = np.zeros((nsim, lmax))\n",
    "for i in tqdm_notebook(range(nsim)):\n",
    "    Cl_B = np.load(\"/scratch/sm8383/QuasarSims/lcdm_\" + str(i) + \".0.npz\")['Cl_B']\n",
    "    Cl_B_ary[i, :] = Cl_B"
   ]
  },
  {
   "cell_type": "code",
   "execution_count": 62,
   "metadata": {},
   "outputs": [],
   "source": [
    "Cl_B_plot = np.percentile(Cl_B_ary*1e12, [16,50,84], axis=0)/(2*ell + 1)/(2*np.pi)"
   ]
  },
  {
   "cell_type": "code",
   "execution_count": 111,
   "metadata": {},
   "outputs": [
    {
     "data": {
      "image/png": "[encoded data removed]",
      "text/plain": [
       "<Figure size 417.6x388.8 with 1 Axes>"
      ]
     },
     "metadata": {
      "needs_background": "light"
     },
     "output_type": "display_data"
    }
   ],
   "source": [
    "rcParams['figure.figsize'] = 5.8, 5.4\n",
    "\n",
    "ell = np.arange(1, len(Cl_B_plot[0]) + 1)\n",
    "\n",
    "plt.plot(pspecpop.l_ary, pspecpop.l_ary*(pspecpop.l_ary + 1)*pspecpop.C_l_ary/(2*np.pi), alpha=alpha_plot, lw=lw_plot, color='dodgerblue', label=\"Theory\")\n",
    "\n",
    "plt.plot(ell, ell*(ell + 1)*Cl_B_plot[1], ls='--', color='firebrick', alpha=0.5)\n",
    "plt.fill_between(ell, ell*(ell + 1)*Cl_B_plot[0],ell*(ell + 1)*Cl_B_plot[2], alpha=0.2, color='firebrick', label=\"Simulation\")\n",
    "\n",
    "plt.legend(frameon=False, ncol=1, fontsize=15, loc='lower right')\n",
    "\n",
    "plt.title('\\\\textbf{Theory vs simulations, fiducial CDM}', y = 1.02, fontsize=18)\n",
    "\n",
    "plt.xscale(\"log\")\n",
    "plt.yscale(\"log\")\n",
    "\n",
    "plt.xlim(10,200)\n",
    "# plt.ylim(1e-10,8e-8)\n",
    "\n",
    "plt.xlabel(\"$\\ell$\")\n",
    "plt.ylabel(\"$\\ell(\\ell+1)\\,C_\\ell/2\\pi$ [$\\mu$as$^2$\\,yr$^{-2}$]\")\n",
    "\n",
    "\n",
    "plt.tight_layout()\n",
    "# plt.savefig(\"../Plots/TheoryvsSim.pdf\")\n"
   ]
  },
  {
   "cell_type": "code",
   "execution_count": null,
   "metadata": {},
   "outputs": [],
   "source": [
    "Cl_B_ary = np.zeros((nsim, lmax))\n",
    "for i in tqdm_notebook(range(nsim)):\n",
    "    Cl_B = np.load(\"/scratch/sm8383/QuasarSims/lcdm_\" + str(i) + \".0.npz\")['Cl_B']\n",
    "    Cl_B_ary[i, :] = Cl_B"
   ]
  }
 ],
 "metadata": {
  "kernelspec": {
   "display_name": "Python 3",
   "language": "python",
   "name": "python3"
  },
  "language_info": {
   "codemirror_mode": {
    "name": "ipython",
    "version": 3
   },
   "file_extension": ".py",
   "mimetype": "text/x-python",
   "name": "python",
   "nbconvert_exporter": "python",
   "pygments_lexer": "ipython3",
   "version": "3.6.8"
  }
 },
 "nbformat": 4,
 "nbformat_minor": 2
}
