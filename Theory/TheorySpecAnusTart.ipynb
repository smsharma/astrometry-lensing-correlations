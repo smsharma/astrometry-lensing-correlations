{
 "cells": [
  {
   "cell_type": "code",
   "execution_count": 12,
   "metadata": {},
   "outputs": [
    {
     "name": "stdout",
     "output_type": "stream",
     "text": [
      "The autoreload extension is already loaded. To reload it, use:\n",
      "  %reload_ext autoreload\n"
     ]
    }
   ],
   "source": [
    "import sys\n",
    "sys.path.append(\"../Simulations/\")\n",
    "\n",
    "from units import *\n",
    "import matplotlib.pyplot as plt\n",
    "from tqdm import *\n",
    "from scipy.integrate import nquad, quad\n",
    "from scipy.interpolate import interp1d\n",
    "from scipy.special import erf, jn, jv, kn\n",
    "import mpmath as mp\n",
    "from skmonaco import mcimport, mcquad, mcmiser\n",
    "\n",
    "%matplotlib inline\n",
    "%load_ext autoreload\n",
    "%autoreload 2"
   ]
  },
  {
   "cell_type": "markdown",
   "metadata": {},
   "source": [
    "# Single subhalo"
   ]
  },
  {
   "cell_type": "code",
   "execution_count": 2,
   "metadata": {},
   "outputs": [],
   "source": [
    "def R0_VL(M0):\n",
    "    \"\"\" Concentration-mass relation for Plummer profile from 1711.03554\n",
    "    \"\"\"\n",
    "    return 1.2*kpc*(M0/(1e8*M_s))**0.5\n",
    "\n",
    "def c200_SC(M200):\n",
    "    \"\"\" Concentration-mass relation according to Sanchez-Conde&Prada14\n",
    "    \"\"\"\n",
    "    x=np.log(M200*h) # Given in terms of M_s/h in S-C&P paper\n",
    "    pars=[37.5153, -1.5093, 1.636e-2, 3.66e-4, -2.89237e-5, 5.32e-7][::-1]\n",
    "    return np.polyval(pars, x)\n",
    "\n",
    "def get_rs_rhos_NFW(M200):\n",
    "    \"\"\" Get NFW scale radius and density\n",
    "    \"\"\"\n",
    "    c200 = c200_SC(M200/M_s)\n",
    "    r200 = (M200/(4/3.*np.pi*200*rho_c))**(1/3.)\n",
    "    rho_s = M200/(4*np.pi*(r200/c200)**3*(np.log(1 + c200) - c200/(1 + c200)))\n",
    "    r_s = r200/c200\n",
    "    return r_s, rho_s\n",
    "\n",
    "def get_rb_rhob_Burk(M200, p):\n",
    "    \"\"\" Get Burkert scale radius and density\n",
    "    \"\"\"\n",
    "    c200n = c200_SC(M200/M_s)\n",
    "    c200b = c200n/p\n",
    "    r200 = (M200/(4/3.*mp.pi*200*rho_c))**(1/3.)\n",
    "    r_b = r200/c200b\n",
    "    rho_b = M200/(r_b**3*mp.pi*(-2*mp.atan(c200b) + mp.log((1+c200b)**2*(1+c200b**2))))\n",
    "    return r_b, rho_b\n",
    "\n",
    "def F(x):\n",
    "    \"\"\" Helper function for NFW deflection, from astro-ph/0102341\n",
    "    \"\"\"\n",
    "    if x > 1:\n",
    "        return mp.atan(mp.sqrt(x**2-1))/(mp.sqrt(x**2 - 1))\n",
    "    elif x == 1:\n",
    "        return 1\n",
    "    elif x < 1:\n",
    "        return mp.atanh(mp.sqrt(1-x**2))/(mp.sqrt(1-x**2))\n",
    "    \n",
    "def Ft(x, tau):\n",
    "    \"\"\" Helper function for truncated NFW deflection\n",
    "    \"\"\"\n",
    "    return tau**2/(tau**2 + 1)**2*((tau**2 + 1 + 2*(x**2 - 1))*F(x) + tau*mp.pi + (tau**2 - 1)*mp.log(tau) + mp.sqrt(tau**2 + x**2)*(-mp.pi + (tau**2 - 1)/tau*L(x, tau)))\n",
    "\n",
    "def L(x, tau):\n",
    "    \"\"\" Helper function for truncated NFW deflection\n",
    "    \"\"\"\n",
    "    return mp.log(x/(mp.sqrt(tau**2 + x**2) + tau))\n",
    "\n",
    "def Fb(x):\n",
    "    \"\"\" Helper function for Burkert deflection\n",
    "    \"\"\"\n",
    "    if x > 1:\n",
    "        return mp.log(x/2.) + mp.pi/4.*(mp.sqrt(x**2 + 1) - 1) + mp.sqrt(x**2 + 1)/2*mp.acoth(mp.sqrt(x**2 + 1)) - 0.5*mp.sqrt(x**2 - 1)*mp.atan(mp.sqrt(x**2 - 1))\n",
    "    elif x == 1:\n",
    "        return -mp.log(2.) - mp.pi/4. + 1/(2*mp.sqrt(2))*(mp.pi + mp.log(3 + 2*mp.sqrt(2)))\n",
    "    elif x < 1:\n",
    "        return mp.log(x/2.) + mp.pi/4.*(mp.sqrt(x**2 + 1) - 1) + mp.sqrt(x**2 + 1)/2*mp.acoth(mp.sqrt(x**2 + 1)) + 0.5*mp.sqrt(1 - x**2)*mp.atanh(mp.sqrt(1 - x**2))"
   ]
  },
  {
   "cell_type": "code",
   "execution_count": 3,
   "metadata": {},
   "outputs": [],
   "source": [
    "def MGauss(theta, M0, beta0):\n",
    "    \"\"\" Enclosed mass in cylinder, Gaussian profile\n",
    "    \"\"\"\n",
    "    return M0*(1-mp.exp(-theta**2/(2*beta0**2)))\n",
    "\n",
    "def MPlumm(theta, M0, beta0):\n",
    "    \"\"\" Enclosed mass in cylinder, Plummer profile\n",
    "    \"\"\"\n",
    "    return M0*theta**2/(theta**2 + beta0**2)\n",
    "\n",
    "def MNFW(r, M200):\n",
    "    \"\"\" Enclosed mass in cylinder, NFW profile\n",
    "    \"\"\"\n",
    "    r_s, rho_s = get_rs_rhos_NFW(M200)\n",
    "    x = r/r_s\n",
    "    M0 = 4*np.pi*r_s**3*rho_s\n",
    "    phi_r = M0*(mp.log(x/2) + F(x))\n",
    "    return phi_r/1e69\n",
    "\n",
    "def MtNFW(r, M200, tau=15):\n",
    "    \"\"\" Enclosed mass in cylinder, tNFW profile\n",
    "    \"\"\"\n",
    "    r_s, rho_s = get_rs_rhos_NFW(M200)\n",
    "    x = r/r_s\n",
    "    M0 = 4*np.pi*r_s**3*rho_s\n",
    "    phi_r = M0*Ft(x, tau)\n",
    "    return phi_r/1e69\n",
    "\n",
    "def MBurk(r, M200, p=0.7):\n",
    "    \"\"\" Enclosed mass in cylinder, Burkert profile\n",
    "    \"\"\"\n",
    "    r_b, rho_b = get_rb_rhob_Burk(M200, p)\n",
    "    x = r/r_b\n",
    "    M0 = 4*np.pi*r_b**3*rho_b\n",
    "    phi_r = M0*Fb(x)\n",
    "    return phi_r/1e69"
   ]
  },
  {
   "cell_type": "code",
   "execution_count": 4,
   "metadata": {},
   "outputs": [],
   "source": [
    "def Cl_Gauss(R0, M0, Dl, v, l):\n",
    "    beta0 = R0/Dl\n",
    "    return (4*GN*M0*v/Dl**2)**2*np.pi/2.*np.exp(-l**2*beta0**2)\n",
    "\n",
    "def Cl_Plummer(R0, M0, Dl, v, l):\n",
    "    beta0 = R0/Dl\n",
    "    return (4*GN*M0*v/Dl**2)**2*np.pi/2.*l**2*beta0**2*kn(1, l*beta0)**2\n",
    "\n",
    "def Cl_Point(R0, M0, Dl, v, l):\n",
    "    beta0 = R0/Dl\n",
    "    return (4*GN*M0*v/Dl**2)**2*np.pi/2.\n",
    "\n",
    "def Cl_NFW(M200, Dl, v, l):\n",
    "    pref = 1e69**2*GN**2*v**2*8*mp.pi*l**2/Dl**4\n",
    "    Mj = mp.quadosc(lambda theta: MNFW(theta*Dl, M200)*mp.j1(l*theta), [0, mp.inf], period=2*mp.pi/l)\n",
    "    return pref*Mj**2\n",
    "\n",
    "def Cl_tNFW(M200, Dl, v, l, tau=15):\n",
    "    pref = 1e69**2*GN**2*v**2*8*mp.pi*l**2/Dl**4\n",
    "    Mj = mp.quadosc(lambda theta: MtNFW(theta*Dl, M200, tau)*mp.j1(l*theta), [0, mp.inf], period=2*mp.pi/l)\n",
    "    return pref*Mj**2\n",
    "\n",
    "def Cl_Burk(M200, Dl, v, l, p=0.7):\n",
    "    pref = 1e69**2*GN**2*v**2*8*mp.pi*l**2/Dl**4\n",
    "    Mj = mp.quadosc(lambda theta: MBurk(theta*Dl, M200, p)*mp.j1(l*theta), [0, mp.inf], period=2*mp.pi/l)\n",
    "    return pref*Mj**2"
   ]
  },
  {
   "cell_type": "code",
   "execution_count": 5,
   "metadata": {},
   "outputs": [],
   "source": [
    "l_min = 1\n",
    "l_max = 500\n",
    "n_l = 50\n",
    "l_ary = np.logspace(np.log10(l_min), np.log10(l_max), n_l)"
   ]
  },
  {
   "cell_type": "code",
   "execution_count": 6,
   "metadata": {},
   "outputs": [],
   "source": [
    "M0 = 10**8*M_s\n",
    "R0 = R0_VL(M0)\n",
    "Dl = 10*kpc\n",
    "v = 1e-3"
   ]
  },
  {
   "cell_type": "code",
   "execution_count": 7,
   "metadata": {},
   "outputs": [
    {
     "data": {
      "application/vnd.jupyter.widget-view+json": {
       "model_id": "d34079a2f5124433a967b59cce9d5084",
       "version_major": 2,
       "version_minor": 0
      },
      "text/plain": [
       "HBox(children=(IntProgress(value=0, max=50), HTML(value='')))"
      ]
     },
     "metadata": {},
     "output_type": "display_data"
    },
    {
     "name": "stdout",
     "output_type": "stream",
     "text": [
      "\n"
     ]
    },
    {
     "data": {
      "application/vnd.jupyter.widget-view+json": {
       "model_id": "256a9a51e4d54b8091b39ec59f78f32e",
       "version_major": 2,
       "version_minor": 0
      },
      "text/plain": [
       "HBox(children=(IntProgress(value=0, max=50), HTML(value='')))"
      ]
     },
     "metadata": {},
     "output_type": "display_data"
    },
    {
     "name": "stdout",
     "output_type": "stream",
     "text": [
      "\n"
     ]
    },
    {
     "data": {
      "application/vnd.jupyter.widget-view+json": {
       "model_id": "29e957b290aa4cac95dd37ed98eff6fa",
       "version_major": 2,
       "version_minor": 0
      },
      "text/plain": [
       "HBox(children=(IntProgress(value=0, max=50), HTML(value='')))"
      ]
     },
     "metadata": {},
     "output_type": "display_data"
    },
    {
     "name": "stdout",
     "output_type": "stream",
     "text": [
      "\n"
     ]
    },
    {
     "data": {
      "application/vnd.jupyter.widget-view+json": {
       "model_id": "0c565a14d6f642b68570548a0fd91570",
       "version_major": 2,
       "version_minor": 0
      },
      "text/plain": [
       "HBox(children=(IntProgress(value=0, max=50), HTML(value='')))"
      ]
     },
     "metadata": {},
     "output_type": "display_data"
    },
    {
     "name": "stdout",
     "output_type": "stream",
     "text": [
      "\n"
     ]
    }
   ],
   "source": [
    "Cl_NFW_ary = np.array([Cl_NFW(M0, Dl, v, l) for l in tqdm_notebook(l_ary)])/(1e-6*asctorad/Year)**2\n",
    "Cl_tNFW_ary = np.array([Cl_tNFW(M0, Dl, v, l, tau=15) for l in tqdm_notebook(l_ary)])/(1e-6*asctorad/Year)**2\n",
    "Cl_tNFW2_ary = np.array([Cl_tNFW(M0, Dl, v, l, tau=10) for l in tqdm_notebook(l_ary)])/(1e-6*asctorad/Year)**2\n",
    "Cl_Burk_ary = np.array([Cl_Burk(M0, Dl, v, l) for l in tqdm_notebook(l_ary)])/(1e-6*asctorad/Year)**2"
   ]
  },
  {
   "cell_type": "code",
   "execution_count": 8,
   "metadata": {},
   "outputs": [],
   "source": [
    "Cl_Plummer_ary = Cl_Plummer(R0, M0, Dl, v, l_ary)/(1e-6*asctorad/Year)**2;\n",
    "Cl_Gauss_ary = Cl_Gauss(R0, M0, Dl, v, l_ary)/(1e-6*asctorad/Year)**2;\n",
    "Cl_Point_ary = Cl_Point(R0, M0, Dl, v, l_ary)/(1e-6*asctorad/Year)**2;"
   ]
  },
  {
   "cell_type": "code",
   "execution_count": 9,
   "metadata": {},
   "outputs": [
    {
     "name": "stderr",
     "output_type": "stream",
     "text": [
      "/scratch/sm8383/anaconda3/envs/venv_smsharma/lib/python3.6/site-packages/matplotlib/font_manager.py:1241: UserWarning: findfont: Font family ['serif'] not found. Falling back to DejaVu Sans.\n",
      "  (prop.get_family(), self.defaultFamily[fontext]))\n",
      "/scratch/sm8383/anaconda3/envs/venv_smsharma/lib/python3.6/site-packages/matplotlib/font_manager.py:1241: UserWarning: findfont: Font family ['serif'] not found. Falling back to DejaVu Sans.\n",
      "  (prop.get_family(), self.defaultFamily[fontext]))\n",
      "/scratch/sm8383/anaconda3/envs/venv_smsharma/lib/python3.6/site-packages/matplotlib/font_manager.py:1241: UserWarning: findfont: Font family ['serif'] not found. Falling back to DejaVu Sans.\n",
      "  (prop.get_family(), self.defaultFamily[fontext]))\n",
      "/scratch/sm8383/anaconda3/envs/venv_smsharma/lib/python3.6/site-packages/matplotlib/font_manager.py:1241: UserWarning: findfont: Font family ['serif'] not found. Falling back to DejaVu Sans.\n",
      "  (prop.get_family(), self.defaultFamily[fontext]))\n"
     ]
    },
    {
     "data": {
      "image/png": "[encoded data removed]",
      "text/plain": [
       "<Figure size 576x432 with 1 Axes>"
      ]
     },
     "metadata": {
      "needs_background": "light"
     },
     "output_type": "display_data"
    }
   ],
   "source": [
    "plt.figure(figsize=(8,6))\n",
    "plt.plot(l_ary, Cl_NFW_ary, label=\"NFW\", alpha=0.8, c='cornflowerblue')\n",
    "plt.plot(l_ary, Cl_tNFW_ary, label=\"tNFW, $\\\\tau = 15$\", alpha=0.8, ls='--', c='cornflowerblue')\n",
    "plt.plot(l_ary, Cl_tNFW2_ary, label=\"tNFW, $\\\\tau = 10$\", alpha=0.8, ls='-.', c='cornflowerblue')\n",
    "plt.plot(l_ary, Cl_Burk_ary, label=\"Burk\", alpha=0.8,c='forestgreen')\n",
    "plt.plot(l_ary, Cl_Gauss_ary, label=\"Gaussian\", alpha=0.8, c='orange')\n",
    "plt.plot(l_ary, Cl_Plummer_ary, label=\"Plummer\", alpha=0.8, color='firebrick')\n",
    "plt.plot(l_ary, len(l_ary)*[Cl_Point_ary], label=\"Point-like\", c='k', ls='--', alpha=0.8)\n",
    "\n",
    "plt.axvline((1/(R0/Dl)), c='grey', lw=1, alpha=0.5, ls='--')\n",
    "plt.text((1/(R0/Dl)),1e-17,'$D_L/R_0$',rotation=90, fontsize=14)\n",
    "\n",
    "plt.axvline(1/(get_rs_rhos_NFW(M0)[0]/Dl), c='grey', lw=1, alpha=0.5, ls='--')\n",
    "plt.text((1/(get_rs_rhos_NFW(M0)[0]/Dl)),1e-17,'$D_L/R_s$',rotation=90, fontsize=14)\n",
    "\n",
    "n = 4\n",
    "plt.plot(l_ary, (1/l_ary**n)*Cl_NFW_ary[-1]/(1/(l_ary**n)[-1]), lw=1, alpha=0.8, ls='dotted', c='cornflowerblue')\n",
    "\n",
    "n = 8\n",
    "l_base = 2000\n",
    "fac = Cl_Burk(M0, Dl, v, l_base)/(1e-6*asctorad/Year)**2/(1/(l_base**n))\n",
    "plt.plot(l_ary, (1/l_ary**n)*fac, lw=1, alpha=0.8, ls='dotted',c='forestgreen')\n",
    "\n",
    "plt.xscale(\"log\")\n",
    "plt.yscale(\"log\")\n",
    "plt.xlabel(\"$\\ell$\")\n",
    "plt.ylabel(\"$C_\\ell^{(1)}$ [$\\mu$as$^2$\\,yr$^{-2}$]\")\n",
    "\n",
    "\n",
    "plt.xlim(l_min, l_max)\n",
    "plt.ylim(1e-19,1e-8)\n",
    "\n",
    "plt.title('\\\\textbf{Velocity power spectrum, single subhalo}', fontsize=18.5, y=1.02)\n",
    "plt.text(40, 2.3e-9,'$M_0 = 10^8\\,$M$_\\odot$, $R_0$ = ' + str(R0/kpc)[:3] + '\\,kpc', fontsize=14)\n",
    "plt.text(40, 5e-10,'$D_L$ = 10\\,kpc, $v=10^{-3}$', fontsize=14)\n",
    "\n",
    "plt.text(200, 1e-14,'$\\propto l^{-4}$', fontsize=14)\n",
    "plt.text(200, 2e-17,'$\\propto l^{-8}$', fontsize=14)\n",
    "\n",
    "plt.legend(frameon=False)\n",
    "\n",
    "plt.tight_layout()\n",
    "plt.savefig(\"single_sub.pdf\")"
   ]
  },
  {
   "cell_type": "markdown",
   "metadata": {},
   "source": [
    "# Populations"
   ]
  },
  {
   "cell_type": "markdown",
   "metadata": {},
   "source": [
    "### Set some parameters"
   ]
  },
  {
   "cell_type": "code",
   "execution_count": 13,
   "metadata": {},
   "outputs": [],
   "source": [
    "Rsun = 8*kpc\n",
    "Rmin = 1*kpc\n",
    "Rmax = 200*kpc\n",
    "M_min = 1e7*M_s\n",
    "M_max = 1e12*M_s"
   ]
  },
  {
   "cell_type": "code",
   "execution_count": 14,
   "metadata": {},
   "outputs": [],
   "source": [
    "v0 = 220.*Kmps\n",
    "vesc = 544.*Kmps\n",
    "vsun = (11.*Kmps, 12.*Kmps + v0, 7.*Kmps)\n",
    "\n",
    "Nesc = erf(vesc/v0) - 2/np.sqrt(np.pi)*vesc/v0*np.exp(-vesc**2/v0**2)"
   ]
  },
  {
   "cell_type": "code",
   "execution_count": 15,
   "metadata": {},
   "outputs": [],
   "source": [
    "DM_frac = 0.2"
   ]
  },
  {
   "cell_type": "markdown",
   "metadata": {},
   "source": [
    "### Define some distributions"
   ]
  },
  {
   "cell_type": "code",
   "execution_count": 16,
   "metadata": {},
   "outputs": [],
   "source": [
    "def rho_nfw(r):\n",
    "    \"\"\"Unnormalized NFW profile density\"\"\"\n",
    "    r_s = 18*kpc\n",
    "    return r**2*1/((r/r_s)*(1+r/r_s)**2)\n",
    "\n",
    "def rho_v(v):\n",
    "    \"\"\"Unnormalized SHM Maxwellian\"\"\"\n",
    "    v0 = 220*Kmps\n",
    "    if v > 550*Kmps: return 0\n",
    "    return np.exp(-v**2/v0**2)\n",
    "\n",
    "def rho_m(ms):\n",
    "    \"\"\" Mass function\n",
    "    \"\"\"\n",
    "    A0 = 2e8/M_s\n",
    "    dNcdmdm = A0*(ms/M_s)**-1.9\n",
    "    return dNcdmdm\n",
    "\n",
    "def rho_v(vvec):\n",
    "    \"\"\" Truncated Maxwellian velocity distribution\n",
    "    \"\"\"\n",
    "    v = np.linalg.norm(vvec)\n",
    "    return 1/(Nesc*np.pi**1.5*v0**3)*np.exp(-v**2/v0**2)*(v < vesc)\n",
    "\n",
    "def vproj(v, theta, phi, thetap, phip):\n",
    "    \"\"\" Projected velocity in a given direction\n",
    "    \"\"\"\n",
    "    v_vec = v*np.array([np.sin(theta)*np.cos(phi),np.sin(theta)*np.sin(phi),np.cos(theta)])\n",
    "    theta_hat = np.array([np.cos(thetap)*np.cos(phip), np.cos(thetap)*np.sin(phip), -np.sin(thetap)])\n",
    "    phi_hat = [-np.sin(phip), np.cos(phip), 0]\n",
    "    return np.sqrt(np.dot(v_vec,theta_hat)**2 + np.dot(v_vec,phi_hat)**2)\n",
    "\n",
    "def R0_VL(M0):\n",
    "    \"\"\" \"Concentration-mass\" relation for Plummer profile from 1711.03554\n",
    "    \"\"\"\n",
    "    return 1.2*kpc*(M0/(1e8*M_s))**0.5"
   ]
  },
  {
   "cell_type": "markdown",
   "metadata": {},
   "source": [
    "### Some normalization factors"
   ]
  },
  {
   "cell_type": "code",
   "execution_count": 17,
   "metadata": {},
   "outputs": [],
   "source": [
    "norm_rho_nfw = nquad(lambda l, theta: rho_nfw(np.sqrt(l**2 + Rsun**2 - 2*l*Rsun*np.cos(theta))), [[Rmin,Rmax],[0,2*np.pi]])[0]"
   ]
  },
  {
   "cell_type": "code",
   "execution_count": 18,
   "metadata": {},
   "outputs": [],
   "source": [
    "norm_rho_m = quad(lambda m: rho_m(m), M_min, M_max)[0]\n",
    "m_avg = quad(lambda m: m*rho_m(m), M_min, M_max)[0]/norm_rho_m\n",
    "N_halos = DM_frac*1/(m_avg/(1e12*M_s))"
   ]
  },
  {
   "cell_type": "code",
   "execution_count": 20,
   "metadata": {},
   "outputs": [],
   "source": [
    "thetap, phip = np.pi/2., np.pi/2.\n",
    "v_term, _ = nquad(lambda v, theta, phi: v**2*(vproj(v, theta, phi, thetap, phip))**2*np.sin(theta)*rho_v(v),\n",
    "      [[0,950.*Kmps],[0,np.pi],[0,2*np.pi]])"
   ]
  },
  {
   "cell_type": "markdown",
   "metadata": {},
   "source": [
    "### Calculate population integral"
   ]
  },
  {
   "cell_type": "code",
   "execution_count": 28,
   "metadata": {},
   "outputs": [],
   "source": [
    "l_min = 10\n",
    "l_max = 2000\n",
    "n_l = 50\n",
    "\n",
    "l_ary = np.arange(l_min,l_max)\n",
    "l_ary_calc = np.logspace(np.log10(l_min), np.log10(l_max), n_l)"
   ]
  },
  {
   "cell_type": "code",
   "execution_count": 29,
   "metadata": {},
   "outputs": [
    {
     "data": {
      "application/vnd.jupyter.widget-view+json": {
       "model_id": "0799da61c71f4b46a6d3633f42c64ad0",
       "version_major": 2,
       "version_minor": 0
      },
      "text/plain": [
       "HBox(children=(IntProgress(value=0, max=50), HTML(value='')))"
      ]
     },
     "metadata": {},
     "output_type": "display_data"
    },
    {
     "name": "stdout",
     "output_type": "stream",
     "text": [
      "\n"
     ]
    }
   ],
   "source": [
    "def f(x, ell):\n",
    "    l, theta, logm = x[0], x[1], x[2]\n",
    "    m = 10**logm*M_s\n",
    "    return m*Cl_Plummer(R0_VL(m), m, l, 1, ell) / (1e-6*asctorad/Year)**2  * rho_m(m) * rho_nfw(np.sqrt(l**2 + Rsun**2 - 2*l*Rsun*np.cos(theta)))\n",
    "\n",
    "conv_fid = [mcquad(lambda x: f(x, ell), npoints=1e5, xl=[Rmin,0,np.log10(M_min/M_s)], xu=[Rmax,2*np.pi,np.log10(M_max/M_s)], nprocs=5)[0] for ell in tqdm_notebook(l_ary_calc)]\n"
   ]
  },
  {
   "cell_type": "code",
   "execution_count": 30,
   "metadata": {},
   "outputs": [],
   "source": [
    "C_l_fid = N_halos*np.array(conv_fid) * v_term / norm_rho_m / norm_rho_nfw"
   ]
  },
  {
   "cell_type": "code",
   "execution_count": 31,
   "metadata": {},
   "outputs": [],
   "source": [
    "C_l_fid_interp = np.interp(l_ary, l_ary_calc, C_l_fid)"
   ]
  },
  {
   "cell_type": "code",
   "execution_count": 33,
   "metadata": {},
   "outputs": [
    {
     "data": {
      "text/plain": [
       "(1e-19, 1e-05)"
      ]
     },
     "execution_count": 33,
     "metadata": {},
     "output_type": "execute_result"
    },
    {
     "data": {
      "image/png": "[encoded data removed]",
      "text/plain": [
       "<Figure size 432x288 with 1 Axes>"
      ]
     },
     "metadata": {
      "needs_background": "light"
     },
     "output_type": "display_data"
    }
   ],
   "source": [
    "plt.plot(l_ary_calc, C_l_fid)\n",
    "plt.yscale(\"log\")\n",
    "plt.xscale(\"log\")\n",
    "plt.xlim(9, 200)\n",
    "plt.ylim(1e-19,1e-5)"
   ]
  },
  {
   "cell_type": "code",
   "execution_count": null,
   "metadata": {},
   "outputs": [],
   "source": []
  }
 ],
 "metadata": {
  "kernelspec": {
   "display_name": "Python 3",
   "language": "python",
   "name": "python3"
  },
  "language_info": {
   "codemirror_mode": {
    "name": "ipython",
    "version": 3
   },
   "file_extension": ".py",
   "mimetype": "text/x-python",
   "name": "python",
   "nbconvert_exporter": "python",
   "pygments_lexer": "ipython3",
   "version": "3.6.8"
  }
 },
 "nbformat": 4,
 "nbformat_minor": 2
}
