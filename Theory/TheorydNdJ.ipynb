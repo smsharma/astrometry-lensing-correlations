{
 "cells": [
  {
   "cell_type": "code",
   "execution_count": 45,
   "metadata": {},
   "outputs": [
    {
     "name": "stdout",
     "output_type": "stream",
     "text": [
      "The autoreload extension is already loaded. To reload it, use:\n",
      "  %reload_ext autoreload\n"
     ]
    }
   ],
   "source": [
    "import sys\n",
    "sys.path.append(\"../../Simulations/\")\n",
    "\n",
    "import numpy as np\n",
    "import matplotlib.pyplot as plt\n",
    "from skmonaco import mcquad, mcimport, mcmiser\n",
    "from tqdm import *\n",
    "\n",
    "from units import *\n",
    "\n",
    "%matplotlib inline\n",
    "%load_ext autoreload\n",
    "%autoreload 2"
   ]
  },
  {
   "cell_type": "markdown",
   "metadata": {},
   "source": [
    "# 1. Cumulative SCD calculation"
   ]
  },
  {
   "cell_type": "markdown",
   "metadata": {},
   "source": [
    "The cumulative SCD can be calculated by integrating over the mass and spatial pdf of subhalos, with a constraint on the integration phase-space:\n",
    "\n",
    "$$N(>J) = \\int_{J(M,\\mathbf R) > J} dM\\,d^3R \\frac{dN}{d\\mathbf R dM}.$$\n",
    "\n",
    "In practice, this is done by integrating over the subhalo mass $M$, the distance from the GC $r$ and the angle between the Galactic plane and line-of-sight from the GC $\\theta$ convolved with the subhalo mass function $\\rho_M(M)$ and spatial volume distribution $\\rho_V(r)$:\n",
    "$$N(>J) = \\int_{J(M,l,\\theta) > J} dM\\,dr\\,d\\theta\\,\\sin(\\theta)\\,\\rho_M(M)\\cdot 2\\pi r^2 \\rho_V(r),$$\n",
    "where $l^2 = r^2 +R_\\odot^2 + 2r R_\\odot\\,cos(\\theta)$ and $R_\\odot$ is the Earth-Sun distance. \n",
    "\n",
    "Note that the integral can be performed either in Galactocentric coordinates (with $r$ as the integration variable, as we do here) or Galactic coordinates (with line-of-sight distance $l$ as the integration variable). Properly normalized, the answer is the same in either case."
   ]
  },
  {
   "cell_type": "markdown",
   "metadata": {},
   "source": [
    "Specify population parameters:"
   ]
  },
  {
   "cell_type": "code",
   "execution_count": 84,
   "metadata": {},
   "outputs": [],
   "source": [
    "R_sun = 8*kpc\n",
    "\n",
    "# Minimum and maximum subhalo mass\n",
    "M_min = 1e4*M_s\n",
    "M_max = 1e10*M_s\n",
    "\n",
    "# Minimum and maximum distance from the GC\n",
    "R_min = 0.1*kpc\n",
    "R_max = 260*kpc\n",
    "\n",
    "# Calibrate number of subhalos\n",
    "M_min_calib = 1e8*M_s\n",
    "M_max_calib = 1e10*M_s\n",
    "N_calib = 150."
   ]
  },
  {
   "cell_type": "code",
   "execution_count": 85,
   "metadata": {},
   "outputs": [],
   "source": [
    "def rho_M(M, beta=-1.9):\n",
    "    \"\"\" Subhalo mass function\n",
    "    \"\"\"\n",
    "    A0 = 2e8/M_s # Arbitrary, to prevent large numbers and overflow\n",
    "    return A0*(M/M_s)**beta\n",
    "\n",
    "def rho_ein_EAQ(r):\n",
    "    \"\"\" Aquarius subhalo radial spatial density, \n",
    "        Einasto profile parameterizaton\n",
    "    \"\"\" \n",
    "    r_s = 199.*kpc\n",
    "    alpha_E = 0.678\n",
    "    return r**2*np.exp(-2/alpha_E*((r/r_s)**alpha_E-1)) "
   ]
  },
  {
   "cell_type": "markdown",
   "metadata": {},
   "source": [
    "J-factor calculation:"
   ]
  },
  {
   "cell_type": "code",
   "execution_count": 86,
   "metadata": {},
   "outputs": [],
   "source": [
    "def J(M200, c200, d):\n",
    "    \"\"\" Annihilation J-factor for NFW halo\n",
    "    \"\"\"\n",
    "    return M200*c200**3*rho_c*200/(9*d**2)*fC(c200)\n",
    "\n",
    "def fC(c):\n",
    "    \"\"\" Helper function for NFW annihilation J-factor\n",
    "    \"\"\"\n",
    "    return (1 - 1/(1+c)**3)*(np.log(1+c)-c/(1+c))**-2\n",
    "    \n",
    "def c200_SC(M200):\n",
    "    \"\"\" Concentration-mass relation according to Eq. 1 of  Sanchez-Conde & Prada 2014 (1312.1729)\n",
    "    \"\"\"\n",
    "    x=np.log(M200/(M_s/h))\n",
    "    pars=[37.5153, -1.5093, 1.636e-2, 3.66e-4, -2.89237e-5, 5.32e-7][::-1]\n",
    "    return np.polyval(pars, x)"
   ]
  },
  {
   "cell_type": "markdown",
   "metadata": {},
   "source": [
    "First, calculate normalization pre-factor to give the specified number of calibration suhalos:"
   ]
  },
  {
   "cell_type": "code",
   "execution_count": 87,
   "metadata": {},
   "outputs": [],
   "source": [
    "def integrand_norm(x):\n",
    "    \"\"\" Integrand for calculating overall normalization of \n",
    "        joint mass-radial distribution pdf\n",
    "    \"\"\" \n",
    "    M200, r = np.exp(x[0])*M_s, np.exp(x[1])*kpc\n",
    "    return 4*np.pi*M200*r*rho_M(M200)*rho_ein_EAQ(r)\n",
    "\n",
    "norm, norm_err = mcquad(integrand_norm,npoints=1e6,xl=[np.log(M_min_calib/M_s),np.log(R_min/kpc)],xu=[np.log(M_max_calib/M_s),np.log(R_max/kpc)],nprocs=5)\n",
    "pref = N_calib/norm"
   ]
  },
  {
   "cell_type": "markdown",
   "metadata": {},
   "source": [
    "Now specify the cumulative SCD integral. The integration is performed in log-space for mass $M_{200}$ and the los distance $l$ for better accuracy, and linear space for angle from GC direction $\\theta$."
   ]
  },
  {
   "cell_type": "code",
   "execution_count": 88,
   "metadata": {},
   "outputs": [],
   "source": [
    "def rho_M_r(M200, r):\n",
    "    \"\"\" Joint M-R distribution pdf\n",
    "    \"\"\"\n",
    "    return rho_M(M200)*rho_ein_EAQ(r)\n",
    "\n",
    "def integrand_Ncumul(x, J_fid):\n",
    "    \"\"\" Integrand for calculating cumulative SCD by integrating \n",
    "        over the mass function, los distance and angle from GC direction\n",
    "    \"\"\"\n",
    "    M200, r, theta = np.exp(x[0])*M_s, np.exp(x[1])*kpc, x[2]\n",
    "    \n",
    "    # If J-factor is greater than specified value, add the corresponding \"dN\"\n",
    "    # (impose phase-space constrain)\n",
    "    l = np.sqrt(r**2 + R_sun**2 + 2*r*R_sun*np.cos(theta))\n",
    "    if J_fid < J(M200, c200_SC(M200), l)/(GeV**2*Centimeter**-5):\n",
    "        return 2*np.pi*np.sin(theta)*pref*r*M200*rho_M_r(M200, r)\n",
    "    else:\n",
    "        return 0."
   ]
  },
  {
   "cell_type": "markdown",
   "metadata": {},
   "source": [
    "Two ways of doing integral:"
   ]
  },
  {
   "cell_type": "code",
   "execution_count": 89,
   "metadata": {},
   "outputs": [],
   "source": [
    "# J-factor values to calculated cumulative SCD for\n",
    "J_ary = np.logspace(16,22,30)"
   ]
  },
  {
   "cell_type": "markdown",
   "metadata": {},
   "source": [
    "### MC integration"
   ]
  },
  {
   "cell_type": "code",
   "execution_count": 90,
   "metadata": {},
   "outputs": [],
   "source": [
    "# Number of points to use for MC integration (more points = better accuracy + slower)\n",
    "npoints = 5e5"
   ]
  },
  {
   "cell_type": "code",
   "execution_count": 91,
   "metadata": {},
   "outputs": [],
   "source": [
    "def Ncumul_MC(J_fid):\n",
    "    \"\"\" Perform cumulative SCD integral with scikit-monaco\n",
    "    \"\"\"\n",
    "    dNdJ_val, dNdJ_err = mcquad(integrand_Ncumul, npoints=npoints, xl=[np.log(M_min/M_s),np.log(R_min/kpc),0], xu=[np.log(M_max/M_s), np.log(R_max/kpc), np.pi], nprocs=5, args=[J_fid])\n",
    "    return dNdJ_val, dNdJ_err"
   ]
  },
  {
   "cell_type": "code",
   "execution_count": 92,
   "metadata": {},
   "outputs": [
    {
     "data": {
      "application/vnd.jupyter.widget-view+json": {
       "model_id": "934b6e6e5b7a43a6838e5070464a867d",
       "version_major": 2,
       "version_minor": 0
      },
      "text/plain": [
       "HBox(children=(IntProgress(value=0, max=30), HTML(value='')))"
      ]
     },
     "metadata": {},
     "output_type": "display_data"
    }
   ],
   "source": [
    "Ncumul_ary = np.array([Ncumul_MC(J) for J in tqdm_notebook(J_ary)])"
   ]
  },
  {
   "cell_type": "markdown",
   "metadata": {},
   "source": [
    "### Manual integration"
   ]
  },
  {
   "cell_type": "code",
   "execution_count": 93,
   "metadata": {},
   "outputs": [],
   "source": [
    "# Number of points to use for manual integration over each \n",
    "# dimension (more points = better accuracy + slower)\n",
    "nlogl = 30\n",
    "ntheta = 30\n",
    "nlogM = 30"
   ]
  },
  {
   "cell_type": "code",
   "execution_count": 94,
   "metadata": {},
   "outputs": [],
   "source": [
    "def Ncumul_manual(J_fid):\n",
    "    \"\"\" Perform cumulative SCD integral manually\n",
    "    \"\"\"\n",
    "    logl_integ_ary = np.linspace(np.log(R_min/kpc), np.log(R_max/kpc), nlogl)\n",
    "    theta_integ_ary = np.linspace(0, np.pi, ntheta)\n",
    "    logM_integ_ary = np.linspace(np.log(M_min/M_s), np.log(M_max/M_s), nlogM)\n",
    "\n",
    "    measure = (logl_integ_ary[1] - logl_integ_ary[0])*(theta_integ_ary[1] - theta_integ_ary[0])*(logM_integ_ary[1] - logM_integ_ary[0])\n",
    "    integ = 0\n",
    "    for logl in logl_integ_ary:\n",
    "        for theta in theta_integ_ary:\n",
    "            for logM in logM_integ_ary:\n",
    "                integ += integrand_Ncumul([logM, logl, theta], J_fid)\n",
    "    integ *= measure\n",
    "\n",
    "    return integ\n"
   ]
  },
  {
   "cell_type": "code",
   "execution_count": 95,
   "metadata": {},
   "outputs": [
    {
     "data": {
      "application/vnd.jupyter.widget-view+json": {
       "model_id": "abe167e39ca64a3380654da49a81fcb3",
       "version_major": 2,
       "version_minor": 0
      },
      "text/plain": [
       "HBox(children=(IntProgress(value=0, max=30), HTML(value='')))"
      ]
     },
     "metadata": {},
     "output_type": "display_data"
    }
   ],
   "source": [
    "Ncumul_manual_ary = np.array([Ncumul_manual(J) for J in tqdm_notebook(J_ary)])"
   ]
  },
  {
   "cell_type": "markdown",
   "metadata": {},
   "source": [
    "### Plot results"
   ]
  },
  {
   "cell_type": "code",
   "execution_count": 96,
   "metadata": {},
   "outputs": [
    {
     "data": {
      "text/plain": [
       "<matplotlib.legend.Legend at 0x2ad739d33e10>"
      ]
     },
     "execution_count": 96,
     "metadata": {},
     "output_type": "execute_result"
    },
    {
     "data": {
      "image/png": "[encoded data removed]",
      "text/plain": [
       "<Figure size 576x360 with 1 Axes>"
      ]
     },
     "metadata": {
      "needs_background": "light"
     },
     "output_type": "display_data"
    }
   ],
   "source": [
    "plt.figure(figsize=(8,5))\n",
    "\n",
    "plt.plot(J_ary, Ncumul_ary[:,0], label=\"MC integration\")\n",
    "plt.plot(J_ary, Ncumul_manual_ary, label=\"Manual integration\")\n",
    "\n",
    "plt.xscale(\"log\")\n",
    "plt.yscale(\"log\")\n",
    "plt.ylim(1e-1,1e4)\n",
    "\n",
    "plt.xlabel(\"$J$ [GeV$^2$\\,centimeter$^{-5}$]\")\n",
    "plt.ylabel(\"$N(>J)$\")\n",
    "\n",
    "plt.legend()"
   ]
  },
  {
   "cell_type": "markdown",
   "metadata": {},
   "source": [
    "# 2. Differential SCD calculation"
   ]
  },
  {
   "cell_type": "markdown",
   "metadata": {},
   "source": [
    "The same as the cumulative case, but during integration $\\delta N$ is phase-space-constrained to lie between $J$ and $J + \\delta J$:\n",
    "\n",
    "$$\\frac{dN}{dJ}(J) = \\frac{1}{\\delta J}\\int_{J < J(M,l,\\theta) < J + \\delta J} dM\\,dl\\,d\\theta\\,\\rho_M(M)\\cdot 4\\pi r^2 \\rho_V(r),$$\n",
    "making sure that the final result is not sensitive to the specific choice of $\\delta J$. You may have to increase the number of points by quite a bit to get a smooth SCD!"
   ]
  },
  {
   "cell_type": "code",
   "execution_count": 17,
   "metadata": {},
   "outputs": [],
   "source": [
    "# def integrand_dN(x, J_fid, dJ):\n",
    "#     \"\"\" Integrand for calculating differential SCD by integrating \n",
    "#         over the mass function, distance from GC and opening angle from GC and to the Galactic plane \n",
    "#     \"\"\"\n",
    "    \n",
    "    \n",
    "#     M200, r, theta = np.exp(x[0])*M_s, np.exp(x[1])*kpc, x[2]\n",
    "    \n",
    "#     # If J-factor is within than specified values, add the corresponding \"dN\"\n",
    "#     # (impose phase-space constrain)\n",
    "#     l = np.sqrt(l**2 + R_sun**2 + 2*r*R_sun*np.cos(theta))\n",
    "#     if J_fid < J(M200, c200_SC(M200), l)/(GeV**2*Centimeter**-5) < J_fid + dJ:\n",
    "#         return 2*np.pi*np.sin(theta)*pref*r*M200*rho_M_r(M200, r)\n",
    "#     else:\n",
    "#         return 0."
   ]
  },
  {
   "cell_type": "code",
   "execution_count": 57,
   "metadata": {},
   "outputs": [],
   "source": [
    "# npoints = 5e6\n",
    "\n",
    "# def dNdJ_MC(J_fid):\n",
    "#     \"\"\" Perform cumulative SCD integral with scikit-monaco\n",
    "#     \"\"\"\n",
    "#     # Set value of differential element\n",
    "#     # Check to make sure the calculation is not sensitive to this choice!!\n",
    "#     dJ = 1e-1*J_fid\n",
    "\n",
    "#     dN_val, dN_err = mcmiser(integrand_dN, npoints=npoints, xl=[np.log(M_min/M_s),np.log(R_min/kpc),0], xu=[np.log(M_max/M_s), np.log(R_max/kpc), np.pi], nprocs=5, args=[J_fid, dJ])\n",
    "#     return dN_val/dJ, dN_err/dJ"
   ]
  },
  {
   "cell_type": "code",
   "execution_count": 59,
   "metadata": {},
   "outputs": [],
   "source": [
    "# dNdJ_ary = np.array([dNdJ_MC(J) for J in tqdm_notebook(J_ary)])"
   ]
  },
  {
   "cell_type": "code",
   "execution_count": 61,
   "metadata": {},
   "outputs": [],
   "source": [
    "# deg = 180 / np.pi\n",
    "# sr = 4 * np.pi\n",
    "# srdeg2 = sr * deg**2"
   ]
  },
  {
   "cell_type": "code",
   "execution_count": 60,
   "metadata": {},
   "outputs": [],
   "source": [
    "# plt.plot(J_ary, J_ary**2*(1/srdeg2)*dNdJ_ary[:,0]/(GeV**2*Centimeter**-5))\n",
    "# plt.xscale(\"log\")\n",
    "# plt.yscale(\"log\")\n",
    "# plt.xlabel(\"$J$ [GeV$^2$\\,centimeter$^{-5}$]\")\n",
    "# plt.ylabel(\"$J^2\\,dN/dJ$ [GeV$^2$\\,centimeter$^{-5}$\\,deg$^{-2}$]\")"
   ]
  },
  {
   "cell_type": "code",
   "execution_count": null,
   "metadata": {},
   "outputs": [],
   "source": []
  },
  {
   "cell_type": "code",
   "execution_count": null,
   "metadata": {},
   "outputs": [],
   "source": []
  }
 ],
 "metadata": {
  "kernelspec": {
   "display_name": "Python 3",
   "language": "python",
   "name": "python3"
  },
  "language_info": {
   "codemirror_mode": {
    "name": "ipython",
    "version": 3
   },
   "file_extension": ".py",
   "mimetype": "text/x-python",
   "name": "python",
   "nbconvert_exporter": "python",
   "pygments_lexer": "ipython3",
   "version": "3.6.8"
  }
 },
 "nbformat": 4,
 "nbformat_minor": 2
}
