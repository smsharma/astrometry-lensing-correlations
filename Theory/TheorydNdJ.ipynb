{
 "cells": [
  {
   "cell_type": "code",
   "execution_count": 2,
   "metadata": {},
   "outputs": [],
   "source": [
    "import sys\n",
    "sys.path.append(\"../Simulations/\")\n",
    "\n",
    "import matplotlib.pyplot as plt\n",
    "import theano.tensor as tt\n",
    "import pymc3 as pm\n",
    "from scipy import stats\n",
    "import numpy as np\n",
    "from skmonaco import mcquad, mcimport, mcmiser\n",
    "from tqdm import *\n",
    "\n",
    "from units import *\n",
    "\n",
    "%matplotlib inline\n",
    "%load_ext autoreload\n",
    "%autoreload 2"
   ]
  },
  {
   "cell_type": "code",
   "execution_count": 329,
   "metadata": {},
   "outputs": [],
   "source": [
    "def fC(c):\n",
    "    return (1 - 1/(1+c)**3)*(np.log(1+c)-c/(1+c))**-2\n",
    "    \n",
    "def J(M200, c200, d):\n",
    "    return M200*c200**3*rho_c*200/(9*d**2)*fC(c200)\n",
    "\n",
    "def c200_SC(M200):\n",
    "    x=np.log(M200*h) # Given in terms of M_s/h in S-C&P paper\n",
    "    pars=[37.5153, -1.5093, 1.636e-2, 3.66e-4, -2.89237e-5, 5.32e-7][::-1]\n",
    "    return np.polyval(pars, x)\n",
    "\n",
    "def rho_m(ms):\n",
    "    \"\"\" Mass function\n",
    "    \"\"\"\n",
    "    A0 = 2e8/M_s\n",
    "    dNcdmdm = A0*(ms/M_s)**-1.9\n",
    "    return dNcdmdm\n",
    "\n",
    "def rho_nfw(r):\n",
    "    \"\"\"Unnormalized NFW profile density\"\"\"\n",
    "    r_s = 18*kpc\n",
    "    return 4*np.pi*r**2*(1/((r/r_s)*(1+r/r_s)**2))\n",
    "\n",
    "def rho_ein_MW(r):\n",
    "    \"\"\" Einasto density profile\n",
    "    \"\"\" \n",
    "    r_s = 15.14*kpc\n",
    "    alpha_E = 0.17\n",
    "    return 4*np.pi*r**2*np.exp(-2/alpha_E*((r/r_s)**alpha_E-1)) \n",
    "\n",
    "def rho_ein_EAQ(r):\n",
    "    \"\"\" Einasto density profile\n",
    "    \"\"\" \n",
    "    r_s = 199.*kpc\n",
    "    alpha_E = 0.678\n",
    "    return 4*np.pi*r**2*np.exp(-2/alpha_E*((r/r_s)**alpha_E-1)) "
   ]
  },
  {
   "cell_type": "code",
   "execution_count": 330,
   "metadata": {},
   "outputs": [],
   "source": [
    "M_min = 1e6*M_s\n",
    "M_max = 1e12*M_s\n",
    "\n",
    "R_min = .1*kpc\n",
    "R_max = 200*kpc"
   ]
  },
  {
   "cell_type": "code",
   "execution_count": 331,
   "metadata": {},
   "outputs": [],
   "source": [
    "M_min_calib = 1e8*M_s\n",
    "M_max_calib = 1e10*M_s\n",
    "N_calib = 150."
   ]
  },
  {
   "cell_type": "code",
   "execution_count": 332,
   "metadata": {},
   "outputs": [],
   "source": [
    "def f(x, profile='ein'):\n",
    "    M200, r = 10**x[0]*M_s, x[1]\n",
    "    if profile=='nfw':\n",
    "        return M200*rho_m(M200)*rho_nfw(r)\n",
    "    elif profile=='ein':\n",
    "        return M200*rho_m(M200)*rho_ein_EAQ(r)\n",
    "\n",
    "def g(x, J_fid, dJ, profile='ein'):\n",
    "    \"\"\"\n",
    "    The integrand.\n",
    "    \"\"\"\n",
    "    M200, r = 10**x[0]*M_s, x[1]\n",
    "    \n",
    "    if J_fid < J(M200, c200_SC(M200/M_s), r)/(GeV**2*Centimeter**-5) < J_fid + dJ:\n",
    "        return f(x, profile)\n",
    "    else:\n",
    "        return 0."
   ]
  },
  {
   "cell_type": "code",
   "execution_count": 321,
   "metadata": {},
   "outputs": [],
   "source": [
    "def dNdJ(J_fid, profile='nfw'):\n",
    "    dJ = 1e-1*J_fid\n",
    "    dNdJ_val, dNdJ_err = mcquad(g,npoints=5e5,xl=[np.log10(M_min/M_s),R_min],xu=[np.log10(M_max/M_s),R_max],nprocs=5, args=[J_fid, dJ, profile])\n",
    "    return dNdJ_val/dJ, dNdJ_err/dJ"
   ]
  },
  {
   "cell_type": "code",
   "execution_count": 322,
   "metadata": {},
   "outputs": [],
   "source": [
    "J_ary = np.logspace(14,25,20)"
   ]
  },
  {
   "cell_type": "code",
   "execution_count": 323,
   "metadata": {},
   "outputs": [
    {
     "data": {
      "application/vnd.jupyter.widget-view+json": {
       "model_id": "6e93e907597841f1b31ba2edbbf012e7",
       "version_major": 2,
       "version_minor": 0
      },
      "text/plain": [
       "HBox(children=(IntProgress(value=0, max=20), HTML(value='')))"
      ]
     },
     "metadata": {},
     "output_type": "display_data"
    }
   ],
   "source": [
    "dNdJ_ary = [dNdJ(J) for J in tqdm_notebook(J_ary)]"
   ]
  },
  {
   "cell_type": "code",
   "execution_count": 333,
   "metadata": {},
   "outputs": [
    {
     "data": {
      "application/vnd.jupyter.widget-view+json": {
       "model_id": "3d58266122ee453f809d374fe6b343b0",
       "version_major": 2,
       "version_minor": 0
      },
      "text/plain": [
       "HBox(children=(IntProgress(value=0, max=20), HTML(value='')))"
      ]
     },
     "metadata": {},
     "output_type": "display_data"
    }
   ],
   "source": [
    "dNdJ_ary_ein = [dNdJ(J, 'ein') for J in tqdm_notebook(J_ary)]"
   ]
  },
  {
   "cell_type": "code",
   "execution_count": 334,
   "metadata": {},
   "outputs": [],
   "source": [
    "deg = 180 / np.pi\n",
    "sr = 4 * np.pi\n",
    "srdeg2 = sr * deg**2"
   ]
  },
  {
   "cell_type": "code",
   "execution_count": 335,
   "metadata": {},
   "outputs": [],
   "source": [
    "val_NFW, _ = mcmiser(f,npoints=1e6,xl=[np.log10(M_min_calib/M_s),R_min],xu=[np.log10(M_max_calib/M_s),R_max],nprocs=4,args=['nfw'])\n",
    "pref_NFW = N_calib/val_NFW"
   ]
  },
  {
   "cell_type": "code",
   "execution_count": 336,
   "metadata": {},
   "outputs": [],
   "source": [
    "val_ein, _ = mcmiser(f,npoints=1e6,xl=[np.log10(M_min_calib/M_s),R_min],xu=[np.log10(M_max_calib/M_s),R_max],nprocs=4,args=['ein'])\n",
    "pref_ein = N_calib/val_ein"
   ]
  },
  {
   "cell_type": "code",
   "execution_count": 337,
   "metadata": {},
   "outputs": [
    {
     "data": {
      "text/plain": [
       "<matplotlib.legend.Legend at 0x2b64c3d526d8>"
      ]
     },
     "execution_count": 337,
     "metadata": {},
     "output_type": "execute_result"
    },
    {
     "data": {
      "image/png": "[encoded data removed]",
      "text/plain": [
       "<Figure size 432x288 with 1 Axes>"
      ]
     },
     "metadata": {
      "needs_background": "light"
     },
     "output_type": "display_data"
    }
   ],
   "source": [
    "plt.plot(J_ary, J_ary**2*(1/srdeg2)*pref_NFW*np.array(dNdJ_ary)[:,0], label=\"NFW\")\n",
    "plt.plot(J_ary, J_ary**2*(1/srdeg2)*pref_ein*np.array(dNdJ_ary_ein)[:,0], label=\"MW Ein\")\n",
    "plt.xscale(\"log\")\n",
    "plt.yscale(\"log\")\n",
    "plt.xlabel(\"$J$ [GeV$^2$\\,centimeter$^{-5}$]\")\n",
    "plt.ylabel(\"$J^2\\,dN/dJ$ [GeV$^2$\\,centimeter$^{-5}$\\,deg$^{-2}$]\")\n",
    "\n",
    "plt.axvline(J(M_min, c200_SC(M_min/M_s), R_max)/(GeV**2*Centimeter**-5), ls='--')\n",
    "plt.axvline(J(M_max, c200_SC(M_max/M_s), R_min)/(GeV**2*Centimeter**-5), ls='--')\n",
    "\n",
    "plt.legend()"
   ]
  },
  {
   "cell_type": "code",
   "execution_count": null,
   "metadata": {},
   "outputs": [],
   "source": []
  }
 ],
 "metadata": {
  "kernelspec": {
   "display_name": "Python 3",
   "language": "python",
   "name": "python3"
  },
  "language_info": {
   "codemirror_mode": {
    "name": "ipython",
    "version": 3
   },
   "file_extension": ".py",
   "mimetype": "text/x-python",
   "name": "python",
   "nbconvert_exporter": "python",
   "pygments_lexer": "ipython3",
   "version": "3.6.8"
  }
 },
 "nbformat": 4,
 "nbformat_minor": 2
}
