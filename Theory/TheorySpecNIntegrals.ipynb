{
 "cells": [
  {
   "cell_type": "code",
   "execution_count": 112,
   "metadata": {},
   "outputs": [
    {
     "name": "stdout",
     "output_type": "stream",
     "text": [
      "The autoreload extension is already loaded. To reload it, use:\n",
      "  %reload_ext autoreload\n"
     ]
    }
   ],
   "source": [
    "import sys\n",
    "sys.path.append(\"../Simulations/\")\n",
    "\n",
    "from units import *\n",
    "import matplotlib.pyplot as plt\n",
    "from tqdm import *\n",
    "from scipy.integrate import nquad, quad\n",
    "from scipy.special import erf, jn, jv\n",
    "\n",
    "%matplotlib inline\n",
    "%load_ext autoreload\n",
    "%autoreload 2"
   ]
  },
  {
   "cell_type": "markdown",
   "metadata": {},
   "source": [
    "# Enclosed mass $M(b)$"
   ]
  },
  {
   "cell_type": "code",
   "execution_count": 414,
   "metadata": {},
   "outputs": [
    {
     "name": "stdout",
     "output_type": "stream",
     "text": [
      "0.960572566164358 +/- 0.00027796733594467345\n"
     ]
    }
   ],
   "source": [
    "from skmonaco import mcquad\n",
    "from math import sqrt\n",
    "result, error = mcquad(lambda xs: sqrt(xs[0]**2+xs[1]**2+xs[2]**2), npoints=1e6, xl=[0.,0.,0.], xu=[1.,1.,1.])\n",
    "print( \"{} +/- {}\".format(result,error))"
   ]
  },
  {
   "cell_type": "code",
   "execution_count": 255,
   "metadata": {},
   "outputs": [],
   "source": [
    "def c200_get(m200):\n",
    "    \"\"\" Virial concentration according to Sanchez-Conde&Prada14\n",
    "    \"\"\"\n",
    "    x=mpmath.log(m200*h) # Given in terms of M_s/h in S-C&P paper\n",
    "    pars=[37.5153, -1.5093, 1.636e-2, 3.66e-4, -2.89237e-5, 5.32e-7][::-1]\n",
    "    return np.polyval(pars, x)\n",
    "\n",
    "def rho_nfw(r):\n",
    "    \"\"\"Unnormalized NFW profile density\"\"\"\n",
    "    return 1/((r/r_s)*(1+r/r_s)**2)"
   ]
  },
  {
   "cell_type": "code",
   "execution_count": 256,
   "metadata": {},
   "outputs": [],
   "source": [
    "m200 = 1e7*M_s\n",
    "\n",
    "c200 = c200_get(m200/M_s)\n",
    "r200 = (m200/(4/3.*np.pi*200*rho_c))**(1/3.)\n",
    "r_s = r200/c200\n",
    "rho_s = rho_c*(200/3.)*c200**3/(mpmath.log(1 + c200) - c200/(1 + c200))"
   ]
  },
  {
   "cell_type": "code",
   "execution_count": 375,
   "metadata": {},
   "outputs": [],
   "source": [
    "def F(x):\n",
    "    \"\"\" Helper function for NFW deflection, from astro-ph/0102341\n",
    "    \"\"\"\n",
    "    if x > 1:\n",
    "        return mpmath.atan(np.sqrt(x**2-1))/(np.sqrt(x**2 - 1))\n",
    "    elif x == 1:\n",
    "        return 1\n",
    "    elif x < 1:\n",
    "        return mpmath.atanh(np.sqrt(1-x**2))/(np.sqrt(1-x**2))\n",
    "\n",
    "def M_nfw(r):\n",
    "    kappa_s = rho_s*r_s\n",
    "    x = r/r_s\n",
    "    phi_r = 4*kappa_s*r_s*(np.log(x/2) + F(x))/x\n",
    "    return phi_r*np.pi*r\n",
    "\n",
    "def M_gauss(r, M0, R0):\n",
    "    return M0*(1-np.exp(-r**2/(2*R0**2)))"
   ]
  },
  {
   "cell_type": "code",
   "execution_count": 376,
   "metadata": {},
   "outputs": [],
   "source": [
    "import mpmath"
   ]
  },
  {
   "cell_type": "code",
   "execution_count": 411,
   "metadata": {},
   "outputs": [
    {
     "data": {
      "application/vnd.jupyter.widget-view+json": {
       "model_id": "39302c003d7e4bd097f8939e83045696",
       "version_major": 2,
       "version_minor": 0
      },
      "text/plain": [
       "HBox(children=(IntProgress(value=0, max=20), HTML(value='')))"
      ]
     },
     "metadata": {},
     "output_type": "display_data"
    },
    {
     "name": "stderr",
     "output_type": "stream",
     "text": [
      "/scratch/sm8383/anaconda3/envs/venv_smsharma/lib/python3.6/site-packages/scipy/integrate/quadpack.py:385: IntegrationWarning: The maximum number of subdivisions (50) has been achieved.\n",
      "  If increasing the limit yields no improvement it is advised to analyze \n",
      "  the integrand in order to determine the difficulties.  If the position of a \n",
      "  local difficulty can be determined (singularity, discontinuity) one will \n",
      "  probably gain from splitting up the interval and calling the integrator \n",
      "  on the subranges.  Perhaps a special-purpose integrator should be used.\n",
      "  warnings.warn(msg, IntegrationWarning)\n",
      "/scratch/sm8383/anaconda3/envs/venv_smsharma/lib/python3.6/site-packages/scipy/integrate/quadpack.py:385: IntegrationWarning: The integral is probably divergent, or slowly convergent.\n",
      "  warnings.warn(msg, IntegrationWarning)\n"
     ]
    }
   ],
   "source": [
    "D_l = 10*kpc\n",
    "l_ary = np.linspace(1,200, 20)\n",
    "\n",
    "\n",
    "Cl_ary = np.array([quad(lambda theta: mpmath.j1(l*theta), 0, 2*np.pi) \\\n",
    "                   for l in tqdm_notebook(l_ary)])"
   ]
  },
  {
   "cell_type": "code",
   "execution_count": 436,
   "metadata": {},
   "outputs": [],
   "source": [
    "from skmonaco import mcquad, mcimport"
   ]
  },
  {
   "cell_type": "code",
   "execution_count": 444,
   "metadata": {},
   "outputs": [
    {
     "data": {
      "application/vnd.jupyter.widget-view+json": {
       "model_id": "7b11733fff164f2b92b8cf04edeb99a5",
       "version_major": 2,
       "version_minor": 0
      },
      "text/plain": [
       "HBox(children=(IntProgress(value=0, max=20), HTML(value='')))"
      ]
     },
     "metadata": {},
     "output_type": "display_data"
    }
   ],
   "source": [
    "Cl_ary = np.array([mcquad(lambda theta: jv(1,l*theta), npoints=1e7, xl=[0.], xu=[np.pi], nprocs=12) \\\n",
    "                   for l in tqdm_notebook(l_ary)])"
   ]
  },
  {
   "cell_type": "code",
   "execution_count": 445,
   "metadata": {},
   "outputs": [
    {
     "data": {
      "text/plain": [
       "array([[[1.30419867e+00],\n",
       "        [1.56642428e-04]],\n",
       "\n",
       "       [[9.64180322e-02],\n",
       "        [1.89669768e-04]],\n",
       "\n",
       "       [[4.30192945e-02],\n",
       "        [1.48817456e-04]],\n",
       "\n",
       "       [[2.89335564e-02],\n",
       "        [1.27336575e-04]],\n",
       "\n",
       "       [[2.41319225e-02],\n",
       "        [1.13614984e-04]],\n",
       "\n",
       "       [[1.97061993e-02],\n",
       "        [1.03829659e-04]],\n",
       "\n",
       "       [[1.54943074e-02],\n",
       "        [9.64609683e-05]],\n",
       "\n",
       "       [[1.27224625e-02],\n",
       "        [9.05177158e-05]],\n",
       "\n",
       "       [[1.18671234e-02],\n",
       "        [8.57194930e-05]],\n",
       "\n",
       "       [[1.10456960e-02],\n",
       "        [8.16937710e-05]],\n",
       "\n",
       "       [[9.50600547e-03],\n",
       "        [7.81075315e-05]],\n",
       "\n",
       "       [[8.25570737e-03],\n",
       "        [7.50577116e-05]],\n",
       "\n",
       "       [[7.91621228e-03],\n",
       "        [7.24132953e-05]],\n",
       "\n",
       "       [[7.51066618e-03],\n",
       "        [6.99587749e-05]],\n",
       "\n",
       "       [[6.89708483e-03],\n",
       "        [6.77751102e-05]],\n",
       "\n",
       "       [[6.19968634e-03],\n",
       "        [6.59528499e-05]],\n",
       "\n",
       "       [[5.76757772e-03],\n",
       "        [6.41637154e-05]],\n",
       "\n",
       "       [[5.76326788e-03],\n",
       "        [6.24234939e-05]],\n",
       "\n",
       "       [[5.49531183e-03],\n",
       "        [6.09706639e-05]],\n",
       "\n",
       "       [[4.99689110e-03],\n",
       "        [5.95819197e-05]]])"
      ]
     },
     "execution_count": 445,
     "metadata": {},
     "output_type": "execute_result"
    }
   ],
   "source": [
    "Cl_ary"
   ]
  },
  {
   "cell_type": "code",
   "execution_count": 447,
   "metadata": {},
   "outputs": [
    {
     "data": {
      "image/png": "[encoded data removed]",
      "text/plain": [
       "<Figure size 432x288 with 1 Axes>"
      ]
     },
     "metadata": {
      "needs_background": "light"
     },
     "output_type": "display_data"
    }
   ],
   "source": [
    "plt.plot(l_ary, l_ary**2*Cl_ary[:,0,0]**2)\n",
    "plt.xscale(\"log\")\n",
    "plt.yscale(\"log\")"
   ]
  },
  {
   "cell_type": "code",
   "execution_count": 127,
   "metadata": {},
   "outputs": [],
   "source": [
    "def Cl_Gauss(R0, M0, Dl, v, lmin, lmax):\n",
    "    beta0 = R0/Dl\n",
    "    l_ary = np.arange(lmin, lmax)\n",
    "    return np.array([(4*GN*M0*v/Dl**2)**2*np.pi/2.*np.exp(-l**2*beta0**2) for l in l_ary])\n",
    "\n",
    "def cov_mat(ell, C_l, N_l, fsky=0.5):\n",
    "    return 1/((2*ell+1)*fsky)*(2*(C_l + N_l)**2)\n",
    "\n",
    "def likelihood(C_l_data, C_l_theta, cov_mat_theta):\n",
    "    dC_l_theta = np.sqrt(cov_mat_theta)\n",
    "    return np.sum(-0.5*((C_l_data - C_l_theta)/dC_l_theta)**2)"
   ]
  },
  {
   "cell_type": "code",
   "execution_count": 3,
   "metadata": {},
   "outputs": [],
   "source": [
    "l_min = 1\n",
    "l_max = 200\n",
    "l_ary = np.arange(l_min, l_max)\n",
    "\n",
    "sigma_mu = 1 # in muas/yr\n",
    "N0 = 1e8\n",
    "N_l = np.ones_like(l_ary)*sigma_mu**2/N0"
   ]
  },
  {
   "cell_type": "code",
   "execution_count": 4,
   "metadata": {},
   "outputs": [
    {
     "ename": "NameError",
     "evalue": "name 'C_l' is not defined",
     "output_type": "error",
     "traceback": [
      "\u001b[0;31m---------------------------------------------------------------------------\u001b[0m",
      "\u001b[0;31mNameError\u001b[0m                                 Traceback (most recent call last)",
      "\u001b[0;32m<ipython-input-4-52e2e38d1b6b>\u001b[0m in \u001b[0;36m<module>\u001b[0;34m\u001b[0m\n\u001b[1;32m      1\u001b[0m \u001b[0;31m# Fix units of signal prediction\u001b[0m\u001b[0;34m\u001b[0m\u001b[0;34m\u001b[0m\u001b[0;34m\u001b[0m\u001b[0m\n\u001b[0;32m----> 2\u001b[0;31m \u001b[0mC_l\u001b[0m \u001b[0;34m/=\u001b[0m \u001b[0;34m(\u001b[0m\u001b[0;36m1e-6\u001b[0m\u001b[0;34m*\u001b[0m\u001b[0masctorad\u001b[0m\u001b[0;34m/\u001b[0m\u001b[0mYear\u001b[0m\u001b[0;34m)\u001b[0m\u001b[0;34m**\u001b[0m\u001b[0;36m2\u001b[0m\u001b[0;34m\u001b[0m\u001b[0;34m\u001b[0m\u001b[0m\n\u001b[0m",
      "\u001b[0;31mNameError\u001b[0m: name 'C_l' is not defined"
     ]
    }
   ],
   "source": [
    "# Fix units of signal prediction\n",
    "C_l /= (1e-6*asctorad/Year)**2"
   ]
  },
  {
   "cell_type": "code",
   "execution_count": 6,
   "metadata": {},
   "outputs": [
    {
     "data": {
      "text/plain": [
       "(-5, 5)"
      ]
     },
     "execution_count": 6,
     "metadata": {},
     "output_type": "execute_result"
    },
    {
     "data": {
      "image/png": "[encoded data removed]",
      "text/plain": [
       "<Figure size 432x288 with 1 Axes>"
      ]
     },
     "metadata": {
      "needs_background": "light"
     },
     "output_type": "display_data"
    }
   ],
   "source": [
    "LL=[]\n",
    "frac_scale = np.logspace(-4,2,100)\n",
    "for i in frac_scale:\n",
    "    LL.append(2*likelihood(N_l, i*C_l + N_l, cov_mat(l_ary, i*C_l, N_l)))\n",
    "    \n",
    "plt.plot(frac_scale, LL)\n",
    "plt.xscale(\"log\")\n",
    "plt.ylim(-5,5)"
   ]
  },
  {
   "cell_type": "code",
   "execution_count": 80,
   "metadata": {},
   "outputs": [],
   "source": [
    "# Cl_Gauss(10*pc, 10**8*M_s, 10*kpc, 1e-3, 1, 2)[0] / (1e-6*asctorad/Year)**2"
   ]
  },
  {
   "cell_type": "code",
   "execution_count": 98,
   "metadata": {},
   "outputs": [],
   "source": [
    "def rho_nfw(r):\n",
    "    \"\"\"Unnormalized NFW profile density\"\"\"\n",
    "    r_s = 18*kpc\n",
    "    return 1/((r/r_s)*(1+r/r_s)**2)\n",
    "\n",
    "def rho_v(v):\n",
    "    \"\"\"Unnormalized SHM Maxwellian\"\"\"\n",
    "    v0 = 220*Kmps\n",
    "    if v > 550*Kmps: return 0\n",
    "    return np.exp(-v**2/v0**2)\n",
    "\n",
    "Rsun = 8*kpc\n",
    "Rmin = 3*kpc\n",
    "Rmax = 100*kpc\n",
    "R0 = 10*pc\n",
    "M0 = 10**8*M_s"
   ]
  },
  {
   "cell_type": "code",
   "execution_count": 99,
   "metadata": {},
   "outputs": [],
   "source": [
    "v0 = 220.*Kmps\n",
    "vesc = 544.*Kmps\n",
    "vsun = (11.*Kmps, 12.*Kmps + v0, 7.*Kmps)\n",
    "\n",
    "Nesc = erf(vesc/v0) - 2/np.sqrt(np.pi)*vesc/v0*np.exp(-vesc**2/v0**2)\n",
    "\n",
    "def fG(vvec):\n",
    "    v = np.linalg.norm(vvec)\n",
    "    return 1/(Nesc*np.pi**1.5*v0**3)*np.exp(-v**2/v0**2)*(v < vesc)"
   ]
  },
  {
   "cell_type": "code",
   "execution_count": 111,
   "metadata": {},
   "outputs": [],
   "source": [
    "DM_frac = 0.1\n",
    "N_halos = DM_frac*1/(M0/(10**12*M_s))"
   ]
  },
  {
   "cell_type": "code",
   "execution_count": 101,
   "metadata": {},
   "outputs": [],
   "source": [
    "norm = nquad(lambda l, theta: rho_nfw(np.sqrt(l**2 + Rsun**2 - 2*l*Rsun*np.cos(theta))), [[Rmin,Rmax],[0,2*np.pi]])[0]"
   ]
  },
  {
   "cell_type": "code",
   "execution_count": 126,
   "metadata": {},
   "outputs": [],
   "source": [
    "# conv = [nquad(lambda l, theta: Cl_Gauss(R0, M0, l, 1, l_lo, l_lo+1)[0] / (1e-6*asctorad/Year)**2  * rho_nfw(np.sqrt(l**2 + Rsun**2 - 2*l*Rsun*np.cos(theta))), [[Rmin,Rmax],[0,2*np.pi]]) for l_lo in tqdm(range(l_min, l_max))]\n"
   ]
  },
  {
   "cell_type": "code",
   "execution_count": 103,
   "metadata": {},
   "outputs": [],
   "source": [
    "conv = [nquad(lambda l, theta: Cl_Gauss(R0, M0, l, 1, l_lo, l_lo+1)[0] / (1e-6*asctorad/Year)**2  * rho_nfw(np.sqrt(l**2 + Rsun**2 - 2*l*Rsun*np.cos(theta))), [[Rmin,Rmax],[0,2*np.pi]]) for l_lo in tqdm(range(l_min, l_max))]"
   ]
  },
  {
   "cell_type": "code",
   "execution_count": 92,
   "metadata": {},
   "outputs": [],
   "source": [
    "integ, err = nquad(lambda v, theta, phi: v**4*np.sin(theta)*fG(v*np.array([np.sin(theta)*np.cos(phi),np.sin(theta)*np.sin(phi),np.cos(theta)]) + vsun),\n",
    "      [[0,950.*Kmps],[0,np.pi],[0,2*np.pi]])\n",
    "v_term = integ"
   ]
  },
  {
   "cell_type": "code",
   "execution_count": 118,
   "metadata": {},
   "outputs": [
    {
     "data": {
      "text/plain": [
       "array([9.36321137e-08])"
      ]
     },
     "execution_count": 118,
     "metadata": {},
     "output_type": "execute_result"
    }
   ],
   "source": [
    "N_halos*np.array(conv)[:,0] / norm * v_term"
   ]
  },
  {
   "cell_type": "code",
   "execution_count": 136,
   "metadata": {},
   "outputs": [],
   "source": [
    "l_min = 1\n",
    "l_max = 200\n",
    "l_ary = np.arange(l_min, l_max)\n",
    "\n",
    "sigma_mu = 10 # in muas/yr\n",
    "N0 = 0.0001e9*4*np.pi\n",
    "N_l = np.ones_like(l_ary)*sigma_mu**2/N0"
   ]
  },
  {
   "cell_type": "code",
   "execution_count": 137,
   "metadata": {},
   "outputs": [
    {
     "data": {
      "image/png": "[encoded data removed]",
      "text/plain": [
       "<Figure size 432x288 with 1 Axes>"
      ]
     },
     "metadata": {
      "needs_background": "light"
     },
     "output_type": "display_data"
    }
   ],
   "source": [
    "plt.plot(N_halos*np.array(conv)[:,0] / norm * v_term)\n",
    "plt.plot(N_l)\n",
    "\n",
    "plt.xscale(\"log\")\n",
    "plt.yscale(\"log\")"
   ]
  },
  {
   "cell_type": "code",
   "execution_count": null,
   "metadata": {},
   "outputs": [],
   "source": []
  },
  {
   "cell_type": "code",
   "execution_count": null,
   "metadata": {},
   "outputs": [],
   "source": []
  }
 ],
 "metadata": {
  "kernelspec": {
   "display_name": "Python 3",
   "language": "python",
   "name": "python3"
  },
  "language_info": {
   "codemirror_mode": {
    "name": "ipython",
    "version": 3
   },
   "file_extension": ".py",
   "mimetype": "text/x-python",
   "name": "python",
   "nbconvert_exporter": "python",
   "pygments_lexer": "ipython3",
   "version": "3.6.8"
  }
 },
 "nbformat": 4,
 "nbformat_minor": 2
}
