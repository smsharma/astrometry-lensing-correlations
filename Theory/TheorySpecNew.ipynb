{
 "cells": [
  {
   "cell_type": "code",
   "execution_count": 6,
   "metadata": {},
   "outputs": [
    {
     "name": "stdout",
     "output_type": "stream",
     "text": [
      "The autoreload extension is already loaded. To reload it, use:\n",
      "  %reload_ext autoreload\n"
     ]
    }
   ],
   "source": [
    "import sys\n",
    "sys.path.append(\"../Simulations/\")\n",
    "\n",
    "from units import *\n",
    "import matplotlib.pyplot as plt\n",
    "from tqdm import *\n",
    "from scipy.integrate import nquad, quad\n",
    "from scipy.special import erf, jn, jv, kn\n",
    "import mpmath as mp\n",
    "from skmonaco import mcimport, mcquad, mcmiser\n",
    "\n",
    "%matplotlib inline\n",
    "%load_ext autoreload\n",
    "%autoreload 2"
   ]
  },
  {
   "cell_type": "markdown",
   "metadata": {},
   "source": [
    "# Single subhalo"
   ]
  },
  {
   "cell_type": "code",
   "execution_count": 7,
   "metadata": {},
   "outputs": [],
   "source": [
    "def R0_VL(M0):\n",
    "    \"\"\" Concentration-mass relation for Plummer profile from 1711.03554\n",
    "    \"\"\"\n",
    "    return 1.2*kpc*(M0/(1e8*M_s))**0.5\n",
    "\n",
    "def c200_SC(M200):\n",
    "    \"\"\" Concentration-mass relation according to Sanchez-Conde&Prada14\n",
    "    \"\"\"\n",
    "    x=np.log(M200*h) # Given in terms of M_s/h in S-C&P paper\n",
    "    pars=[37.5153, -1.5093, 1.636e-2, 3.66e-4, -2.89237e-5, 5.32e-7][::-1]\n",
    "    return np.polyval(pars, x)\n",
    "\n",
    "def get_rs_rhos_NFW(M200):\n",
    "    \"\"\" Get NFW scale radius and density\n",
    "    \"\"\"\n",
    "    c200 = c200_SC(M200/M_s)\n",
    "    r200 = (M200/(4/3.*np.pi*200*rho_c))**(1/3.)\n",
    "    rho_s = M200/(4*np.pi*(r200/c200)**3*(np.log(1 + c200) - c200/(1 + c200)))\n",
    "    r_s = r200/c200\n",
    "    return r_s, rho_s\n",
    "\n",
    "def get_rb_rhob_Burk(M200, p):\n",
    "    \"\"\" Get Burkert scale radius and density\n",
    "    \"\"\"\n",
    "    c200n = c200_SC(M200/M_s)\n",
    "    c200b = c200n/p\n",
    "    r200 = (M200/(4/3.*mp.pi*200*rho_c))**(1/3.)\n",
    "    r_b = r200/c200b\n",
    "    rho_b = M200/(r_b**3*mp.pi*(-2*mp.atan(c200b) + mp.log((1+c200b)**2*(1+c200b**2))))\n",
    "    return r_b, rho_b\n",
    "\n",
    "def F(x):\n",
    "    \"\"\" Helper function for NFW deflection, from astro-ph/0102341\n",
    "    \"\"\"\n",
    "    if x > 1:\n",
    "        return mp.atan(mp.sqrt(x**2-1))/(mp.sqrt(x**2 - 1))\n",
    "    elif x == 1:\n",
    "        return 1\n",
    "    elif x < 1:\n",
    "        return mp.atanh(mp.sqrt(1-x**2))/(mp.sqrt(1-x**2))\n",
    "    \n",
    "def Ft(x, tau):\n",
    "    \"\"\" Helper function for truncated NFW deflection\n",
    "    \"\"\"\n",
    "    return tau**2/(tau**2 + 1)**2*((tau**2 + 1 + 2*(x**2 - 1))*F(x) + tau*mp.pi + (tau**2 - 1)*mp.log(tau) + mp.sqrt(tau**2 + x**2)*(-mp.pi + (tau**2 - 1)/tau*L(x, tau)))\n",
    "\n",
    "def L(x, tau):\n",
    "    \"\"\" Helper function for truncated NFW deflection\n",
    "    \"\"\"\n",
    "    return mp.log(x/(mp.sqrt(tau**2 + x**2) + tau))\n",
    "\n",
    "def Fb(x):\n",
    "    \"\"\" Helper function for Burkert deflection\n",
    "    \"\"\"\n",
    "    if x > 1:\n",
    "        return mp.log(x/2.) + mp.pi/4.*(mp.sqrt(x**2 + 1) - 1) + mp.sqrt(x**2 + 1)/2*mp.acoth(mp.sqrt(x**2 + 1)) - 0.5*mp.sqrt(x**2 - 1)*mp.atan(mp.sqrt(x**2 - 1))\n",
    "    elif x == 1:\n",
    "        return -mp.log(2.) - mp.pi/4. + 1/(2*mp.sqrt(2))*(mp.pi + mp.log(3 + 2*mp.sqrt(2)))\n",
    "    elif x < 1:\n",
    "        return mp.log(x/2.) + mp.pi/4.*(mp.sqrt(x**2 + 1) - 1) + mp.sqrt(x**2 + 1)/2*mp.acoth(mp.sqrt(x**2 + 1)) + 0.5*mp.sqrt(1 - x**2)*mp.atanh(mp.sqrt(1 - x**2))"
   ]
  },
  {
   "cell_type": "code",
   "execution_count": 8,
   "metadata": {},
   "outputs": [],
   "source": [
    "def MGauss(theta, M0, beta0):\n",
    "    \"\"\" Enclosed mass in cylinder, Gaussian profile\n",
    "    \"\"\"\n",
    "    return M0*(1-mp.exp(-theta**2/(2*beta0**2)))\n",
    "\n",
    "def MPlumm(theta, M0, beta0):\n",
    "    \"\"\" Enclosed mass in cylinder, Plummer profile\n",
    "    \"\"\"\n",
    "    return M0*theta**2/(theta**2 + beta0**2)\n",
    "\n",
    "def MNFW(r, M200):\n",
    "    \"\"\" Enclosed mass in cylinder, NFW profile\n",
    "    \"\"\"\n",
    "    r_s, rho_s = get_rs_rhos_NFW(M200)\n",
    "    x = r/r_s\n",
    "    M0 = 4*np.pi*r_s**3*rho_s\n",
    "    phi_r = M0*(mp.log(x/2) + F(x))\n",
    "    return phi_r/1e69\n",
    "\n",
    "def MtNFW(r, M200, tau=15):\n",
    "    \"\"\" Enclosed mass in cylinder, tNFW profile\n",
    "    \"\"\"\n",
    "    r_s, rho_s = get_rs_rhos_NFW(M200)\n",
    "    x = r/r_s\n",
    "    M0 = 4*np.pi*r_s**3*rho_s\n",
    "    phi_r = M0*Ft(x, tau)\n",
    "    return phi_r/1e69\n",
    "\n",
    "def MBurk(r, M200, p=0.7):\n",
    "    \"\"\" Enclosed mass in cylinder, Burkert profile\n",
    "    \"\"\"\n",
    "    r_b, rho_b = get_rb_rhob_Burk(M200, p)\n",
    "    x = r/r_b\n",
    "    M0 = 4*np.pi*r_b**3*rho_b\n",
    "    phi_r = M0*Fb(x)\n",
    "    return phi_r/1e69"
   ]
  },
  {
   "cell_type": "code",
   "execution_count": 9,
   "metadata": {},
   "outputs": [],
   "source": [
    "def Cl_Gauss(R0, M0, Dl, v, l):\n",
    "    beta0 = R0/Dl\n",
    "    return (4*GN*M0*v/Dl**2)**2*np.pi/2.*np.exp(-l**2*beta0**2)\n",
    "\n",
    "def Cl_Plummer(R0, M0, Dl, v, l):\n",
    "    beta0 = R0/Dl\n",
    "    return (4*GN*M0*v/Dl**2)**2*np.pi/2.*l**2*beta0**2*kn(1, l*beta0)**2\n",
    "\n",
    "def Cl_Point(R0, M0, Dl, v, l):\n",
    "    beta0 = R0/Dl\n",
    "    return (4*GN*M0*v/Dl**2)**2*np.pi/2.\n",
    "\n",
    "def Cl_NFW(M200, Dl, v, l):\n",
    "    pref = 1e69**2*GN**2*v**2*8*mp.pi*l**2/Dl**4\n",
    "    Mj = mp.quadosc(lambda theta: MNFW(theta*Dl, M200)*mp.j1(l*theta), [0, mp.inf], period=2*mp.pi/l)\n",
    "    return pref*Mj**2\n",
    "\n",
    "def Cl_tNFW(M200, Dl, v, l, tau=15):\n",
    "    pref = 1e69**2*GN**2*v**2*8*mp.pi*l**2/Dl**4\n",
    "    Mj = mp.quadosc(lambda theta: MtNFW(theta*Dl, M200, tau)*mp.j1(l*theta), [0, mp.inf], period=2*mp.pi/l)\n",
    "    return pref*Mj**2\n",
    "\n",
    "def Cl_Burk(M200, Dl, v, l, p=0.7):\n",
    "    pref = 1e69**2*GN**2*v**2*8*mp.pi*l**2/Dl**4\n",
    "    Mj = mp.quadosc(lambda theta: MBurk(theta*Dl, M200, p)*mp.j1(l*theta), [0, mp.inf], period=2*mp.pi/l)\n",
    "    return pref*Mj**2"
   ]
  },
  {
   "cell_type": "code",
   "execution_count": 11,
   "metadata": {},
   "outputs": [],
   "source": [
    "l_min = 1\n",
    "l_max = 500\n",
    "n_l = 50\n",
    "l_ary = np.logspace(np.log10(l_min), np.log10(l_max), n_l)"
   ]
  },
  {
   "cell_type": "code",
   "execution_count": 12,
   "metadata": {},
   "outputs": [],
   "source": [
    "M0 = 10**8*M_s\n",
    "R0 = R0_VL(M0)\n",
    "Dl = 10*kpc\n",
    "v = 1e-3"
   ]
  },
  {
   "cell_type": "code",
   "execution_count": 13,
   "metadata": {},
   "outputs": [
    {
     "data": {
      "application/vnd.jupyter.widget-view+json": {
       "model_id": "3fa879c2b9b1462cbb5fe5ea003d7ffa",
       "version_major": 2,
       "version_minor": 0
      },
      "text/plain": [
       "HBox(children=(IntProgress(value=0, max=50), HTML(value='')))"
      ]
     },
     "metadata": {},
     "output_type": "display_data"
    },
    {
     "name": "stdout",
     "output_type": "stream",
     "text": [
      "\n"
     ]
    },
    {
     "data": {
      "application/vnd.jupyter.widget-view+json": {
       "model_id": "3c33f190e5e0488e9c2ffa3280748028",
       "version_major": 2,
       "version_minor": 0
      },
      "text/plain": [
       "HBox(children=(IntProgress(value=0, max=50), HTML(value='')))"
      ]
     },
     "metadata": {},
     "output_type": "display_data"
    },
    {
     "name": "stdout",
     "output_type": "stream",
     "text": [
      "\n"
     ]
    },
    {
     "data": {
      "application/vnd.jupyter.widget-view+json": {
       "model_id": "321b890c643949ecbcf9ead5835faea0",
       "version_major": 2,
       "version_minor": 0
      },
      "text/plain": [
       "HBox(children=(IntProgress(value=0, max=50), HTML(value='')))"
      ]
     },
     "metadata": {},
     "output_type": "display_data"
    },
    {
     "name": "stdout",
     "output_type": "stream",
     "text": [
      "\n"
     ]
    },
    {
     "data": {
      "application/vnd.jupyter.widget-view+json": {
       "model_id": "5500de0008c94c4ba91dcc8f91a8f756",
       "version_major": 2,
       "version_minor": 0
      },
      "text/plain": [
       "HBox(children=(IntProgress(value=0, max=50), HTML(value='')))"
      ]
     },
     "metadata": {},
     "output_type": "display_data"
    },
    {
     "name": "stdout",
     "output_type": "stream",
     "text": [
      "\n"
     ]
    }
   ],
   "source": [
    "Cl_NFW_ary = np.array([Cl_NFW(M0, Dl, v, l) for l in tqdm_notebook(l_ary)])/(1e-6*asctorad/Year)**2\n",
    "Cl_tNFW_ary = np.array([Cl_tNFW(M0, Dl, v, l, tau=15) for l in tqdm_notebook(l_ary)])/(1e-6*asctorad/Year)**2\n",
    "Cl_tNFW2_ary = np.array([Cl_tNFW(M0, Dl, v, l, tau=10) for l in tqdm_notebook(l_ary)])/(1e-6*asctorad/Year)**2\n",
    "Cl_Burk_ary = np.array([Cl_Burk(M0, Dl, v, l) for l in tqdm_notebook(l_ary)])/(1e-6*asctorad/Year)**2"
   ]
  },
  {
   "cell_type": "code",
   "execution_count": 14,
   "metadata": {},
   "outputs": [],
   "source": [
    "Cl_Plummer_ary = Cl_Plummer(R0, M0, Dl, v, l_ary)/(1e-6*asctorad/Year)**2;\n",
    "Cl_Gauss_ary = Cl_Gauss(R0, M0, Dl, v, l_ary)/(1e-6*asctorad/Year)**2;\n",
    "Cl_Point_ary = Cl_Point(R0, M0, Dl, v, l_ary)/(1e-6*asctorad/Year)**2;"
   ]
  },
  {
   "cell_type": "code",
   "execution_count": 15,
   "metadata": {},
   "outputs": [
    {
     "name": "stderr",
     "output_type": "stream",
     "text": [
      "/scratch/sm8383/anaconda3/envs/venv_smsharma/lib/python3.6/site-packages/matplotlib/font_manager.py:1241: UserWarning: findfont: Font family ['serif'] not found. Falling back to DejaVu Sans.\n",
      "  (prop.get_family(), self.defaultFamily[fontext]))\n",
      "/scratch/sm8383/anaconda3/envs/venv_smsharma/lib/python3.6/site-packages/matplotlib/font_manager.py:1241: UserWarning: findfont: Font family ['serif'] not found. Falling back to DejaVu Sans.\n",
      "  (prop.get_family(), self.defaultFamily[fontext]))\n",
      "/scratch/sm8383/anaconda3/envs/venv_smsharma/lib/python3.6/site-packages/matplotlib/font_manager.py:1241: UserWarning: findfont: Font family ['serif'] not found. Falling back to DejaVu Sans.\n",
      "  (prop.get_family(), self.defaultFamily[fontext]))\n",
      "/scratch/sm8383/anaconda3/envs/venv_smsharma/lib/python3.6/site-packages/matplotlib/font_manager.py:1241: UserWarning: findfont: Font family ['serif'] not found. Falling back to DejaVu Sans.\n",
      "  (prop.get_family(), self.defaultFamily[fontext]))\n"
     ]
    },
    {
     "data": {
      "image/png": "[encoded data removed]",
      "text/plain": [
       "<Figure size 576x432 with 1 Axes>"
      ]
     },
     "metadata": {
      "needs_background": "light"
     },
     "output_type": "display_data"
    }
   ],
   "source": [
    "plt.figure(figsize=(8,6))\n",
    "plt.plot(l_ary, Cl_NFW_ary, label=\"NFW\", alpha=0.8, c='cornflowerblue')\n",
    "plt.plot(l_ary, Cl_tNFW_ary, label=\"tNFW, $\\\\tau = 15$\", alpha=0.8, ls='--', c='cornflowerblue')\n",
    "plt.plot(l_ary, Cl_tNFW2_ary, label=\"tNFW, $\\\\tau = 10$\", alpha=0.8, ls='-.', c='cornflowerblue')\n",
    "plt.plot(l_ary, Cl_Burk_ary, label=\"Burk\", alpha=0.8,c='forestgreen')\n",
    "plt.plot(l_ary, Cl_Gauss_ary, label=\"Gaussian\", alpha=0.8, c='orange')\n",
    "plt.plot(l_ary, Cl_Plummer_ary, label=\"Plummer\", alpha=0.8, color='firebrick')\n",
    "plt.plot(l_ary, len(l_ary)*[Cl_Point_ary], label=\"Point-like\", c='k', ls='--', alpha=0.8)\n",
    "\n",
    "plt.axvline((1/(R0/Dl)), c='grey', lw=1, alpha=0.5, ls='--')\n",
    "plt.text((1/(R0/Dl)),1e-17,'$D_L/R_0$',rotation=90, fontsize=14)\n",
    "\n",
    "plt.axvline(1/(get_rs_rhos_NFW(M0)[0]/Dl), c='grey', lw=1, alpha=0.5, ls='--')\n",
    "plt.text((1/(get_rs_rhos_NFW(M0)[0]/Dl)),1e-17,'$D_L/R_s$',rotation=90, fontsize=14)\n",
    "\n",
    "n = 4\n",
    "plt.plot(l_ary, (1/l_ary**n)*Cl_NFW_ary[-1]/(1/(l_ary**n)[-1]), lw=1, alpha=0.8, ls='dotted', c='cornflowerblue')\n",
    "\n",
    "n = 8\n",
    "l_base = 2000\n",
    "fac = Cl_Burk(M0, Dl, v, l_base)/(1e-6*asctorad/Year)**2/(1/(l_base**n))\n",
    "plt.plot(l_ary, (1/l_ary**n)*fac, lw=1, alpha=0.8, ls='dotted',c='forestgreen')\n",
    "\n",
    "plt.xscale(\"log\")\n",
    "plt.yscale(\"log\")\n",
    "plt.xlabel(\"$\\ell$\")\n",
    "plt.ylabel(\"$C_\\ell^{1}$ [$\\mu$as$^2$\\,yr$^{-2}$]\")\n",
    "\n",
    "\n",
    "plt.xlim(l_min, l_max)\n",
    "plt.ylim(1e-19,1e-8)\n",
    "\n",
    "plt.title('\\\\textbf{Velocity power spectrum, single subhalo}', fontsize=18.5, y=1.02)\n",
    "plt.text(40, 2.3e-9,'$M_0 = 10^8\\,$M$_\\odot$, $R_0$ = ' + str(R0/kpc)[:3] + '\\,kpc', fontsize=14)\n",
    "plt.text(40, 5e-10,'$D_L$ = 10\\,kpc, $v=10^{-3}$', fontsize=14)\n",
    "\n",
    "plt.text(200, 1e-14,'$\\propto l^{-4}$', fontsize=14)\n",
    "plt.text(200, 2e-17,'$\\propto l^{-8}$', fontsize=14)\n",
    "\n",
    "plt.legend(frameon=False)\n",
    "\n",
    "plt.tight_layout()\n",
    "plt.savefig(\"single_sub.pdf\")"
   ]
  },
  {
   "cell_type": "markdown",
   "metadata": {},
   "source": [
    "# Populations"
   ]
  },
  {
   "cell_type": "markdown",
   "metadata": {},
   "source": [
    "### Define some distributions"
   ]
  },
  {
   "cell_type": "code",
   "execution_count": 99,
   "metadata": {},
   "outputs": [],
   "source": [
    "def rho_nfw(r):\n",
    "    \"\"\"Unnormalized NFW profile density\"\"\"\n",
    "    r_s = 18*kpc\n",
    "    return 1/((r/r_s)*(1+r/r_s)**2)\n",
    "\n",
    "def rho_v(v):\n",
    "    \"\"\"Unnormalized SHM Maxwellian\"\"\"\n",
    "    v0 = 220*Kmps\n",
    "    if v > 550*Kmps: return 0\n",
    "    return np.exp(-v**2/v0**2)\n",
    "\n",
    "v0 = 220.*Kmps\n",
    "vesc = 544.*Kmps\n",
    "vsun = (11.*Kmps, 12.*Kmps + v0, 7.*Kmps)\n",
    "\n",
    "Nesc = erf(vesc/v0) - 2/np.sqrt(np.pi)*vesc/v0*np.exp(-vesc**2/v0**2)\n",
    "\n",
    "def fG(vvec):\n",
    "    v = np.linalg.norm(vvec)\n",
    "    return 1/(Nesc*np.pi**1.5*v0**3)*np.exp(-v**2/v0**2)*(v < vesc)\n",
    "\n",
    "Rsun = 8*kpc\n",
    "Rmin = 1*kpc\n",
    "Rmax = 200*kpc\n",
    "M_min = 1e6*M_s\n",
    "M_max = 1e10*M_s"
   ]
  },
  {
   "cell_type": "code",
   "execution_count": 100,
   "metadata": {},
   "outputs": [],
   "source": [
    "norm_rho_nfw = nquad(lambda l, theta: rho_nfw(np.sqrt(l**2 + Rsun**2 - 2*l*Rsun*np.cos(theta))), [[Rmin,Rmax],[0,2*np.pi]])[0]"
   ]
  },
  {
   "cell_type": "code",
   "execution_count": 101,
   "metadata": {},
   "outputs": [],
   "source": [
    "def vproj(v, theta, phi, thetap, phip):\n",
    "    v_vec = v*np.array([np.sin(theta)*np.cos(phi),np.sin(theta)*np.sin(phi),np.cos(theta)])\n",
    "    theta_hat = np.array([np.cos(thetap)*np.cos(phip), np.cos(thetap)*np.sin(phip), -np.sin(thetap)])\n",
    "    phi_hat = [-np.sin(phip), np.cos(phip), 0]\n",
    "    return np.sqrt(np.dot(v_vec,theta_hat)**2 + np.dot(v_vec,phi_hat)**2)"
   ]
  },
  {
   "cell_type": "code",
   "execution_count": 102,
   "metadata": {},
   "outputs": [],
   "source": [
    "thetap, phip = np.pi/2., np.pi/2.\n",
    "v_term, _ = nquad(lambda v, theta, phi: v**2*(vproj(v, theta, phi, thetap, phip))**2*np.sin(theta)*fG(v),\n",
    "      [[0,950.*Kmps],[0,np.pi],[0,2*np.pi]])"
   ]
  },
  {
   "cell_type": "markdown",
   "metadata": {},
   "source": [
    "# (w)CDM projections"
   ]
  },
  {
   "cell_type": "code",
   "execution_count": 298,
   "metadata": {},
   "outputs": [],
   "source": [
    "def rho_m(ms, m=200*KeV):\n",
    "    A0 = 2e8/M_s\n",
    "    dNcdmdm = A0*(ms/M_s)**-1.9\n",
    "    pref = (1 + mhm(m)/ms)**-1.3\n",
    "    return pref*dNcdmdm\n",
    "\n",
    "def mhm(m):\n",
    "    return 1e10*(m/KeV)**-3.33*M_s/h"
   ]
  },
  {
   "cell_type": "code",
   "execution_count": 111,
   "metadata": {},
   "outputs": [],
   "source": [
    "l_min = 1\n",
    "l_max = 1000\n",
    "l_ary = np.arange(0,1000)\n",
    "l_ary_calc = np.logspace(np.log10(l_min), np.log10(l_max), 100)"
   ]
  },
  {
   "cell_type": "code",
   "execution_count": 112,
   "metadata": {},
   "outputs": [],
   "source": [
    "DM_frac_fid = 0.2\n",
    "dDM_frac_fid = 0.02\n",
    "\n",
    "mWDM_fid = 3.3*KeV\n",
    "dmWDM = 0.1*KeV"
   ]
  },
  {
   "cell_type": "code",
   "execution_count": 113,
   "metadata": {},
   "outputs": [],
   "source": [
    "Rsun = 8*kpc\n",
    "Rmin = 1*kpc\n",
    "Rmax = 200*kpc\n",
    "M_min = 1e5*M_s\n",
    "M_max = 1e10*M_s"
   ]
  },
  {
   "cell_type": "code",
   "execution_count": 114,
   "metadata": {},
   "outputs": [],
   "source": [
    "R0 = lambda M: 1.2*kpc*(M/(1e8*M_s))**0.5 # \"Concentration\"-mass relation from 1711.03554"
   ]
  },
  {
   "cell_type": "code",
   "execution_count": 115,
   "metadata": {},
   "outputs": [],
   "source": [
    "norm_rho_m = quad(lambda m: dNwdmdm(m), M_min, M_max)[0]"
   ]
  },
  {
   "cell_type": "code",
   "execution_count": 116,
   "metadata": {},
   "outputs": [],
   "source": [
    "m_avg = quad(lambda m: m*dNwdmdm(m), M_min, M_max)[0]/norm_rho_m"
   ]
  },
  {
   "cell_type": "code",
   "execution_count": 117,
   "metadata": {},
   "outputs": [],
   "source": [
    "N_halos = DM_frac_fid*1/(m_avg/(1e12*M_s))"
   ]
  },
  {
   "cell_type": "code",
   "execution_count": 118,
   "metadata": {},
   "outputs": [],
   "source": [
    "def f(x, ell, mWDM=1000.*KeV):\n",
    "    l, theta, m = x[0], x[1], x[2]\n",
    "    return Cl_Plummer(R0(m), m, l, 1, ell) / (1e-6*asctorad/Year)**2  * dNwdmdm(m,mWDM) * rho_nfw(np.sqrt(l**2 + Rsun**2 - 2*l*Rsun*np.cos(theta)))\n"
   ]
  },
  {
   "cell_type": "code",
   "execution_count": 119,
   "metadata": {},
   "outputs": [
    {
     "data": {
      "application/vnd.jupyter.widget-view+json": {
       "model_id": "4187ca58876f415a90a708092f7adb7d",
       "version_major": 2,
       "version_minor": 0
      },
      "text/plain": [
       "HBox(children=(IntProgress(value=0), HTML(value='')))"
      ]
     },
     "metadata": {},
     "output_type": "display_data"
    },
    {
     "data": {
      "application/vnd.jupyter.widget-view+json": {
       "model_id": "41ca8df6d3474ec898462ef69db86dc5",
       "version_major": 2,
       "version_minor": 0
      },
      "text/plain": [
       "HBox(children=(IntProgress(value=0), HTML(value='')))"
      ]
     },
     "metadata": {},
     "output_type": "display_data"
    },
    {
     "data": {
      "application/vnd.jupyter.widget-view+json": {
       "model_id": "deddc6f4eeec429a8784295aae1926ce",
       "version_major": 2,
       "version_minor": 0
      },
      "text/plain": [
       "HBox(children=(IntProgress(value=0), HTML(value='')))"
      ]
     },
     "metadata": {},
     "output_type": "display_data"
    }
   ],
   "source": [
    "conv_fid = [mcmiser(lambda x: f(x, ell, mWDM=mWDM_fid), npoints=5e4, xl=[Rmin,0,M_min], xu=[Rmax,2*np.pi,M_max], nprocs=1) for ell in tqdm_notebook(l_ary_calc)]\n",
    "conv_mWDMp = [mcmiser(lambda x: f(x, ell, mWDM=mWDM_fid + dmWDM), npoints=5e4, xl=[Rmin,0,M_min], xu=[Rmax,2*np.pi,M_max], nprocs=1) for ell in tqdm_notebook(l_ary_calc)]\n",
    "conv_mWDMm = [mcmiser(lambda x: f(x, ell, mWDM=mWDM_fid - dmWDM), npoints=5e4, xl=[Rmin,0,M_min], xu=[Rmax,2*np.pi,M_max], nprocs=1) for ell in tqdm_notebook(l_ary_calc)]\n"
   ]
  },
  {
   "cell_type": "code",
   "execution_count": 120,
   "metadata": {},
   "outputs": [],
   "source": [
    "C_l_fid = N_halos*np.array(conv_fid)[:,0] / norm_rho_m * v_term / norm_rho_nfw\n",
    "\n",
    "C_l_mWDMp = N_halos*np.array(conv_mWDMp)[:,0] / norm_rho_m * v_term / norm_rho_nfw\n",
    "C_l_mWDMm = N_halos*np.array(conv_mWDMm)[:,0] / norm_rho_m * v_term / norm_rho_nfw\n",
    "\n",
    "C_l_fracp = (DM_frac_fid + dDM_frac_fid)/DM_frac_fid*N_halos*np.array(conv_fid)[:,0] / norm_rho_m * v_term / norm_rho_nfw\n",
    "C_l_fracm = (DM_frac_fid - dDM_frac_fid)/DM_frac_fid*N_halos*np.array(conv_fid)[:,0] / norm_rho_m * v_term / norm_rho_nfw"
   ]
  },
  {
   "cell_type": "code",
   "execution_count": 130,
   "metadata": {},
   "outputs": [],
   "source": [
    "from scipy.interpolate import interp1d\n",
    "\n",
    "C_l_fid = np.interp(l_ary, l_ary_calc, C_l_fid)\n",
    "\n",
    "C_l_mWDMp = np.interp(l_ary, l_ary_calc, C_l_mWDMp)\n",
    "C_l_mWDMm = np.interp(l_ary, l_ary_calc, C_l_mWDMm)\n",
    "\n",
    "C_l_fracp = np.interp(l_ary, l_ary_calc, C_l_fracp)\n",
    "C_l_fracm = np.interp(l_ary, l_ary_calc, C_l_fracm)"
   ]
  },
  {
   "cell_type": "code",
   "execution_count": 131,
   "metadata": {},
   "outputs": [],
   "source": [
    "sigma_mu = 1 # in muas/yr\n",
    "N0 = 0.01e9*4*np.pi\n",
    "\n",
    "N_l = np.ones_like(l_ary)*sigma_mu**2/N0"
   ]
  },
  {
   "cell_type": "markdown",
   "metadata": {},
   "source": [
    "## Fisher"
   ]
  },
  {
   "cell_type": "code",
   "execution_count": 132,
   "metadata": {},
   "outputs": [],
   "source": [
    "npar_vary = 2"
   ]
  },
  {
   "cell_type": "code",
   "execution_count": 136,
   "metadata": {},
   "outputs": [],
   "source": [
    "lmax = l_max\n",
    "nbins = 1"
   ]
  },
  {
   "cell_type": "code",
   "execution_count": 137,
   "metadata": {},
   "outputs": [],
   "source": [
    "cl_fid_arr = np.zeros([int((lmax)/NLB), nbins, nbins])"
   ]
  },
  {
   "cell_type": "code",
   "execution_count": 139,
   "metadata": {},
   "outputs": [],
   "source": [
    "cl_fid_arr[:, 0, 0] = C_l_fid"
   ]
  },
  {
   "cell_type": "code",
   "execution_count": 194,
   "metadata": {},
   "outputs": [],
   "source": [
    "dcl_arr = []\n",
    "dcl_arr.append((C_l_fracp-C_l_fracm)/(2*dDM_frac_fid))\n",
    "dcl_arr.append((C_l_mWDMp-C_l_mWDMm)/(2*dmWDM))"
   ]
  },
  {
   "cell_type": "code",
   "execution_count": 195,
   "metadata": {},
   "outputs": [],
   "source": [
    "dcl_arr = np.array(dcl_arr)"
   ]
  },
  {
   "cell_type": "code",
   "execution_count": 196,
   "metadata": {},
   "outputs": [],
   "source": [
    "fsky = 0.5"
   ]
  },
  {
   "cell_type": "code",
   "execution_count": 260,
   "metadata": {},
   "outputs": [],
   "source": [
    "fishermat = []\n",
    "\n",
    "sigma_mus =[1, 10]\n",
    "N0s = [0.1e9*4*np.pi, 0.001e9*4*np.pi]\n",
    "\n",
    "for sigma_mu, N0 in zip(sigma_mus, N0s):\n",
    "    \n",
    "    fshr_l=np.zeros([npar_vary,npar_vary,lmax+1])\n",
    "    fshr_cls=np.zeros([npar_vary,npar_vary])\n",
    "\n",
    "    cl_noise_arr = np.zeros([int((lmax)), nbins, nbins])\n",
    "#     sigma_mu = 10 # in muas/yr\n",
    "#     N0 = 0.1e9*4*np.pi\n",
    "    cl_noise_arr[:, 0, 0] = np.ones_like(l_ary)*sigma_mu**2/N0\n",
    "\n",
    "\n",
    "\n",
    "    for lb in np.arange((lmax)) :\n",
    "        l=lb\n",
    "        if l==0 :\n",
    "            continue\n",
    "        ell=float(l)\n",
    "        cl_fid=cl_fid_arr[int(lb)]\n",
    "        cl_noise=cl_noise_arr[int(lb)]\n",
    "        icl=np.linalg.inv(cl_fid+cl_noise)\n",
    "        for i in np.arange(npar_vary) : ##\n",
    "            dcl1=dcl_arr[i,int(lb)] ##\n",
    "            for j in np.arange(npar_vary-i)+i :\n",
    "                dcl2=dcl_arr[j,int(lb)]\n",
    "                fshr_l[i,j,int(l)]=fsky*(ell+0.5)*np.trace(np.dot(dcl1,np.dot(icl,np.dot(dcl2,icl))))\n",
    "                if i!=j :\n",
    "                    fshr_l[j,i,int(l)]=fshr_l[i,j,int(l)]\n",
    "\n",
    "    \n",
    "\n",
    "    fshr_cls[:,:]=np.sum(fshr_l,axis=2)\n",
    "    fishermat.append(fshr_cls)"
   ]
  },
  {
   "cell_type": "code",
   "execution_count": 261,
   "metadata": {},
   "outputs": [],
   "source": [
    "# fshr = fshr_cls\n",
    "# covar=np.linalg.inv(fshr)\n",
    "\n",
    "# for i in np.arange(npar_vary):\n",
    "#     sigma_m=np.sqrt(covar[i,i])\n",
    "#     print(sigma_m)"
   ]
  },
  {
   "cell_type": "code",
   "execution_count": 262,
   "metadata": {},
   "outputs": [],
   "source": [
    "from matplotlib.patches import Ellipse"
   ]
  },
  {
   "cell_type": "code",
   "execution_count": 263,
   "metadata": {},
   "outputs": [],
   "source": [
    "fc = ['None','None']\n",
    "lw = [1,1]\n",
    "lc = ['forestgreen','cornflowerblue']"
   ]
  },
  {
   "cell_type": "code",
   "execution_count": 287,
   "metadata": {},
   "outputs": [
    {
     "data": {
      "image/png": "[encoded data removed]",
      "text/plain": [
       "<Figure size 432x288 with 1 Axes>"
      ]
     },
     "metadata": {
      "needs_background": "light"
     },
     "output_type": "display_data"
    }
   ],
   "source": [
    "f, ax = plt.subplots() \n",
    "\n",
    "sig0_max=0\n",
    "sig1_max=0\n",
    "\n",
    "for i in range(len(fishermat)):\n",
    "    covar=np.linalg.inv(fishermat[i])\n",
    "#     covar=np.zeros([2,2])\n",
    "#     covar[0,0]=covar_full[i1,i1]\n",
    "#     covar[0,1]=covar_full[i1,i2]\n",
    "#     covar[1,0]=covar_full[i2,i1]\n",
    "#     covar[1,1]=covar_full[i2,i2]\n",
    "\n",
    "\n",
    "    sig0=np.sqrt(covar[0,0])\n",
    "    sig1=np.sqrt(covar[1,1])\n",
    "\n",
    "    if sig0>=sig0_max :\n",
    "        sig0_max=sig0\n",
    "    if sig1>=sig1_max :\n",
    "        sig1_max=sig1\n",
    "\n",
    "    w,v=np.linalg.eigh(covar)\n",
    "    angle=180*np.arctan2(v[1,0],v[0,0])/np.pi\n",
    "    a_1s=np.sqrt(2.3*w[0])\n",
    "    b_1s=np.sqrt(2.3*w[1])\n",
    "    a_2s=np.sqrt(6.17*w[0])\n",
    "    b_2s=np.sqrt(6.17*w[1])\n",
    "\n",
    "    centre=np.array([DM_frac_fid, mWDM_fid])\n",
    "\n",
    "\n",
    "    e_1s=Ellipse(xy=centre,width=2*a_1s,height=2*b_1s,angle=angle,\n",
    "                facecolor=fc[i],linewidth=lw[i],edgecolor=lc[i])\n",
    "    e_2s=Ellipse(xy=centre,width=2*a_2s,height=2*b_2s,angle=angle,linestyle=\"dashed\",\n",
    "                facecolor=fc[i],linewidth=lw[i]/2.,edgecolor=lc[i])\n",
    "\n",
    "    ax.add_artist(e_2s)\n",
    "    ax.add_artist(e_1s)\n",
    "\n",
    "    nmult = 12\n",
    "    ax.set_xlim(DM_frac_fid - nmult*dDM_frac_fid, DM_frac_fid + nmult*dDM_frac_fid)\n",
    "    ax.set_ylim(mWDM_fid - nmult*dmWDM, mWDM_fid + nmult*dmWDM)\n",
    "\n",
    "    # ax.set_xlim([params[i1].val-fact_axis*sig0_max,\n",
    "    #              params[i1].val+fact_axis*sig0_max])\n",
    "    # ax.set_ylim([params[i2].val-fact_axis*sig1_max,\n",
    "    #              params[i2].val+fact_axis*sig1_max])\n",
    "    ax.set_xlabel('$f_\\mathrm{DM}$')\n",
    "    ax.set_ylabel('$m_\\mathrm{wDM}\\,$ [keV]')\n",
    "\n",
    "    ax.axvline(DM_frac_fid, ls='dotted', c='grey', lw=0.5)\n",
    "    ax.axhline(mWDM_fid, ls='dotted', c='grey', lw=0.5)\n",
    "\n",
    "plt.title(\"$\\sigma_\\mu = 1\\,\\mu$as/yr, $N_\\mathrm{q}=10^9$\")\n",
    "plt.tight_layout()\n",
    "plt.savefig(\"wDM.pdf\")"
   ]
  },
  {
   "cell_type": "code",
   "execution_count": 292,
   "metadata": {},
   "outputs": [
    {
     "data": {
      "text/plain": [
       "array([1.11609150e+67, 1.62541816e+67, 2.36717526e+67, 3.44743208e+67,\n",
       "       5.02066247e+67, 7.31183414e+67, 1.06485785e+68, 1.55080411e+68,\n",
       "       2.25851121e+68, 3.28917936e+68, 4.79019135e+68, 6.97618787e+68,\n",
       "       1.01597606e+69, 1.47961519e+69, 2.15483532e+69, 3.13819114e+69,\n",
       "       4.57029989e+69, 6.65594929e+69, 9.69338162e+69, 1.41169416e+70,\n",
       "       2.05591864e+70, 2.99413397e+70, 4.36050245e+70, 6.35041111e+70,\n",
       "       9.24841155e+70, 1.34689101e+71, 1.96154267e+71, 2.85668968e+71,\n",
       "       4.16033567e+71, 6.05889851e+71, 8.82386763e+71, 1.28506262e+72,\n",
       "       1.87149899e+72, 2.72555470e+72, 3.96935744e+72, 5.78076766e+72,\n",
       "       8.41881219e+72, 1.22607243e+73, 1.78558872e+73, 2.60043941e+73,\n",
       "       3.78714598e+73, 5.51540428e+73, 8.03235062e+73, 1.16979016e+74,\n",
       "       1.70362212e+74, 2.48106748e+74, 3.61329885e+74, 5.26222227e+74,\n",
       "       7.66362939e+74, 1.11609150e+75])"
      ]
     },
     "execution_count": 292,
     "metadata": {},
     "output_type": "execute_result"
    }
   ],
   "source": [
    "m_ary"
   ]
  },
  {
   "cell_type": "code",
   "execution_count": 316,
   "metadata": {},
   "outputs": [
    {
     "data": {
      "image/png": "[encoded data removed]",
      "text/plain": [
       "<Figure size 432x288 with 1 Axes>"
      ]
     },
     "metadata": {
      "needs_background": "light"
     },
     "output_type": "display_data"
    }
   ],
   "source": [
    "for mwdm in [3.3*KeV, 5*KeV, 10*KeV, 100*KeV]:\n",
    "    m_ary = np.logspace(4,12)*M_s\n",
    "    dNwdmdm_ary = np.array([rho_m(m, mwdm) for m in m_ary])\n",
    "    plt.plot(m_ary/M_s, dNwdmdm_ary*M_s, label=str(mwdm/KeV) + \" keV\")\n",
    "    plt.xscale(\"log\")\n",
    "    plt.yscale(\"log\")\n",
    "plt.legend()\n",
    "plt.xlabel(\"$M_{0}$ $[M_\\odot]$\")\n",
    "plt.ylabel(\"$dN/dM_{0}$ $[M_\\odot^{-1}]$\")\n",
    "legend = plt.legend(title=\"$m_\\mathrm{wDM}$\", ncol=1, fontsize=16, frameon=False)\n",
    "plt.setp(legend.get_title(),fontsize=20)\n",
    "plt.tight_layout()\n",
    "plt.savefig(\"dNdm_param.pdf\")"
   ]
  },
  {
   "cell_type": "markdown",
   "metadata": {},
   "source": [
    "## wDM"
   ]
  },
  {
   "cell_type": "code",
   "execution_count": null,
   "metadata": {},
   "outputs": [],
   "source": [
    "def rho_m(ms, m=200*KeV):\n",
    "    A0 = 2e8/M_s\n",
    "    dNcdmdm = A0*(ms/M_s)**-1.9\n",
    "    pref = (1 + mhm(m)/ms)**-1.3\n",
    "    return pref*dNcdmdm\n",
    "\n",
    "def mhm(m):\n",
    "    return 1e10*(m/KeV)**-3.33*M_s/h"
   ]
  },
  {
   "cell_type": "code",
   "execution_count": 297,
   "metadata": {},
   "outputs": [],
   "source": [
    "def dNwdmdm(ms, m):\n",
    "    A0 = 2e8/M_s\n",
    "    dNcdmdm = A0*(ms/M_s)**-1.9\n",
    "    pref = (1 + mhm(m)/ms)**-1.3\n",
    "    return pref*dNcdmdm\n",
    "\n",
    "def mhm(m):\n",
    "    return 1e10*(m/KeV)**-3.33*M_s/h"
   ]
  },
  {
   "cell_type": "code",
   "execution_count": 575,
   "metadata": {},
   "outputs": [],
   "source": [
    "# for mwdm in [3.3*KeV, 5*KeV, 10*KeV, 100*KeV]:\n",
    "#     m_ary = np.logspace(4,12)*M_s\n",
    "#     dNwdmdm_ary = np.array([dNwdmdm(m, mwdm) for m in m_ary])\n",
    "#     plt.plot(m_ary/M_s, dNwdmdm_ary*M_s, label=mwdm/KeV)\n",
    "#     plt.xscale(\"log\")\n",
    "#     plt.yscale(\"log\")\n",
    "# plt.legend()\n",
    "# plt.xlabel(\"$M_{vir}$ $[M_\\odot]$\")\n",
    "# plt.ylabel(\"$dN/dM_{vir}$ $[M_\\odot^{-1}]$\")"
   ]
  },
  {
   "cell_type": "code",
   "execution_count": 576,
   "metadata": {},
   "outputs": [],
   "source": [
    "DM_frac_fid = 0.2\n",
    "dDM_frac_fid = 0.02\n",
    "\n",
    "mWDM_fid = 3.3*KeV\n",
    "dmWDM = 0.1*KeV\n",
    "\n"
   ]
  },
  {
   "cell_type": "code",
   "execution_count": 577,
   "metadata": {},
   "outputs": [
    {
     "name": "stdout",
     "output_type": "stream",
     "text": [
      "432.53314961619554\n"
     ]
    }
   ],
   "source": [
    "norm2 = quad(lambda m: dNwdmdm(m, mWDM_fid), M_min, M_max)[0]\n",
    "m_avg = quad(lambda m: m*dNwdmdm(m, mWDM_fid), M_min, M_max)[0]/norm2\n",
    "N_halos = DM_frac_fid*1/(m_avg/(1e12*M_s))\n",
    "print(N_halos)"
   ]
  },
  {
   "cell_type": "code",
   "execution_count": 578,
   "metadata": {},
   "outputs": [],
   "source": [
    "l_min = 20\n",
    "l_max = 100\n",
    "l_ary = np.arange(l_min, l_max)"
   ]
  },
  {
   "cell_type": "code",
   "execution_count": 583,
   "metadata": {},
   "outputs": [
    {
     "data": {
      "text/plain": [
       "6.309573444801943e-16"
      ]
     },
     "execution_count": 583,
     "metadata": {},
     "output_type": "execute_result"
    }
   ],
   "source": [
    "def rho_m(m, alpha=1.9):\n",
    "    return (m/M_s)**-alpha\n",
    "\n",
    "rho_m(1e8*M_s)"
   ]
  },
  {
   "cell_type": "code",
   "execution_count": 580,
   "metadata": {},
   "outputs": [
    {
     "data": {
      "application/vnd.jupyter.widget-view+json": {
       "model_id": "a61925ab8daa417c9258d76ae3a65922",
       "version_major": 2,
       "version_minor": 0
      },
      "text/plain": [
       "HBox(children=(IntProgress(value=0, max=80), HTML(value='')))"
      ]
     },
     "metadata": {},
     "output_type": "display_data"
    }
   ],
   "source": [
    "conv = [nquad(lambda l, theta, m: Cl_Plummer(R0(m), m, l, 1, l_lo) / (1e-6*asctorad/Year)**2  * dNwdmdm(m, mWDM_fid) * rho_nfw(np.sqrt(l**2 + Rsun**2 - 2*l*Rsun*np.cos(theta))), [[Rmin,Rmax],[0,2*np.pi],[M_min,M_max]]) for l_lo in tqdm_notebook(range(l_min, l_max))]\n"
   ]
  },
  {
   "cell_type": "code",
   "execution_count": 1,
   "metadata": {},
   "outputs": [],
   "source": [
    "# conv = [nquad(lambda l, theta, m: Cl_Plummer(R0(m), m, l, 1, l_lo) / (1e-6*asctorad/Year)**2 * rho_nfw(np.sqrt(l**2 + Rsun**2 - 2*l*Rsun*np.cos(theta))), [[Rmin,Rmax],[0,2*np.pi],[M_min,M_max]], opts={'epsrel':0.5, 'epsabs':0}) for l_lo in tqdm_notebook(range(l_min, l_max))]"
   ]
  },
  {
   "cell_type": "code",
   "execution_count": null,
   "metadata": {},
   "outputs": [],
   "source": []
  }
 ],
 "metadata": {
  "kernelspec": {
   "display_name": "Python 3",
   "language": "python",
   "name": "python3"
  },
  "language_info": {
   "codemirror_mode": {
    "name": "ipython",
    "version": 3
   },
   "file_extension": ".py",
   "mimetype": "text/x-python",
   "name": "python",
   "nbconvert_exporter": "python",
   "pygments_lexer": "ipython3",
   "version": "3.6.8"
  }
 },
 "nbformat": 4,
 "nbformat_minor": 2
}
