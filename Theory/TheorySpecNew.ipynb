{
 "cells": [
  {
   "cell_type": "code",
   "execution_count": 1,
   "metadata": {},
   "outputs": [],
   "source": [
    "import sys\n",
    "sys.path.append(\"../Simulations/\")\n",
    "\n",
    "from units import *\n",
    "import matplotlib.pyplot as plt\n",
    "from tqdm import *\n",
    "from scipy.integrate import nquad, quad\n",
    "from scipy.special import erf, jn, jv, kn\n",
    "import mpmath as mp\n",
    "\n",
    "%matplotlib inline\n",
    "%load_ext autoreload\n",
    "%autoreload 2"
   ]
  },
  {
   "cell_type": "markdown",
   "metadata": {},
   "source": [
    "Profiles to code up:\n",
    "- tNFW\n",
    "- Burkert\n"
   ]
  },
  {
   "cell_type": "code",
   "execution_count": 54,
   "metadata": {},
   "outputs": [],
   "source": [
    "def R0_VL(M0):\n",
    "    \"\"\" Concentration-mass relation from 1711.03554\n",
    "    \"\"\"\n",
    "    return 1.2*kpc*(M0/(1e8*M_s))**0.5\n",
    "\n",
    "def c200_SC(M200):\n",
    "    \"\"\" Virial concentration according to Sanchez-Conde&Prada14\n",
    "    \"\"\"\n",
    "    x=mp.log(M200*h) # Given in terms of M_s/h in S-C&P paper\n",
    "    pars=[37.5153, -1.5093, 1.636e-2, 3.66e-4, -2.89237e-5, 5.32e-7][::-1]\n",
    "    return np.polyval(pars, x)\n",
    "\n",
    "# def get_rs_rhos_NFW(M200):\n",
    "#     \"\"\" Get NFW scale radius and density\n",
    "#     \"\"\"\n",
    "#     c200 = c200_SC(M200/M_s)\n",
    "#     del_c = (200/3.)*c200**3/(mp.log(1 + c200) - c200/(1 + c200))\n",
    "#     rho_s = rho_c*del_c\n",
    "#     r200 = (M200/(4/3.*mp.pi*200*rho_c))**(1/3.)\n",
    "#     r_s = r200/c200\n",
    "#     return r_s, rho_s\n",
    "\n",
    "def get_rs_rhos_NFW(M200):\n",
    "    \"\"\" Get NFW scale radius and density\n",
    "    \"\"\"\n",
    "    c200 = c200_SC(M200/M_s)\n",
    "    r200 = (M200/(4/3.*mp.pi*200*rho_c))**(1/3.)\n",
    "    rho_s = M200/(4*mp.pi*(r200/c200)**3*(mp.log(1 + c200) - c200/(1 + c200)))\n",
    "    r_s = r200/c200\n",
    "    return r_s, rho_s\n",
    "\n",
    "def get_rb_rhob_Burk(M200, p):\n",
    "    \"\"\" Get NFW scale radius and density\n",
    "    \"\"\"\n",
    "    c200n = c200_SC(M200/M_s)\n",
    "    c200b = c200n/p\n",
    "    r200 = (M200/(4/3.*mp.pi*200*rho_c))**(1/3.)\n",
    "    r_b = r200/c200b\n",
    "    rho_b = M200/(r_b**3*mp.pi*(-2*mp.atan(c200b) + mp.log((1+c200b)**2*(1+c200b**2))))\n",
    "    return r_b, rho_b\n",
    "\n",
    "def F(x):\n",
    "    \"\"\" Helper function for NFW deflection, from astro-ph/0102341\n",
    "    \"\"\"\n",
    "    if x > 1:\n",
    "        return mp.atan(mp.sqrt(x**2-1))/(mp.sqrt(x**2 - 1))\n",
    "    elif x == 1:\n",
    "        return 1\n",
    "    elif x < 1:\n",
    "        return mp.atanh(mp.sqrt(1-x**2))/(mp.sqrt(1-x**2))\n",
    "    \n",
    "def Ft(x, tau):\n",
    "    return tau**2/(tau**2 + 1)**2*((tau**2 + 1 + 2*(x**2 - 1))*F(x) + tau*mp.pi + (tau**2 - 1)*mp.log(tau) + mp.sqrt(tau**2 + x**2)*(-mp.pi + (tau**2 - 1)/tau*L(x, tau)))\n",
    "\n",
    "def L(x, tau):\n",
    "    return mp.log(x/(mp.sqrt(tau**2 + x**2) + tau))\n",
    "\n",
    "def Fb(x):\n",
    "    if x > 1:\n",
    "        return mp.log(x/2.) + mp.pi/4.*(mp.sqrt(x**2 + 1) - 1) + mp.sqrt(x**2 + 1)/2*mp.acoth(mp.sqrt(x**2 + 1)) - 0.5*mp.sqrt(x**2 - 1)*mp.atan(mp.sqrt(x**2 - 1))\n",
    "    elif x == 1:\n",
    "        return -mp.log(2.) - mp.pi/4. + 1/(2*mp.sqrt(2))*(mp.pi + mp.log(3 + 2*mp.sqrt(2)))\n",
    "    elif x < 1:\n",
    "        return mp.log(x/2.) + mp.pi/4.*(mp.sqrt(x**2 + 1) - 1) + mp.sqrt(x**2 + 1)/2*mp.acoth(mp.sqrt(x**2 + 1)) + 0.5*mp.sqrt(1 - x**2)*mp.atanh(mp.sqrt(1 - x**2))"
   ]
  },
  {
   "cell_type": "code",
   "execution_count": 103,
   "metadata": {},
   "outputs": [],
   "source": [
    "def MGauss(theta, M0, beta0):\n",
    "    return M0*(1-mp.exp(-theta**2/(2*beta0**2)))\n",
    "\n",
    "def MPlumm(theta, M0, beta0):\n",
    "    return M0*theta**2/(theta**2 + beta0**2)\n",
    "\n",
    "def MNFW(r, M200):\n",
    "    r_s, rho_s = get_rs_rhos_NFW(M200)\n",
    "    x = r/r_s\n",
    "    M0 = 4*np.pi*r_s**3*rho_s\n",
    "    phi_r = M0*(mp.log(x/2) + F(x))\n",
    "    return phi_r/1e69\n",
    "\n",
    "def MtNFW(r, M200, tau=15):\n",
    "    r_s, rho_s = get_rs_rhos_NFW(M200)\n",
    "    x = r/r_s\n",
    "    M0 = 4*np.pi*r_s**3*rho_s\n",
    "    phi_r = M0*Ft(x, tau)\n",
    "    return phi_r/1e69\n",
    "\n",
    "def MBurk(r, M200, p=0.7):\n",
    "    r_b, rho_b = get_rb_rhob_Burk(M200, p)\n",
    "    x = r/r_b\n",
    "    M0 = 4*np.pi*r_b**3*rho_b\n",
    "    phi_r = M0*Fb(x)\n",
    "    return phi_r/1e69"
   ]
  },
  {
   "cell_type": "code",
   "execution_count": 56,
   "metadata": {},
   "outputs": [],
   "source": [
    "# r_ary = np.linspace(0.01, 10, 100)*kpc\n",
    "# MNFW_ary = np.array([1e69*MNFW(r, M0) for r in r_ary])/M_s\n",
    "# MPlumm_ary = np.array([MPlumm(r/Dl, M0, R0/Dl) for r in r_ary])/M_s\n",
    "# MGauss = np.array([MGauss(r/Dl, M0, R0/Dl) for r in r_ary])/M_s\n",
    "\n",
    "# plt.plot(r_ary/kpc, MNFW_ary)\n",
    "# plt.plot(r_ary/kpc, MGauss)\n",
    "# plt.plot(r_ary/kpc, MPlumm_ary)\n",
    "# plt.axvline(R0/kpc)"
   ]
  },
  {
   "cell_type": "code",
   "execution_count": 57,
   "metadata": {},
   "outputs": [],
   "source": [
    "def Cl_Gauss(R0, M0, Dl, v, l):\n",
    "    beta0 = R0/Dl\n",
    "    return (4*GN*M0*v/Dl**2)**2*np.pi/2.*np.exp(-l**2*beta0**2)\n",
    "\n",
    "def Cl_Plummer(R0, M0, Dl, v, l):\n",
    "    beta0 = R0/Dl\n",
    "    return (4*GN*M0*v/Dl**2)**2*np.pi/2.*l**2*beta0**2*kn(1, l*beta0)**2\n",
    "\n",
    "def Cl_Point(R0, M0, Dl, v, l):\n",
    "    beta0 = R0/Dl\n",
    "    return (4*GN*M0*v/Dl**2)**2*np.pi/2."
   ]
  },
  {
   "cell_type": "code",
   "execution_count": 151,
   "metadata": {},
   "outputs": [],
   "source": [
    "l_min = 1\n",
    "l_max = 500\n",
    "n_l = 50\n",
    "l_ary = np.logspace(np.log10(l_min), np.log10(l_max), n_l)"
   ]
  },
  {
   "cell_type": "code",
   "execution_count": 152,
   "metadata": {},
   "outputs": [],
   "source": [
    "M0 = 10**8*M_s\n",
    "R0 = R0_VL(M0)\n",
    "Dl = 10*kpc\n",
    "v = 1e-3"
   ]
  },
  {
   "cell_type": "code",
   "execution_count": 207,
   "metadata": {},
   "outputs": [],
   "source": [
    "def numerical_NFW(l):\n",
    "    return mp.quadosc(lambda theta: MNFW(theta*Dl, M0)*mp.j1(l*theta), [0, mp.inf], period=2*mp.pi/l)\n",
    "\n",
    "def numerical_tNFW(l, tau=15):\n",
    "    return mp.quadosc(lambda theta: MtNFW(theta*Dl, M0, tau)*mp.j1(l*theta), [0, mp.inf], period=2*mp.pi/l)\n",
    "                      \n",
    "def numerical_Burk(l):\n",
    "    return mp.quadosc(lambda theta: MBurk(theta*Dl, M0)*mp.j1(l*theta), [0, mp.inf], period=2*mp.pi/l)"
   ]
  },
  {
   "cell_type": "code",
   "execution_count": 211,
   "metadata": {},
   "outputs": [
    {
     "data": {
      "text/plain": [
       "mpf('0.0001270927487427878')"
      ]
     },
     "execution_count": 211,
     "metadata": {},
     "output_type": "execute_result"
    }
   ],
   "source": [
    "l = 500\n",
    "mp.quadosc(lambda theta: MtNFW(theta*Dl, M0, 10)*mp.j1(l*theta), [0, mp.inf], period=2*mp.pi/l)"
   ]
  },
  {
   "cell_type": "code",
   "execution_count": 154,
   "metadata": {},
   "outputs": [
    {
     "data": {
      "application/vnd.jupyter.widget-view+json": {
       "model_id": "8483ce594e304ddebe77f5e87f3aea80",
       "version_major": 2,
       "version_minor": 0
      },
      "text/plain": [
       "HBox(children=(IntProgress(value=0, max=50), HTML(value='')))"
      ]
     },
     "metadata": {},
     "output_type": "display_data"
    },
    {
     "data": {
      "application/vnd.jupyter.widget-view+json": {
       "model_id": "1f99c6c7737e47e1955cc50dcdd70ddf",
       "version_major": 2,
       "version_minor": 0
      },
      "text/plain": [
       "HBox(children=(IntProgress(value=0, max=50), HTML(value='')))"
      ]
     },
     "metadata": {},
     "output_type": "display_data"
    },
    {
     "data": {
      "application/vnd.jupyter.widget-view+json": {
       "model_id": "8f54457320e74a11becba0810e1783c4",
       "version_major": 2,
       "version_minor": 0
      },
      "text/plain": [
       "HBox(children=(IntProgress(value=0, max=50), HTML(value='')))"
      ]
     },
     "metadata": {},
     "output_type": "display_data"
    }
   ],
   "source": [
    "num_NFW_ary = np.array([numerical_NFW(l) for l in tqdm_notebook(l_ary)])\n",
    "num_tNFW_ary = np.array([numerical_tNFW(l) for l in tqdm_notebook(l_ary)])\n",
    "num_Burk_ary = np.array([numerical_Burk(l) for l in tqdm_notebook(l_ary)])"
   ]
  },
  {
   "cell_type": "code",
   "execution_count": 157,
   "metadata": {},
   "outputs": [
    {
     "data": {
      "application/vnd.jupyter.widget-view+json": {
       "model_id": "e1cb2d5445174d55a7d880d8b1a40ce3",
       "version_major": 2,
       "version_minor": 0
      },
      "text/plain": [
       "HBox(children=(IntProgress(value=0, max=50), HTML(value='')))"
      ]
     },
     "metadata": {},
     "output_type": "display_data"
    }
   ],
   "source": [
    "num_tNFW2_ary = np.array([numerical_tNFW(l, tau = 10) for l in tqdm_notebook(l_ary)])"
   ]
  },
  {
   "cell_type": "code",
   "execution_count": 158,
   "metadata": {},
   "outputs": [],
   "source": [
    "Cl_NFW_ary = 1e69**2*GN**2*v**2*8*mp.pi*l_ary**2/Dl**4*(np.array(num_NFW_ary))**2/(1e-6*asctorad/Year)**2\n",
    "Cl_tNFW_ary = 1e69**2*GN**2*v**2*8*mp.pi*l_ary**2/Dl**4*(np.array(num_tNFW_ary))**2/(1e-6*asctorad/Year)**2\n",
    "Cl_tNFW2_ary = 1e69**2*GN**2*v**2*8*mp.pi*l_ary**2/Dl**4*(np.array(num_tNFW2_ary))**2/(1e-6*asctorad/Year)**2\n",
    "Cl_Burk_ary = 1e69**2*GN**2*v**2*8*mp.pi*l_ary**2/Dl**4*(np.array(num_Burk_ary))**2/(1e-6*asctorad/Year)**2"
   ]
  },
  {
   "cell_type": "code",
   "execution_count": 159,
   "metadata": {},
   "outputs": [],
   "source": [
    "Cl_Plummer_ary = Cl_Plummer(R0, M0, Dl, v, l_ary)/(1e-6*asctorad/Year)**2;\n",
    "Cl_Gauss_ary = Cl_Gauss(R0, M0, Dl, v, l_ary)/(1e-6*asctorad/Year)**2;\n",
    "Cl_Point_ary = Cl_Point(R0, M0, Dl, v, l_ary)/(1e-6*asctorad/Year)**2;"
   ]
  },
  {
   "cell_type": "code",
   "execution_count": 195,
   "metadata": {},
   "outputs": [
    {
     "data": {
      "image/png": "[encoded data removed]",
      "text/plain": [
       "<Figure size 576x432 with 1 Axes>"
      ]
     },
     "metadata": {
      "needs_background": "light"
     },
     "output_type": "display_data"
    }
   ],
   "source": [
    "plt.figure(figsize=(8,6))\n",
    "plt.plot(l_ary, Cl_NFW_ary, label=\"NFW\", alpha=0.8, c='cornflowerblue')\n",
    "plt.plot(l_ary, Cl_tNFW_ary, label=\"tNFW, $\\\\tau = 15$\", alpha=0.8, ls='--', c='cornflowerblue')\n",
    "plt.plot(l_ary, Cl_tNFW2_ary, label=\"tNFW, $\\\\tau = 10$\", alpha=0.8, ls='-.', c='cornflowerblue')\n",
    "plt.plot(l_ary, Cl_Burk_ary, label=\"Burk\", alpha=0.8, ls='--',c='forestgreen')\n",
    "plt.plot(l_ary, Cl_Gauss_ary, label=\"Gaussian\", alpha=0.8, c='orange')\n",
    "plt.plot(l_ary, Cl_Plummer_ary, label=\"Plummer\", alpha=0.8, color='firebrick')\n",
    "plt.plot(l_ary, len(l_ary)*[Cl_Point_ary], label=\"Point-like\", c='k', ls='--', alpha=0.8)\n",
    "\n",
    "plt.axvline((1/(R0/Dl)), c='grey', lw=1, alpha=0.5, ls='--')\n",
    "plt.text((1/(R0/Dl)),1e-17,'$D_L/R_0$',rotation=90, fontsize=14)\n",
    "\n",
    "plt.axvline(1/(get_rs_rhos_NFW(1e8*M_s)[0]/Dl), c='grey', lw=1, alpha=0.5, ls='--')\n",
    "plt.text((1/(get_rs_rhos_NFW(1e8*M_s)[0]/Dl)),1e-17,'$D_L/R_s$',rotation=90, fontsize=14)\n",
    "\n",
    "n = 4\n",
    "plt.plot(l_ary, (1/l_ary**n)*Cl_NFW_ary[-1]/(1/(l_ary**n)[-1]), lw=1, alpha=0.8, ls='dotted', c='cornflowerblue')\n",
    "\n",
    "n = 8\n",
    "l_base = 2000\n",
    "fac = 1e69**2*GN**2*v**2*8*mp.pi*l_base**2/Dl**4/(1e-6*asctorad/Year)**2*numerical_Burk(l_base)**2/(1/(l_base**n))\n",
    "\n",
    "plt.plot(l_ary, (1/l_ary**n)*fac, lw=1, alpha=0.8, ls='dotted',c='forestgreen')\n",
    "\n",
    "plt.xscale(\"log\")\n",
    "plt.yscale(\"log\")\n",
    "plt.xlabel(\"$\\ell$\")\n",
    "plt.ylabel(\"$C_\\ell$ [$\\mu$as$^2$\\,yr$^{-2}$]\")\n",
    "\n",
    "\n",
    "plt.xlim(l_min, l_max)\n",
    "plt.ylim(1e-19,1e-8)\n",
    "\n",
    "plt.title('\\\\textbf{Velocity power spectrum, single subhalo}', fontsize=17.5, y=1.02)\n",
    "plt.text(40, 2.3e-9,'$M_0 = 10^8\\,$M$_\\odot$, $R_0$ = ' + str(R0/kpc)[:3] + '\\,kpc', fontsize=14)\n",
    "plt.text(40, 5e-10,'$D_L$ = 10\\,kpc, $v=10^{-3}$', fontsize=14)\n",
    "\n",
    "plt.text(200, 1e-14,'$\\propto l^{-4}$', fontsize=14)\n",
    "plt.text(200, 2e-17,'$\\propto l^{-8}$', fontsize=14)\n",
    "\n",
    "plt.legend(frameon=False)\n",
    "\n",
    "plt.tight_layout()\n",
    "plt.savefig(\"single_sub.pdf\")"
   ]
  },
  {
   "cell_type": "markdown",
   "metadata": {},
   "source": [
    "# Compact object estimates"
   ]
  },
  {
   "cell_type": "code",
   "execution_count": 77,
   "metadata": {},
   "outputs": [],
   "source": [
    "def rho_nfw(r):\n",
    "    \"\"\"Unnormalized NFW profile density\"\"\"\n",
    "    r_s = 18*kpc\n",
    "    return 1/((r/r_s)*(1+r/r_s)**2)\n",
    "\n",
    "def rho_v(v):\n",
    "    \"\"\"Unnormalized SHM Maxwellian\"\"\"\n",
    "    v0 = 220*Kmps\n",
    "    if v > 550*Kmps: return 0\n",
    "    return np.exp(-v**2/v0**2)\n",
    "\n",
    "def rho_m(m, alpha=1.9):\n",
    "    return m**-alpha\n",
    "\n",
    "Rsun = 8*kpc\n",
    "Rmin = 1*kpc\n",
    "Rmax = 200*kpc\n",
    "M_min = 1e6*M_s\n",
    "M_max = 1e10*M_s"
   ]
  },
  {
   "cell_type": "code",
   "execution_count": 78,
   "metadata": {},
   "outputs": [],
   "source": [
    "v0 = 220.*Kmps\n",
    "vesc = 544.*Kmps\n",
    "vsun = (11.*Kmps, 12.*Kmps + v0, 7.*Kmps)\n",
    "\n",
    "Nesc = erf(vesc/v0) - 2/np.sqrt(np.pi)*vesc/v0*np.exp(-vesc**2/v0**2)\n",
    "\n",
    "def fG(vvec):\n",
    "    v = np.linalg.norm(vvec)\n",
    "    return 1/(Nesc*np.pi**1.5*v0**3)*np.exp(-v**2/v0**2)*(v < vesc)"
   ]
  },
  {
   "cell_type": "code",
   "execution_count": 9,
   "metadata": {},
   "outputs": [],
   "source": [
    "DM_frac = 1"
   ]
  },
  {
   "cell_type": "code",
   "execution_count": 10,
   "metadata": {},
   "outputs": [],
   "source": [
    "# N_halos = DM_frac*1/(m_avg/(1e12*M_s))"
   ]
  },
  {
   "cell_type": "code",
   "execution_count": 88,
   "metadata": {},
   "outputs": [],
   "source": [
    "norm1 = nquad(lambda l, theta: rho_nfw(np.sqrt(l**2 + Rsun**2 - 2*l*Rsun*np.cos(theta))), [[Rmin,Rmax],[0,2*np.pi]])[0]"
   ]
  },
  {
   "cell_type": "code",
   "execution_count": 99,
   "metadata": {},
   "outputs": [],
   "source": [
    "l_min = 50\n",
    "l_max = 1000\n",
    "l_ary = np.arange(l_min, l_max)"
   ]
  },
  {
   "cell_type": "code",
   "execution_count": 100,
   "metadata": {},
   "outputs": [],
   "source": [
    "m = 1e8*M_s\n",
    "\n",
    "N_halos = DM_frac*1/(m/(1e12*M_s))\n"
   ]
  },
  {
   "cell_type": "code",
   "execution_count": 101,
   "metadata": {},
   "outputs": [],
   "source": [
    "conv = np.array(len(l_ary)*[nquad(lambda l, theta: Cl_Point(1., m, l, 1, 1, 2)[0] / (1e-6*asctorad/Year)**2  * rho_nfw(np.sqrt(l**2 + Rsun**2 - 2*l*Rsun*np.cos(theta))), [[Rmin,Rmax],[0,2*np.pi]])])"
   ]
  },
  {
   "cell_type": "code",
   "execution_count": 102,
   "metadata": {},
   "outputs": [],
   "source": [
    "# conv = [nquad(lambda l, theta, m: Cl_Point(R0(m), m, l, 1, l_lo, l_lo+1)[0] / (1e-6*asctorad/Year)**2  * rho_m(m) * rho_nfw(np.sqrt(l**2 + Rsun**2 - 2*l*Rsun*np.cos(theta))), [[Rmin,Rmax],[0,2*np.pi],[M_min,M_max]]) for l_lo in tqdm_notebook(range(l_min, l_max))]"
   ]
  },
  {
   "cell_type": "code",
   "execution_count": 103,
   "metadata": {},
   "outputs": [],
   "source": [
    "# integ, err = nquad(lambda v, theta, phi: v**4*np.sin(theta)*fG(v*np.array([np.sin(theta)*np.cos(phi),np.sin(theta)*np.sin(phi),np.cos(theta)]) + vsun),\n",
    "#       [[0,950.*Kmps],[0,np.pi],[0,2*np.pi]])\n",
    "# v_term = integ\n",
    "# print(v_term)"
   ]
  },
  {
   "cell_type": "code",
   "execution_count": 90,
   "metadata": {},
   "outputs": [],
   "source": [
    "def vproj(v, theta, phi, thetap, phip):\n",
    "    v_vec = v*np.array([np.sin(theta)*np.cos(phi),np.sin(theta)*np.sin(phi),np.cos(theta)])\n",
    "    theta_hat = np.array([np.cos(thetap)*np.cos(phip), np.cos(thetap)*np.sin(phip), -np.sin(thetap)])\n",
    "    phi_hat = [-np.sin(phip), np.cos(phip), 0]\n",
    "    return np.sqrt(np.dot(v_vec,theta_hat)**2 + np.dot(v_vec,phi_hat)**2)"
   ]
  },
  {
   "cell_type": "code",
   "execution_count": 91,
   "metadata": {},
   "outputs": [
    {
     "name": "stdout",
     "output_type": "stream",
     "text": [
      "5.232258798668646e-07\n"
     ]
    }
   ],
   "source": [
    "thetap, phip = np.pi/23., np.pi/5.\n",
    "integ, err = nquad(lambda v, theta, phi: v**2*(vproj(v, theta, phi, thetap, phip))**2*np.sin(theta)*fG(v),\n",
    "      [[0,950.*Kmps],[0,np.pi],[0,2*np.pi]])\n",
    "v_term = integ\n",
    "print(v_term)"
   ]
  },
  {
   "cell_type": "code",
   "execution_count": 106,
   "metadata": {},
   "outputs": [],
   "source": [
    "l_ary = np.arange(l_min, l_max)\n",
    "\n",
    "sigma_mu = 10 # in muas/yr\n",
    "N0 = 0.0001e9*4*np.pi\n",
    "N_l = np.ones_like(l_ary)*sigma_mu**2/N0"
   ]
  },
  {
   "cell_type": "code",
   "execution_count": 107,
   "metadata": {},
   "outputs": [],
   "source": [
    "C_l = N_halos*np.array(conv)[:,0] / norm1 * v_term # / norm2"
   ]
  },
  {
   "cell_type": "code",
   "execution_count": 108,
   "metadata": {},
   "outputs": [],
   "source": [
    "# plt.plot(C_l, label='signal')\n",
    "# plt.plot(N_l, label='noise')\n",
    "\n",
    "# plt.xscale(\"log\")\n",
    "# plt.yscale(\"log\")\n",
    "\n",
    "# plt.legend()"
   ]
  },
  {
   "cell_type": "code",
   "execution_count": 97,
   "metadata": {},
   "outputs": [],
   "source": [
    "def cov_mat(ell, C_l, N_l, fsky=1):\n",
    "    return 1/((2*ell+1)*fsky)*(2*(C_l + N_l)**2)\n",
    "\n",
    "def likelihood(C_l_data, C_l_theta, cov_mat_theta):\n",
    "    dC_l_theta = np.sqrt(cov_mat_theta)\n",
    "    return np.sum(-0.5*((C_l_data - C_l_theta)/dC_l_theta)**2)"
   ]
  },
  {
   "cell_type": "code",
   "execution_count": 98,
   "metadata": {},
   "outputs": [],
   "source": [
    "def find_limit(frac_scale, LL_ary):\n",
    "    LL_ary *= 2\n",
    "    for iLL, LL in enumerate(LL_ary):\n",
    "        if LL < -2.71:\n",
    "            scale = (LL_ary[iLL-1]+2.71)/(LL_ary[iLL-1]-LL_ary[iLL])\n",
    "            lim = 10**(np.log10(frac_scale[iLL-1])+scale*(np.log10(frac_scale[iLL])-np.log10(frac_scale[iLL-1])))\n",
    "            return lim"
   ]
  },
  {
   "cell_type": "code",
   "execution_count": 111,
   "metadata": {},
   "outputs": [],
   "source": [
    "# LL=[]\n",
    "# frac_scale = np.logspace(-4,2,100)\n",
    "# for i in frac_scale:\n",
    "#     LL.append(2*likelihood(N_l, i*C_l + N_l, cov_mat(l_ary, i*C_l, N_l)))\n",
    "    \n",
    "# plt.plot(frac_scale, LL)\n",
    "# plt.xscale(\"log\")\n",
    "# plt.ylim(-5,5)"
   ]
  },
  {
   "cell_type": "code",
   "execution_count": 112,
   "metadata": {},
   "outputs": [],
   "source": [
    "l_ary = np.arange(l_min, l_max)\n",
    "\n",
    "sigma_mu = 1 # in muas/yr\n",
    "N0 = 0.0001e9*4*np.pi\n",
    "N_l = np.ones_like(l_ary)*sigma_mu**2/N0"
   ]
  },
  {
   "cell_type": "code",
   "execution_count": 113,
   "metadata": {},
   "outputs": [],
   "source": [
    "M_ary = np.logspace(2, 10, 300)*M_s\n",
    "lim_ary_worse = []\n",
    "for M in M_ary:\n",
    "    LL=[]\n",
    "    frac_scale = np.logspace(-20,1,500)\n",
    "    for i in frac_scale:\n",
    "        LL.append(2*likelihood(N_l, i*(M/(m))**1*C_l + N_l, cov_mat(l_ary, i*C_l, N_l)))\n",
    "    limit = find_limit(frac_scale, LL)\n",
    "    if limit is not None and limit < 1:\n",
    "        lim = (limit)\n",
    "    else:\n",
    "        lim = (1)\n",
    "    lim_ary_worse.append(lim)"
   ]
  },
  {
   "cell_type": "code",
   "execution_count": 114,
   "metadata": {},
   "outputs": [],
   "source": [
    "l_ary = np.arange(l_min, l_max)\n",
    "\n",
    "sigma_mu = 1 # in muas/yr\n",
    "N0 = 0.01e9*4*np.pi\n",
    "N_l = np.ones_like(l_ary)*sigma_mu**2/N0"
   ]
  },
  {
   "cell_type": "code",
   "execution_count": 115,
   "metadata": {},
   "outputs": [],
   "source": [
    "M_ary = np.logspace(2, 10, 300)*M_s\n",
    "lim_ary = []\n",
    "for M in M_ary:\n",
    "    LL=[]\n",
    "    frac_scale = np.logspace(-20,1,500)\n",
    "    for i in frac_scale:\n",
    "        LL.append(2*likelihood(N_l, i*(M/(m))**1*C_l + N_l, cov_mat(l_ary, i*C_l, N_l)))\n",
    "    limit = find_limit(frac_scale, LL)\n",
    "    if limit is not None and limit < 1:\n",
    "        lim = (limit)\n",
    "    else:\n",
    "        lim = (1)\n",
    "    lim_ary.append(lim)"
   ]
  },
  {
   "cell_type": "code",
   "execution_count": 116,
   "metadata": {},
   "outputs": [],
   "source": [
    "# ! tlmgr install type1cm"
   ]
  },
  {
   "cell_type": "code",
   "execution_count": 117,
   "metadata": {},
   "outputs": [
    {
     "data": {
      "text/plain": [
       "Text(0.5, 0, '$M$ [M$_\\\\odot$]')"
      ]
     },
     "execution_count": 117,
     "metadata": {},
     "output_type": "execute_result"
    },
    {
     "data": {
      "image/png": "[encoded data removed]",
      "text/plain": [
       "<Figure size 432x288 with 1 Axes>"
      ]
     },
     "metadata": {
      "needs_background": "light"
     },
     "output_type": "display_data"
    }
   ],
   "source": [
    "plt.plot(M_ary/M_s, lim_ary_worse)\n",
    "plt.plot(M_ary/M_s, lim_ary)\n",
    "\n",
    "plt.xscale(\"log\")\n",
    "plt.yscale(\"log\")\n",
    "\n",
    "# plt.xlim(1e4, 1e9)\n",
    "# plt.ylim(1e-9,1.1)\n",
    "\n",
    "plt.ylabel(\"$f_\\mathrm{DM}$\")\n",
    "plt.xlabel(\"$M$ [M$_\\odot$]\")"
   ]
  },
  {
   "cell_type": "markdown",
   "metadata": {},
   "source": [
    "# LCDM"
   ]
  },
  {
   "cell_type": "code",
   "execution_count": 79,
   "metadata": {},
   "outputs": [],
   "source": [
    "l_min = 20\n",
    "l_max = 200\n",
    "l_ary = np.arange(l_min, l_max)"
   ]
  },
  {
   "cell_type": "code",
   "execution_count": 80,
   "metadata": {},
   "outputs": [],
   "source": [
    "def rho_m(m, alpha=1.9):\n",
    "    return m**-alpha\n",
    "\n",
    "Rsun = 8*kpc\n",
    "Rmin = 1*kpc\n",
    "Rmax = 200*kpc\n",
    "M_min = 1e5*M_s\n",
    "M_max = 1e10*M_s"
   ]
  },
  {
   "cell_type": "code",
   "execution_count": 81,
   "metadata": {},
   "outputs": [],
   "source": [
    "R0 = lambda M: 1.2*kpc*(M/(1e8*M_s))**0.5 # \"Concentration\"-mass relation from 1711.03554"
   ]
  },
  {
   "cell_type": "code",
   "execution_count": 82,
   "metadata": {},
   "outputs": [],
   "source": [
    "DM_frac = 0.2"
   ]
  },
  {
   "cell_type": "code",
   "execution_count": 83,
   "metadata": {},
   "outputs": [],
   "source": [
    "norm2 = quad(lambda m: rho_m(m), M_min, M_max)[0]"
   ]
  },
  {
   "cell_type": "code",
   "execution_count": 84,
   "metadata": {},
   "outputs": [],
   "source": [
    "m_avg = quad(lambda m: m*rho_m(m), M_min, M_max)[0]/norm2"
   ]
  },
  {
   "cell_type": "code",
   "execution_count": 85,
   "metadata": {},
   "outputs": [],
   "source": [
    "N_halos = DM_frac*1/(m_avg/(1e12*M_s))"
   ]
  },
  {
   "cell_type": "code",
   "execution_count": 86,
   "metadata": {},
   "outputs": [
    {
     "data": {
      "application/vnd.jupyter.widget-view+json": {
       "model_id": "21ff505f216141579c13f0939cd431b0",
       "version_major": 2,
       "version_minor": 0
      },
      "text/plain": [
       "HBox(children=(IntProgress(value=0, max=180), HTML(value='')))"
      ]
     },
     "metadata": {},
     "output_type": "display_data"
    }
   ],
   "source": [
    "conv = [nquad(lambda l, theta, m: Cl_Plummer(R0(m), m, l, 1, l_lo, l_lo+1)[0] / (1e-6*asctorad/Year)**2  * rho_m(m) * rho_nfw(np.sqrt(l**2 + Rsun**2 - 2*l*Rsun*np.cos(theta))), [[Rmin,Rmax],[0,2*np.pi],[M_min,M_max]]) for l_lo in tqdm_notebook(range(l_min, l_max))]"
   ]
  },
  {
   "cell_type": "code",
   "execution_count": 92,
   "metadata": {},
   "outputs": [],
   "source": [
    "C_l = N_halos*np.array(conv)[:,0] / norm1 * v_term / norm2"
   ]
  },
  {
   "cell_type": "code",
   "execution_count": 93,
   "metadata": {},
   "outputs": [
    {
     "data": {
      "image/png": "[encoded data removed]",
      "text/latex": [
       "$$\\left ( 180, \\quad 2\\right )$$"
      ],
      "text/plain": [
       "(180, 2)"
      ]
     },
     "execution_count": 93,
     "metadata": {},
     "output_type": "execute_result"
    }
   ],
   "source": [
    "np.shape(conv)"
   ]
  },
  {
   "cell_type": "code",
   "execution_count": 94,
   "metadata": {},
   "outputs": [],
   "source": [
    "# plt.plot(l_ary, C_l)\n",
    "# plt.yscale(\"log\")\n",
    "# plt.xscale(\"log\")"
   ]
  },
  {
   "cell_type": "code",
   "execution_count": 95,
   "metadata": {},
   "outputs": [],
   "source": [
    "sigma_mu = 1 # in muas/yr\n",
    "N0 = 0.01e9*4*np.pi\n",
    "\n",
    "sig_ary = np.zeros((100,100))\n",
    "\n",
    "sig_list = np.linspace(0.5, 15, 100)\n",
    "N_list = np.logspace(6, 9.5, 100)\n"
   ]
  },
  {
   "cell_type": "code",
   "execution_count": 99,
   "metadata": {},
   "outputs": [
    {
     "data": {
      "application/vnd.jupyter.widget-view+json": {
       "model_id": "0d6d4b1230f5477cb3457df37210907d",
       "version_major": 2,
       "version_minor": 0
      },
      "text/plain": [
       "HBox(children=(IntProgress(value=0), HTML(value='')))"
      ]
     },
     "metadata": {},
     "output_type": "display_data"
    }
   ],
   "source": [
    "for isig, sigma_mu in enumerate(tqdm_notebook(sig_list)):\n",
    "    for iN, N0 in enumerate(N_list):\n",
    "    \n",
    "        N_l = np.ones_like(l_ary)*sigma_mu**2/N0\n",
    "\n",
    "        LL=[]\n",
    "        frac_scale = np.logspace(-4,2,100)\n",
    "        for i in frac_scale:\n",
    "            LL.append(2*likelihood(C_l + N_l, i*C_l + N_l, cov_mat(l_ary, i*C_l, N_l)))\n",
    "        sig_ary[isig, iN] = np.sqrt(2*(np.max(LL) - LL[0]))\n",
    "# plt.plot(frac_scale, LL)\n",
    "# plt.xscale(\"log\")\n",
    "# plt.ylim(-50,5)"
   ]
  },
  {
   "cell_type": "code",
   "execution_count": 100,
   "metadata": {},
   "outputs": [],
   "source": [
    "levels = [1,3,5]\n",
    "X, Y = np.meshgrid(np.log10(N_list), sig_list)"
   ]
  },
  {
   "cell_type": "code",
   "execution_count": 101,
   "metadata": {},
   "outputs": [],
   "source": [
    "from pylab import rcParams\n",
    "rcParams['figure.figsize'] = 6, 5"
   ]
  },
  {
   "cell_type": "code",
   "execution_count": 103,
   "metadata": {},
   "outputs": [
    {
     "data": {
      "image/png": "[encoded data removed]",
      "text/plain": [
       "<Figure size 432x360 with 2 Axes>"
      ]
     },
     "metadata": {
      "needs_background": "light"
     },
     "output_type": "display_data"
    }
   ],
   "source": [
    "fig, ax = plt.subplots()\n",
    "CS = ax.contour(X, Y, sig_ary, levels = levels, linestyles='--', colors=['orange', 'purple', 'firebrick'], linewidths=1.2)\n",
    "\n",
    "fmt = {}\n",
    "strs = ['1$\\sigma$', '3$\\sigma$', '5$\\sigma$']\n",
    "for l, s in zip(CS.levels, strs):\n",
    "    fmt[l] = s\n",
    "    \n",
    "im = ax.imshow(sig_ary, vmin=0., vmax=10, cmap = 'PuBu', extent=[6,9.5, 0.5,15], aspect='auto', origin='lower')\n",
    "\n",
    "ax.clabel(CS, fmt=fmt,inline=1, fontsize=14)\n",
    "\n",
    "# ax.scatter(8, 1)\n",
    "# ax.scatter(6, 10)\n",
    "\n",
    "ax.set_xlim(6,9.5)\n",
    "ax.set_ylim(0.5,15)\n",
    "\n",
    "ax.set_xlabel(\"$\\log_{10}(N_q)$\")\n",
    "ax.set_ylabel(\"$\\sigma_\\mu~[\\mu$as\\,yr$^{-1}$]\")\n",
    "\n",
    "ax.set_yscale(\"log\")\n",
    "\n",
    "ax.set_title('\\\\textbf{$\\Lambda$CDM discovery significance}', y = 1.02, fontsize=18)\n",
    "\n",
    "cbar = fig.colorbar(im)\n",
    "cbar.set_label('$\\sigma$')\n",
    "\n",
    "plt.tight_layout()\n",
    "plt.savefig(\"LCDM_disc.pdf\")"
   ]
  }
 ],
 "metadata": {
  "kernelspec": {
   "display_name": "Python 3",
   "language": "python",
   "name": "python3"
  },
  "language_info": {
   "codemirror_mode": {
    "name": "ipython",
    "version": 3
   },
   "file_extension": ".py",
   "mimetype": "text/x-python",
   "name": "python",
   "nbconvert_exporter": "python",
   "pygments_lexer": "ipython3",
   "version": "3.6.8"
  }
 },
 "nbformat": 4,
 "nbformat_minor": 2
}
