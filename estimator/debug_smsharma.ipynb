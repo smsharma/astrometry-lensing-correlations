{
 "cells": [
  {
   "cell_type": "code",
   "execution_count": 1,
   "metadata": {},
   "outputs": [],
   "source": [
    "import sys, os\n",
    "\n",
    "import numpy as np\n",
    "from scipy.special import sph_harm\n",
    "import healpy as hp\n",
    "from tqdm import *\n",
    "from mpmath import spherharm\n",
    "from vsh import *\n",
    "import matplotlib.pyplot as plt\n",
    "\n",
    "%matplotlib inline\n",
    "%load_ext autoreload\n",
    "%autoreload 2"
   ]
  },
  {
   "cell_type": "code",
   "execution_count": 2,
   "metadata": {},
   "outputs": [],
   "source": [
    "nside = 2\n",
    "lmax = 3*nside - 1\n",
    "npix = hp.nside2npix(nside)\n",
    "coords = np.transpose(hp.pix2ang(nside, range(npix)))"
   ]
  },
  {
   "cell_type": "code",
   "execution_count": 3,
   "metadata": {},
   "outputs": [],
   "source": [
    "def Y_map(l,m):\n",
    "    npix = hp.nside2npix(nside)\n",
    "    coords = np.transpose(hp.pix2ang(nside, range(npix)))\n",
    "    return [Ylm(l,m, *coord) for coord in coords]\n",
    "\n",
    "def Psi_map(l,m):\n",
    "    npix = hp.nside2npix(nside)\n",
    "    coords = np.transpose(hp.pix2ang(nside, range(npix)))\n",
    "    return [Psilm_vec(l,m, 1, *coord) for coord in coords]"
   ]
  },
  {
   "cell_type": "code",
   "execution_count": 4,
   "metadata": {},
   "outputs": [],
   "source": [
    "from healpy.sphtfunc import Alm\n",
    "\n",
    "def fn_alm_getidx(lmax,l,m):\n",
    "    if m >= 0:\n",
    "        return Alm.getidx(lmax,l,m)\n",
    "    else:\n",
    "        return round(0.5*lmax**2 + 1.5*lmax + 1) - (lmax+1) + Alm.getidx(lmax,l,abs(m))\n",
    "    \n",
    "def fn_alm_getlm(lmax,idx):\n",
    "    if idx < round(0.5*lmax**2 + 1.5*lmax + 1):\n",
    "        return Alm.getlm(lmax,idx)\n",
    "    else:\n",
    "        lm_pos =  Alm.getlm(lmax, idx - round(0.5*lmax**2 + 1.5*lmax + 1) + (lmax+1))\n",
    "        return (lm_pos[0], -lm_pos[1])"
   ]
  },
  {
   "cell_type": "code",
   "execution_count": 5,
   "metadata": {},
   "outputs": [],
   "source": [
    "def fn_mat_Fisher1_fromPsi(): #unit weights map for now\n",
    "    amp = np.zeros(((lmax+1)**2,(lmax+1)**2),dtype='complex')\n",
    "    for idx in tqdm_notebook(range((lmax+1)**2)):\n",
    "        l, m = fn_alm_getlm(lmax,idx)[0].item(), fn_alm_getlm(lmax,idx)[1].item()\n",
    "        for idx_p in range((lmax+1)**2):\n",
    "            l_p, m_p = fn_alm_getlm(lmax,idx_p)[0].item(), fn_alm_getlm(lmax,idx_p)[1].item()\n",
    "            amp[idx,idx_p]=(4*np.pi/npix)*sum(sum(Psi_map(l,m) * np.conj(Psi_map(l_p,m_p))))\n",
    "    return (1/2) * amp * np.transpose(amp)"
   ]
  },
  {
   "cell_type": "code",
   "execution_count": 6,
   "metadata": {},
   "outputs": [
    {
     "data": {
      "application/vnd.jupyter.widget-view+json": {
       "model_id": "7041c30b3600406888d5ccb51ebc59d9",
       "version_major": 2,
       "version_minor": 0
      },
      "text/plain": [
       "HBox(children=(IntProgress(value=0, max=36), HTML(value='')))"
      ]
     },
     "metadata": {},
     "output_type": "display_data"
    },
    {
     "name": "stderr",
     "output_type": "stream",
     "text": [
      "/Users/smsharma/PycharmProjects/Lensing-PowerSpectra/estimator/vsh.py:79: RuntimeWarning: invalid value encountered in true_divide\n",
      "  return (-1)**np.abs(m)*np.conjugate(del_Ylm(l, np.abs(m), theta, phi)/np.sqrt((l*(l+1))))\n"
     ]
    },
    {
     "name": "stdout",
     "output_type": "stream",
     "text": [
      "\n"
     ]
    }
   ],
   "source": [
    "mat_fisher1_slow = fn_mat_Fisher1_fromPsi()"
   ]
  },
  {
   "cell_type": "code",
   "execution_count": 7,
   "metadata": {},
   "outputs": [
    {
     "name": "stderr",
     "output_type": "stream",
     "text": [
      "/Users/smsharma/anaconda3/lib/python3.7/site-packages/ipykernel_launcher.py:2: RuntimeWarning: divide by zero encountered in log\n",
      "  \n"
     ]
    },
    {
     "data": {
      "image/png": "[encoded data removed]",
      "text/plain": [
       "<Figure size 600x400 with 2 Axes>"
      ]
     },
     "metadata": {},
     "output_type": "display_data"
    }
   ],
   "source": [
    "plt.figure(num=None, figsize=(6,4), dpi=100, facecolor='w', edgecolor='k')\n",
    "plt.imshow(np.log(abs(mat_fisher1_slow)), origin='lower', vmin=-10, cmap = 'gnuplot2_r');\n",
    "plt.suptitle('Fisher matrix $F^{(1)}_{\\ell m \\ell^{\\prime} m^\\prime}$ $(\\mathrm{mas/y})^{-4}$', fontsize=12)\n",
    "plt.xlabel('$(\\ell^\\prime,m^\\prime)$ index', fontsize=12)\n",
    "plt.ylabel('$(\\ell,m)$ index', fontsize=12)\n",
    "plt.colorbar()\n",
    "plt.show()"
   ]
  },
  {
   "cell_type": "code",
   "execution_count": 8,
   "metadata": {},
   "outputs": [
    {
     "name": "stdout",
     "output_type": "stream",
     "text": [
      "[ 7.07497715e-18+1.15543145e-01j -1.26047068e-01+7.71815689e-18j]\n",
      "[ 7.07497715e-18-1.15543145e-01j -1.26047068e-01-7.71815689e-18j]\n"
     ]
    }
   ],
   "source": [
    "l = 2\n",
    "m = 2\n",
    "print(Psi_map(l,m)[0])\n",
    "print(Psi_map(l,-m)[0])"
   ]
  },
  {
   "cell_type": "code",
   "execution_count": null,
   "metadata": {},
   "outputs": [],
   "source": []
  }
 ],
 "metadata": {
  "kernelspec": {
   "display_name": "Python 3",
   "language": "python",
   "name": "python3"
  },
  "language_info": {
   "codemirror_mode": {
    "name": "ipython",
    "version": 3
   },
   "file_extension": ".py",
   "mimetype": "text/x-python",
   "name": "python",
   "nbconvert_exporter": "python",
   "pygments_lexer": "ipython3",
   "version": "3.7.3"
  }
 },
 "nbformat": 4,
 "nbformat_minor": 2
}
