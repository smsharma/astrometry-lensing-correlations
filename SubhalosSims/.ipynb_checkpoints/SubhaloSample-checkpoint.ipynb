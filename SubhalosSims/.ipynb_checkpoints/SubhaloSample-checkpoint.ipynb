{
 "cells": [
  {
   "cell_type": "code",
   "execution_count": 40,
   "metadata": {},
   "outputs": [
    {
     "name": "stdout",
     "output_type": "stream",
     "text": [
      "The autoreload extension is already loaded. To reload it, use:\n",
      "  %reload_ext autoreload\n"
     ]
    }
   ],
   "source": [
    "import numpy as np\n",
    "import matplotlib.pyplot as plt\n",
    "from scipy.integrate import quad\n",
    "from scipy.interpolate import interp1d\n",
    "from astropy import units as u\n",
    "from astropy.coordinates import SkyCoord\n",
    "from tqdm import *\n",
    "import pandas as pd\n",
    "from scipy.stats import chi2\n",
    "import healpy as hp\n",
    "\n",
    "from subhalos import SubhaloSample\n",
    "import pdf_sampler\n",
    "from units import *\n",
    "\n",
    "%matplotlib inline\n",
    "%load_ext autoreload\n",
    "%autoreload 2"
   ]
  },
  {
   "cell_type": "code",
   "execution_count": 41,
   "metadata": {},
   "outputs": [],
   "source": [
    "GN = 6.67e-11*Meter**3/Kilogram/Sec**2"
   ]
  },
  {
   "cell_type": "code",
   "execution_count": 42,
   "metadata": {},
   "outputs": [],
   "source": [
    "sample = SubhaloSample(N_calib=1000)\n",
    "sample.get_sh_sample()"
   ]
  },
  {
   "cell_type": "code",
   "execution_count": 4,
   "metadata": {},
   "outputs": [],
   "source": [
    "def generate_stars(density=5e5, llims=[0, 360], blims=[-90, 90]):\n",
    "    area = (llims[1] - llims[0])*(blims[1] - blims[0])\n",
    "    n_stars = np.random.poisson(area*density)\n",
    "    print(\"Generating\", n_stars, \"stars\")\n",
    "    l_coords = (llims[1]-llims[0])*np.random.random_sample(n_stars) + llims[0]\n",
    "    b_coords = (blims[1]-blims[0])*np.random.random_sample(n_stars) + blims[0]\n",
    "    return l_coords, b_coords\n",
    "\n",
    "def deflection_theta_ps(pos_s, pos_l, M_l, dl):\n",
    "    b_sl_vec = (np.array(pos_s) - np.array(pos_l))*dl\n",
    "    b_sl_norm = np.linalg.norm(b_sl_vec)\n",
    "    b_sl_unit = b_sl_vec/b_sl_norm\n",
    "    return (4*GN*M_l/b_sl_norm)*b_sl_unit"
   ]
  },
  {
   "cell_type": "code",
   "execution_count": 12,
   "metadata": {},
   "outputs": [
    {
     "name": "stdout",
     "output_type": "stream",
     "text": [
      "Generating 499 stars\n"
     ]
    }
   ],
   "source": [
    "l_stars, b_stars = generate_stars(density=20, llims=[180, 185], blims=[0, 5])"
   ]
  },
  {
   "cell_type": "code",
   "execution_count": 13,
   "metadata": {},
   "outputs": [],
   "source": [
    "poss_l = np.transpose([sample.coords_galactic.l.value,sample.coords_galactic.b.value])\n",
    "poss_s = np.transpose([l_stars,b_stars])\n",
    "r_l = sample.coords_galactic.distance.value*kpc"
   ]
  },
  {
   "cell_type": "code",
   "execution_count": 14,
   "metadata": {},
   "outputs": [
    {
     "name": "stderr",
     "output_type": "stream",
     "text": [
      "WARNING: AstropyDeprecationWarning: Passing a frame as a positional argument is now deprecated, use the frame= keyword argument instead. [astropy.coordinates.sky_coordinate]\n"
     ]
    }
   ],
   "source": [
    "c3 = SkyCoord(\"galactic\", l=sample.coords_galactic.l.value*u.deg, b=sample.coords_galactic.b.value*u.deg)"
   ]
  },
  {
   "cell_type": "code",
   "execution_count": 15,
   "metadata": {},
   "outputs": [
    {
     "data": {
      "application/vnd.jupyter.widget-view+json": {
       "model_id": "0d68710c739a454693740d04e180d992",
       "version_major": 2,
       "version_minor": 0
      },
      "text/plain": [
       "HBox(children=(IntProgress(value=0, max=499), HTML(value='')))"
      ]
     },
     "metadata": {},
     "output_type": "display_data"
    },
    {
     "name": "stdout",
     "output_type": "stream",
     "text": [
      "\n"
     ]
    }
   ],
   "source": [
    "for istar in tqdm_notebook(range(len(poss_s))):    \n",
    "    for ish in range(len(poss_s)):\n",
    "        deflection_theta_ps(poss_s[istar], poss_l[ish], sample.m_sample[ish], r_l[ish])"
   ]
  },
  {
   "cell_type": "code",
   "execution_count": 39,
   "metadata": {},
   "outputs": [],
   "source": [
    "_, m_bins = np.histogram(np.log10(sample.m_sample/M_s), bins=np.linspace(6,11,50))\n",
    "m_binc = (m_bins[1:] + m_bins[:-1])/2.\n",
    "y_num = np.array([quad(lambda m: sample.rho_m(m), 10**m_bins[i], 10**m_bins[i+1])[0] for i in range(len(m_bins)-1)])"
   ]
  },
  {
   "cell_type": "code",
   "execution_count": 40,
   "metadata": {},
   "outputs": [
    {
     "data": {
      "image/png": "[encoded data removed]",
      "text/plain": [
       "<Figure size 432x288 with 1 Axes>"
      ]
     },
     "metadata": {},
     "output_type": "display_data"
    }
   ],
   "source": [
    "plt.hist(np.log10(sample.m_sample/M_s), bins=np.linspace(6,11,50));\n",
    "plt.plot(m_binc, 3000*y_num/y_num[0])\n",
    "plt.xlabel(\"$\\log_{10}(M$ [M$_\\odot$])\")\n",
    "plt.yscale(\"log\")"
   ]
  },
  {
   "cell_type": "code",
   "execution_count": 41,
   "metadata": {},
   "outputs": [],
   "source": [
    "_, r_bins = np.histogram(sample.r_sample, bins=np.linspace(0,1000,40)*kpc)\n",
    "r_binc = (r_bins[1:] + r_bins[:-1])/2.\n",
    "y_num = np.array([quad(lambda r: r**2*sample.rho_ein(r), r_bins[i], r_bins[i+1])[0] for i in range(len(r_bins)-1)])"
   ]
  },
  {
   "cell_type": "code",
   "execution_count": 42,
   "metadata": {
    "scrolled": true
   },
   "outputs": [
    {
     "data": {
      "text/plain": [
       "Text(0.5,0,'$r$ [kpc]')"
      ]
     },
     "execution_count": 42,
     "metadata": {},
     "output_type": "execute_result"
    },
    {
     "data": {
      "image/png": "[encoded data removed]",
      "text/plain": [
       "<Figure size 432x288 with 1 Axes>"
      ]
     },
     "metadata": {},
     "output_type": "display_data"
    }
   ],
   "source": [
    "plt.hist((sample.r_sample/kpc), bins=np.linspace(0,1000,40));\n",
    "plt.plot(r_binc/kpc, y_num/y_num[0]*10.)\n",
    "plt.xlabel(\"$r$ [kpc]\")"
   ]
  },
  {
   "cell_type": "code",
   "execution_count": 77,
   "metadata": {},
   "outputs": [],
   "source": [
    "# Units\n",
    "kpc = 1.e-3*Mpc\n",
    "asctorad = np.pi/648000.\n",
    "radtoasc = 648000./np.pi"
   ]
  },
  {
   "cell_type": "code",
   "execution_count": 79,
   "metadata": {},
   "outputs": [
    {
     "data": {
      "text/plain": [
       "5.4355549072846"
      ]
     },
     "execution_count": 79,
     "metadata": {},
     "output_type": "execute_result"
    }
   ],
   "source": [
    "np.sqrt(0.009*(180/np.pi)**2)"
   ]
  },
  {
   "cell_type": "code",
   "execution_count": 81,
   "metadata": {},
   "outputs": [
    {
     "data": {
      "text/plain": [
       "268063.3294123035"
      ]
     },
     "execution_count": 81,
     "metadata": {},
     "output_type": "execute_result"
    }
   ],
   "source": [
    "0.88e9*(180/np.pi)**-2"
   ]
  },
  {
   "cell_type": "code",
   "execution_count": 23,
   "metadata": {},
   "outputs": [
    {
     "data": {
      "text/plain": [
       "<Galactic Coordinate: (l, b, distance) in (deg, deg, pc)\n",
       "    (359.92504817, 0.63631525, 8403.22247435)\n",
       " (pm_l_cosb, pm_b, radial_velocity) in (mas / yr, mas / yr, km / s)\n",
       "    (-5.80523868, -0.15497596, -9.84606997)>"
      ]
     },
     "execution_count": 23,
     "metadata": {},
     "output_type": "execute_result"
    }
   ],
   "source": [
    "from astropy.coordinates import Galactic, Galactocentric\n",
    "gc = Galactocentric(x=103*u.pc, y=-11*u.pc, z=93.*u.pc,v_x = 1*u.km/u.s, v_y = 1*u.km/u.s, v_z = 1*u.km/u.s)\n",
    "gc.transform_to(Galactic)"
   ]
  },
  {
   "cell_type": "markdown",
   "metadata": {},
   "source": [
    "Coordinate grid"
   ]
  },
  {
   "cell_type": "code",
   "execution_count": 26,
   "metadata": {},
   "outputs": [],
   "source": [
    "################## Input parameters ############################\n",
    "\n",
    "# Define size of grid\n",
    "nx = 101\n",
    "ny = 101\n",
    "\n",
    "# Define coordinate limits (e.g. in arcsecs)\n",
    "xlims = [-2.5, 2.5]\n",
    "ylims = [-2.5, 2.5]"
   ]
  },
  {
   "cell_type": "code",
   "execution_count": 29,
   "metadata": {},
   "outputs": [],
   "source": [
    "# Get xy coordinates\n",
    "x = (xlims[1] - xlims[0]) * np.outer(np.ones(ny), np.arange(nx)) / float(nx-1) + xlims[0]\n",
    "y = (ylims[1] - ylims[0]) * np.outer(np.arange(ny), np.ones(nx)) / float(ny-1) + ylims[0]"
   ]
  },
  {
   "cell_type": "code",
   "execution_count": 35,
   "metadata": {},
   "outputs": [
    {
     "data": {
      "text/plain": [
       "[2.5, 2.5]"
      ]
     },
     "execution_count": 35,
     "metadata": {},
     "output_type": "execute_result"
    }
   ],
   "source": [
    "[x[ix, iy],y[ix, iy]]"
   ]
  },
  {
   "cell_type": "code",
   "execution_count": 43,
   "metadata": {},
   "outputs": [
    {
     "data": {
      "application/vnd.jupyter.widget-view+json": {
       "model_id": "52b6c9c90fbb437191f724baab676f00",
       "version_major": 2,
       "version_minor": 0
      },
      "text/plain": [
       "HBox(children=(IntProgress(value=0, max=101), HTML(value='')))"
      ]
     },
     "metadata": {},
     "output_type": "display_data"
    }
   ],
   "source": [
    "deflection_map_x = np.zeros(np.shape(x))\n",
    "deflection_map_y = np.zeros(np.shape(x))\n",
    "\n",
    "for ix in tqdm_notebook(range(nx)):\n",
    "    for iy in range(ny):\n",
    "        for ish in range(len(poss_s)):\n",
    "            defl = deflection_theta_ps([x[ix, iy],y[ix, iy]], poss_l[ish], sample.m_sample[ish], r_l[ish])  \n",
    "            deflection_map_x[ix,iy] = defl[0]\n",
    "            deflection_map_y[ix,iy] = defl[1]"
   ]
  },
  {
   "cell_type": "code",
   "execution_count": 53,
   "metadata": {},
   "outputs": [],
   "source": [
    "# def deflection_theta_ps(pos_s, pos_l, M_l, dl):\n",
    "#     b_sl_vec = (np.array(pos_s) - np.array(pos_l))*dl\n",
    "#     b_sl_norm = np.abs(np.linalg.norm(b_sl_vec))\n",
    "#     b_sl_unit = b_sl_vec/b_sl_norm\n",
    "#     return (4*GN*M_l/b_sl_norm)*b_sl_unit\n",
    "\n",
    "def deflection_theta_ps(pos_s, pos_l, M_l, dl):\n",
    "    b_sl_vec = (np.array(pos_s) - np.array(pos_l))*dl\n",
    "    b_sl_norm = np.abs(np.linalg.norm(b_sl_vec))\n",
    "    b_sl_unit = b_sl_vec/b_sl_norm\n",
    "    return (/b_sl_norm)*b_sl_unit"
   ]
  },
  {
   "cell_type": "code",
   "execution_count": 54,
   "metadata": {},
   "outputs": [
    {
     "data": {
      "application/vnd.jupyter.widget-view+json": {
       "model_id": "86ebfc989eef47e280cdaed9276cb649",
       "version_major": 2,
       "version_minor": 0
      },
      "text/plain": [
       "HBox(children=(IntProgress(value=0, max=101), HTML(value='')))"
      ]
     },
     "metadata": {},
     "output_type": "display_data"
    },
    {
     "name": "stderr",
     "output_type": "stream",
     "text": [
      "/home/sm8383/anaconda3/lib/python3.6/site-packages/ipykernel_launcher.py:4: RuntimeWarning: invalid value encountered in true_divide\n",
      "  after removing the cwd from sys.path.\n",
      "/home/sm8383/anaconda3/lib/python3.6/site-packages/ipykernel_launcher.py:5: RuntimeWarning: divide by zero encountered in double_scalars\n",
      "  \"\"\"\n"
     ]
    }
   ],
   "source": [
    "deflection_map_x = np.zeros(np.shape(x))\n",
    "deflection_map_y = np.zeros(np.shape(x))\n",
    "\n",
    "for ix in tqdm_notebook(range(nx)):\n",
    "    for iy in range(ny):\n",
    "        defl = deflection_theta_ps([x[ix, iy],y[ix, iy]], [0.,0.], 1e2*M_s, 200.*kpc)  \n",
    "        deflection_map_x[ix,iy] = defl[0]\n",
    "        deflection_map_y[ix,iy] = defl[1]"
   ]
  },
  {
   "cell_type": "code",
   "execution_count": 55,
   "metadata": {},
   "outputs": [
    {
     "data": {
      "text/plain": [
       "<matplotlib.image.AxesImage at 0x2b3ed80aed30>"
      ]
     },
     "execution_count": 55,
     "metadata": {},
     "output_type": "execute_result"
    },
    {
     "data": {
      "image/png": "[encoded data removed]",
      "text/plain": [
       "<Figure size 432x288 with 1 Axes>"
      ]
     },
     "metadata": {},
     "output_type": "display_data"
    }
   ],
   "source": [
    "plt.imshow(deflection_map_x)"
   ]
  },
  {
   "cell_type": "code",
   "execution_count": null,
   "metadata": {},
   "outputs": [],
   "source": []
  }
 ],
 "metadata": {
  "anaconda-cloud": {},
  "kernelspec": {
   "display_name": "Python 3",
   "language": "python",
   "name": "python3"
  },
  "language_info": {
   "codemirror_mode": {
    "name": "ipython",
    "version": 3
   },
   "file_extension": ".py",
   "mimetype": "text/x-python",
   "name": "python",
   "nbconvert_exporter": "python",
   "pygments_lexer": "ipython3",
   "version": "3.6.5"
  }
 },
 "nbformat": 4,
 "nbformat_minor": 2
}
