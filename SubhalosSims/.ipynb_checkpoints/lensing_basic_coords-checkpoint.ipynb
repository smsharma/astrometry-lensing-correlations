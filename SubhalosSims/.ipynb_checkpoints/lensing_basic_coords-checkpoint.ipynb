{
 "cells": [
  {
   "cell_type": "code",
   "execution_count": 2,
   "metadata": {},
   "outputs": [],
   "source": [
    "import numpy as np\n",
    "import matplotlib.pyplot as plt\n",
    "\n",
    "%matplotlib inline"
   ]
  },
  {
   "cell_type": "code",
   "execution_count": 3,
   "metadata": {},
   "outputs": [],
   "source": [
    "## Helper functions\n",
    "\n",
    "def xy_shift_rotate(x, y, x0, y0, phi):\n",
    "    \"\"\" Shift coordinates (x, y) to be with respect to (x0, y0) \n",
    "        and rotate by phi\n",
    "    \"\"\"\n",
    "    phirad = np.deg2rad(phi)\n",
    "    xnew = (x - x0)*np.cos(phirad) + (y - y0) * np.sin(phirad)\n",
    "    ynew = (y - y0)*np.cos(phirad) - (x - x0) * np.sin(phirad)\n",
    "    return xnew, ynew\n",
    "\n",
    "def gauss_2d(x, y, par):\n",
    "    \"\"\" Return values of a 2D Gaussian\n",
    "        :param x: x coordinates of 2D Gaussian\n",
    "        :param y: y coordinates of 2D Gaussian\n",
    "        :param par: (amplitude, variance, x center, \n",
    "            y center, axis ratio, rotation angle) of\n",
    "            2D Gaussian\n",
    "        :return: Values of 2D Gaussian corresponding to (x,y)\n",
    "    \"\"\"\n",
    "    xnew, ynew = xy_shift_rotate(x, y, par[2], par[3], par[5])\n",
    "    r_ell_sq = ((xnew**2)*par[4] + (ynew**2)/par[4]) / np.abs(par[1])**2\n",
    "    return par[0] * np.exp(-0.5*r_ell_sq)"
   ]
  },
  {
   "cell_type": "code",
   "execution_count": 4,
   "metadata": {},
   "outputs": [],
   "source": [
    "def deflection_sie(x, y, b = 1, q = 1, x0=0, y0=0, phi=0):    \n",
    "    \n",
    "    # Go into shifted coordinats of the potential\n",
    "    phirad = np.deg2rad(phi)\n",
    "    xsie = (x-x0) * np.cos(phirad) + (y-y0) * np.sin(phirad)\n",
    "    ysie = (y-y0) * np.cos(phirad) - (x-x0) * np.sin(phirad)\n",
    "    \n",
    "    # Compute potential gradient in the transformed system\n",
    "    psi = np.sqrt(q**2 * xsie**2 + ysie**2)\n",
    "    qfact = np.sqrt(1. - q**2)\n",
    "    \n",
    "    if (qfact != 0):\n",
    "        xtg = (b * q / qfact) * np.arctan(qfact * xsie / (psi + (psi == 0)) )\n",
    "        ytg = (b * q / qfact) * np.arctanh(qfact * ysie / (psi + (psi == 0)) )\n",
    "    else:\n",
    "        xtg = b * xsie / (psi + (psi == 0))\n",
    "        ytg = b * ysie / (psi + (psi == 0))\n",
    "\n",
    "    # Transform back to un-rotated system\n",
    "\n",
    "    xg = xtg * np.cos(phirad) - ytg * np.sin(phirad)\n",
    "    yg = ytg * np.cos(phirad) + xtg * np.sin(phirad)\n",
    "\n",
    "    # Return value\n",
    "    return xg, yg"
   ]
  },
  {
   "cell_type": "code",
   "execution_count": 5,
   "metadata": {},
   "outputs": [],
   "source": [
    "\n",
    "################## Input parameters ############################\n",
    "\n",
    "# Define size of grid\n",
    "nx = 201\n",
    "ny = 201\n",
    "\n",
    "# Define coordinate limits (e.g. in arcsecs)\n",
    "xlims = [-2.5, 2.5]\n",
    "ylims = [-2.5, 2.5]\n",
    "\n",
    "# Gaussian source parameters\n",
    "g_amp = 1.0 # Amplitude (height)\n",
    "g_sig = 0.3 # Variance (extent)\n",
    "g_x0 = 0.5 # x position\n",
    "g_y0 = 0.0 # y position\n",
    "g_axrat = 2.0 # Axis ratio\n",
    "g_pa = 45.0 # Rotation angle\n",
    "\n",
    "# SIE lens-model parameters\n",
    "l_amp = 1.5 # Amplitude  \n",
    "l_x0 = 0.0 # x position  \n",
    "l_y0 = 0.0 # y position\n",
    "l_axrat = 1.0 # Axis ratio\n",
    "l_pa = 0.0 # Rotation angle\n",
    "\n",
    "#################################################################\n",
    "\n",
    "# Get xy coordinates\n",
    "x = (xlims[1] - xlims[0]) * np.outer(np.ones(ny), np.arange(nx)) / float(nx-1) + xlims[0]\n",
    "y = (ylims[1] - ylims[0]) * np.outer(np.arange(ny), np.ones(nx)) / float(ny-1) + ylims[0]\n",
    "\n",
    "# Source image\n",
    "gpar = np.asarray([g_amp, g_sig, g_x0, g_y0, g_axrat, g_pa])\n",
    "g_image = gauss_2d(x, y, gpar)\n",
    "\n",
    "# Lensing potential gradients\n",
    "lpar = np.asarray([l_amp, l_x0, l_y0, l_axrat, l_pa])\n",
    "xg, yg = deflection_sie(x, y)\n"
   ]
  },
  {
   "cell_type": "code",
   "execution_count": null,
   "metadata": {
    "collapsed": true
   },
   "outputs": [],
   "source": []
  }
 ],
 "metadata": {
  "anaconda-cloud": {},
  "kernelspec": {
   "display_name": "Python 3",
   "language": "python",
   "name": "python3"
  },
  "language_info": {
   "codemirror_mode": {
    "name": "ipython",
    "version": 3
   },
   "file_extension": ".py",
   "mimetype": "text/x-python",
   "name": "python",
   "nbconvert_exporter": "python",
   "pygments_lexer": "ipython3",
   "version": "3.6.5"
  }
 },
 "nbformat": 4,
 "nbformat_minor": 2
}
